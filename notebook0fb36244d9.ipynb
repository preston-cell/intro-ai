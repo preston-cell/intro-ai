{
 "cells": [
  {
   "cell_type": "code",
   "execution_count": 1,
   "id": "be03ff0d",
   "metadata": {
    "_cell_guid": "b1076dfc-b9ad-4769-8c92-a6c4dae69d19",
    "_uuid": "8f2839f25d086af736a60e9eeb907d3b93b6e0e5",
    "execution": {
     "iopub.execute_input": "2024-11-13T17:36:46.486977Z",
     "iopub.status.busy": "2024-11-13T17:36:46.486409Z",
     "iopub.status.idle": "2024-11-13T17:36:47.407340Z",
     "shell.execute_reply": "2024-11-13T17:36:47.405987Z"
    },
    "papermill": {
     "duration": 0.928433,
     "end_time": "2024-11-13T17:36:47.410085",
     "exception": false,
     "start_time": "2024-11-13T17:36:46.481652",
     "status": "completed"
    },
    "tags": []
   },
   "outputs": [
    {
     "name": "stdout",
     "output_type": "stream",
     "text": [
      "/kaggle/input/musicfeatures/data.csv\n",
      "/kaggle/input/musicfeatures/data_2genre.csv\n"
     ]
    }
   ],
   "source": [
    "# This Python 3 environment comes with many helpful analytics libraries installed\n",
    "# It is defined by the kaggle/python Docker image: https://github.com/kaggle/docker-python\n",
    "# For example, here's several helpful packages to load\n",
    "\n",
    "import numpy as np # linear algebra\n",
    "import pandas as pd # data processing, CSV file I/O (e.g. pd.read_csv)\n",
    "\n",
    "# Input data files are available in the read-only \"../input/\" directory\n",
    "# For example, running this (by clicking run or pressing Shift+Enter) will list all files under the input directory\n",
    "\n",
    "import os\n",
    "for dirname, _, filenames in os.walk('/kaggle/input'):\n",
    "    for filename in filenames:\n",
    "        print(os.path.join(dirname, filename))\n",
    "\n",
    "# You can write up to 20GB to the current directory (/kaggle/working/) that gets preserved as output when you create a version using \"Save & Run All\" \n",
    "# You can also write temporary files to /kaggle/temp/, but they won't be saved outside of the current session"
   ]
  },
  {
   "cell_type": "code",
   "execution_count": 2,
   "id": "2a2ee0e4",
   "metadata": {
    "execution": {
     "iopub.execute_input": "2024-11-13T17:36:47.417462Z",
     "iopub.status.busy": "2024-11-13T17:36:47.416872Z",
     "iopub.status.idle": "2024-11-13T17:36:47.498320Z",
     "shell.execute_reply": "2024-11-13T17:36:47.497122Z"
    },
    "papermill": {
     "duration": 0.088632,
     "end_time": "2024-11-13T17:36:47.501643",
     "exception": false,
     "start_time": "2024-11-13T17:36:47.413011",
     "status": "completed"
    },
    "tags": []
   },
   "outputs": [
    {
     "name": "stdout",
     "output_type": "stream",
     "text": [
      "(1000, 30)\n",
      "         filename       tempo  beats  chroma_stft      rmse  \\\n",
      "0  blues.00081.au  103.359375     50     0.380260  0.248262   \n",
      "1  blues.00022.au   95.703125     44     0.306451  0.113475   \n",
      "2  blues.00031.au  151.999081     75     0.253487  0.151571   \n",
      "3  blues.00012.au  184.570312     91     0.269320  0.119072   \n",
      "4  blues.00056.au  161.499023     74     0.391059  0.137728   \n",
      "\n",
      "   spectral_centroid  spectral_bandwidth      rolloff  zero_crossing_rate  \\\n",
      "0        2116.942959         1956.611056  4196.107960            0.127272   \n",
      "1        1156.070496         1497.668176  2170.053545            0.058613   \n",
      "2        1331.073970         1973.643437  2900.174130            0.042967   \n",
      "3        1361.045467         1567.804596  2739.625101            0.069124   \n",
      "4        1811.076084         2052.332563  3927.809582            0.075480   \n",
      "\n",
      "        mfcc1  ...     mfcc12     mfcc13    mfcc14    mfcc15    mfcc16  \\\n",
      "0  -26.929785  ...  14.336612 -13.821769  7.562789 -6.181372  0.330165   \n",
      "1 -233.860772  ...  -2.250578   3.959198  5.322555  0.812028 -1.107202   \n",
      "2 -221.802549  ... -13.037723 -12.652228 -1.821905 -7.260097 -6.660252   \n",
      "3 -207.208080  ...  -0.613248   0.384877  2.605128 -5.188924 -9.527455   \n",
      "4 -145.434568  ...   7.457218 -10.470444 -2.360483 -6.783623  2.671134   \n",
      "\n",
      "      mfcc17     mfcc18     mfcc19     mfcc20  label  \n",
      "0  -6.829571   0.965922  -7.570825   2.918987  blues  \n",
      "1  -4.556555  -2.436490   3.316913  -0.608485  blues  \n",
      "2 -14.682694 -11.719264 -11.025216 -13.387260  blues  \n",
      "3  -9.244394  -2.848274  -1.418707  -5.932607  blues  \n",
      "4  -4.760879  -0.949005   0.024832  -2.005315  blues  \n",
      "\n",
      "[5 rows x 30 columns]\n",
      "<class 'pandas.core.frame.DataFrame'>\n",
      "RangeIndex: 1000 entries, 0 to 999\n",
      "Data columns (total 30 columns):\n",
      " #   Column              Non-Null Count  Dtype  \n",
      "---  ------              --------------  -----  \n",
      " 0   filename            1000 non-null   object \n",
      " 1   tempo               1000 non-null   float64\n",
      " 2   beats               1000 non-null   int64  \n",
      " 3   chroma_stft         1000 non-null   float64\n",
      " 4   rmse                1000 non-null   float64\n",
      " 5   spectral_centroid   1000 non-null   float64\n",
      " 6   spectral_bandwidth  1000 non-null   float64\n",
      " 7   rolloff             1000 non-null   float64\n",
      " 8   zero_crossing_rate  1000 non-null   float64\n",
      " 9   mfcc1               1000 non-null   float64\n",
      " 10  mfcc2               1000 non-null   float64\n",
      " 11  mfcc3               1000 non-null   float64\n",
      " 12  mfcc4               1000 non-null   float64\n",
      " 13  mfcc5               1000 non-null   float64\n",
      " 14  mfcc6               1000 non-null   float64\n",
      " 15  mfcc7               1000 non-null   float64\n",
      " 16  mfcc8               1000 non-null   float64\n",
      " 17  mfcc9               1000 non-null   float64\n",
      " 18  mfcc10              1000 non-null   float64\n",
      " 19  mfcc11              1000 non-null   float64\n",
      " 20  mfcc12              1000 non-null   float64\n",
      " 21  mfcc13              1000 non-null   float64\n",
      " 22  mfcc14              1000 non-null   float64\n",
      " 23  mfcc15              1000 non-null   float64\n",
      " 24  mfcc16              1000 non-null   float64\n",
      " 25  mfcc17              1000 non-null   float64\n",
      " 26  mfcc18              1000 non-null   float64\n",
      " 27  mfcc19              1000 non-null   float64\n",
      " 28  mfcc20              1000 non-null   float64\n",
      " 29  label               1000 non-null   object \n",
      "dtypes: float64(27), int64(1), object(2)\n",
      "memory usage: 234.5+ KB\n",
      "None\n"
     ]
    }
   ],
   "source": [
    "## Loading the Dataset\n",
    "data = pd.read_csv('/kaggle/input/musicfeatures/data.csv')\n",
    "\n",
    "print(data.shape)\n",
    "print(data.head())\n",
    "print(data.info())"
   ]
  },
  {
   "cell_type": "code",
   "execution_count": 3,
   "id": "8247cde5",
   "metadata": {
    "execution": {
     "iopub.execute_input": "2024-11-13T17:36:47.508948Z",
     "iopub.status.busy": "2024-11-13T17:36:47.508483Z",
     "iopub.status.idle": "2024-11-13T17:36:47.516684Z",
     "shell.execute_reply": "2024-11-13T17:36:47.515519Z"
    },
    "papermill": {
     "duration": 0.014846,
     "end_time": "2024-11-13T17:36:47.519295",
     "exception": false,
     "start_time": "2024-11-13T17:36:47.504449",
     "status": "completed"
    },
    "tags": []
   },
   "outputs": [
    {
     "name": "stdout",
     "output_type": "stream",
     "text": [
      "Index(['tempo', 'beats', 'chroma_stft', 'rmse', 'spectral_centroid',\n",
      "       'spectral_bandwidth', 'rolloff', 'zero_crossing_rate', 'mfcc1', 'mfcc2',\n",
      "       'mfcc3', 'mfcc4', 'mfcc5', 'mfcc6', 'mfcc7', 'mfcc8', 'mfcc9', 'mfcc10',\n",
      "       'mfcc11', 'mfcc12', 'mfcc13', 'mfcc14', 'mfcc15', 'mfcc16', 'mfcc17',\n",
      "       'mfcc18', 'mfcc19', 'mfcc20'],\n",
      "      dtype='object')\n"
     ]
    }
   ],
   "source": [
    "label = data[\"label\"]\n",
    "data = data.drop(columns=[\"filename\",\"label\"])\n",
    "print(data.columns)"
   ]
  }
 ],
 "metadata": {
  "kaggle": {
   "accelerator": "none",
   "dataSources": [
    {
     "datasetId": 33129,
     "sourceId": 43448,
     "sourceType": "datasetVersion"
    }
   ],
   "dockerImageVersionId": 30786,
   "isGpuEnabled": false,
   "isInternetEnabled": true,
   "language": "python",
   "sourceType": "notebook"
  },
  "kernelspec": {
   "display_name": "Python 3",
   "language": "python",
   "name": "python3"
  },
  "language_info": {
   "codemirror_mode": {
    "name": "ipython",
    "version": 3
   },
   "file_extension": ".py",
   "mimetype": "text/x-python",
   "name": "python",
   "nbconvert_exporter": "python",
   "pygments_lexer": "ipython3",
   "version": "3.10.14"
  },
  "papermill": {
   "default_parameters": {},
   "duration": 4.632145,
   "end_time": "2024-11-13T17:36:48.043773",
   "environment_variables": {},
   "exception": null,
   "input_path": "__notebook__.ipynb",
   "output_path": "__notebook__.ipynb",
   "parameters": {},
   "start_time": "2024-11-13T17:36:43.411628",
   "version": "2.6.0"
  }
 },
 "nbformat": 4,
 "nbformat_minor": 5
}

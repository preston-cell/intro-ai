{
 "cells": [
  {
   "cell_type": "code",
   "execution_count": 1,
   "id": "2fd52975",
   "metadata": {
    "_cell_guid": "b1076dfc-b9ad-4769-8c92-a6c4dae69d19",
    "_uuid": "8f2839f25d086af736a60e9eeb907d3b93b6e0e5",
    "execution": {
     "iopub.execute_input": "2024-12-12T18:31:59.278245Z",
     "iopub.status.busy": "2024-12-12T18:31:59.277686Z",
     "iopub.status.idle": "2024-12-12T18:32:00.333503Z",
     "shell.execute_reply": "2024-12-12T18:32:00.332013Z"
    },
    "papermill": {
     "duration": 1.071835,
     "end_time": "2024-12-12T18:32:00.336775",
     "exception": false,
     "start_time": "2024-12-12T18:31:59.264940",
     "status": "completed"
    },
    "tags": []
   },
   "outputs": [
    {
     "name": "stdout",
     "output_type": "stream",
     "text": [
      "/kaggle/input/musicfeatures/data.csv\n",
      "/kaggle/input/musicfeatures/data_2genre.csv\n",
      "/kaggle/input/musicfeatures2/data (1).csv\n",
      "/kaggle/input/musicfeatures2/data_2genre.csv\n"
     ]
    }
   ],
   "source": [
    "# This Python 3 environment comes with many helpful analytics libraries installed\n",
    "# It is defined by the kaggle/python Docker image: https://github.com/kaggle/docker-python\n",
    "# For example, here's several helpful packages to load\n",
    "\n",
    "import numpy as np # linear algebra\n",
    "import pandas as pd # data processing, CSV file I/O (e.g. pd.read_csv)\n",
    "\n",
    "# Input data files are available in the read-only \"../input/\" directory\n",
    "# For example, running this (by clicking run or pressing Shift+Enter) will list all files under the input directory\n",
    "\n",
    "import os\n",
    "for dirname, _, filenames in os.walk('/kaggle/input'):\n",
    "    for filename in filenames:\n",
    "        print(os.path.join(dirname, filename))\n",
    "\n",
    "# You can write up to 20GB to the current directory (/kaggle/working/) that gets preserved as output when you create a version using \"Save & Run All\" \n",
    "# You can also write temporary files to /kaggle/temp/, but they won't be saved outside of the current session"
   ]
  },
  {
   "cell_type": "markdown",
   "id": "9b0d1e51",
   "metadata": {
    "papermill": {
     "duration": 0.006867,
     "end_time": "2024-12-12T18:32:00.351617",
     "exception": false,
     "start_time": "2024-12-12T18:32:00.344750",
     "status": "completed"
    },
    "tags": []
   },
   "source": [
    "Im going to combine both datasets into one to make this whole process easier\n",
    "Then I will check for duplicates, missing values, or data integrity issues.\n",
    "Then I wil lmake sure the combined data has all expected columns and no NaNs."
   ]
  },
  {
   "cell_type": "code",
   "execution_count": 2,
   "id": "5549fe7d",
   "metadata": {
    "execution": {
     "iopub.execute_input": "2024-12-12T18:32:00.371741Z",
     "iopub.status.busy": "2024-12-12T18:32:00.371087Z",
     "iopub.status.idle": "2024-12-12T18:32:00.495594Z",
     "shell.execute_reply": "2024-12-12T18:32:00.493993Z"
    },
    "papermill": {
     "duration": 0.136808,
     "end_time": "2024-12-12T18:32:00.498279",
     "exception": false,
     "start_time": "2024-12-12T18:32:00.361471",
     "status": "completed"
    },
    "tags": []
   },
   "outputs": [
    {
     "name": "stdout",
     "output_type": "stream",
     "text": [
      "(1000, 30)\n",
      "         filename       tempo  beats  chroma_stft      rmse  \\\n",
      "0  blues.00081.au  103.359375     50     0.380260  0.248262   \n",
      "1  blues.00022.au   95.703125     44     0.306451  0.113475   \n",
      "2  blues.00031.au  151.999081     75     0.253487  0.151571   \n",
      "3  blues.00012.au  184.570312     91     0.269320  0.119072   \n",
      "4  blues.00056.au  161.499023     74     0.391059  0.137728   \n",
      "\n",
      "   spectral_centroid  spectral_bandwidth      rolloff  zero_crossing_rate  \\\n",
      "0        2116.942959         1956.611056  4196.107960            0.127272   \n",
      "1        1156.070496         1497.668176  2170.053545            0.058613   \n",
      "2        1331.073970         1973.643437  2900.174130            0.042967   \n",
      "3        1361.045467         1567.804596  2739.625101            0.069124   \n",
      "4        1811.076084         2052.332563  3927.809582            0.075480   \n",
      "\n",
      "        mfcc1  ...     mfcc12     mfcc13    mfcc14    mfcc15    mfcc16  \\\n",
      "0  -26.929785  ...  14.336612 -13.821769  7.562789 -6.181372  0.330165   \n",
      "1 -233.860772  ...  -2.250578   3.959198  5.322555  0.812028 -1.107202   \n",
      "2 -221.802549  ... -13.037723 -12.652228 -1.821905 -7.260097 -6.660252   \n",
      "3 -207.208080  ...  -0.613248   0.384877  2.605128 -5.188924 -9.527455   \n",
      "4 -145.434568  ...   7.457218 -10.470444 -2.360483 -6.783623  2.671134   \n",
      "\n",
      "      mfcc17     mfcc18     mfcc19     mfcc20  label  \n",
      "0  -6.829571   0.965922  -7.570825   2.918987  blues  \n",
      "1  -4.556555  -2.436490   3.316913  -0.608485  blues  \n",
      "2 -14.682694 -11.719264 -11.025216 -13.387260  blues  \n",
      "3  -9.244394  -2.848274  -1.418707  -5.932607  blues  \n",
      "4  -4.760879  -0.949005   0.024832  -2.005315  blues  \n",
      "\n",
      "[5 rows x 30 columns]\n",
      "<class 'pandas.core.frame.DataFrame'>\n",
      "RangeIndex: 1000 entries, 0 to 999\n",
      "Data columns (total 30 columns):\n",
      " #   Column              Non-Null Count  Dtype  \n",
      "---  ------              --------------  -----  \n",
      " 0   filename            1000 non-null   object \n",
      " 1   tempo               1000 non-null   float64\n",
      " 2   beats               1000 non-null   int64  \n",
      " 3   chroma_stft         1000 non-null   float64\n",
      " 4   rmse                1000 non-null   float64\n",
      " 5   spectral_centroid   1000 non-null   float64\n",
      " 6   spectral_bandwidth  1000 non-null   float64\n",
      " 7   rolloff             1000 non-null   float64\n",
      " 8   zero_crossing_rate  1000 non-null   float64\n",
      " 9   mfcc1               1000 non-null   float64\n",
      " 10  mfcc2               1000 non-null   float64\n",
      " 11  mfcc3               1000 non-null   float64\n",
      " 12  mfcc4               1000 non-null   float64\n",
      " 13  mfcc5               1000 non-null   float64\n",
      " 14  mfcc6               1000 non-null   float64\n",
      " 15  mfcc7               1000 non-null   float64\n",
      " 16  mfcc8               1000 non-null   float64\n",
      " 17  mfcc9               1000 non-null   float64\n",
      " 18  mfcc10              1000 non-null   float64\n",
      " 19  mfcc11              1000 non-null   float64\n",
      " 20  mfcc12              1000 non-null   float64\n",
      " 21  mfcc13              1000 non-null   float64\n",
      " 22  mfcc14              1000 non-null   float64\n",
      " 23  mfcc15              1000 non-null   float64\n",
      " 24  mfcc16              1000 non-null   float64\n",
      " 25  mfcc17              1000 non-null   float64\n",
      " 26  mfcc18              1000 non-null   float64\n",
      " 27  mfcc19              1000 non-null   float64\n",
      " 28  mfcc20              1000 non-null   float64\n",
      " 29  label               1000 non-null   object \n",
      "dtypes: float64(27), int64(1), object(2)\n",
      "memory usage: 234.5+ KB\n",
      "None\n"
     ]
    }
   ],
   "source": [
    "## Loading the Dataset\n",
    "data = pd.read_csv('/kaggle/input/musicfeatures2/data (1).csv')\n",
    "\n",
    "print(data.shape)\n",
    "print(data.head())\n",
    "print(data.info())\n",
    "\n",
    "data_1 = pd.read_csv('/kaggle/input/musicfeatures2/data (1).csv')\n",
    "data_2 = pd.read_csv('/kaggle/input/musicfeatures2/data_2genre.csv')\n",
    "\n",
    "data = pd.concat([data_1, data_2])"
   ]
  },
  {
   "cell_type": "markdown",
   "id": "dc9ef72e",
   "metadata": {
    "papermill": {
     "duration": 0.006709,
     "end_time": "2024-12-12T18:32:00.512085",
     "exception": false,
     "start_time": "2024-12-12T18:32:00.505376",
     "status": "completed"
    },
    "tags": []
   },
   "source": [
    "In the datasets there were some weird labels with 1 and 2, so I replace them with their respective genres"
   ]
  },
  {
   "cell_type": "code",
   "execution_count": 3,
   "id": "64fd6e3f",
   "metadata": {
    "execution": {
     "iopub.execute_input": "2024-12-12T18:32:00.527973Z",
     "iopub.status.busy": "2024-12-12T18:32:00.527531Z",
     "iopub.status.idle": "2024-12-12T18:32:00.542072Z",
     "shell.execute_reply": "2024-12-12T18:32:00.540702Z"
    },
    "papermill": {
     "duration": 0.025715,
     "end_time": "2024-12-12T18:32:00.544711",
     "exception": false,
     "start_time": "2024-12-12T18:32:00.518996",
     "status": "completed"
    },
    "tags": []
   },
   "outputs": [
    {
     "data": {
      "text/plain": [
       "label\n",
       "classical    200\n",
       "pop          200\n",
       "blues        100\n",
       "country      100\n",
       "disco        100\n",
       "hiphop       100\n",
       "jazz         100\n",
       "metal        100\n",
       "reggae       100\n",
       "rock         100\n",
       "Name: count, dtype: int64"
      ]
     },
     "execution_count": 3,
     "metadata": {},
     "output_type": "execute_result"
    }
   ],
   "source": [
    "data['label'].value_counts()\n",
    "data['label'] = data['label'].replace(to_replace={1: 'pop', 2: 'classical'})\n",
    "data['label'].value_counts()\n"
   ]
  },
  {
   "cell_type": "markdown",
   "id": "3c28cf54",
   "metadata": {
    "papermill": {
     "duration": 0.006818,
     "end_time": "2024-12-12T18:32:00.559246",
     "exception": false,
     "start_time": "2024-12-12T18:32:00.552428",
     "status": "completed"
    },
    "tags": []
   },
   "source": [
    "Now checking for missing values"
   ]
  },
  {
   "cell_type": "code",
   "execution_count": 4,
   "id": "d083bacd",
   "metadata": {
    "execution": {
     "iopub.execute_input": "2024-12-12T18:32:00.575761Z",
     "iopub.status.busy": "2024-12-12T18:32:00.575253Z",
     "iopub.status.idle": "2024-12-12T18:32:00.586821Z",
     "shell.execute_reply": "2024-12-12T18:32:00.585592Z"
    },
    "papermill": {
     "duration": 0.022662,
     "end_time": "2024-12-12T18:32:00.589210",
     "exception": false,
     "start_time": "2024-12-12T18:32:00.566548",
     "status": "completed"
    },
    "tags": []
   },
   "outputs": [
    {
     "data": {
      "text/plain": [
       "filename              0\n",
       "tempo                 0\n",
       "beats                 0\n",
       "chroma_stft           0\n",
       "rmse                  0\n",
       "spectral_centroid     0\n",
       "spectral_bandwidth    0\n",
       "rolloff               0\n",
       "zero_crossing_rate    0\n",
       "mfcc1                 0\n",
       "mfcc2                 0\n",
       "mfcc3                 0\n",
       "mfcc4                 0\n",
       "mfcc5                 0\n",
       "mfcc6                 0\n",
       "mfcc7                 0\n",
       "mfcc8                 0\n",
       "mfcc9                 0\n",
       "mfcc10                0\n",
       "mfcc11                0\n",
       "mfcc12                0\n",
       "mfcc13                0\n",
       "mfcc14                0\n",
       "mfcc15                0\n",
       "mfcc16                0\n",
       "mfcc17                0\n",
       "mfcc18                0\n",
       "mfcc19                0\n",
       "mfcc20                0\n",
       "label                 0\n",
       "dtype: int64"
      ]
     },
     "execution_count": 4,
     "metadata": {},
     "output_type": "execute_result"
    }
   ],
   "source": [
    "data.isna().sum()"
   ]
  },
  {
   "cell_type": "markdown",
   "id": "ab9f9733",
   "metadata": {
    "papermill": {
     "duration": 0.007843,
     "end_time": "2024-12-12T18:32:00.604661",
     "exception": false,
     "start_time": "2024-12-12T18:32:00.596818",
     "status": "completed"
    },
    "tags": []
   },
   "source": [
    "Choosing random features to see what works. Ill have two sets of the features to see which works better. "
   ]
  },
  {
   "cell_type": "code",
   "execution_count": 5,
   "id": "9456d8ac",
   "metadata": {
    "execution": {
     "iopub.execute_input": "2024-12-12T18:32:00.621700Z",
     "iopub.status.busy": "2024-12-12T18:32:00.621297Z",
     "iopub.status.idle": "2024-12-12T18:32:02.669078Z",
     "shell.execute_reply": "2024-12-12T18:32:02.667841Z"
    },
    "papermill": {
     "duration": 2.059885,
     "end_time": "2024-12-12T18:32:02.672066",
     "exception": false,
     "start_time": "2024-12-12T18:32:00.612181",
     "status": "completed"
    },
    "tags": []
   },
   "outputs": [],
   "source": [
    "import pandas as pd\n",
    "from sklearn.metrics import accuracy_score, classification_report\n",
    "from sklearn.metrics import confusion_matrix\n",
    "from sklearn.model_selection import train_test_split\n",
    "from sklearn.ensemble import RandomForestClassifier\n",
    "\n",
    "features = [\"tempo\", \"beats\", \"spectral_centroid\", \"spectral_bandwidth\", \"rolloff\", \"zero_crossing_rate\"]\n",
    "features2 = [\"tempo\", \"beats\", \"rolloff\", \"spectral_bandwidth\"]  # Alternate feature set\n",
    "\n",
    "X = data[features]\n",
    "X2 = data[features2]\n",
    "y = data['label']  \n",
    "\n",
    "# Split into training and validation datasets\n",
    "train_X, val_X, train_y, val_y = train_test_split(X, y, random_state=1)\n",
    "train_X2, val_X2, train_y2, val_y2 = train_test_split(X2, y, random_state=1)"
   ]
  },
  {
   "cell_type": "markdown",
   "id": "1a8414c5",
   "metadata": {
    "papermill": {
     "duration": 0.007263,
     "end_time": "2024-12-12T18:32:02.686870",
     "exception": false,
     "start_time": "2024-12-12T18:32:02.679607",
     "status": "completed"
    },
    "tags": []
   },
   "source": [
    "Im going to choose a random forest over a decision tree, I suspect it will work better for this large data set"
   ]
  },
  {
   "cell_type": "code",
   "execution_count": 6,
   "id": "be90287a",
   "metadata": {
    "execution": {
     "iopub.execute_input": "2024-12-12T18:32:02.703841Z",
     "iopub.status.busy": "2024-12-12T18:32:02.703228Z",
     "iopub.status.idle": "2024-12-12T18:32:03.410535Z",
     "shell.execute_reply": "2024-12-12T18:32:03.408511Z"
    },
    "papermill": {
     "duration": 0.718755,
     "end_time": "2024-12-12T18:32:03.413193",
     "exception": false,
     "start_time": "2024-12-12T18:32:02.694438",
     "status": "completed"
    },
    "tags": []
   },
   "outputs": [
    {
     "name": "stdout",
     "output_type": "stream",
     "text": [
      "Validation Accuracy for Random Forest Model (Feature Set 1): 0.4766666666666667\n",
      "\n",
      "Classification Report (Feature Set 1):\n",
      "               precision    recall  f1-score   support\n",
      "\n",
      "       blues       0.25      0.20      0.22        25\n",
      "   classical       0.67      0.91      0.77        44\n",
      "     country       0.28      0.26      0.27        27\n",
      "       disco       0.35      0.35      0.35        26\n",
      "      hiphop       0.32      0.30      0.31        20\n",
      "        jazz       0.42      0.30      0.35        27\n",
      "       metal       0.45      0.56      0.50        25\n",
      "         pop       0.72      0.87      0.79        47\n",
      "      reggae       0.53      0.30      0.38        33\n",
      "        rock       0.12      0.12      0.12        26\n",
      "\n",
      "    accuracy                           0.48       300\n",
      "   macro avg       0.41      0.42      0.41       300\n",
      "weighted avg       0.45      0.48      0.46       300\n",
      "\n",
      "Validation Accuracy for Random Forest Model (Feature Set 2): 0.44666666666666666\n",
      "\n",
      "Classification Report (Feature Set 2):\n",
      "               precision    recall  f1-score   support\n",
      "\n",
      "       blues       0.25      0.16      0.20        25\n",
      "   classical       0.55      0.95      0.69        44\n",
      "     country       0.21      0.11      0.15        27\n",
      "       disco       0.44      0.42      0.43        26\n",
      "      hiphop       0.31      0.25      0.28        20\n",
      "        jazz       0.24      0.15      0.18        27\n",
      "       metal       0.39      0.48      0.43        25\n",
      "         pop       0.69      0.87      0.77        47\n",
      "      reggae       0.53      0.30      0.38        33\n",
      "        rock       0.08      0.08      0.08        26\n",
      "\n",
      "    accuracy                           0.45       300\n",
      "   macro avg       0.37      0.38      0.36       300\n",
      "weighted avg       0.41      0.45      0.41       300\n",
      "\n"
     ]
    }
   ],
   "source": [
    "# Define the RandomForestClassifier model\n",
    "rf_model = RandomForestClassifier(random_state=1)\n",
    "\n",
    "# Train on the first set of features\n",
    "rf_model.fit(train_X, train_y)\n",
    "\n",
    "# Predict and evaluate\n",
    "rf_val_predictions = rf_model.predict(val_X)\n",
    "accuracy = accuracy_score(val_y, rf_val_predictions)\n",
    "print(\"Validation Accuracy for Random Forest Model (Feature Set 1):\", accuracy)\n",
    "print(\"\\nClassification Report (Feature Set 1):\\n\", classification_report(val_y, rf_val_predictions))\n",
    "\n",
    "# Define another RandomForestClassifier for the second feature set\n",
    "rf_model_selected_features = RandomForestClassifier(random_state=1)\n",
    "\n",
    "# Train on the second set of features\n",
    "rf_model_selected_features.fit(train_X2, train_y2)\n",
    "\n",
    "# Predict and evaluate\n",
    "rf_model_selected_features_val_predictions = rf_model_selected_features.predict(val_X2)\n",
    "accuracy2 = accuracy_score(val_y2, rf_model_selected_features_val_predictions)\n",
    "print(\"Validation Accuracy for Random Forest Model (Feature Set 2):\", accuracy2)\n",
    "print(\"\\nClassification Report (Feature Set 2):\\n\", classification_report(val_y2, rf_model_selected_features_val_predictions))"
   ]
  },
  {
   "cell_type": "markdown",
   "id": "293010ea",
   "metadata": {
    "papermill": {
     "duration": 0.007516,
     "end_time": "2024-12-12T18:32:03.429384",
     "exception": false,
     "start_time": "2024-12-12T18:32:03.421868",
     "status": "completed"
    },
    "tags": []
   },
   "source": [
    "First set of features worked a little better. \n",
    "Pop and Classical have higher precision and recall, likely because their features are more distinguishable.\n",
    "The model is better at finding the Classical and Pop music, while Blues, Rock, and Jazz are harder to distinguish. \n",
    "Maybe some overlapping or indistinct features for these genres.\n",
    "\n",
    "Lets try to find the most optimal set of features"
   ]
  },
  {
   "cell_type": "code",
   "execution_count": 7,
   "id": "ed484b04",
   "metadata": {
    "execution": {
     "iopub.execute_input": "2024-12-12T18:32:03.446759Z",
     "iopub.status.busy": "2024-12-12T18:32:03.446259Z",
     "iopub.status.idle": "2024-12-12T18:32:03.998533Z",
     "shell.execute_reply": "2024-12-12T18:32:03.997367Z"
    },
    "papermill": {
     "duration": 0.564229,
     "end_time": "2024-12-12T18:32:04.001408",
     "exception": false,
     "start_time": "2024-12-12T18:32:03.437179",
     "status": "completed"
    },
    "tags": []
   },
   "outputs": [
    {
     "data": {
      "image/png": "[encoded data removed]",
      "text/plain": [
       "<Figure size 1000x600 with 1 Axes>"
      ]
     },
     "metadata": {},
     "output_type": "display_data"
    },
    {
     "name": "stdout",
     "output_type": "stream",
     "text": [
      "              Feature  Importance\n",
      "3  spectral_bandwidth    0.232862\n",
      "4             rolloff    0.205836\n",
      "5  zero_crossing_rate    0.179365\n",
      "2   spectral_centroid    0.168205\n",
      "1               beats    0.115560\n",
      "0               tempo    0.098172\n"
     ]
    }
   ],
   "source": [
    "import matplotlib.pyplot as plt\n",
    "import numpy as np\n",
    "from sklearn.ensemble import RandomForestClassifier\n",
    "\n",
    "# training a random forest on every feature\n",
    "rf_model = RandomForestClassifier(random_state=1)\n",
    "rf_model.fit(train_X, train_y)\n",
    "\n",
    "# finding which are most important\n",
    "importances = rf_model.feature_importances_\n",
    "feature_names = train_X.columns\n",
    "\n",
    "# put them in a data frame\n",
    "feature_importance_df = pd.DataFrame({'Feature': feature_names, 'Importance': importances})\n",
    "feature_importance_df = feature_importance_df.sort_values(by='Importance', ascending=False)\n",
    "\n",
    "# plot\n",
    "plt.figure(figsize=(10, 6))\n",
    "plt.barh(feature_importance_df['Feature'], feature_importance_df['Importance'])\n",
    "plt.xlabel('Feature Importance')\n",
    "plt.ylabel('Feature')\n",
    "plt.title('Feature Importance from Random Forest')\n",
    "plt.gca().invert_yaxis()\n",
    "plt.show()\n",
    "\n",
    "print(feature_importance_df)"
   ]
  },
  {
   "cell_type": "markdown",
   "id": "a88e8715",
   "metadata": {
    "papermill": {
     "duration": 0.008517,
     "end_time": "2024-12-12T18:32:04.018107",
     "exception": false,
     "start_time": "2024-12-12T18:32:04.009590",
     "status": "completed"
    },
    "tags": []
   },
   "source": [
    "The Random Forest says that these 6 features are most important. We can just isolate these features in a seperate random forest to see how that performs"
   ]
  },
  {
   "cell_type": "code",
   "execution_count": 8,
   "id": "48959e8e",
   "metadata": {
    "execution": {
     "iopub.execute_input": "2024-12-12T18:32:04.036480Z",
     "iopub.status.busy": "2024-12-12T18:32:04.035963Z",
     "iopub.status.idle": "2024-12-12T18:32:04.048160Z",
     "shell.execute_reply": "2024-12-12T18:32:04.046819Z"
    },
    "papermill": {
     "duration": 0.024275,
     "end_time": "2024-12-12T18:32:04.050568",
     "exception": false,
     "start_time": "2024-12-12T18:32:04.026293",
     "status": "completed"
    },
    "tags": []
   },
   "outputs": [],
   "source": [
    "from sklearn.metrics import accuracy_score, classification_report\n",
    "\n",
    "top_features = [\"spectral_bandwidth\", \"rolloff\", \"zero_crossing_rate\", \"spectral_centroid\", \"beats\", \"tempo\"]\n",
    "train_X_top = train_X[top_features]\n",
    "val_X_top = val_X[top_features]\n",
    "\n",
    "# since we are going to be using XGBoost at the end, we can just map the string values now\n",
    "label_mapping = {\n",
    "    'blues': 0, 'classical': 1, 'country': 2, 'disco': 3,\n",
    "    'hiphop': 4, 'jazz': 5, 'metal': 6, 'pop': 7,\n",
    "    'reggae': 8, 'rock': 9\n",
    "}\n",
    "train_y_mapped = train_y.map(label_mapping)\n",
    "val_y_mapped = val_y.map(label_mapping)"
   ]
  },
  {
   "cell_type": "code",
   "execution_count": 9,
   "id": "2a7cb26c",
   "metadata": {
    "execution": {
     "iopub.execute_input": "2024-12-12T18:32:04.068925Z",
     "iopub.status.busy": "2024-12-12T18:32:04.068426Z",
     "iopub.status.idle": "2024-12-12T18:32:04.384331Z",
     "shell.execute_reply": "2024-12-12T18:32:04.383132Z"
    },
    "papermill": {
     "duration": 0.328964,
     "end_time": "2024-12-12T18:32:04.387564",
     "exception": false,
     "start_time": "2024-12-12T18:32:04.058600",
     "status": "completed"
    },
    "tags": []
   },
   "outputs": [
    {
     "name": "stdout",
     "output_type": "stream",
     "text": [
      "Validation Accuracy for Random Forest Model: 0.49666666666666665\n",
      "\n",
      "Classification Report (Random Forest):\n",
      "              precision    recall  f1-score   support\n",
      "\n",
      "           0       0.32      0.24      0.27        25\n",
      "           1       0.64      0.89      0.74        44\n",
      "           2       0.35      0.26      0.30        27\n",
      "           3       0.34      0.42      0.38        26\n",
      "           4       0.40      0.40      0.40        20\n",
      "           5       0.43      0.22      0.29        27\n",
      "           6       0.50      0.52      0.51        25\n",
      "           7       0.70      0.94      0.80        47\n",
      "           8       0.45      0.27      0.34        33\n",
      "           9       0.24      0.23      0.24        26\n",
      "\n",
      "    accuracy                           0.50       300\n",
      "   macro avg       0.44      0.44      0.43       300\n",
      "weighted avg       0.47      0.50      0.47       300\n",
      "\n",
      "Confusion Matrix:\n",
      "[[ 6  7  5  2  1  1  1  0  1  1]\n",
      " [ 4 39  0  0  0  0  0  0  0  1]\n",
      " [ 2  3  7  3  2  2  1  3  1  3]\n",
      " [ 1  0  0 11  1  0  6  4  0  3]\n",
      " [ 0  2  2  3  8  1  0  1  3  0]\n",
      " [ 1  5  3  3  0  6  1  1  4  3]\n",
      " [ 1  1  0  2  2  0 13  0  1  5]\n",
      " [ 0  0  0  1  2  0  0 44  0  0]\n",
      " [ 2  2  2  1  4  2  0  8  9  3]\n",
      " [ 2  2  1  6  0  2  4  2  1  6]]\n"
     ]
    }
   ],
   "source": [
    "rf_model = RandomForestClassifier(\n",
    "    n_estimators=100,    \n",
    "    max_depth=10,        \n",
    "    random_state=1\n",
    ")\n",
    "rf_model.fit(train_X_top, train_y_mapped)\n",
    "\n",
    "# Predict on the validation set\n",
    "rf_val_predictions = rf_model.predict(val_X_top)\n",
    "\n",
    "# Evaluate the Random Forest model\n",
    "rf_val_accuracy = accuracy_score(val_y_mapped, rf_val_predictions)\n",
    "print(\"Validation Accuracy for Random Forest Model:\", rf_val_accuracy)\n",
    "\n",
    "print(\"\\nClassification Report (Random Forest):\")\n",
    "print(classification_report(val_y_mapped, rf_val_predictions, zero_division=0))\n",
    "\n",
    "print(\"Confusion Matrix:\")\n",
    "print(confusion_matrix(val_y_mapped, rf_val_predictions))\n",
    "\n",
    "\n"
   ]
  },
  {
   "cell_type": "markdown",
   "id": "9253dac6",
   "metadata": {
    "papermill": {
     "duration": 0.008391,
     "end_time": "2024-12-12T18:32:04.405065",
     "exception": false,
     "start_time": "2024-12-12T18:32:04.396674",
     "status": "completed"
    },
    "tags": []
   },
   "source": [
    "Since none of these models performed well, I suspect that the features I chose were not optimal. Im going to try to represent more features, and perhaps make a deeper tree. "
   ]
  },
  {
   "cell_type": "markdown",
   "id": "b06fc4c6",
   "metadata": {
    "papermill": {
     "duration": 0.007696,
     "end_time": "2024-12-12T18:32:04.421542",
     "exception": false,
     "start_time": "2024-12-12T18:32:04.413846",
     "status": "completed"
    },
    "tags": []
   },
   "source": [
    "Adding more features"
   ]
  },
  {
   "cell_type": "code",
   "execution_count": 10,
   "id": "b28c41a8",
   "metadata": {
    "execution": {
     "iopub.execute_input": "2024-12-12T18:32:04.440109Z",
     "iopub.status.busy": "2024-12-12T18:32:04.439669Z",
     "iopub.status.idle": "2024-12-12T18:32:04.448188Z",
     "shell.execute_reply": "2024-12-12T18:32:04.447117Z"
    },
    "papermill": {
     "duration": 0.020687,
     "end_time": "2024-12-12T18:32:04.450436",
     "exception": false,
     "start_time": "2024-12-12T18:32:04.429749",
     "status": "completed"
    },
    "tags": []
   },
   "outputs": [],
   "source": [
    "from sklearn.preprocessing import LabelEncoder\n",
    "\n",
    "y_encoded = LabelEncoder().fit_transform(data['label'])\n",
    "\n",
    "# Selected features based on previous analysis (including MFCCs)\n",
    "expanded_features = [\n",
    "    \"tempo\", \"beats\", \"spectral_centroid\", \"spectral_bandwidth\", \n",
    "    \"rolloff\", \"zero_crossing_rate\", \"mfcc1\", \"mfcc2\", \"mfcc3\", \"mfcc4\", \"mfcc5\"\n",
    "]\n",
    "X_expanded = data[expanded_features]"
   ]
  },
  {
   "cell_type": "code",
   "execution_count": 11,
   "id": "0117c119",
   "metadata": {
    "execution": {
     "iopub.execute_input": "2024-12-12T18:32:04.468408Z",
     "iopub.status.busy": "2024-12-12T18:32:04.467972Z",
     "iopub.status.idle": "2024-12-12T18:32:04.477553Z",
     "shell.execute_reply": "2024-12-12T18:32:04.476162Z"
    },
    "papermill": {
     "duration": 0.021586,
     "end_time": "2024-12-12T18:32:04.480233",
     "exception": false,
     "start_time": "2024-12-12T18:32:04.458647",
     "status": "completed"
    },
    "tags": []
   },
   "outputs": [
    {
     "name": "stdout",
     "output_type": "stream",
     "text": [
      "Training set size: (840, 11) (840,)\n",
      "Validation set size: (360, 11) (360,)\n"
     ]
    }
   ],
   "source": [
    "# splitting dataset\n",
    "train_X, val_X, train_y, val_y = train_test_split(\n",
    "    X_expanded, \n",
    "    y_encoded, \n",
    "    test_size=0.3, \n",
    "    random_state=1\n",
    ")\n",
    "\n",
    "print(\"Training set size:\", train_X.shape, train_y.shape)\n",
    "print(\"Validation set size:\", val_X.shape, val_y.shape)"
   ]
  },
  {
   "cell_type": "markdown",
   "id": "b7f7b07c",
   "metadata": {
    "papermill": {
     "duration": 0.007589,
     "end_time": "2024-12-12T18:32:04.496008",
     "exception": false,
     "start_time": "2024-12-12T18:32:04.488419",
     "status": "completed"
    },
    "tags": []
   },
   "source": [
    "I am going to train a random forest with different n_estimators and maxdepth to increase the complexity"
   ]
  },
  {
   "cell_type": "code",
   "execution_count": 12,
   "id": "066f7cc7",
   "metadata": {
    "execution": {
     "iopub.execute_input": "2024-12-12T18:32:04.514014Z",
     "iopub.status.busy": "2024-12-12T18:32:04.513524Z",
     "iopub.status.idle": "2024-12-12T18:32:05.276133Z",
     "shell.execute_reply": "2024-12-12T18:32:05.274825Z"
    },
    "papermill": {
     "duration": 0.775055,
     "end_time": "2024-12-12T18:32:05.278937",
     "exception": false,
     "start_time": "2024-12-12T18:32:04.503882",
     "status": "completed"
    },
    "tags": []
   },
   "outputs": [
    {
     "name": "stdout",
     "output_type": "stream",
     "text": [
      "Optimized Random Forest Training Accuracy: 0.9773809523809524\n"
     ]
    }
   ],
   "source": [
    "from sklearn.metrics import classification_report\n",
    "\n",
    "rf_model_optimized = RandomForestClassifier(\n",
    "    \n",
    "    n_estimators=200,       \n",
    "    # since our previous model was overfitting quite a bit, im going to put some constraints on the random forest\n",
    "    max_depth=15,           # Deeper trees for more complex patterns\n",
    "    min_samples_split=5,    # Minimum samples required to split an internal node\n",
    "    min_samples_leaf=2,     # Minimum samples required in a leaf node\n",
    "    max_features='sqrt',    \n",
    "    random_state=1         \n",
    ")\n",
    "\n",
    "# Train the model\n",
    "rf_model_optimized.fit(train_X, train_y)\n",
    "\n",
    "# Evaluate on the training set\n",
    "rf_train_accuracy = rf_model_optimized.score(train_X, train_y)\n",
    "print(f\"Optimized Random Forest Training Accuracy: {rf_train_accuracy}\")"
   ]
  },
  {
   "cell_type": "code",
   "execution_count": 13,
   "id": "4849e101",
   "metadata": {
    "execution": {
     "iopub.execute_input": "2024-12-12T18:32:05.296908Z",
     "iopub.status.busy": "2024-12-12T18:32:05.296526Z",
     "iopub.status.idle": "2024-12-12T18:32:05.368823Z",
     "shell.execute_reply": "2024-12-12T18:32:05.367407Z"
    },
    "papermill": {
     "duration": 0.084626,
     "end_time": "2024-12-12T18:32:05.371656",
     "exception": false,
     "start_time": "2024-12-12T18:32:05.287030",
     "status": "completed"
    },
    "tags": []
   },
   "outputs": [
    {
     "name": "stdout",
     "output_type": "stream",
     "text": [
      "Optimized Random Forest Validation Accuracy: 0.6138888888888889\n",
      "\n",
      "Optimized Random Forest Classification Report:\n",
      "              precision    recall  f1-score   support\n",
      "\n",
      "           0       0.61      0.52      0.56        33\n",
      "           1       0.78      1.00      0.88        54\n",
      "           2       0.30      0.28      0.29        29\n",
      "           3       0.52      0.53      0.52        32\n",
      "           4       0.58      0.39      0.47        28\n",
      "           5       0.70      0.48      0.57        29\n",
      "           6       0.71      0.86      0.77        28\n",
      "           7       0.65      0.96      0.78        54\n",
      "           8       0.58      0.38      0.46        37\n",
      "           9       0.38      0.28      0.32        36\n",
      "\n",
      "    accuracy                           0.61       360\n",
      "   macro avg       0.58      0.57      0.56       360\n",
      "weighted avg       0.59      0.61      0.59       360\n",
      "\n",
      "Confusion Matrix:\n",
      "[[17  5  4  2  1  0  1  0  2  1]\n",
      " [ 0 54  0  0  0  0  0  0  0  0]\n",
      " [ 1  2  8  2  2  3  1  3  3  4]\n",
      " [ 1  0  0 17  0  0  2  9  0  3]\n",
      " [ 2  2  1  3 11  1  2  4  0  2]\n",
      " [ 0  3  3  2  2 14  1  0  4  0]\n",
      " [ 2  0  0  1  0  0 24  0  0  1]\n",
      " [ 0  0  0  0  0  0  0 52  0  2]\n",
      " [ 3  2  6  0  2  1  0  6 14  3]\n",
      " [ 2  1  5  6  1  1  3  6  1 10]]\n"
     ]
    }
   ],
   "source": [
    "# now evaluating, add a confusion matrix and classification report\n",
    "rf_val_accuracy = rf_model_optimized.score(val_X, val_y)\n",
    "print(f\"Optimized Random Forest Validation Accuracy: {rf_val_accuracy}\")\n",
    "\n",
    "# Make predictions on the validation set\n",
    "rf_val_predictions = rf_model_optimized.predict(val_X)\n",
    "\n",
    "# Classification report gives precision, recall, and F1-score for each class\n",
    "print(\"\\nOptimized Random Forest Classification Report:\")\n",
    "print(classification_report(val_y, rf_val_predictions))\n",
    "\n",
    "# Confusion matrix helps visualize misclassifications across classes\n",
    "print(\"Confusion Matrix:\")\n",
    "print(confusion_matrix(val_y, rf_val_predictions))"
   ]
  },
  {
   "cell_type": "markdown",
   "id": "adf6c545",
   "metadata": {
    "papermill": {
     "duration": 0.008231,
     "end_time": "2024-12-12T18:32:05.388595",
     "exception": false,
     "start_time": "2024-12-12T18:32:05.380364",
     "status": "completed"
    },
    "tags": []
   },
   "source": [
    "It looks like increasing the complexity of the model has just caused it to overfit. We can try to fix it by limiting the n_estimators, depth, etc. But since we found the most important features based on the original model, we should do it again for the parameters of our new one. "
   ]
  },
  {
   "cell_type": "code",
   "execution_count": 14,
   "id": "676b3806",
   "metadata": {
    "execution": {
     "iopub.execute_input": "2024-12-12T18:32:05.408856Z",
     "iopub.status.busy": "2024-12-12T18:32:05.407434Z",
     "iopub.status.idle": "2024-12-12T18:32:05.732287Z",
     "shell.execute_reply": "2024-12-12T18:32:05.730883Z"
    },
    "papermill": {
     "duration": 0.337691,
     "end_time": "2024-12-12T18:32:05.734918",
     "exception": false,
     "start_time": "2024-12-12T18:32:05.397227",
     "status": "completed"
    },
    "tags": []
   },
   "outputs": [
    {
     "data": {
      "image/png": "[encoded data removed]",
      "text/plain": [
       "<Figure size 1000x600 with 1 Axes>"
      ]
     },
     "metadata": {},
     "output_type": "display_data"
    },
    {
     "data": {
      "text/html": [
       "<div>\n",
       "<style scoped>\n",
       "    .dataframe tbody tr th:only-of-type {\n",
       "        vertical-align: middle;\n",
       "    }\n",
       "\n",
       "    .dataframe tbody tr th {\n",
       "        vertical-align: top;\n",
       "    }\n",
       "\n",
       "    .dataframe thead th {\n",
       "        text-align: right;\n",
       "    }\n",
       "</style>\n",
       "<table border=\"1\" class=\"dataframe\">\n",
       "  <thead>\n",
       "    <tr style=\"text-align: right;\">\n",
       "      <th></th>\n",
       "      <th>Feature</th>\n",
       "      <th>Importance</th>\n",
       "    </tr>\n",
       "  </thead>\n",
       "  <tbody>\n",
       "    <tr>\n",
       "      <th>9</th>\n",
       "      <td>mfcc4</td>\n",
       "      <td>0.138754</td>\n",
       "    </tr>\n",
       "    <tr>\n",
       "      <th>6</th>\n",
       "      <td>mfcc1</td>\n",
       "      <td>0.134634</td>\n",
       "    </tr>\n",
       "    <tr>\n",
       "      <th>3</th>\n",
       "      <td>spectral_bandwidth</td>\n",
       "      <td>0.129248</td>\n",
       "    </tr>\n",
       "    <tr>\n",
       "      <th>4</th>\n",
       "      <td>rolloff</td>\n",
       "      <td>0.109799</td>\n",
       "    </tr>\n",
       "    <tr>\n",
       "      <th>8</th>\n",
       "      <td>mfcc3</td>\n",
       "      <td>0.087897</td>\n",
       "    </tr>\n",
       "    <tr>\n",
       "      <th>10</th>\n",
       "      <td>mfcc5</td>\n",
       "      <td>0.079692</td>\n",
       "    </tr>\n",
       "    <tr>\n",
       "      <th>5</th>\n",
       "      <td>zero_crossing_rate</td>\n",
       "      <td>0.076598</td>\n",
       "    </tr>\n",
       "    <tr>\n",
       "      <th>2</th>\n",
       "      <td>spectral_centroid</td>\n",
       "      <td>0.074044</td>\n",
       "    </tr>\n",
       "    <tr>\n",
       "      <th>7</th>\n",
       "      <td>mfcc2</td>\n",
       "      <td>0.071556</td>\n",
       "    </tr>\n",
       "    <tr>\n",
       "      <th>1</th>\n",
       "      <td>beats</td>\n",
       "      <td>0.050921</td>\n",
       "    </tr>\n",
       "    <tr>\n",
       "      <th>0</th>\n",
       "      <td>tempo</td>\n",
       "      <td>0.046857</td>\n",
       "    </tr>\n",
       "  </tbody>\n",
       "</table>\n",
       "</div>"
      ],
      "text/plain": [
       "               Feature  Importance\n",
       "9                mfcc4    0.138754\n",
       "6                mfcc1    0.134634\n",
       "3   spectral_bandwidth    0.129248\n",
       "4              rolloff    0.109799\n",
       "8                mfcc3    0.087897\n",
       "10               mfcc5    0.079692\n",
       "5   zero_crossing_rate    0.076598\n",
       "2    spectral_centroid    0.074044\n",
       "7                mfcc2    0.071556\n",
       "1                beats    0.050921\n",
       "0                tempo    0.046857"
      ]
     },
     "metadata": {},
     "output_type": "display_data"
    }
   ],
   "source": [
    "# finding out and visualizing which features are important in the random forest\n",
    "importances = rf_model_optimized.feature_importances_\n",
    "feature_importance_df = pd.DataFrame({'Feature': expanded_features, 'Importance': importances})\n",
    "feature_importance_df = feature_importance_df.sort_values(by='Importance', ascending=False)\n",
    "\n",
    "plt.figure(figsize=(10, 6))\n",
    "plt.barh(feature_importance_df['Feature'], feature_importance_df['Importance'])\n",
    "plt.xlabel('Feature Importance')\n",
    "plt.ylabel('Feature')\n",
    "plt.title('Feature Importance from Optimized Random Forest')\n",
    "plt.gca().invert_yaxis()\n",
    "plt.show()\n",
    "\n",
    "display(feature_importance_df)"
   ]
  },
  {
   "cell_type": "code",
   "execution_count": 15,
   "id": "99df1d82",
   "metadata": {
    "execution": {
     "iopub.execute_input": "2024-12-12T18:32:05.756211Z",
     "iopub.status.busy": "2024-12-12T18:32:05.754652Z",
     "iopub.status.idle": "2024-12-12T18:32:06.228218Z",
     "shell.execute_reply": "2024-12-12T18:32:06.227015Z"
    },
    "papermill": {
     "duration": 0.486474,
     "end_time": "2024-12-12T18:32:06.230703",
     "exception": false,
     "start_time": "2024-12-12T18:32:05.744229",
     "status": "completed"
    },
    "tags": []
   },
   "outputs": [
    {
     "data": {
      "image/png": "[encoded data removed]",
      "text/plain": [
       "<Figure size 1200x600 with 1 Axes>"
      ]
     },
     "metadata": {},
     "output_type": "display_data"
    }
   ],
   "source": [
    "# visualizing a decision tree in our random forest to see if there is a corelation in most important features\n",
    "from sklearn import tree\n",
    "dt_model_reduced = tree.DecisionTreeClassifier(max_depth=2, random_state=1)\n",
    "dt_model_reduced.fit(train_X, train_y)\n",
    "\n",
    "# Visualize with corrected feature names\n",
    "plt.figure(figsize=(12, 6))\n",
    "tree.plot_tree(\n",
    "    dt_model_reduced, \n",
    "    feature_names=train_X.columns.tolist(),\n",
    "    class_names=LabelEncoder().fit(data['label']).classes_, \n",
    "    filled=True\n",
    ")\n",
    "plt.title(\"Decision Tree Visualization\")\n",
    "plt.show()"
   ]
  },
  {
   "cell_type": "markdown",
   "id": "141e34fa",
   "metadata": {
    "papermill": {
     "duration": 0.009703,
     "end_time": "2024-12-12T18:32:06.251234",
     "exception": false,
     "start_time": "2024-12-12T18:32:06.241531",
     "status": "completed"
    },
    "tags": []
   },
   "source": [
    "If you look closely, the spectral bandwidth and MCCFC features we the first to be split. Even though this is a random forest, this correlation still matches with the graph we made earlier, and we can safely assume that these features are quite important. "
   ]
  },
  {
   "cell_type": "markdown",
   "id": "b368d0f2",
   "metadata": {
    "papermill": {
     "duration": 0.009631,
     "end_time": "2024-12-12T18:32:06.271145",
     "exception": false,
     "start_time": "2024-12-12T18:32:06.261514",
     "status": "completed"
    },
    "tags": []
   },
   "source": [
    "This time the accuracy was much better. The expanded feature set likely included more relevant information for classification, allowing the model to make better decisions.\n",
    "\n",
    "We also increased the depth of the Decision Tree which may have allowed it to capture more complex patterns in the data.\n",
    "The Random Forest performed well due to its ability to combine the strengths of multiple trees and avoid overfitting."
   ]
  },
  {
   "cell_type": "markdown",
   "id": "394f09cd",
   "metadata": {
    "papermill": {
     "duration": 0.009482,
     "end_time": "2024-12-12T18:32:06.290525",
     "exception": false,
     "start_time": "2024-12-12T18:32:06.281043",
     "status": "completed"
    },
    "tags": []
   },
   "source": [
    "Classes 1 and 7 are predicted very well, while others are poor. This is the same issue we ran into earlier, and it likely means that the model is latching onto very distinctive features that identify those \"easy\" classes. For harder classes, the model cant find the smilarly generalizable patterns. I suspect that the model continues to over fit because its too complex and not regularized enough. In other words, the random forest is allowed to grow trees that capture alot of detail, which lets the model memorize the training samples rather than learn the underlying patterns. "
   ]
  },
  {
   "cell_type": "code",
   "execution_count": 16,
   "id": "9f7c0d9e",
   "metadata": {
    "execution": {
     "iopub.execute_input": "2024-12-12T18:32:06.312350Z",
     "iopub.status.busy": "2024-12-12T18:32:06.311872Z",
     "iopub.status.idle": "2024-12-12T18:32:06.670212Z",
     "shell.execute_reply": "2024-12-12T18:32:06.668801Z"
    },
    "papermill": {
     "duration": 0.372675,
     "end_time": "2024-12-12T18:32:06.672979",
     "exception": false,
     "start_time": "2024-12-12T18:32:06.300304",
     "status": "completed"
    },
    "tags": []
   },
   "outputs": [
    {
     "name": "stdout",
     "output_type": "stream",
     "text": [
      "Training Accuracy: 0.8476190476190476\n",
      "Validation Accuracy: 0.5722222222222222\n",
      "\n",
      "Classification Report:\n",
      "              precision    recall  f1-score   support\n",
      "\n",
      "           0       0.64      0.48      0.55        33\n",
      "           1       0.78      0.91      0.84        54\n",
      "           2       0.25      0.21      0.23        29\n",
      "           3       0.44      0.50      0.47        32\n",
      "           4       0.45      0.32      0.38        28\n",
      "           5       0.56      0.48      0.52        29\n",
      "           6       0.65      0.86      0.74        28\n",
      "           7       0.62      0.93      0.74        54\n",
      "           8       0.50      0.32      0.39        37\n",
      "           9       0.40      0.28      0.33        36\n",
      "\n",
      "    accuracy                           0.57       360\n",
      "   macro avg       0.53      0.53      0.52       360\n",
      "weighted avg       0.55      0.57      0.55       360\n",
      "\n",
      "Confusion Matrix:\n",
      "[[16  5  3  1  2  3  0  0  1  2]\n",
      " [ 2 49  1  1  0  0  0  0  1  0]\n",
      " [ 1  2  6  2  4  3  2  4  2  3]\n",
      " [ 0  0  1 16  0  0  3  9  1  2]\n",
      " [ 1  2  1  4  9  0  3  5  2  1]\n",
      " [ 0  2  4  2  1 14  1  1  4  0]\n",
      " [ 2  0  0  1  0  0 24  0  0  1]\n",
      " [ 0  0  1  1  0  0  0 50  0  2]\n",
      " [ 1  2  3  0  4  4  0  7 12  4]\n",
      " [ 2  1  4  8  0  1  4  5  1 10]]\n"
     ]
    }
   ],
   "source": [
    "# trying a random forest that is more simple\n",
    "rf_more_regularized = RandomForestClassifier(\n",
    "    n_estimators=100,        \n",
    "    max_depth=8,             \n",
    "    min_samples_split=5,     \n",
    "    min_samples_leaf=3,   \n",
    "    random_state=1\n",
    ")\n",
    "\n",
    "# Train the model using the same train_X, train_y defined earlier\n",
    "rf_more_regularized.fit(train_X, train_y)\n",
    "\n",
    "train_acc = rf_more_regularized.score(train_X, train_y)\n",
    "val_acc = rf_more_regularized.score(val_X, val_y)\n",
    "\n",
    "print(\"Training Accuracy:\", train_acc)\n",
    "print(\"Validation Accuracy:\", val_acc)\n",
    "\n",
    "val_preds = rf_more_regularized.predict(val_X)\n",
    "\n",
    "print(\"\\nClassification Report:\")\n",
    "print(classification_report(val_y, val_preds))\n",
    "\n",
    "print(\"Confusion Matrix:\")\n",
    "print(confusion_matrix(val_y, val_preds))\n"
   ]
  },
  {
   "cell_type": "markdown",
   "id": "b97b7f44",
   "metadata": {
    "papermill": {
     "duration": 0.009731,
     "end_time": "2024-12-12T18:32:06.692944",
     "exception": false,
     "start_time": "2024-12-12T18:32:06.683213",
     "status": "completed"
    },
    "tags": []
   },
   "source": [
    "So the model is less overfitted (98% to 85%) so it no longer memorizes the training data as heavily. However the validation data is still bad. So reducing the model complexity isnt enough to improve its ability to do unseen data. "
   ]
  },
  {
   "cell_type": "markdown",
   "id": "fc40e74e",
   "metadata": {
    "papermill": {
     "duration": 0.009605,
     "end_time": "2024-12-12T18:32:06.712597",
     "exception": false,
     "start_time": "2024-12-12T18:32:06.702992",
     "status": "completed"
    },
    "tags": []
   },
   "source": [
    "What we did notice though was that the MFCC features helped in distinguishing between classes, so we will include more to see if that helps. We will retrain a random forest on this expanded feature set and use the more simple parameters. "
   ]
  },
  {
   "cell_type": "code",
   "execution_count": 17,
   "id": "4fc85f0c",
   "metadata": {
    "execution": {
     "iopub.execute_input": "2024-12-12T18:32:06.734833Z",
     "iopub.status.busy": "2024-12-12T18:32:06.734387Z",
     "iopub.status.idle": "2024-12-12T18:32:07.500148Z",
     "shell.execute_reply": "2024-12-12T18:32:07.498847Z"
    },
    "papermill": {
     "duration": 0.780109,
     "end_time": "2024-12-12T18:32:07.502879",
     "exception": false,
     "start_time": "2024-12-12T18:32:06.722770",
     "status": "completed"
    },
    "tags": []
   },
   "outputs": [
    {
     "name": "stdout",
     "output_type": "stream",
     "text": [
      "Training Accuracy: 0.8761904761904762\n",
      "Validation Accuracy: 0.6\n",
      "\n",
      "Classification Report:\n",
      "              precision    recall  f1-score   support\n",
      "\n",
      "           0       0.61      0.42      0.50        33\n",
      "           1       0.85      0.96      0.90        54\n",
      "           2       0.41      0.31      0.35        29\n",
      "           3       0.44      0.50      0.47        32\n",
      "           4       0.47      0.32      0.38        28\n",
      "           5       0.48      0.48      0.48        29\n",
      "           6       0.65      0.86      0.74        28\n",
      "           7       0.60      0.94      0.73        54\n",
      "           8       0.65      0.46      0.54        37\n",
      "           9       0.45      0.28      0.34        36\n",
      "\n",
      "    accuracy                           0.60       360\n",
      "   macro avg       0.56      0.55      0.55       360\n",
      "weighted avg       0.58      0.60      0.58       360\n",
      "\n",
      "Confusion Matrix:\n",
      "[[14  2  4  1  0  9  1  0  0  2]\n",
      " [ 0 52  0  0  0  1  0  1  0  0]\n",
      " [ 0  1  9  3  3  3  1  4  0  5]\n",
      " [ 1  0  0 16  1  1  3  9  0  1]\n",
      " [ 0  1  2  4  9  0  3  6  2  1]\n",
      " [ 1  1  4  0  1 14  1  1  5  1]\n",
      " [ 2  0  0  1  0  0 24  0  0  1]\n",
      " [ 0  0  0  2  1  0  0 51  0  0]\n",
      " [ 2  3  0  2  4  0  1  7 17  1]\n",
      " [ 3  1  3  7  0  1  3  6  2 10]]\n"
     ]
    }
   ],
   "source": [
    "# Expanded feature set including more MFCCs\n",
    "new_features = [\n",
    "    \"tempo\", \"beats\", \"spectral_centroid\", \"spectral_bandwidth\", \n",
    "    \"rolloff\", \"zero_crossing_rate\",\n",
    "    \"mfcc1\", \"mfcc2\", \"mfcc3\", \"mfcc4\", \"mfcc5\",\n",
    "    \"mfcc6\", \"mfcc7\", \"mfcc8\", \"mfcc9\", \"mfcc10\"\n",
    "]\n",
    "\n",
    "X_new = data[new_features]\n",
    "\n",
    "# Train-test split\n",
    "train_X_n, val_X_n, train_y_n, val_y_n = train_test_split(X_new, y_encoded, test_size=0.3, random_state=1)\n",
    "\n",
    "# More simple Random Forest with max_features='sqrt'\n",
    "rf_with_max_features = RandomForestClassifier(\n",
    "    n_estimators=200,\n",
    "    max_depth=8,\n",
    "    min_samples_leaf=3,\n",
    "    min_samples_split=10,\n",
    "    max_features='sqrt',\n",
    "    random_state=1,\n",
    ")\n",
    "\n",
    "rf_with_max_features.fit(train_X_n, train_y_n)\n",
    "\n",
    "train_acc = rf_with_max_features.score(train_X_n, train_y_n)\n",
    "val_acc = rf_with_max_features.score(val_X_n, val_y_n)\n",
    "\n",
    "print(\"Training Accuracy:\", train_acc)\n",
    "print(\"Validation Accuracy:\", val_acc)\n",
    "\n",
    "val_preds_n = rf_with_max_features.predict(val_X_n)\n",
    "\n",
    "print(\"\\nClassification Report:\")\n",
    "print(classification_report(val_y_n, val_preds_n))\n",
    "\n",
    "print(\"Confusion Matrix:\")\n",
    "print(confusion_matrix(val_y_n, val_preds_n))\n"
   ]
  },
  {
   "cell_type": "markdown",
   "id": "b0f53e89",
   "metadata": {
    "papermill": {
     "duration": 0.010057,
     "end_time": "2024-12-12T18:32:07.523856",
     "exception": false,
     "start_time": "2024-12-12T18:32:07.513799",
     "status": "completed"
    },
    "tags": []
   },
   "source": [
    "We were able to reduce overfitting, with validation accuracy around 60% and the training accuracy no longer near perfect at 87.6%. "
   ]
  },
  {
   "cell_type": "markdown",
   "id": "a4ea18a0",
   "metadata": {
    "papermill": {
     "duration": 0.009793,
     "end_time": "2024-12-12T18:32:07.543853",
     "exception": false,
     "start_time": "2024-12-12T18:32:07.534060",
     "status": "completed"
    },
    "tags": []
   },
   "source": [
    "I am satisfied with this progress, so we can retry the XGBoost and see if its better"
   ]
  },
  {
   "cell_type": "code",
   "execution_count": 18,
   "id": "266095cf",
   "metadata": {
    "execution": {
     "iopub.execute_input": "2024-12-12T18:32:07.566152Z",
     "iopub.status.busy": "2024-12-12T18:32:07.565746Z",
     "iopub.status.idle": "2024-12-12T18:32:07.781775Z",
     "shell.execute_reply": "2024-12-12T18:32:07.779671Z"
    },
    "papermill": {
     "duration": 0.230734,
     "end_time": "2024-12-12T18:32:07.784743",
     "exception": false,
     "start_time": "2024-12-12T18:32:07.554009",
     "status": "completed"
    },
    "tags": []
   },
   "outputs": [],
   "source": [
    "from sklearn.pipeline import Pipeline\n",
    "from xgboost import XGBClassifier\n",
    "from sklearn.preprocessing import StandardScaler\n",
    "\n",
    "params = {\n",
    "    'learning_rate': 0.1,\n",
    "    'max_depth': 6,\n",
    "    'n_estimators': 200,\n",
    "    'subsample': 0.8\n",
    "}\n",
    "\n",
    "# Split the data into training and validation sets\n",
    "train_X, val_X, train_y, val_y = train_test_split(X_new, y_encoded, test_size=0.3, random_state=1)\n",
    "\n",
    "# Create the pipeline with scaling and theXGBoost model\n",
    "final_pipeline = Pipeline([\n",
    "    ('scaler', StandardScaler()),\n",
    "    ('xgb', XGBClassifier(\n",
    "        use_label_encoder=False, \n",
    "        eval_metric='mlogloss',\n",
    "        random_state=1,\n",
    "        **params\n",
    "    ))\n",
    "])"
   ]
  },
  {
   "cell_type": "code",
   "execution_count": 19,
   "id": "f19ac17b",
   "metadata": {
    "execution": {
     "iopub.execute_input": "2024-12-12T18:32:07.808613Z",
     "iopub.status.busy": "2024-12-12T18:32:07.808141Z",
     "iopub.status.idle": "2024-12-12T18:32:09.899633Z",
     "shell.execute_reply": "2024-12-12T18:32:09.896820Z"
    },
    "papermill": {
     "duration": 2.107443,
     "end_time": "2024-12-12T18:32:09.903062",
     "exception": false,
     "start_time": "2024-12-12T18:32:07.795619",
     "status": "completed"
    },
    "tags": []
   },
   "outputs": [
    {
     "name": "stdout",
     "output_type": "stream",
     "text": [
      "Final Model Validation Accuracy: 0.6777777777777778\n",
      "\n",
      "Classification Report:\n",
      "              precision    recall  f1-score   support\n",
      "\n",
      "           0       0.67      0.67      0.67        33\n",
      "           1       0.95      1.00      0.97        54\n",
      "           2       0.53      0.59      0.56        29\n",
      "           3       0.56      0.59      0.58        32\n",
      "           4       0.53      0.36      0.43        28\n",
      "           5       0.50      0.52      0.51        29\n",
      "           6       0.70      0.82      0.75        28\n",
      "           7       0.76      0.93      0.83        54\n",
      "           8       0.68      0.51      0.58        37\n",
      "           9       0.54      0.42      0.47        36\n",
      "\n",
      "    accuracy                           0.68       360\n",
      "   macro avg       0.64      0.64      0.63       360\n",
      "weighted avg       0.67      0.68      0.67       360\n",
      "\n",
      "Confusion Matrix:\n",
      "[[22  0  5  1  0  4  0  0  0  1]\n",
      " [ 0 54  0  0  0  0  0  0  0  0]\n",
      " [ 0  1 17  2  0  6  1  1  1  0]\n",
      " [ 2  0  2 19  0  0  2  5  1  1]\n",
      " [ 0  1  1  4 10  1  1  4  2  4]\n",
      " [ 2  0  5  1  0 15  1  0  4  1]\n",
      " [ 1  0  0  0  2  0 23  0  0  2]\n",
      " [ 0  0  2  2  0  0  0 50  0  0]\n",
      " [ 1  1  0  1  6  0  0  5 19  4]\n",
      " [ 5  0  0  4  1  4  5  1  1 15]]\n"
     ]
    }
   ],
   "source": [
    "# Train the final model on the training data\n",
    "final_pipeline.fit(train_X, train_y)\n",
    "\n",
    "# Evaluate on the validation set\n",
    "val_preds = final_pipeline.predict(val_X)\n",
    "val_acc = final_pipeline.score(val_X, val_y)\n",
    "\n",
    "print(\"Final Model Validation Accuracy:\", val_acc)\n",
    "print(\"\\nClassification Report:\")\n",
    "print(classification_report(val_y, val_preds))\n",
    "print(\"Confusion Matrix:\")\n",
    "print(confusion_matrix(val_y, val_preds))"
   ]
  },
  {
   "cell_type": "markdown",
   "id": "cce8a269",
   "metadata": {
    "papermill": {
     "duration": 0.013048,
     "end_time": "2024-12-12T18:32:09.927718",
     "exception": false,
     "start_time": "2024-12-12T18:32:09.914670",
     "status": "completed"
    },
    "tags": []
   },
   "source": [
    "The XGBoost again did better. Since it builds trees sequentially instead of independently and averaging them after like the random forest, each tree can focus on errors made by the previous ones. Since we can control how complex the model can become with learning rate, n_estimators, etc we can cut down on the over fitting we kept experiencing with the random forest. If certain audio features and MFCCs only show their value when combined in complex ways, XGBoost is better to uncover these relationships"
   ]
  }
 ],
 "metadata": {
  "kaggle": {
   "accelerator": "none",
   "dataSources": [
    {
     "datasetId": 33129,
     "sourceId": 43448,
     "sourceType": "datasetVersion"
    },
    {
     "datasetId": 6261238,
     "sourceId": 10143869,
     "sourceType": "datasetVersion"
    }
   ],
   "dockerImageVersionId": 30804,
   "isGpuEnabled": false,
   "isInternetEnabled": true,
   "language": "python",
   "sourceType": "notebook"
  },
  "kernelspec": {
   "display_name": "Python 3",
   "language": "python",
   "name": "python3"
  },
  "language_info": {
   "codemirror_mode": {
    "name": "ipython",
    "version": 3
   },
   "file_extension": ".py",
   "mimetype": "text/x-python",
   "name": "python",
   "nbconvert_exporter": "python",
   "pygments_lexer": "ipython3",
   "version": "3.10.14"
  },
  "papermill": {
   "default_parameters": {},
   "duration": 14.379488,
   "end_time": "2024-12-12T18:32:10.663204",
   "environment_variables": {},
   "exception": null,
   "input_path": "__notebook__.ipynb",
   "output_path": "__notebook__.ipynb",
   "parameters": {},
   "start_time": "2024-12-12T18:31:56.283716",
   "version": "2.6.0"
  }
 },
 "nbformat": 4,
 "nbformat_minor": 5
}

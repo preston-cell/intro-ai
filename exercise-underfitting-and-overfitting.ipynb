{
 "cells": [
  {
   "cell_type": "markdown",
   "id": "805f87fb",
   "metadata": {
    "papermill": {
     "duration": 0.004215,
     "end_time": "2024-10-22T17:45:42.668326",
     "exception": false,
     "start_time": "2024-10-22T17:45:42.664111",
     "status": "completed"
    },
    "tags": []
   },
   "source": [
    "**This notebook is an exercise in the [Introduction to Machine Learning](https://www.kaggle.com/learn/intro-to-machine-learning) course.  You can reference the tutorial at [this link](https://www.kaggle.com/dansbecker/underfitting-and-overfitting).**\n",
    "\n",
    "---\n"
   ]
  },
  {
   "cell_type": "markdown",
   "id": "a271a677",
   "metadata": {
    "papermill": {
     "duration": 0.003401,
     "end_time": "2024-10-22T17:45:42.675746",
     "exception": false,
     "start_time": "2024-10-22T17:45:42.672345",
     "status": "completed"
    },
    "tags": []
   },
   "source": [
    "## Recap\n",
    "You've built your first model, and now it's time to optimize the size of the tree to make better predictions. Run this cell to set up your coding environment where the previous step left off."
   ]
  },
  {
   "cell_type": "code",
   "execution_count": 1,
   "id": "3c0d07f1",
   "metadata": {
    "execution": {
     "iopub.execute_input": "2024-10-22T17:45:42.684764Z",
     "iopub.status.busy": "2024-10-22T17:45:42.684325Z",
     "iopub.status.idle": "2024-10-22T17:45:45.413225Z",
     "shell.execute_reply": "2024-10-22T17:45:45.412085Z"
    },
    "papermill": {
     "duration": 2.736512,
     "end_time": "2024-10-22T17:45:45.415835",
     "exception": false,
     "start_time": "2024-10-22T17:45:42.679323",
     "status": "completed"
    },
    "tags": []
   },
   "outputs": [
    {
     "name": "stdout",
     "output_type": "stream",
     "text": [
      "Validation MAE: 29,653\n",
      "\n",
      "Setup complete\n"
     ]
    }
   ],
   "source": [
    "# Code you have previously used to load data\n",
    "import pandas as pd\n",
    "from sklearn.metrics import mean_absolute_error\n",
    "from sklearn.model_selection import train_test_split\n",
    "from sklearn.tree import DecisionTreeRegressor\n",
    "\n",
    "\n",
    "# Path of the file to read\n",
    "iowa_file_path = '../input/home-data-for-ml-course/train.csv'\n",
    "\n",
    "home_data = pd.read_csv(iowa_file_path)\n",
    "# Create target object and call it y\n",
    "y = home_data.SalePrice\n",
    "# Create X\n",
    "features = ['LotArea', 'YearBuilt', '1stFlrSF', '2ndFlrSF', 'FullBath', 'BedroomAbvGr', 'TotRmsAbvGrd']\n",
    "X = home_data[features]\n",
    "\n",
    "# Split into validation and training data\n",
    "train_X, val_X, train_y, val_y = train_test_split(X, y, random_state=1)\n",
    "\n",
    "# Specify Model\n",
    "iowa_model = DecisionTreeRegressor(random_state=1)\n",
    "# Fit Model\n",
    "iowa_model.fit(train_X, train_y)\n",
    "\n",
    "# Make validation predictions and calculate mean absolute error\n",
    "val_predictions = iowa_model.predict(val_X)\n",
    "val_mae = mean_absolute_error(val_predictions, val_y)\n",
    "print(\"Validation MAE: {:,.0f}\".format(val_mae))\n",
    "\n",
    "# Set up code checking\n",
    "from learntools.core import binder\n",
    "binder.bind(globals())\n",
    "from learntools.machine_learning.ex5 import *\n",
    "print(\"\\nSetup complete\")"
   ]
  },
  {
   "cell_type": "markdown",
   "id": "8921e029",
   "metadata": {
    "papermill": {
     "duration": 0.003465,
     "end_time": "2024-10-22T17:45:45.423175",
     "exception": false,
     "start_time": "2024-10-22T17:45:45.419710",
     "status": "completed"
    },
    "tags": []
   },
   "source": [
    "# Exercises\n",
    "You could write the function `get_mae` yourself. For now, we'll supply it. This is the same function you read about in the previous lesson. Just run the cell below."
   ]
  },
  {
   "cell_type": "code",
   "execution_count": 2,
   "id": "5dd35727",
   "metadata": {
    "execution": {
     "iopub.execute_input": "2024-10-22T17:45:45.433092Z",
     "iopub.status.busy": "2024-10-22T17:45:45.432595Z",
     "iopub.status.idle": "2024-10-22T17:45:45.438991Z",
     "shell.execute_reply": "2024-10-22T17:45:45.437870Z"
    },
    "papermill": {
     "duration": 0.014272,
     "end_time": "2024-10-22T17:45:45.441575",
     "exception": false,
     "start_time": "2024-10-22T17:45:45.427303",
     "status": "completed"
    },
    "tags": []
   },
   "outputs": [],
   "source": [
    "def get_mae(max_leaf_nodes, train_X, val_X, train_y, val_y):\n",
    "    model = DecisionTreeRegressor(max_leaf_nodes=max_leaf_nodes, random_state=0)\n",
    "    model.fit(train_X, train_y)\n",
    "    preds_val = model.predict(val_X)\n",
    "    mae = mean_absolute_error(val_y, preds_val)\n",
    "    return(mae)"
   ]
  },
  {
   "cell_type": "markdown",
   "id": "0f2bb8c8",
   "metadata": {
    "papermill": {
     "duration": 0.003467,
     "end_time": "2024-10-22T17:45:45.448838",
     "exception": false,
     "start_time": "2024-10-22T17:45:45.445371",
     "status": "completed"
    },
    "tags": []
   },
   "source": [
    "## Step 1: Compare Different Tree Sizes\n",
    "Write a loop that tries the following values for *max_leaf_nodes* from a set of possible values.\n",
    "\n",
    "Call the *get_mae* function on each value of max_leaf_nodes. Store the output in some way that allows you to select the value of `max_leaf_nodes` that gives the most accurate model on your data."
   ]
  },
  {
   "cell_type": "code",
   "execution_count": 3,
   "id": "ef844fb1",
   "metadata": {
    "execution": {
     "iopub.execute_input": "2024-10-22T17:45:45.458602Z",
     "iopub.status.busy": "2024-10-22T17:45:45.458134Z",
     "iopub.status.idle": "2024-10-22T17:45:45.510419Z",
     "shell.execute_reply": "2024-10-22T17:45:45.509255Z"
    },
    "papermill": {
     "duration": 0.060174,
     "end_time": "2024-10-22T17:45:45.513058",
     "exception": false,
     "start_time": "2024-10-22T17:45:45.452884",
     "status": "completed"
    },
    "tags": []
   },
   "outputs": [
    {
     "data": {
      "application/javascript": [
       "parent.postMessage({\"jupyterEvent\": \"custom.exercise_interaction\", \"data\": {\"outcomeType\": 1, \"valueTowardsCompletion\": 0.5, \"interactionType\": 1, \"questionType\": 1, \"questionId\": \"1_BestTreeSize\", \"learnToolsVersion\": \"0.3.4\", \"failureMessage\": \"\", \"exceptionClass\": \"\", \"trace\": \"\"}}, \"*\")"
      ],
      "text/plain": [
       "<IPython.core.display.Javascript object>"
      ]
     },
     "metadata": {},
     "output_type": "display_data"
    },
    {
     "data": {
      "text/markdown": [
       "<span style=\"color:#33cc33\">Correct</span>"
      ],
      "text/plain": [
       "Correct"
      ]
     },
     "metadata": {},
     "output_type": "display_data"
    }
   ],
   "source": [
    "candidate_max_leaf_nodes = [5, 25, 50, 100, 250, 500]\n",
    "# Write loop to find the ideal tree size from candidate_max_leaf_nodes\n",
    "mae_values = {}\n",
    "for max_leaf_nodes in candidate_max_leaf_nodes:\n",
    "    mae = get_mae(max_leaf_nodes, train_X, val_X, train_y, val_y)\n",
    "    mae_values[max_leaf_nodes] = mae\n",
    "\n",
    "# Store the best value of max_leaf_nodes (it will be either 5, 25, 50, 100, 250 or 500)\n",
    "best_tree_size = min(mae_values, key=mae_values.get)\n",
    "\n",
    "# Check your answer\n",
    "step_1.check()"
   ]
  },
  {
   "cell_type": "code",
   "execution_count": 4,
   "id": "3208f7d0",
   "metadata": {
    "execution": {
     "iopub.execute_input": "2024-10-22T17:45:45.523054Z",
     "iopub.status.busy": "2024-10-22T17:45:45.522534Z",
     "iopub.status.idle": "2024-10-22T17:45:45.527686Z",
     "shell.execute_reply": "2024-10-22T17:45:45.526557Z"
    },
    "papermill": {
     "duration": 0.013094,
     "end_time": "2024-10-22T17:45:45.530186",
     "exception": false,
     "start_time": "2024-10-22T17:45:45.517092",
     "status": "completed"
    },
    "tags": []
   },
   "outputs": [],
   "source": [
    "# The lines below will show you a hint or the solution.\n",
    "# step_1.hint() \n",
    "# step_1.solution()"
   ]
  },
  {
   "cell_type": "markdown",
   "id": "16fd42b2",
   "metadata": {
    "papermill": {
     "duration": 0.004026,
     "end_time": "2024-10-22T17:45:45.538308",
     "exception": false,
     "start_time": "2024-10-22T17:45:45.534282",
     "status": "completed"
    },
    "tags": []
   },
   "source": [
    "## Step 2: Fit Model Using All Data\n",
    "You know the best tree size. If you were going to deploy this model in practice, you would make it even more accurate by using all of the data and keeping that tree size.  That is, you don't need to hold out the validation data now that you've made all your modeling decisions."
   ]
  },
  {
   "cell_type": "code",
   "execution_count": 5,
   "id": "c6505b6a",
   "metadata": {
    "execution": {
     "iopub.execute_input": "2024-10-22T17:45:45.548235Z",
     "iopub.status.busy": "2024-10-22T17:45:45.547710Z",
     "iopub.status.idle": "2024-10-22T17:45:45.566791Z",
     "shell.execute_reply": "2024-10-22T17:45:45.565597Z"
    },
    "papermill": {
     "duration": 0.027136,
     "end_time": "2024-10-22T17:45:45.569394",
     "exception": false,
     "start_time": "2024-10-22T17:45:45.542258",
     "status": "completed"
    },
    "tags": []
   },
   "outputs": [
    {
     "data": {
      "application/javascript": [
       "parent.postMessage({\"jupyterEvent\": \"custom.exercise_interaction\", \"data\": {\"outcomeType\": 1, \"valueTowardsCompletion\": 0.5, \"interactionType\": 1, \"questionType\": 2, \"questionId\": \"2_FitModelWithAllData\", \"learnToolsVersion\": \"0.3.4\", \"failureMessage\": \"\", \"exceptionClass\": \"\", \"trace\": \"\"}}, \"*\")"
      ],
      "text/plain": [
       "<IPython.core.display.Javascript object>"
      ]
     },
     "metadata": {},
     "output_type": "display_data"
    },
    {
     "data": {
      "text/markdown": [
       "<span style=\"color:#33cc33\">Correct</span>"
      ],
      "text/plain": [
       "Correct"
      ]
     },
     "metadata": {},
     "output_type": "display_data"
    }
   ],
   "source": [
    "# Fill in argument to make optimal size and uncomment\n",
    "final_model = DecisionTreeRegressor(max_leaf_nodes=best_tree_size, random_state=1)\n",
    "\n",
    "# fit the final model and uncomment the next two lines\n",
    "final_model.fit(X, y)\n",
    "\n",
    "# Check your answer\n",
    "step_2.check()"
   ]
  },
  {
   "cell_type": "code",
   "execution_count": 6,
   "id": "331b3c0c",
   "metadata": {
    "execution": {
     "iopub.execute_input": "2024-10-22T17:45:45.581056Z",
     "iopub.status.busy": "2024-10-22T17:45:45.580314Z",
     "iopub.status.idle": "2024-10-22T17:45:45.585242Z",
     "shell.execute_reply": "2024-10-22T17:45:45.584068Z"
    },
    "papermill": {
     "duration": 0.014351,
     "end_time": "2024-10-22T17:45:45.588046",
     "exception": false,
     "start_time": "2024-10-22T17:45:45.573695",
     "status": "completed"
    },
    "tags": []
   },
   "outputs": [],
   "source": [
    "# step_2.hint()\n",
    "# step_2.solution()"
   ]
  },
  {
   "cell_type": "markdown",
   "id": "344444ce",
   "metadata": {
    "papermill": {
     "duration": 0.004158,
     "end_time": "2024-10-22T17:45:45.596638",
     "exception": false,
     "start_time": "2024-10-22T17:45:45.592480",
     "status": "completed"
    },
    "tags": []
   },
   "source": [
    "You've tuned this model and improved your results. But we are still using Decision Tree models, which are not very sophisticated by modern machine learning standards. In the next step you will learn to use Random Forests to improve your models even more.\n",
    "\n",
    "# Keep Going\n",
    "\n",
    "You are ready for **[Random Forests](https://www.kaggle.com/dansbecker/random-forests).**\n"
   ]
  },
  {
   "cell_type": "markdown",
   "id": "2d2d0316",
   "metadata": {
    "papermill": {
     "duration": 0.004062,
     "end_time": "2024-10-22T17:45:45.605144",
     "exception": false,
     "start_time": "2024-10-22T17:45:45.601082",
     "status": "completed"
    },
    "tags": []
   },
   "source": [
    "---\n",
    "\n",
    "\n",
    "\n",
    "\n",
    "*Have questions or comments? Visit the [course discussion forum](https://www.kaggle.com/learn/intro-to-machine-learning/discussion) to chat with other learners.*"
   ]
  }
 ],
 "metadata": {
  "kaggle": {
   "accelerator": "none",
   "dataSources": [
    {
     "databundleVersionId": 111096,
     "sourceId": 10211,
     "sourceType": "competition"
    },
    {
     "datasetId": 11167,
     "sourceId": 15520,
     "sourceType": "datasetVersion"
    },
    {
     "datasetId": 2709,
     "sourceId": 38454,
     "sourceType": "datasetVersion"
    }
   ],
   "isGpuEnabled": false,
   "isInternetEnabled": false,
   "language": "python",
   "sourceType": "notebook"
  },
  "kernelspec": {
   "display_name": "Python 3",
   "language": "python",
   "name": "python3"
  },
  "language_info": {
   "codemirror_mode": {
    "name": "ipython",
    "version": 3
   },
   "file_extension": ".py",
   "mimetype": "text/x-python",
   "name": "python",
   "nbconvert_exporter": "python",
   "pygments_lexer": "ipython3",
   "version": "3.10.14"
  },
  "papermill": {
   "default_parameters": {},
   "duration": 6.520039,
   "end_time": "2024-10-22T17:45:46.231869",
   "environment_variables": {},
   "exception": null,
   "input_path": "__notebook__.ipynb",
   "output_path": "__notebook__.ipynb",
   "parameters": {},
   "start_time": "2024-10-22T17:45:39.711830",
   "version": "2.6.0"
  }
 },
 "nbformat": 4,
 "nbformat_minor": 5
}

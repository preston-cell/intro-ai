{
 "cells": [
  {
   "cell_type": "markdown",
   "id": "5d06f0c1",
   "metadata": {
    "papermill": {
     "duration": 0.007736,
     "end_time": "2024-12-02T17:34:01.700760",
     "exception": false,
     "start_time": "2024-12-02T17:34:01.693024",
     "status": "completed"
    },
    "tags": []
   },
   "source": [
    "**This notebook is an exercise in the [Intermediate Machine Learning](https://www.kaggle.com/learn/intermediate-machine-learning) course.  You can reference the tutorial at [this link](https://www.kaggle.com/alexisbcook/missing-values).**\n",
    "\n",
    "---\n"
   ]
  },
  {
   "cell_type": "markdown",
   "id": "47154bd9",
   "metadata": {
    "papermill": {
     "duration": 0.006741,
     "end_time": "2024-12-02T17:34:01.714842",
     "exception": false,
     "start_time": "2024-12-02T17:34:01.708101",
     "status": "completed"
    },
    "tags": []
   },
   "source": [
    "Now it's your turn to test your new knowledge of **missing values** handling. You'll probably find it makes a big difference.\n",
    "\n",
    "# Setup\n",
    "\n",
    "The questions will give you feedback on your work. Run the following cell to set up the feedback system."
   ]
  },
  {
   "cell_type": "code",
   "execution_count": 1,
   "id": "a1bea48f",
   "metadata": {
    "execution": {
     "iopub.execute_input": "2024-12-02T17:34:01.731990Z",
     "iopub.status.busy": "2024-12-02T17:34:01.731584Z",
     "iopub.status.idle": "2024-12-02T17:34:02.692294Z",
     "shell.execute_reply": "2024-12-02T17:34:02.691132Z"
    },
    "papermill": {
     "duration": 0.971793,
     "end_time": "2024-12-02T17:34:02.694664",
     "exception": false,
     "start_time": "2024-12-02T17:34:01.722871",
     "status": "completed"
    },
    "tags": []
   },
   "outputs": [
    {
     "name": "stdout",
     "output_type": "stream",
     "text": [
      "Setup Complete\n"
     ]
    }
   ],
   "source": [
    "# Set up code checking\n",
    "import os\n",
    "if not os.path.exists(\"../input/train.csv\"):\n",
    "    os.symlink(\"../input/home-data-for-ml-course/train.csv\", \"../input/train.csv\")  \n",
    "    os.symlink(\"../input/home-data-for-ml-course/test.csv\", \"../input/test.csv\") \n",
    "from learntools.core import binder\n",
    "binder.bind(globals())\n",
    "from learntools.ml_intermediate.ex2 import *\n",
    "print(\"Setup Complete\")"
   ]
  },
  {
   "cell_type": "markdown",
   "id": "04a98995",
   "metadata": {
    "papermill": {
     "duration": 0.006831,
     "end_time": "2024-12-02T17:34:02.709774",
     "exception": false,
     "start_time": "2024-12-02T17:34:02.702943",
     "status": "completed"
    },
    "tags": []
   },
   "source": [
    "In this exercise, you will work with data from the [Housing Prices Competition for Kaggle Learn Users](https://www.kaggle.com/c/home-data-for-ml-course). \n",
    "\n",
    "![Ames Housing dataset image](https://storage.googleapis.com/kaggle-media/learn/images/lTJVG4e.png)\n",
    "\n",
    "Run the next code cell without changes to load the training and validation sets in `X_train`, `X_valid`, `y_train`, and `y_valid`.  The test set is loaded in `X_test`."
   ]
  },
  {
   "cell_type": "code",
   "execution_count": 2,
   "id": "1ebc6b58",
   "metadata": {
    "execution": {
     "iopub.execute_input": "2024-12-02T17:34:02.726109Z",
     "iopub.status.busy": "2024-12-02T17:34:02.725610Z",
     "iopub.status.idle": "2024-12-02T17:34:04.224851Z",
     "shell.execute_reply": "2024-12-02T17:34:04.223875Z"
    },
    "papermill": {
     "duration": 1.510584,
     "end_time": "2024-12-02T17:34:04.227575",
     "exception": false,
     "start_time": "2024-12-02T17:34:02.716991",
     "status": "completed"
    },
    "tags": []
   },
   "outputs": [],
   "source": [
    "import pandas as pd\n",
    "from sklearn.model_selection import train_test_split\n",
    "\n",
    "# Read the data\n",
    "X_full = pd.read_csv('../input/train.csv', index_col='Id')\n",
    "X_test_full = pd.read_csv('../input/test.csv', index_col='Id')\n",
    "\n",
    "# Remove rows with missing target, separate target from predictors\n",
    "X_full.dropna(axis=0, subset=['SalePrice'], inplace=True)\n",
    "y = X_full.SalePrice\n",
    "X_full.drop(['SalePrice'], axis=1, inplace=True)\n",
    "\n",
    "# To keep things simple, we'll use only numerical predictors\n",
    "X = X_full.select_dtypes(exclude=['object'])\n",
    "X_test = X_test_full.select_dtypes(exclude=['object'])\n",
    "\n",
    "# Break off validation set from training data\n",
    "X_train, X_valid, y_train, y_valid = train_test_split(X, y, train_size=0.8, test_size=0.2,\n",
    "                                                      random_state=0)"
   ]
  },
  {
   "cell_type": "markdown",
   "id": "01bdc666",
   "metadata": {
    "papermill": {
     "duration": 0.00672,
     "end_time": "2024-12-02T17:34:04.241570",
     "exception": false,
     "start_time": "2024-12-02T17:34:04.234850",
     "status": "completed"
    },
    "tags": []
   },
   "source": [
    "Use the next code cell to print the first five rows of the data."
   ]
  },
  {
   "cell_type": "code",
   "execution_count": 3,
   "id": "45fc31bb",
   "metadata": {
    "execution": {
     "iopub.execute_input": "2024-12-02T17:34:04.257734Z",
     "iopub.status.busy": "2024-12-02T17:34:04.257357Z",
     "iopub.status.idle": "2024-12-02T17:34:04.282296Z",
     "shell.execute_reply": "2024-12-02T17:34:04.281188Z"
    },
    "papermill": {
     "duration": 0.035464,
     "end_time": "2024-12-02T17:34:04.284495",
     "exception": false,
     "start_time": "2024-12-02T17:34:04.249031",
     "status": "completed"
    },
    "tags": []
   },
   "outputs": [
    {
     "data": {
      "text/html": [
       "<div>\n",
       "<style scoped>\n",
       "    .dataframe tbody tr th:only-of-type {\n",
       "        vertical-align: middle;\n",
       "    }\n",
       "\n",
       "    .dataframe tbody tr th {\n",
       "        vertical-align: top;\n",
       "    }\n",
       "\n",
       "    .dataframe thead th {\n",
       "        text-align: right;\n",
       "    }\n",
       "</style>\n",
       "<table border=\"1\" class=\"dataframe\">\n",
       "  <thead>\n",
       "    <tr style=\"text-align: right;\">\n",
       "      <th></th>\n",
       "      <th>MSSubClass</th>\n",
       "      <th>LotFrontage</th>\n",
       "      <th>LotArea</th>\n",
       "      <th>OverallQual</th>\n",
       "      <th>OverallCond</th>\n",
       "      <th>YearBuilt</th>\n",
       "      <th>YearRemodAdd</th>\n",
       "      <th>MasVnrArea</th>\n",
       "      <th>BsmtFinSF1</th>\n",
       "      <th>BsmtFinSF2</th>\n",
       "      <th>...</th>\n",
       "      <th>GarageArea</th>\n",
       "      <th>WoodDeckSF</th>\n",
       "      <th>OpenPorchSF</th>\n",
       "      <th>EnclosedPorch</th>\n",
       "      <th>3SsnPorch</th>\n",
       "      <th>ScreenPorch</th>\n",
       "      <th>PoolArea</th>\n",
       "      <th>MiscVal</th>\n",
       "      <th>MoSold</th>\n",
       "      <th>YrSold</th>\n",
       "    </tr>\n",
       "    <tr>\n",
       "      <th>Id</th>\n",
       "      <th></th>\n",
       "      <th></th>\n",
       "      <th></th>\n",
       "      <th></th>\n",
       "      <th></th>\n",
       "      <th></th>\n",
       "      <th></th>\n",
       "      <th></th>\n",
       "      <th></th>\n",
       "      <th></th>\n",
       "      <th></th>\n",
       "      <th></th>\n",
       "      <th></th>\n",
       "      <th></th>\n",
       "      <th></th>\n",
       "      <th></th>\n",
       "      <th></th>\n",
       "      <th></th>\n",
       "      <th></th>\n",
       "      <th></th>\n",
       "      <th></th>\n",
       "    </tr>\n",
       "  </thead>\n",
       "  <tbody>\n",
       "    <tr>\n",
       "      <th>619</th>\n",
       "      <td>20</td>\n",
       "      <td>90.0</td>\n",
       "      <td>11694</td>\n",
       "      <td>9</td>\n",
       "      <td>5</td>\n",
       "      <td>2007</td>\n",
       "      <td>2007</td>\n",
       "      <td>452.0</td>\n",
       "      <td>48</td>\n",
       "      <td>0</td>\n",
       "      <td>...</td>\n",
       "      <td>774</td>\n",
       "      <td>0</td>\n",
       "      <td>108</td>\n",
       "      <td>0</td>\n",
       "      <td>0</td>\n",
       "      <td>260</td>\n",
       "      <td>0</td>\n",
       "      <td>0</td>\n",
       "      <td>7</td>\n",
       "      <td>2007</td>\n",
       "    </tr>\n",
       "    <tr>\n",
       "      <th>871</th>\n",
       "      <td>20</td>\n",
       "      <td>60.0</td>\n",
       "      <td>6600</td>\n",
       "      <td>5</td>\n",
       "      <td>5</td>\n",
       "      <td>1962</td>\n",
       "      <td>1962</td>\n",
       "      <td>0.0</td>\n",
       "      <td>0</td>\n",
       "      <td>0</td>\n",
       "      <td>...</td>\n",
       "      <td>308</td>\n",
       "      <td>0</td>\n",
       "      <td>0</td>\n",
       "      <td>0</td>\n",
       "      <td>0</td>\n",
       "      <td>0</td>\n",
       "      <td>0</td>\n",
       "      <td>0</td>\n",
       "      <td>8</td>\n",
       "      <td>2009</td>\n",
       "    </tr>\n",
       "    <tr>\n",
       "      <th>93</th>\n",
       "      <td>30</td>\n",
       "      <td>80.0</td>\n",
       "      <td>13360</td>\n",
       "      <td>5</td>\n",
       "      <td>7</td>\n",
       "      <td>1921</td>\n",
       "      <td>2006</td>\n",
       "      <td>0.0</td>\n",
       "      <td>713</td>\n",
       "      <td>0</td>\n",
       "      <td>...</td>\n",
       "      <td>432</td>\n",
       "      <td>0</td>\n",
       "      <td>0</td>\n",
       "      <td>44</td>\n",
       "      <td>0</td>\n",
       "      <td>0</td>\n",
       "      <td>0</td>\n",
       "      <td>0</td>\n",
       "      <td>8</td>\n",
       "      <td>2009</td>\n",
       "    </tr>\n",
       "    <tr>\n",
       "      <th>818</th>\n",
       "      <td>20</td>\n",
       "      <td>NaN</td>\n",
       "      <td>13265</td>\n",
       "      <td>8</td>\n",
       "      <td>5</td>\n",
       "      <td>2002</td>\n",
       "      <td>2002</td>\n",
       "      <td>148.0</td>\n",
       "      <td>1218</td>\n",
       "      <td>0</td>\n",
       "      <td>...</td>\n",
       "      <td>857</td>\n",
       "      <td>150</td>\n",
       "      <td>59</td>\n",
       "      <td>0</td>\n",
       "      <td>0</td>\n",
       "      <td>0</td>\n",
       "      <td>0</td>\n",
       "      <td>0</td>\n",
       "      <td>7</td>\n",
       "      <td>2008</td>\n",
       "    </tr>\n",
       "    <tr>\n",
       "      <th>303</th>\n",
       "      <td>20</td>\n",
       "      <td>118.0</td>\n",
       "      <td>13704</td>\n",
       "      <td>7</td>\n",
       "      <td>5</td>\n",
       "      <td>2001</td>\n",
       "      <td>2002</td>\n",
       "      <td>150.0</td>\n",
       "      <td>0</td>\n",
       "      <td>0</td>\n",
       "      <td>...</td>\n",
       "      <td>843</td>\n",
       "      <td>468</td>\n",
       "      <td>81</td>\n",
       "      <td>0</td>\n",
       "      <td>0</td>\n",
       "      <td>0</td>\n",
       "      <td>0</td>\n",
       "      <td>0</td>\n",
       "      <td>1</td>\n",
       "      <td>2006</td>\n",
       "    </tr>\n",
       "  </tbody>\n",
       "</table>\n",
       "<p>5 rows × 36 columns</p>\n",
       "</div>"
      ],
      "text/plain": [
       "     MSSubClass  LotFrontage  LotArea  OverallQual  OverallCond  YearBuilt  \\\n",
       "Id                                                                           \n",
       "619          20         90.0    11694            9            5       2007   \n",
       "871          20         60.0     6600            5            5       1962   \n",
       "93           30         80.0    13360            5            7       1921   \n",
       "818          20          NaN    13265            8            5       2002   \n",
       "303          20        118.0    13704            7            5       2001   \n",
       "\n",
       "     YearRemodAdd  MasVnrArea  BsmtFinSF1  BsmtFinSF2  ...  GarageArea  \\\n",
       "Id                                                     ...               \n",
       "619          2007       452.0          48           0  ...         774   \n",
       "871          1962         0.0           0           0  ...         308   \n",
       "93           2006         0.0         713           0  ...         432   \n",
       "818          2002       148.0        1218           0  ...         857   \n",
       "303          2002       150.0           0           0  ...         843   \n",
       "\n",
       "     WoodDeckSF  OpenPorchSF  EnclosedPorch  3SsnPorch  ScreenPorch  PoolArea  \\\n",
       "Id                                                                              \n",
       "619           0          108              0          0          260         0   \n",
       "871           0            0              0          0            0         0   \n",
       "93            0            0             44          0            0         0   \n",
       "818         150           59              0          0            0         0   \n",
       "303         468           81              0          0            0         0   \n",
       "\n",
       "     MiscVal  MoSold  YrSold  \n",
       "Id                            \n",
       "619        0       7    2007  \n",
       "871        0       8    2009  \n",
       "93         0       8    2009  \n",
       "818        0       7    2008  \n",
       "303        0       1    2006  \n",
       "\n",
       "[5 rows x 36 columns]"
      ]
     },
     "execution_count": 3,
     "metadata": {},
     "output_type": "execute_result"
    }
   ],
   "source": [
    "X_train.head()"
   ]
  },
  {
   "cell_type": "markdown",
   "id": "b0e18b37",
   "metadata": {
    "papermill": {
     "duration": 0.006942,
     "end_time": "2024-12-02T17:34:04.298886",
     "exception": false,
     "start_time": "2024-12-02T17:34:04.291944",
     "status": "completed"
    },
    "tags": []
   },
   "source": [
    "You can already see a few missing values in the first several rows.  In the next step, you'll obtain a more comprehensive understanding of the missing values in the dataset.\n",
    "\n",
    "# Step 1: Preliminary investigation\n",
    "\n",
    "Run the code cell below without changes."
   ]
  },
  {
   "cell_type": "code",
   "execution_count": 4,
   "id": "0da8f9c6",
   "metadata": {
    "execution": {
     "iopub.execute_input": "2024-12-02T17:34:04.315527Z",
     "iopub.status.busy": "2024-12-02T17:34:04.314552Z",
     "iopub.status.idle": "2024-12-02T17:34:04.322601Z",
     "shell.execute_reply": "2024-12-02T17:34:04.321536Z"
    },
    "papermill": {
     "duration": 0.018601,
     "end_time": "2024-12-02T17:34:04.324735",
     "exception": false,
     "start_time": "2024-12-02T17:34:04.306134",
     "status": "completed"
    },
    "tags": []
   },
   "outputs": [
    {
     "name": "stdout",
     "output_type": "stream",
     "text": [
      "(1168, 36)\n",
      "LotFrontage    212\n",
      "MasVnrArea       6\n",
      "GarageYrBlt     58\n",
      "dtype: int64\n"
     ]
    }
   ],
   "source": [
    "# Shape of training data (num_rows, num_columns)\n",
    "print(X_train.shape)\n",
    "\n",
    "# Number of missing values in each column of training data\n",
    "missing_val_count_by_column = (X_train.isnull().sum())\n",
    "print(missing_val_count_by_column[missing_val_count_by_column > 0])"
   ]
  },
  {
   "cell_type": "markdown",
   "id": "6f87af55",
   "metadata": {
    "papermill": {
     "duration": 0.007096,
     "end_time": "2024-12-02T17:34:04.339334",
     "exception": false,
     "start_time": "2024-12-02T17:34:04.332238",
     "status": "completed"
    },
    "tags": []
   },
   "source": [
    "### Part A\n",
    "\n",
    "Use the above output to answer the questions below."
   ]
  },
  {
   "cell_type": "code",
   "execution_count": 5,
   "id": "4417af95",
   "metadata": {
    "execution": {
     "iopub.execute_input": "2024-12-02T17:34:04.356153Z",
     "iopub.status.busy": "2024-12-02T17:34:04.355195Z",
     "iopub.status.idle": "2024-12-02T17:34:04.364354Z",
     "shell.execute_reply": "2024-12-02T17:34:04.363344Z"
    },
    "papermill": {
     "duration": 0.019702,
     "end_time": "2024-12-02T17:34:04.366392",
     "exception": false,
     "start_time": "2024-12-02T17:34:04.346690",
     "status": "completed"
    },
    "tags": []
   },
   "outputs": [
    {
     "data": {
      "application/javascript": [
       "parent.postMessage({\"jupyterEvent\": \"custom.exercise_interaction\", \"data\": {\"outcomeType\": 1, \"valueTowardsCompletion\": 1.0, \"interactionType\": 1, \"questionType\": 1, \"questionId\": \"1.1_InvestigateEquality\", \"learnToolsVersion\": \"0.3.4\", \"failureMessage\": \"\", \"exceptionClass\": \"\", \"trace\": \"\"}}, \"*\")"
      ],
      "text/plain": [
       "<IPython.core.display.Javascript object>"
      ]
     },
     "metadata": {},
     "output_type": "display_data"
    },
    {
     "data": {
      "text/markdown": [
       "<span style=\"color:#33cc33\">Correct</span>"
      ],
      "text/plain": [
       "Correct"
      ]
     },
     "metadata": {},
     "output_type": "display_data"
    }
   ],
   "source": [
    "# Fill in the line below: How many rows are in the training data?\n",
    "num_rows = 1168\n",
    "\n",
    "# Fill in the line below: How many columns in the training data\n",
    "# have missing values?\n",
    "num_cols_with_missing = 3\n",
    "\n",
    "# Fill in the line below: How many missing entries are contained in \n",
    "# all of the training data?\n",
    "tot_missing = 276\n",
    "\n",
    "# Check your answers\n",
    "step_1.a.check()"
   ]
  },
  {
   "cell_type": "code",
   "execution_count": 6,
   "id": "ab128fc9",
   "metadata": {
    "execution": {
     "iopub.execute_input": "2024-12-02T17:34:04.384285Z",
     "iopub.status.busy": "2024-12-02T17:34:04.383455Z",
     "iopub.status.idle": "2024-12-02T17:34:04.387665Z",
     "shell.execute_reply": "2024-12-02T17:34:04.386701Z"
    },
    "papermill": {
     "duration": 0.015161,
     "end_time": "2024-12-02T17:34:04.389726",
     "exception": false,
     "start_time": "2024-12-02T17:34:04.374565",
     "status": "completed"
    },
    "tags": []
   },
   "outputs": [],
   "source": [
    "# Lines below will give you a hint or solution code\n",
    "#step_1.a.hint()\n",
    "#step_1.a.solution()"
   ]
  },
  {
   "cell_type": "markdown",
   "id": "d88852c4",
   "metadata": {
    "papermill": {
     "duration": 0.0074,
     "end_time": "2024-12-02T17:34:04.404903",
     "exception": false,
     "start_time": "2024-12-02T17:34:04.397503",
     "status": "completed"
    },
    "tags": []
   },
   "source": [
    "### Part B\n",
    "Considering your answers above, what do you think is likely the best approach to dealing with the missing values?"
   ]
  },
  {
   "cell_type": "code",
   "execution_count": 7,
   "id": "758c4933",
   "metadata": {
    "execution": {
     "iopub.execute_input": "2024-12-02T17:34:04.422157Z",
     "iopub.status.busy": "2024-12-02T17:34:04.421784Z",
     "iopub.status.idle": "2024-12-02T17:34:04.687732Z",
     "shell.execute_reply": "2024-12-02T17:34:04.686484Z"
    },
    "papermill": {
     "duration": 0.277421,
     "end_time": "2024-12-02T17:34:04.690129",
     "exception": false,
     "start_time": "2024-12-02T17:34:04.412708",
     "status": "completed"
    },
    "tags": []
   },
   "outputs": [
    {
     "data": {
      "application/javascript": [
       "parent.postMessage({\"jupyterEvent\": \"custom.exercise_interaction\", \"data\": {\"outcomeType\": 1, \"valueTowardsCompletion\": 1.0, \"interactionType\": 1, \"questionType\": 4, \"questionId\": \"1.2_InvestigateThought\", \"learnToolsVersion\": \"0.3.4\", \"failureMessage\": \"\", \"exceptionClass\": \"\", \"trace\": \"\"}}, \"*\")"
      ],
      "text/plain": [
       "<IPython.core.display.Javascript object>"
      ]
     },
     "metadata": {},
     "output_type": "display_data"
    },
    {
     "data": {
      "text/markdown": [
       "<span style=\"color:#33cc33\">Correct:</span> \n",
       "\n",
       "Since there are relatively few missing entries in the data (the column with the greatest percentage of missing values is missing less than 20% of its entries), we can expect that dropping columns is unlikely to yield good results.  This is because we'd be throwing away a lot of valuable data, and so imputation will likely perform better."
      ],
      "text/plain": [
       "Correct: \n",
       "\n",
       "Since there are relatively few missing entries in the data (the column with the greatest percentage of missing values is missing less than 20% of its entries), we can expect that dropping columns is unlikely to yield good results.  This is because we'd be throwing away a lot of valuable data, and so imputation will likely perform better."
      ]
     },
     "metadata": {},
     "output_type": "display_data"
    }
   ],
   "source": [
    "# Check your answer (Run this code cell to receive credit!)\n",
    "from sklearn.impute import SimpleImputer\n",
    "step_1.b.check()"
   ]
  },
  {
   "cell_type": "code",
   "execution_count": 8,
   "id": "599b32d2",
   "metadata": {
    "execution": {
     "iopub.execute_input": "2024-12-02T17:34:04.707990Z",
     "iopub.status.busy": "2024-12-02T17:34:04.707599Z",
     "iopub.status.idle": "2024-12-02T17:34:04.712523Z",
     "shell.execute_reply": "2024-12-02T17:34:04.711216Z"
    },
    "papermill": {
     "duration": 0.016292,
     "end_time": "2024-12-02T17:34:04.714722",
     "exception": false,
     "start_time": "2024-12-02T17:34:04.698430",
     "status": "completed"
    },
    "tags": []
   },
   "outputs": [],
   "source": [
    "#step_1.b.hint()"
   ]
  },
  {
   "cell_type": "markdown",
   "id": "8931fa24",
   "metadata": {
    "papermill": {
     "duration": 0.007615,
     "end_time": "2024-12-02T17:34:04.730473",
     "exception": false,
     "start_time": "2024-12-02T17:34:04.722858",
     "status": "completed"
    },
    "tags": []
   },
   "source": [
    "To compare different approaches to dealing with missing values, you'll use the same `score_dataset()` function from the tutorial.  This function reports the [mean absolute error](https://en.wikipedia.org/wiki/Mean_absolute_error) (MAE) from a random forest model."
   ]
  },
  {
   "cell_type": "code",
   "execution_count": 9,
   "id": "ffe0b334",
   "metadata": {
    "execution": {
     "iopub.execute_input": "2024-12-02T17:34:04.748722Z",
     "iopub.status.busy": "2024-12-02T17:34:04.748331Z",
     "iopub.status.idle": "2024-12-02T17:34:04.852913Z",
     "shell.execute_reply": "2024-12-02T17:34:04.851809Z"
    },
    "papermill": {
     "duration": 0.116824,
     "end_time": "2024-12-02T17:34:04.855248",
     "exception": false,
     "start_time": "2024-12-02T17:34:04.738424",
     "status": "completed"
    },
    "tags": []
   },
   "outputs": [],
   "source": [
    "from sklearn.ensemble import RandomForestRegressor\n",
    "from sklearn.metrics import mean_absolute_error\n",
    "\n",
    "# Function for comparing different approaches\n",
    "def score_dataset(X_train, X_valid, y_train, y_valid):\n",
    "    model = RandomForestRegressor(n_estimators=100, random_state=0)\n",
    "    model.fit(X_train, y_train)\n",
    "    preds = model.predict(X_valid)\n",
    "    return mean_absolute_error(y_valid, preds)"
   ]
  },
  {
   "cell_type": "markdown",
   "id": "def6f37a",
   "metadata": {
    "papermill": {
     "duration": 0.007562,
     "end_time": "2024-12-02T17:34:04.870896",
     "exception": false,
     "start_time": "2024-12-02T17:34:04.863334",
     "status": "completed"
    },
    "tags": []
   },
   "source": [
    "# Step 2: Drop columns with missing values\n",
    "\n",
    "In this step, you'll preprocess the data in `X_train` and `X_valid` to remove columns with missing values.  Set the preprocessed DataFrames to `reduced_X_train` and `reduced_X_valid`, respectively.  "
   ]
  },
  {
   "cell_type": "code",
   "execution_count": 10,
   "id": "e7b3ef0d",
   "metadata": {
    "execution": {
     "iopub.execute_input": "2024-12-02T17:34:04.888358Z",
     "iopub.status.busy": "2024-12-02T17:34:04.887935Z",
     "iopub.status.idle": "2024-12-02T17:34:04.911018Z",
     "shell.execute_reply": "2024-12-02T17:34:04.909869Z"
    },
    "papermill": {
     "duration": 0.034409,
     "end_time": "2024-12-02T17:34:04.913195",
     "exception": false,
     "start_time": "2024-12-02T17:34:04.878786",
     "status": "completed"
    },
    "tags": []
   },
   "outputs": [
    {
     "data": {
      "application/javascript": [
       "parent.postMessage({\"jupyterEvent\": \"custom.exercise_interaction\", \"data\": {\"outcomeType\": 1, \"valueTowardsCompletion\": 1.0, \"interactionType\": 1, \"questionType\": 2, \"questionId\": \"2_DropMissing\", \"learnToolsVersion\": \"0.3.4\", \"failureMessage\": \"\", \"exceptionClass\": \"\", \"trace\": \"\"}}, \"*\")"
      ],
      "text/plain": [
       "<IPython.core.display.Javascript object>"
      ]
     },
     "metadata": {},
     "output_type": "display_data"
    },
    {
     "data": {
      "text/markdown": [
       "<span style=\"color:#33cc33\">Correct</span>"
      ],
      "text/plain": [
       "Correct"
      ]
     },
     "metadata": {},
     "output_type": "display_data"
    }
   ],
   "source": [
    "# Fill in the line below: get names of columns with missing values\n",
    "cols_missing = [col for col in X_train.columns\n",
    "               if X_train[col].isnull().any()] # Your code here\n",
    "\n",
    "# Fill in the lines below: drop columns in training and validation data\n",
    "reduced_X_train = X_train.drop(cols_missing, axis=1)\n",
    "reduced_X_valid = X_valid.drop(cols_missing, axis=1)\n",
    "\n",
    "# Check your answers\n",
    "step_2.check()"
   ]
  },
  {
   "cell_type": "code",
   "execution_count": 11,
   "id": "acf88a6a",
   "metadata": {
    "execution": {
     "iopub.execute_input": "2024-12-02T17:34:04.931701Z",
     "iopub.status.busy": "2024-12-02T17:34:04.931247Z",
     "iopub.status.idle": "2024-12-02T17:34:04.936291Z",
     "shell.execute_reply": "2024-12-02T17:34:04.935163Z"
    },
    "papermill": {
     "duration": 0.017084,
     "end_time": "2024-12-02T17:34:04.938554",
     "exception": false,
     "start_time": "2024-12-02T17:34:04.921470",
     "status": "completed"
    },
    "tags": []
   },
   "outputs": [],
   "source": [
    "# Lines below will give you a hint or solution code\n",
    "#step_2.hint()\n",
    "#step_2.solution()"
   ]
  },
  {
   "cell_type": "markdown",
   "id": "ce88a2ba",
   "metadata": {
    "papermill": {
     "duration": 0.0079,
     "end_time": "2024-12-02T17:34:04.954737",
     "exception": false,
     "start_time": "2024-12-02T17:34:04.946837",
     "status": "completed"
    },
    "tags": []
   },
   "source": [
    "Run the next code cell without changes to obtain the MAE for this approach."
   ]
  },
  {
   "cell_type": "code",
   "execution_count": 12,
   "id": "c76665d2",
   "metadata": {
    "execution": {
     "iopub.execute_input": "2024-12-02T17:34:04.972776Z",
     "iopub.status.busy": "2024-12-02T17:34:04.972338Z",
     "iopub.status.idle": "2024-12-02T17:34:06.226979Z",
     "shell.execute_reply": "2024-12-02T17:34:06.225668Z"
    },
    "papermill": {
     "duration": 1.266557,
     "end_time": "2024-12-02T17:34:06.229491",
     "exception": false,
     "start_time": "2024-12-02T17:34:04.962934",
     "status": "completed"
    },
    "tags": []
   },
   "outputs": [
    {
     "name": "stdout",
     "output_type": "stream",
     "text": [
      "MAE (Drop columns with missing values):\n",
      "17837.82570776256\n"
     ]
    }
   ],
   "source": [
    "print(\"MAE (Drop columns with missing values):\")\n",
    "print(score_dataset(reduced_X_train, reduced_X_valid, y_train, y_valid))"
   ]
  },
  {
   "cell_type": "markdown",
   "id": "5bed3cb9",
   "metadata": {
    "papermill": {
     "duration": 0.008098,
     "end_time": "2024-12-02T17:34:06.246275",
     "exception": false,
     "start_time": "2024-12-02T17:34:06.238177",
     "status": "completed"
    },
    "tags": []
   },
   "source": [
    "# Step 3: Imputation\n",
    "\n",
    "### Part A\n",
    "\n",
    "Use the next code cell to impute missing values with the mean value along each column.  Set the preprocessed DataFrames to `imputed_X_train` and `imputed_X_valid`.  Make sure that the column names match those in `X_train` and `X_valid`."
   ]
  },
  {
   "cell_type": "code",
   "execution_count": 13,
   "id": "c138378b",
   "metadata": {
    "execution": {
     "iopub.execute_input": "2024-12-02T17:34:06.265478Z",
     "iopub.status.busy": "2024-12-02T17:34:06.264285Z",
     "iopub.status.idle": "2024-12-02T17:34:06.288921Z",
     "shell.execute_reply": "2024-12-02T17:34:06.287839Z"
    },
    "papermill": {
     "duration": 0.036431,
     "end_time": "2024-12-02T17:34:06.291112",
     "exception": false,
     "start_time": "2024-12-02T17:34:06.254681",
     "status": "completed"
    },
    "tags": []
   },
   "outputs": [
    {
     "data": {
      "application/javascript": [
       "parent.postMessage({\"jupyterEvent\": \"custom.exercise_interaction\", \"data\": {\"outcomeType\": 1, \"valueTowardsCompletion\": 1.0, \"interactionType\": 1, \"questionType\": 2, \"questionId\": \"3.1_ImputeCode\", \"learnToolsVersion\": \"0.3.4\", \"failureMessage\": \"\", \"exceptionClass\": \"\", \"trace\": \"\"}}, \"*\")"
      ],
      "text/plain": [
       "<IPython.core.display.Javascript object>"
      ]
     },
     "metadata": {},
     "output_type": "display_data"
    },
    {
     "data": {
      "text/markdown": [
       "<span style=\"color:#33cc33\">Correct</span>"
      ],
      "text/plain": [
       "Correct"
      ]
     },
     "metadata": {},
     "output_type": "display_data"
    }
   ],
   "source": [
    "from sklearn.impute import SimpleImputer\n",
    "\n",
    "# Fill in the lines below: imputation\n",
    "my_imputer = SimpleImputer() # Your code here\n",
    "imputed_X_train = pd.DataFrame(my_imputer.fit_transform(X_train))\n",
    "imputed_X_valid = pd.DataFrame(my_imputer.transform(X_valid))\n",
    "\n",
    "# Fill in the lines below: imputation removed column names; put them back\n",
    "imputed_X_train.columns = X_train.columns\n",
    "imputed_X_valid.columns = X_valid.columns\n",
    "\n",
    "# Check your answers\n",
    "step_3.a.check()"
   ]
  },
  {
   "cell_type": "code",
   "execution_count": 14,
   "id": "8eec2f1f",
   "metadata": {
    "execution": {
     "iopub.execute_input": "2024-12-02T17:34:06.310364Z",
     "iopub.status.busy": "2024-12-02T17:34:06.309241Z",
     "iopub.status.idle": "2024-12-02T17:34:06.314351Z",
     "shell.execute_reply": "2024-12-02T17:34:06.313297Z"
    },
    "papermill": {
     "duration": 0.016815,
     "end_time": "2024-12-02T17:34:06.316513",
     "exception": false,
     "start_time": "2024-12-02T17:34:06.299698",
     "status": "completed"
    },
    "tags": []
   },
   "outputs": [],
   "source": [
    "# Lines below will give you a hint or solution code\n",
    "#step_3.a.hint()\n",
    "#step_3.a.solution()"
   ]
  },
  {
   "cell_type": "markdown",
   "id": "0327ab48",
   "metadata": {
    "papermill": {
     "duration": 0.008228,
     "end_time": "2024-12-02T17:34:06.333240",
     "exception": false,
     "start_time": "2024-12-02T17:34:06.325012",
     "status": "completed"
    },
    "tags": []
   },
   "source": [
    "Run the next code cell without changes to obtain the MAE for this approach."
   ]
  },
  {
   "cell_type": "code",
   "execution_count": 15,
   "id": "b9276e22",
   "metadata": {
    "execution": {
     "iopub.execute_input": "2024-12-02T17:34:06.351967Z",
     "iopub.status.busy": "2024-12-02T17:34:06.351573Z",
     "iopub.status.idle": "2024-12-02T17:34:07.800960Z",
     "shell.execute_reply": "2024-12-02T17:34:07.799785Z"
    },
    "papermill": {
     "duration": 1.461541,
     "end_time": "2024-12-02T17:34:07.803373",
     "exception": false,
     "start_time": "2024-12-02T17:34:06.341832",
     "status": "completed"
    },
    "tags": []
   },
   "outputs": [
    {
     "name": "stdout",
     "output_type": "stream",
     "text": [
      "MAE (Imputation):\n",
      "18062.894611872147\n"
     ]
    }
   ],
   "source": [
    "print(\"MAE (Imputation):\")\n",
    "print(score_dataset(imputed_X_train, imputed_X_valid, y_train, y_valid))"
   ]
  },
  {
   "cell_type": "markdown",
   "id": "fb822424",
   "metadata": {
    "papermill": {
     "duration": 0.00824,
     "end_time": "2024-12-02T17:34:07.820448",
     "exception": false,
     "start_time": "2024-12-02T17:34:07.812208",
     "status": "completed"
    },
    "tags": []
   },
   "source": [
    "### Part B\n",
    "\n",
    "Compare the MAE from each approach.  Does anything surprise you about the results?  Why do you think one approach performed better than the other?\n",
    "\n",
    "We thought that since there were 3 columns with missing values that had less than half of their rows missing, removing the whole column would be wasteful of the useful data. However the MAE shows that imputing those missing values does worse than removing the columns. "
   ]
  },
  {
   "cell_type": "code",
   "execution_count": 16,
   "id": "8962e27a",
   "metadata": {
    "execution": {
     "iopub.execute_input": "2024-12-02T17:34:07.839516Z",
     "iopub.status.busy": "2024-12-02T17:34:07.839091Z",
     "iopub.status.idle": "2024-12-02T17:34:07.848177Z",
     "shell.execute_reply": "2024-12-02T17:34:07.847076Z"
    },
    "papermill": {
     "duration": 0.021475,
     "end_time": "2024-12-02T17:34:07.850659",
     "exception": false,
     "start_time": "2024-12-02T17:34:07.829184",
     "status": "completed"
    },
    "tags": []
   },
   "outputs": [
    {
     "data": {
      "application/javascript": [
       "parent.postMessage({\"jupyterEvent\": \"custom.exercise_interaction\", \"data\": {\"outcomeType\": 1, \"valueTowardsCompletion\": 1.0, \"interactionType\": 1, \"questionType\": 4, \"questionId\": \"3.2_ImputeThought\", \"learnToolsVersion\": \"0.3.4\", \"failureMessage\": \"\", \"exceptionClass\": \"\", \"trace\": \"\"}}, \"*\")"
      ],
      "text/plain": [
       "<IPython.core.display.Javascript object>"
      ]
     },
     "metadata": {},
     "output_type": "display_data"
    },
    {
     "data": {
      "text/markdown": [
       "<span style=\"color:#33cc33\">Correct:</span> \n",
       "\n",
       "Given that thre are so few missing values in the dataset, we'd expect imputation to perform better than dropping columns entirely.  However, we see that dropping columns performs slightly better!  While this can probably partially be attributed to noise in the dataset, another potential explanation is that the imputation method is not a great match to this dataset.  That is, maybe instead of filling in the mean value, it makes more sense to set every missing value to a value of 0, to fill in the most frequently encountered value, or to use some other method.  For instance, consider the `GarageYrBlt` column (which indicates the year that the garage was built).  It's likely that in some cases, a missing value could indicate a house that does not have a garage.  Does it make more sense to fill in the median value along each column in this case?  Or could we get better results by filling in the minimum value along each column?  It's not quite clear what's best in this case, but perhaps we can rule out some options immediately - for instance, setting missing values in this column to 0 is likely to yield horrible results!"
      ],
      "text/plain": [
       "Correct: \n",
       "\n",
       "Given that thre are so few missing values in the dataset, we'd expect imputation to perform better than dropping columns entirely.  However, we see that dropping columns performs slightly better!  While this can probably partially be attributed to noise in the dataset, another potential explanation is that the imputation method is not a great match to this dataset.  That is, maybe instead of filling in the mean value, it makes more sense to set every missing value to a value of 0, to fill in the most frequently encountered value, or to use some other method.  For instance, consider the `GarageYrBlt` column (which indicates the year that the garage was built).  It's likely that in some cases, a missing value could indicate a house that does not have a garage.  Does it make more sense to fill in the median value along each column in this case?  Or could we get better results by filling in the minimum value along each column?  It's not quite clear what's best in this case, but perhaps we can rule out some options immediately - for instance, setting missing values in this column to 0 is likely to yield horrible results!"
      ]
     },
     "metadata": {},
     "output_type": "display_data"
    }
   ],
   "source": [
    "# Check your answer (Run this code cell to receive credit!)\n",
    "step_3.b.check()"
   ]
  },
  {
   "cell_type": "code",
   "execution_count": 17,
   "id": "64560e96",
   "metadata": {
    "execution": {
     "iopub.execute_input": "2024-12-02T17:34:07.870110Z",
     "iopub.status.busy": "2024-12-02T17:34:07.869676Z",
     "iopub.status.idle": "2024-12-02T17:34:07.874392Z",
     "shell.execute_reply": "2024-12-02T17:34:07.873164Z"
    },
    "papermill": {
     "duration": 0.017003,
     "end_time": "2024-12-02T17:34:07.876606",
     "exception": false,
     "start_time": "2024-12-02T17:34:07.859603",
     "status": "completed"
    },
    "tags": []
   },
   "outputs": [],
   "source": [
    "#step_3.b.hint()"
   ]
  },
  {
   "cell_type": "markdown",
   "id": "a4650daf",
   "metadata": {
    "papermill": {
     "duration": 0.008383,
     "end_time": "2024-12-02T17:34:07.893812",
     "exception": false,
     "start_time": "2024-12-02T17:34:07.885429",
     "status": "completed"
    },
    "tags": []
   },
   "source": [
    "# Step 4: Generate test predictions\n",
    "\n",
    "In this final step, you'll use any approach of your choosing to deal with missing values.  Once you've preprocessed the training and validation features, you'll train and evaluate a random forest model.  Then, you'll preprocess the test data before generating predictions that can be submitted to the competition!\n",
    "\n",
    "### Part A\n",
    "\n",
    "Use the next code cell to preprocess the training and validation data.  Set the preprocessed DataFrames to `final_X_train` and `final_X_valid`.  **You can use any approach of your choosing here!**  in order for this step to be marked as correct, you need only ensure:\n",
    "- the preprocessed DataFrames have the same number of columns,\n",
    "- the preprocessed DataFrames have no missing values, \n",
    "- `final_X_train` and `y_train` have the same number of rows, and\n",
    "- `final_X_valid` and `y_valid` have the same number of rows."
   ]
  },
  {
   "cell_type": "code",
   "execution_count": 18,
   "id": "29529d06",
   "metadata": {
    "execution": {
     "iopub.execute_input": "2024-12-02T17:34:07.913274Z",
     "iopub.status.busy": "2024-12-02T17:34:07.912273Z",
     "iopub.status.idle": "2024-12-02T17:34:07.946782Z",
     "shell.execute_reply": "2024-12-02T17:34:07.945724Z"
    },
    "papermill": {
     "duration": 0.046362,
     "end_time": "2024-12-02T17:34:07.948819",
     "exception": false,
     "start_time": "2024-12-02T17:34:07.902457",
     "status": "completed"
    },
    "tags": []
   },
   "outputs": [
    {
     "data": {
      "application/javascript": [
       "parent.postMessage({\"jupyterEvent\": \"custom.exercise_interaction\", \"data\": {\"outcomeType\": 1, \"valueTowardsCompletion\": 1.0, \"interactionType\": 1, \"questionType\": 2, \"questionId\": \"4.1_PredsCodeA\", \"learnToolsVersion\": \"0.3.4\", \"failureMessage\": \"\", \"exceptionClass\": \"\", \"trace\": \"\"}}, \"*\")"
      ],
      "text/plain": [
       "<IPython.core.display.Javascript object>"
      ]
     },
     "metadata": {},
     "output_type": "display_data"
    },
    {
     "data": {
      "text/markdown": [
       "<span style=\"color:#33cc33\">Correct</span>"
      ],
      "text/plain": [
       "Correct"
      ]
     },
     "metadata": {},
     "output_type": "display_data"
    }
   ],
   "source": [
    "# Preprocessed training and validation features\n",
    "final_X_train = X_train.copy()\n",
    "final_X_valid = X_valid.copy()\n",
    "\n",
    "for col in cols_missing:\n",
    "    final_X_train[col + '_was_missing'] = final_X_train[col].isnull()\n",
    "    final_X_valid[col + '_was_missing'] = final_X_valid[col].isnull()\n",
    "    \n",
    "temp_X_train = final_X_train.copy()\n",
    "temp_X_valid = final_X_valid.copy()\n",
    "\n",
    "final_X_train = pd.DataFrame(my_imputer.fit_transform(final_X_train))\n",
    "final_X_valid = pd.DataFrame(my_imputer.transform(final_X_valid))\n",
    "\n",
    "final_X_train.columns = temp_X_train.columns\n",
    "final_X_valid.columns = temp_X_valid.columns\n",
    "\n",
    "# Check your answers\n",
    "step_4.a.check()"
   ]
  },
  {
   "cell_type": "code",
   "execution_count": 19,
   "id": "cf14d430",
   "metadata": {
    "execution": {
     "iopub.execute_input": "2024-12-02T17:34:07.969341Z",
     "iopub.status.busy": "2024-12-02T17:34:07.968298Z",
     "iopub.status.idle": "2024-12-02T17:34:07.972987Z",
     "shell.execute_reply": "2024-12-02T17:34:07.971962Z"
    },
    "papermill": {
     "duration": 0.017257,
     "end_time": "2024-12-02T17:34:07.975172",
     "exception": false,
     "start_time": "2024-12-02T17:34:07.957915",
     "status": "completed"
    },
    "tags": []
   },
   "outputs": [],
   "source": [
    "# Lines below will give you a hint or solution code\n",
    "#step_4.a.hint()\n",
    "#step_4.a.solution()"
   ]
  },
  {
   "cell_type": "markdown",
   "id": "2ae7e2ff",
   "metadata": {
    "papermill": {
     "duration": 0.009272,
     "end_time": "2024-12-02T17:34:07.993688",
     "exception": false,
     "start_time": "2024-12-02T17:34:07.984416",
     "status": "completed"
    },
    "tags": []
   },
   "source": [
    "Run the next code cell to train and evaluate a random forest model.  (*Note that we don't use the `score_dataset()` function above, because we will soon use the trained model to generate test predictions!*)"
   ]
  },
  {
   "cell_type": "code",
   "execution_count": 20,
   "id": "45ff43d9",
   "metadata": {
    "execution": {
     "iopub.execute_input": "2024-12-02T17:34:08.014226Z",
     "iopub.status.busy": "2024-12-02T17:34:08.013795Z",
     "iopub.status.idle": "2024-12-02T17:34:09.428050Z",
     "shell.execute_reply": "2024-12-02T17:34:09.426795Z"
    },
    "papermill": {
     "duration": 1.427109,
     "end_time": "2024-12-02T17:34:09.430473",
     "exception": false,
     "start_time": "2024-12-02T17:34:08.003364",
     "status": "completed"
    },
    "tags": []
   },
   "outputs": [
    {
     "name": "stdout",
     "output_type": "stream",
     "text": [
      "MAE (Your approach):\n",
      "18148.417180365297\n"
     ]
    }
   ],
   "source": [
    "# Define and fit model\n",
    "model = RandomForestRegressor(n_estimators=100, random_state=0)\n",
    "model.fit(final_X_train, y_train)\n",
    "\n",
    "# Get validation predictions and MAE\n",
    "preds_valid = model.predict(final_X_valid)\n",
    "print(\"MAE (Your approach):\")\n",
    "print(mean_absolute_error(y_valid, preds_valid))"
   ]
  },
  {
   "cell_type": "markdown",
   "id": "fd01777a",
   "metadata": {
    "papermill": {
     "duration": 0.008791,
     "end_time": "2024-12-02T17:34:09.448493",
     "exception": false,
     "start_time": "2024-12-02T17:34:09.439702",
     "status": "completed"
    },
    "tags": []
   },
   "source": [
    "### Part B\n",
    "\n",
    "Use the next code cell to preprocess your test data.  Make sure that you use a method that agrees with how you preprocessed the training and validation data, and set the preprocessed test features to `final_X_test`.\n",
    "\n",
    "Then, use the preprocessed test features and the trained model to generate test predictions in `preds_test`.\n",
    "\n",
    "In order for this step to be marked correct, you need only ensure:\n",
    "- the preprocessed test DataFrame has no missing values, and\n",
    "- `final_X_test` has the same number of rows as `X_test`."
   ]
  },
  {
   "cell_type": "code",
   "execution_count": 21,
   "id": "c026bd34",
   "metadata": {
    "execution": {
     "iopub.execute_input": "2024-12-02T17:34:09.469362Z",
     "iopub.status.busy": "2024-12-02T17:34:09.468187Z",
     "iopub.status.idle": "2024-12-02T17:34:09.522903Z",
     "shell.execute_reply": "2024-12-02T17:34:09.521751Z"
    },
    "papermill": {
     "duration": 0.067375,
     "end_time": "2024-12-02T17:34:09.525044",
     "exception": false,
     "start_time": "2024-12-02T17:34:09.457669",
     "status": "completed"
    },
    "tags": []
   },
   "outputs": [
    {
     "data": {
      "application/javascript": [
       "parent.postMessage({\"jupyterEvent\": \"custom.exercise_interaction\", \"data\": {\"outcomeType\": 1, \"valueTowardsCompletion\": 1.0, \"interactionType\": 1, \"questionType\": 2, \"questionId\": \"4.2_PredsCodeB\", \"learnToolsVersion\": \"0.3.4\", \"failureMessage\": \"\", \"exceptionClass\": \"\", \"trace\": \"\"}}, \"*\")"
      ],
      "text/plain": [
       "<IPython.core.display.Javascript object>"
      ]
     },
     "metadata": {},
     "output_type": "display_data"
    },
    {
     "data": {
      "text/markdown": [
       "<span style=\"color:#33cc33\">Correct</span>"
      ],
      "text/plain": [
       "Correct"
      ]
     },
     "metadata": {},
     "output_type": "display_data"
    }
   ],
   "source": [
    "# Fill in the line below: preprocess test data\n",
    "final_X_test = X_test\n",
    "for col in cols_missing:\n",
    "    final_X_test[col + '_was_missing'] = final_X_test[col].isnull()\n",
    "temp_X_test = final_X_test.copy()\n",
    "final_X_test = pd.DataFrame(my_imputer.fit_transform(final_X_test))\n",
    "\n",
    "final_X_test.columns = temp_X_test.columns\n",
    "\n",
    "# Fill in the line below: get test predictions\n",
    "preds_test = model.predict(final_X_test)\n",
    "\n",
    "# Check your answers\n",
    "step_4.b.check()"
   ]
  },
  {
   "cell_type": "code",
   "execution_count": 22,
   "id": "fc2c67c8",
   "metadata": {
    "execution": {
     "iopub.execute_input": "2024-12-02T17:34:09.546724Z",
     "iopub.status.busy": "2024-12-02T17:34:09.545397Z",
     "iopub.status.idle": "2024-12-02T17:34:09.550407Z",
     "shell.execute_reply": "2024-12-02T17:34:09.549318Z"
    },
    "papermill": {
     "duration": 0.018149,
     "end_time": "2024-12-02T17:34:09.552609",
     "exception": false,
     "start_time": "2024-12-02T17:34:09.534460",
     "status": "completed"
    },
    "tags": []
   },
   "outputs": [],
   "source": [
    "# Lines below will give you a hint or solution code\n",
    "#step_4.b.hint()\n",
    "#step_4.b.solution()"
   ]
  },
  {
   "cell_type": "markdown",
   "id": "89ba20b9",
   "metadata": {
    "papermill": {
     "duration": 0.009736,
     "end_time": "2024-12-02T17:34:09.571885",
     "exception": false,
     "start_time": "2024-12-02T17:34:09.562149",
     "status": "completed"
    },
    "tags": []
   },
   "source": [
    "Run the next code cell without changes to save your results to a CSV file that can be submitted directly to the competition."
   ]
  },
  {
   "cell_type": "code",
   "execution_count": 23,
   "id": "e8f213e8",
   "metadata": {
    "execution": {
     "iopub.execute_input": "2024-12-02T17:34:09.592412Z",
     "iopub.status.busy": "2024-12-02T17:34:09.591975Z",
     "iopub.status.idle": "2024-12-02T17:34:09.604086Z",
     "shell.execute_reply": "2024-12-02T17:34:09.602786Z"
    },
    "papermill": {
     "duration": 0.025591,
     "end_time": "2024-12-02T17:34:09.606789",
     "exception": false,
     "start_time": "2024-12-02T17:34:09.581198",
     "status": "completed"
    },
    "tags": []
   },
   "outputs": [],
   "source": [
    "# Save test predictions to file\n",
    "output = pd.DataFrame({'Id': X_test.index,\n",
    "                       'SalePrice': preds_test})\n",
    "output.to_csv('submission.csv', index=False)"
   ]
  },
  {
   "cell_type": "markdown",
   "id": "993f4f8a",
   "metadata": {
    "papermill": {
     "duration": 0.009309,
     "end_time": "2024-12-02T17:34:09.625806",
     "exception": false,
     "start_time": "2024-12-02T17:34:09.616497",
     "status": "completed"
    },
    "tags": []
   },
   "source": [
    "# Submit your results\n",
    "\n",
    "Once you have successfully completed Step 4, you're ready to submit your results to the leaderboard!  (_You also learned how to do this in the previous exercise.  If you need a reminder of how to do this, please use the instructions below._)  \n",
    "\n",
    "First, you'll need to join the competition if you haven't already.  So open a new window by clicking on [this link](https://www.kaggle.com/c/home-data-for-ml-course).  Then click on the **Join Competition** button.\n",
    "\n",
    "![join competition image](https://storage.googleapis.com/kaggle-media/learn/images/wLmFtH3.png)\n",
    "\n",
    "Next, follow the instructions below:\n",
    "1. Begin by clicking on the **Save Version** button in the top right corner of the window.  This will generate a pop-up window.  \n",
    "2. Ensure that the **Save and Run All** option is selected, and then click on the **Save** button.\n",
    "3. This generates a window in the bottom left corner of the notebook.  After it has finished running, click on the number to the right of the **Save Version** button.  This pulls up a list of versions on the right of the screen.  Click on the ellipsis **(...)** to the right of the most recent version, and select **Open in Viewer**.  This brings you into view mode of the same page. You will need to scroll down to get back to these instructions.\n",
    "4. Click on the **Data** tab near the top of the screen.  Then, click on the file you would like to submit, and click on the **Submit** button to submit your results to the leaderboard.\n",
    "\n",
    "You have now successfully submitted to the competition!\n",
    "\n",
    "If you want to keep working to improve your performance, select the **Edit** button in the top right of the screen. Then you can change your code and repeat the process. There's a lot of room to improve, and you will climb up the leaderboard as you work.\n",
    "\n",
    "\n",
    "# Keep going\n",
    "\n",
    "Move on to learn what **[categorical variables](https://www.kaggle.com/alexisbcook/categorical-variables)** are, along with how to incorporate them into your machine learning models.  Categorical variables are very common in real-world data, but you'll get an error if you try to plug them into your models without processing them first!"
   ]
  },
  {
   "cell_type": "markdown",
   "id": "e13e71b3",
   "metadata": {
    "papermill": {
     "duration": 0.00895,
     "end_time": "2024-12-02T17:34:09.644236",
     "exception": false,
     "start_time": "2024-12-02T17:34:09.635286",
     "status": "completed"
    },
    "tags": []
   },
   "source": [
    "---\n",
    "\n",
    "\n",
    "\n",
    "\n",
    "*Have questions or comments? Visit the [course discussion forum](https://www.kaggle.com/learn/intermediate-machine-learning/discussion) to chat with other learners.*"
   ]
  }
 ],
 "metadata": {
  "kaggle": {
   "accelerator": "none",
   "dataSources": [
    {
     "databundleVersionId": 111096,
     "sourceId": 10211,
     "sourceType": "competition"
    }
   ],
   "isGpuEnabled": false,
   "isInternetEnabled": false,
   "language": "python",
   "sourceType": "notebook"
  },
  "kernelspec": {
   "display_name": "Python 3",
   "language": "python",
   "name": "python3"
  },
  "language_info": {
   "codemirror_mode": {
    "name": "ipython",
    "version": 3
   },
   "file_extension": ".py",
   "mimetype": "text/x-python",
   "name": "python",
   "nbconvert_exporter": "python",
   "pygments_lexer": "ipython3",
   "version": "3.10.14"
  },
  "papermill": {
   "default_parameters": {},
   "duration": 11.46715,
   "end_time": "2024-12-02T17:34:10.375730",
   "environment_variables": {},
   "exception": null,
   "input_path": "__notebook__.ipynb",
   "output_path": "__notebook__.ipynb",
   "parameters": {},
   "start_time": "2024-12-02T17:33:58.908580",
   "version": "2.6.0"
  }
 },
 "nbformat": 4,
 "nbformat_minor": 5
}

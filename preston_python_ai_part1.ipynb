{
  "nbformat": 4,
  "nbformat_minor": 0,
  "metadata": {
    "colab": {
      "provenance": [],
      "toc_visible": true,
      "include_colab_link": true
    },
    "kernelspec": {
      "name": "python3",
      "display_name": "Python 3"
    },
    "language_info": {
      "name": "python"
    }
  },
  "cells": [
    {
      "cell_type": "markdown",
      "metadata": {
        "id": "view-in-github",
        "colab_type": "text"
      },
      "source": [
        "<a href=\"https://colab.research.google.com/github/preston-cell/vhs-intro-ai/blob/main/preston_python_ai_part1.ipynb\" target=\"_parent\"><img src=\"https://colab.research.google.com/assets/colab-badge.svg\" alt=\"Open In Colab\"/></a>"
      ]
    },
    {
      "cell_type": "markdown",
      "source": [
        "In this tutorial, we will cover Basic Python in this Google Colab environment.\n",
        "\n",
        "\n",
        "\n",
        "1.   Basic data types (Containers, Lists, Dictionaries)\n",
        "2.   Functions\n",
        "3.   Classes\n",
        "\n",
        "\n",
        "\n",
        "\n",
        "\n"
      ],
      "metadata": {
        "id": "2az3t672znAH"
      }
    },
    {
      "cell_type": "markdown",
      "source": [
        "# A Brief Note on Python Versions\n",
        "As of Janurary 1, 2020, Python has officially dropped support for python2. We'll be using Python 3.7 for this iteration of the course. You can check your Python version at the command line by running `python --version`. In Colab, we can enforce the Python version by clicking `Runtime -> Change Runtime Type` and selecting `python3`. Note that as of April 2020, Colab uses Python 3.6.9 which should run everything without any errors."
      ],
      "metadata": {
        "id": "DD2ORk0O0bdi"
      }
    },
    {
      "cell_type": "code",
      "source": [
        "# Check python version\n",
        "\n",
        "!python --version"
      ],
      "metadata": {
        "id": "j9YZ0Lly0oEk",
        "colab": {
          "base_uri": "https://localhost:8080/"
        },
        "outputId": "867242ce-8115-4126-a254-37da36d7196c"
      },
      "execution_count": null,
      "outputs": [
        {
          "output_type": "stream",
          "name": "stdout",
          "text": [
            "Python 3.10.12\n"
          ]
        }
      ]
    },
    {
      "cell_type": "markdown",
      "source": [
        "* Python is a high-level, *dynamically typed* multiparadigm programming language.\n",
        "* Python code is often said to be *almost like pseudocode*, since it allows you to express very powerful ideas in very few lines of code while being very readable.\n",
        "\n",
        "As an example, here is an implementation of the classic quicksort algorithm in Python:"
      ],
      "metadata": {
        "id": "OLDJ_vc_2Uot"
      }
    },
    {
      "cell_type": "markdown",
      "source": [
        "**What do we mean by dynamically typed programming language?**\n",
        "\n",
        "[TYPE YOUR ANSWER HERE]\n",
        "\n"
      ],
      "metadata": {
        "id": "mMuoNTFB2mKW"
      }
    },
    {
      "cell_type": "code",
      "source": [
        "def quicksort(arr):\n",
        "    if len(arr) <= 1:\n",
        "        return arr\n",
        "    pivot = arr[len(arr) // 2]\n",
        "    left = [x for x in arr if x < pivot]\n",
        "    middle = [x for x in arr if x == pivot]\n",
        "    right = [x for x in arr if x > pivot]\n",
        "    return quicksort(left) + middle + quicksort(right)\n",
        "\n",
        "print(quicksort([3,6,8,10,1,2,1]))"
      ],
      "metadata": {
        "colab": {
          "base_uri": "https://localhost:8080/"
        },
        "id": "l9jydL0226x3",
        "outputId": "ad075ee0-bdd5-446e-8251-451b2e1d7856"
      },
      "execution_count": null,
      "outputs": [
        {
          "output_type": "stream",
          "name": "stdout",
          "text": [
            "[1, 1, 2, 3, 6, 8, 10]\n"
          ]
        }
      ]
    },
    {
      "cell_type": "markdown",
      "source": [
        "# Basic Data Types"
      ],
      "metadata": {
        "id": "4hPpHf2I3Utu"
      }
    },
    {
      "cell_type": "markdown",
      "source": [
        "## Numbers"
      ],
      "metadata": {
        "id": "q7mS-EHb3Xtp"
      }
    },
    {
      "cell_type": "markdown",
      "source": [
        "Integers and floats work as you would expect from other languages like Java:"
      ],
      "metadata": {
        "id": "Ue72mETr3jvL"
      }
    },
    {
      "cell_type": "code",
      "source": [
        "# create a variable x, initialize it to 10\n",
        "# print x and its data type\n",
        "\n",
        "x = 10\n",
        "print(x, type(x))"
      ],
      "metadata": {
        "colab": {
          "base_uri": "https://localhost:8080/"
        },
        "id": "ClYtUXGy3aPL",
        "outputId": "b042fa2a-6742-469f-ade3-c2575691e0a2"
      },
      "execution_count": null,
      "outputs": [
        {
          "output_type": "stream",
          "name": "stdout",
          "text": [
            "10 <class 'int'>\n"
          ]
        }
      ]
    },
    {
      "cell_type": "code",
      "source": [
        "# Addition - add 1 to x and print\n",
        "\n",
        "x = 10\n",
        "x+=1\n",
        "print(x)\n",
        "\n",
        "# Subtraction - subtract 1 from x and print\n",
        "\n",
        "x-=1\n",
        "print(x)\n",
        "\n",
        "# Multiplication - multiply x by 2 and print\n",
        "\n",
        "x*=2\n",
        "print(x)\n",
        "\n",
        "# Exponentiation - print the result of x to the power of 2\n",
        "\n",
        "print(pow(x,2))\n",
        "x**=2\n",
        "print(x)\n"
      ],
      "metadata": {
        "id": "daQrgt4R38ub",
        "colab": {
          "base_uri": "https://localhost:8080/"
        },
        "outputId": "ba7eaa52-569a-489e-e31c-ec2e3eba8b26"
      },
      "execution_count": null,
      "outputs": [
        {
          "output_type": "stream",
          "name": "stdout",
          "text": [
            "11\n",
            "10\n",
            "20\n",
            "400\n",
            "400\n"
          ]
        }
      ]
    },
    {
      "cell_type": "code",
      "source": [
        "# Increment x by 2, save it to itself and print\n",
        "x=10\n",
        "x+=2\n",
        "print(x)\n",
        "\n",
        "# Decrement x by 2, save it to itself and print\n",
        "x-=2\n",
        "print(x)\n",
        "\n",
        "# Multiply x by 2, save it to itself and print\n",
        "x*=2\n",
        "print(x)\n",
        "\n",
        "# Divide x by 2, save it to itself and print\n",
        "\n",
        "x/=2\n",
        "print(x)"
      ],
      "metadata": {
        "id": "yvZQyNiV4Yhv",
        "colab": {
          "base_uri": "https://localhost:8080/"
        },
        "outputId": "ad9fa339-a49a-4b23-e05a-56e87ae7288d"
      },
      "execution_count": null,
      "outputs": [
        {
          "output_type": "stream",
          "name": "stdout",
          "text": [
            "12\n",
            "10\n",
            "20\n",
            "10.0\n"
          ]
        }
      ]
    },
    {
      "cell_type": "code",
      "source": [
        "# Working with floats\n",
        "y = 2.5\n",
        "\n",
        "# print type of y\n",
        "\n",
        "# ADD CODE HERE\n",
        "\n",
        "print(y, y + 1, y * 2, y ** 2)"
      ],
      "metadata": {
        "id": "F3l9h42g466v",
        "colab": {
          "base_uri": "https://localhost:8080/"
        },
        "outputId": "a6176ca9-3d23-4106-c41e-52afd40bcaee"
      },
      "execution_count": null,
      "outputs": [
        {
          "output_type": "stream",
          "name": "stdout",
          "text": [
            "2.5 3.5 5.0 6.25\n"
          ]
        }
      ]
    },
    {
      "cell_type": "markdown",
      "source": [
        "Note that unlike many languages, Python does not have unary increment (x++) or decrement (x--) operators."
      ],
      "metadata": {
        "id": "qfLsxinN5G0v"
      }
    },
    {
      "cell_type": "markdown",
      "source": [
        "## Booleans"
      ],
      "metadata": {
        "id": "ESiMO9JD5N2N"
      }
    },
    {
      "cell_type": "markdown",
      "source": [
        "Python implements all of the usual operators for Boolean logic, but uses English words rather than symbols (&&, ||, etc.):"
      ],
      "metadata": {
        "id": "gQfECIeD5by6"
      }
    },
    {
      "cell_type": "code",
      "source": [
        "t, f = True, False\n",
        "\n",
        "# print type of t and f\n",
        "\n",
        "if(t):\n",
        "  print(t)"
      ],
      "metadata": {
        "id": "RODV_UsP5GVv",
        "colab": {
          "base_uri": "https://localhost:8080/"
        },
        "outputId": "6c081e34-e564-4af3-e133-1c8499e9a1a1"
      },
      "execution_count": null,
      "outputs": [
        {
          "output_type": "stream",
          "name": "stdout",
          "text": [
            "True\n"
          ]
        }
      ]
    },
    {
      "cell_type": "code",
      "source": [
        "if(t and f):\n",
        "  print(\"and\")\n",
        "\n",
        "if(t or f):\n",
        "  print(\"or\")\n",
        "\n",
        "if(not f):\n",
        "  print(\"not\")\n",
        "\n",
        "if(t ^ f):\n",
        "  print(\"xor\")\n"
      ],
      "metadata": {
        "id": "ZrBnT12t5JR_",
        "colab": {
          "base_uri": "https://localhost:8080/"
        },
        "outputId": "22a8639b-dfc8-4526-9b9a-b438667e1199"
      },
      "execution_count": null,
      "outputs": [
        {
          "output_type": "stream",
          "name": "stdout",
          "text": [
            "or\n",
            "not\n",
            "xor\n"
          ]
        }
      ]
    },
    {
      "cell_type": "markdown",
      "source": [
        "## Strings"
      ],
      "metadata": {
        "id": "8qD7Uf3K6UQ-"
      }
    },
    {
      "cell_type": "code",
      "source": [
        "hello = 'hello'   # String literals can use single quotes\n",
        "world = \"world\"   # or double quotes; it does not matter\n",
        "\n",
        "# print hello and its length\n",
        "\n",
        "print(hello, len(hello))\n"
      ],
      "metadata": {
        "id": "HdBSUeYt6BVg",
        "colab": {
          "base_uri": "https://localhost:8080/"
        },
        "outputId": "51e11c47-3247-45f8-d163-810d064f79b8"
      },
      "execution_count": null,
      "outputs": [
        {
          "output_type": "stream",
          "name": "stdout",
          "text": [
            "hello 5\n"
          ]
        }
      ]
    },
    {
      "cell_type": "code",
      "source": [
        "hw12 = '{} {} {}'.format(hello, world, 12)  # string formatting\n",
        "print(hw12)"
      ],
      "metadata": {
        "colab": {
          "base_uri": "https://localhost:8080/"
        },
        "id": "sZ3ubOPu6PUR",
        "outputId": "783cb508-50a9-45a4-b027-550d03929252"
      },
      "execution_count": null,
      "outputs": [
        {
          "output_type": "stream",
          "name": "stdout",
          "text": [
            "hello world 12\n"
          ]
        }
      ]
    },
    {
      "cell_type": "markdown",
      "source": [
        "String objects have a bunch of useful methods; for example:"
      ],
      "metadata": {
        "id": "ynxnxFiD6c3-"
      }
    },
    {
      "cell_type": "code",
      "source": [
        "s = \"hello\"\n",
        "# Capitalize a string\n",
        "\n",
        "print(s.capitalize())\n",
        "\n",
        "# Convert a string to uppercase; prints \"HELLO\"\n",
        "\n",
        "print(s.upper())\n",
        "\n",
        "# Right-justify a string, padding with spaces\n",
        "\n",
        "print(s.rjust(20))\n",
        "\n",
        "# Center a string, padding with spaces\n",
        "\n",
        "print(s.center(20))\n",
        "\n",
        "# Replace all instances of one substring with another\n",
        "\n",
        "print(s.replace(\"h\",\"e\"))\n",
        "\n",
        "# Strip leading and trailing whitespace\n",
        "\n",
        "print(s.strip())"
      ],
      "metadata": {
        "id": "RHHTVH8B6e1S",
        "colab": {
          "base_uri": "https://localhost:8080/"
        },
        "outputId": "1dc3059d-38f5-43bb-aa6a-56ac17ac97df"
      },
      "execution_count": null,
      "outputs": [
        {
          "output_type": "stream",
          "name": "stdout",
          "text": [
            "Hello\n",
            "HELLO\n",
            "               hello\n",
            "       hello        \n",
            "eello\n",
            "hello\n"
          ]
        }
      ]
    },
    {
      "cell_type": "code",
      "source": [],
      "metadata": {
        "id": "mGB20qAhvQqh"
      },
      "execution_count": null,
      "outputs": []
    },
    {
      "cell_type": "markdown",
      "source": [
        "# Containers"
      ],
      "metadata": {
        "id": "HhSLReQ869M_"
      }
    },
    {
      "cell_type": "markdown",
      "source": [
        "## Lists"
      ],
      "metadata": {
        "id": "H9t7Sgv27Jkr"
      }
    },
    {
      "cell_type": "markdown",
      "source": [
        "A list is the Python equivalent of an array, but is resizeable and can contain elements of different types:"
      ],
      "metadata": {
        "id": "Ns64Dnhx7Pzo"
      }
    },
    {
      "cell_type": "code",
      "source": [
        "xs = [3, 1, 2]   # Create a list\n",
        "\n",
        "print(xs)\n",
        "\n",
        "print(len(xs))\n",
        "\n",
        "# print the second element in the list\n",
        "\n",
        "print(xs[1])\n",
        "\n",
        "# Negative indices count from the end of the list; print the element \"2\"\n",
        "\n",
        "print(xs[-1])\n",
        "\n",
        "# Lists can contain elements of different types\n",
        "\n",
        "xs.append(\"preston\")\n",
        "print(xs)"
      ],
      "metadata": {
        "id": "zsWBt4Pj68r8",
        "colab": {
          "base_uri": "https://localhost:8080/"
        },
        "outputId": "36e70e70-07c2-4370-a612-e5cf5f667c85"
      },
      "execution_count": null,
      "outputs": [
        {
          "output_type": "stream",
          "name": "stdout",
          "text": [
            "[3, 1, 2]\n",
            "3\n",
            "1\n",
            "2\n",
            "[3, 1, 2, 'preston']\n"
          ]
        }
      ]
    },
    {
      "cell_type": "code",
      "source": [
        "# Lists can contain elements of different types\n",
        "\n",
        "# Set element at index 2 of the list to a string 'foo'\n",
        "\n",
        "xs[2] = \"foo\"\n",
        "\n",
        "\n",
        "print(xs)"
      ],
      "metadata": {
        "id": "8MCLQ3yVAqQV",
        "colab": {
          "base_uri": "https://localhost:8080/"
        },
        "outputId": "cc9112fe-4874-430a-f619-66a8906a5f3f"
      },
      "execution_count": null,
      "outputs": [
        {
          "output_type": "stream",
          "name": "stdout",
          "text": [
            "[3, 1, 'foo', 'preston']\n"
          ]
        }
      ]
    },
    {
      "cell_type": "code",
      "source": [
        "# Add a new element - string 'bar' - to the end of the list\n",
        "\n",
        "xs.append(\"bar\")\n",
        "\n",
        "print(xs)"
      ],
      "metadata": {
        "id": "iRlNjDFUBGoe",
        "colab": {
          "base_uri": "https://localhost:8080/"
        },
        "outputId": "03fdae54-5b98-412b-ea6a-67c82498d1d0"
      },
      "execution_count": null,
      "outputs": [
        {
          "output_type": "stream",
          "name": "stdout",
          "text": [
            "[3, 1, 'foo', 'preston', 'bar']\n"
          ]
        }
      ]
    },
    {
      "cell_type": "code",
      "source": [
        "# Remove and return the last element of the list\n",
        "\n",
        "x = xs.pop()\n",
        "\n",
        "print(x, xs)"
      ],
      "metadata": {
        "id": "d_0TAsPtBS4k",
        "colab": {
          "base_uri": "https://localhost:8080/"
        },
        "outputId": "cf8bba70-e729-4b6a-d7c1-463be7889b16"
      },
      "execution_count": null,
      "outputs": [
        {
          "output_type": "stream",
          "name": "stdout",
          "text": [
            "bar [3, 1, 'foo', 'preston']\n"
          ]
        }
      ]
    },
    {
      "cell_type": "markdown",
      "source": [
        "## Slicing"
      ],
      "metadata": {
        "id": "hKiz7YBIaVnB"
      }
    },
    {
      "cell_type": "markdown",
      "source": [
        "In addition to accessing list elements one at a time, Python provides concise syntax to access sublists; this is known as slicing:"
      ],
      "metadata": {
        "id": "XLeepwNgageS"
      }
    },
    {
      "cell_type": "code",
      "source": [
        "# range is a built-in function that creates a list of integers\n",
        "nums = list(range(5))\n",
        "print(nums)"
      ],
      "metadata": {
        "colab": {
          "base_uri": "https://localhost:8080/"
        },
        "id": "zafM-YCBaaOm",
        "outputId": "6b67060f-0f42-43ed-c144-0783a050c0c8"
      },
      "execution_count": null,
      "outputs": [
        {
          "output_type": "stream",
          "name": "stdout",
          "text": [
            "[0, 1, 2, 3, 4]\n"
          ]
        }
      ]
    },
    {
      "cell_type": "code",
      "source": [
        "# Get a slice from index 2 to 4 (exclusive); prints \"[2, 3]\"\n",
        "for i in range(2,len(xs)):\n",
        "  print(xs[i])\n",
        "\n",
        "print(xs[2:4])"
      ],
      "metadata": {
        "id": "BaJg4qvEaynt",
        "colab": {
          "base_uri": "https://localhost:8080/"
        },
        "outputId": "5985ed9d-f7cc-4570-9298-8d33be4e1e3d"
      },
      "execution_count": null,
      "outputs": [
        {
          "output_type": "stream",
          "name": "stdout",
          "text": [
            "foo\n",
            "preston\n",
            "['foo', 'preston']\n"
          ]
        }
      ]
    },
    {
      "cell_type": "code",
      "source": [
        "# Get a slice from index 2 to the end; prints \"[2, 3, 4]\"\n",
        "\n",
        "print(xs[2:])\n"
      ],
      "metadata": {
        "id": "jExwiX0Wa4mm",
        "colab": {
          "base_uri": "https://localhost:8080/"
        },
        "outputId": "823d6395-9298-4b4b-ecbd-c61062e15728"
      },
      "execution_count": null,
      "outputs": [
        {
          "output_type": "stream",
          "name": "stdout",
          "text": [
            "['foo', 'preston']\n"
          ]
        }
      ]
    },
    {
      "cell_type": "code",
      "source": [
        "# Get a slice from the start to index 2 (exclusive); prints \"[0, 1]\"\n",
        "\n",
        "print(xs[0:2])"
      ],
      "metadata": {
        "id": "g0Vd7B0sbFWr",
        "colab": {
          "base_uri": "https://localhost:8080/"
        },
        "outputId": "6fa5c0f7-9ba7-47e5-948c-339292911276"
      },
      "execution_count": null,
      "outputs": [
        {
          "output_type": "stream",
          "name": "stdout",
          "text": [
            "[3, 1]\n"
          ]
        }
      ]
    },
    {
      "cell_type": "code",
      "source": [
        "# Get a slice of the whole list; prints [\"0, 1, 2, 3, 4]\"\n",
        "\n",
        "print(xs[0:])"
      ],
      "metadata": {
        "id": "IvPLmeNrbXeC",
        "colab": {
          "base_uri": "https://localhost:8080/"
        },
        "outputId": "6908f789-9d46-42f8-93ff-800000bda8c8"
      },
      "execution_count": null,
      "outputs": [
        {
          "output_type": "stream",
          "name": "stdout",
          "text": [
            "[3, 1, 'foo', 'preston']\n"
          ]
        }
      ]
    },
    {
      "cell_type": "code",
      "source": [
        "# Slice indices can be negative; prints [\"0, 1, 2, 3]\"\n",
        "\n",
        "print(xs[-4:])"
      ],
      "metadata": {
        "id": "NgKFY5T0bZuV",
        "colab": {
          "base_uri": "https://localhost:8080/"
        },
        "outputId": "8251beb6-e372-4b69-b610-e4b323eaf567"
      },
      "execution_count": null,
      "outputs": [
        {
          "output_type": "stream",
          "name": "stdout",
          "text": [
            "[3, 1, 'foo', 'preston']\n"
          ]
        }
      ]
    },
    {
      "cell_type": "code",
      "source": [
        "xs[2:4] = [8, 9] # Assign a new sublist to a slice\n",
        "print(xs)         # Prints \"[0, 1, 8, 9, 4]\""
      ],
      "metadata": {
        "colab": {
          "base_uri": "https://localhost:8080/"
        },
        "id": "I-PZQ9aWbiBC",
        "outputId": "f766317e-107e-4d02-91f6-9cbe7a45ffc9"
      },
      "execution_count": null,
      "outputs": [
        {
          "output_type": "stream",
          "name": "stdout",
          "text": [
            "[3, 1, 8, 9]\n"
          ]
        }
      ]
    },
    {
      "cell_type": "markdown",
      "source": [
        "## Loops"
      ],
      "metadata": {
        "id": "tXPQ0rqHbpMs"
      }
    },
    {
      "cell_type": "markdown",
      "source": [
        "You can loop over the elements of a list like this:"
      ],
      "metadata": {
        "id": "oyn0_jUybxHd"
      }
    },
    {
      "cell_type": "code",
      "source": [
        "animals = ['cat', 'dog', 'monkey']\n",
        "for animal in animals:\n",
        "    print(animal)"
      ],
      "metadata": {
        "colab": {
          "base_uri": "https://localhost:8080/"
        },
        "id": "BnOHl3Q-bsVu",
        "outputId": "0d373232-d65a-4a6e-81c0-1c70fcf54fcf"
      },
      "execution_count": null,
      "outputs": [
        {
          "output_type": "stream",
          "name": "stdout",
          "text": [
            "cat\n",
            "dog\n",
            "monkey\n"
          ]
        }
      ]
    },
    {
      "cell_type": "markdown",
      "source": [
        "If you want access to the index of each element within the body of a loop, use the built-in `enumerate` function:"
      ],
      "metadata": {
        "id": "ufzAK2jwcxNh"
      }
    },
    {
      "cell_type": "code",
      "source": [
        "animals = ['cat', 'dog', 'monkey']\n",
        "for idx, animal in enumerate(animals):\n",
        "    print(idx, animal)"
      ],
      "metadata": {
        "id": "IGalXl52csd3",
        "colab": {
          "base_uri": "https://localhost:8080/"
        },
        "outputId": "20745581-fd23-4a3e-b2ff-c5c526b597a3"
      },
      "execution_count": null,
      "outputs": [
        {
          "output_type": "stream",
          "name": "stdout",
          "text": [
            "0 cat\n",
            "1 dog\n",
            "2 monkey\n"
          ]
        }
      ]
    },
    {
      "cell_type": "markdown",
      "source": [
        "## List comprehensions"
      ],
      "metadata": {
        "id": "YPVtnoINc-az"
      }
    },
    {
      "cell_type": "markdown",
      "source": [
        "When programming, frequently we want to transform one type of data into another. As a simple example, consider the following code that computes square numbers:"
      ],
      "metadata": {
        "id": "oEFaZjKtdK6S"
      }
    },
    {
      "cell_type": "code",
      "source": [
        "nums = [0, 1, 2, 3, 4]\n",
        "squares = []\n",
        "for x in nums:\n",
        "    squares.append(x ** 2)\n",
        "print(squares)"
      ],
      "metadata": {
        "colab": {
          "base_uri": "https://localhost:8080/"
        },
        "id": "SLtVOHEHdCea",
        "outputId": "a2a9578b-37a6-43d2-88fd-ce662b5dc641"
      },
      "execution_count": null,
      "outputs": [
        {
          "output_type": "stream",
          "name": "stdout",
          "text": [
            "[0, 1, 4, 9, 16]\n"
          ]
        }
      ]
    },
    {
      "cell_type": "markdown",
      "source": [
        "You can make this code simpler using a list comprehension:"
      ],
      "metadata": {
        "id": "q4lOgDYbdTXK"
      }
    },
    {
      "cell_type": "code",
      "source": [
        "nums = [0, 1, 2, 3, 4]\n",
        "\n",
        "squares = [x**2 for x in nums]\n",
        "\n",
        "print(squares)"
      ],
      "metadata": {
        "id": "ZWRbVvFSdSf-",
        "colab": {
          "base_uri": "https://localhost:8080/"
        },
        "outputId": "5c7cd98e-c960-4bd3-95b3-5e104e375608"
      },
      "execution_count": null,
      "outputs": [
        {
          "output_type": "stream",
          "name": "stdout",
          "text": [
            "[0, 1, 4, 9, 16]\n"
          ]
        }
      ]
    },
    {
      "cell_type": "markdown",
      "source": [
        "List comprehensions can also contain conditions:"
      ],
      "metadata": {
        "id": "H1v0jVFfdhKP"
      }
    },
    {
      "cell_type": "code",
      "source": [
        "nums = [0, 1, 2, 3, 4]\n",
        "even_squares = [x ** 2 for x in nums if x % 2 == 0]\n",
        "print(even_squares)"
      ],
      "metadata": {
        "id": "qQxvWJ-Ydh1N",
        "colab": {
          "base_uri": "https://localhost:8080/"
        },
        "outputId": "e26bc7df-f207-4fe9-abea-52da961ca97e"
      },
      "execution_count": null,
      "outputs": [
        {
          "output_type": "stream",
          "name": "stdout",
          "text": [
            "[0, 4, 16]\n"
          ]
        }
      ]
    },
    {
      "cell_type": "markdown",
      "source": [
        "## Dictionary"
      ],
      "metadata": {
        "id": "ZCErNLhtdqgK"
      }
    },
    {
      "cell_type": "markdown",
      "source": [
        "A dictionary stores (key, value) pairs, similar to a `Map` in Java or an object in Javascript. You can use it like this:"
      ],
      "metadata": {
        "id": "loOOT2GwdwDX"
      }
    },
    {
      "cell_type": "code",
      "source": [
        "d = {'cat': 'cute', 'dog': 'furry'}  # Create a new dictionary with some data\n",
        "\n",
        "# Get an entry from a dictionary; prints \"cute\"\n",
        "\n",
        "print(d['cat'])\n",
        "\n",
        "# Check if a dictionary has a given key; prints \"True\"\n",
        "\n",
        "print('cat' in d)\n",
        "\n",
        "# Set an entry in a dictionary\n",
        "\n",
        "d['fish'] = 'wet'\n",
        "\n",
        "# Prints \"wet\"\n",
        "\n",
        "print(d['fish'])"
      ],
      "metadata": {
        "id": "cfdWLNEedsaA",
        "colab": {
          "base_uri": "https://localhost:8080/"
        },
        "outputId": "c35a566b-e2ac-4ba5-a7f9-25d58998383b"
      },
      "execution_count": null,
      "outputs": [
        {
          "output_type": "stream",
          "name": "stdout",
          "text": [
            "cute\n",
            "True\n",
            "wet\n"
          ]
        }
      ]
    },
    {
      "cell_type": "code",
      "source": [
        "d['fish'] = 'wet'    # Set an entry in a dictionary\n",
        "print(d['fish'])      # Prints \"wet\""
      ],
      "metadata": {
        "id": "N3VLhaoheFqb",
        "colab": {
          "base_uri": "https://localhost:8080/"
        },
        "outputId": "06158692-eba4-4941-dc59-9e76112ae0e5"
      },
      "execution_count": null,
      "outputs": [
        {
          "output_type": "stream",
          "name": "stdout",
          "text": [
            "wet\n"
          ]
        }
      ]
    },
    {
      "cell_type": "code",
      "source": [],
      "metadata": {
        "id": "kKgObCXMeKz0"
      },
      "execution_count": null,
      "outputs": []
    },
    {
      "cell_type": "code",
      "source": [
        "print(d.get('monkey', 'N/A'))  # Get an element with a default; prints \"N/A\"\n",
        "print(d.get('fish', 'N/A'))    # Get an element with a default; prints \"wet\""
      ],
      "metadata": {
        "id": "x7RyxMjseSEr",
        "colab": {
          "base_uri": "https://localhost:8080/"
        },
        "outputId": "ed2a85c1-cf94-4c31-91ea-10bb9cec2aaa"
      },
      "execution_count": null,
      "outputs": [
        {
          "output_type": "stream",
          "name": "stdout",
          "text": [
            "N/A\n",
            "wet\n"
          ]
        }
      ]
    },
    {
      "cell_type": "code",
      "source": [
        "del d['fish']        # Remove an element from a dictionary\n",
        "print(d.get('fish', 'N/A')) # \"fish\" is no longer a key; prints \"N/A\""
      ],
      "metadata": {
        "id": "mRkAVvyVeZls",
        "colab": {
          "base_uri": "https://localhost:8080/"
        },
        "outputId": "8714113f-841a-4cae-e0cb-b43bb2175264"
      },
      "execution_count": null,
      "outputs": [
        {
          "output_type": "stream",
          "name": "stdout",
          "text": [
            "N/A\n"
          ]
        }
      ]
    },
    {
      "cell_type": "markdown",
      "source": [
        "It is easy to iterate over the keys in a dictionary:"
      ],
      "metadata": {
        "id": "y3LEjxZEefKt"
      }
    },
    {
      "cell_type": "code",
      "source": [
        "d = {'person': 2, 'cat': 4, 'spider': 8}\n",
        "for animal, legs in d.items():\n",
        "    print('A {} has {} legs'.format(animal, legs))"
      ],
      "metadata": {
        "id": "KubrxQT6ef1b",
        "colab": {
          "base_uri": "https://localhost:8080/"
        },
        "outputId": "1e1eee53-315b-418e-d27b-0be59c555a8d"
      },
      "execution_count": null,
      "outputs": [
        {
          "output_type": "stream",
          "name": "stdout",
          "text": [
            "A person has 2 legs\n",
            "A cat has 4 legs\n",
            "A spider has 8 legs\n"
          ]
        }
      ]
    },
    {
      "cell_type": "markdown",
      "source": [
        "Dictionary comprehensions: These are similar to list comprehensions, but allow you to easily construct dictionaries. For example:"
      ],
      "metadata": {
        "id": "pJ__ZELBetbt"
      }
    },
    {
      "cell_type": "code",
      "source": [
        "nums = [0, 1, 2, 3, 4]\n",
        "even_num_to_square = {x: x ** 2 for x in nums if x % 2 == 0}\n",
        "print(even_num_to_square)"
      ],
      "metadata": {
        "id": "10ay_uO4enhE",
        "colab": {
          "base_uri": "https://localhost:8080/"
        },
        "outputId": "499b6c7c-917f-4c75-8fde-bf15ea0cef1b"
      },
      "execution_count": null,
      "outputs": [
        {
          "output_type": "stream",
          "name": "stdout",
          "text": [
            "{0: 0, 2: 4, 4: 16}\n"
          ]
        }
      ]
    },
    {
      "cell_type": "code",
      "source": [
        "# Print odd numbers squares using dictionary comprehensions\n",
        "\n",
        "d = {}\n",
        "for x in nums:\n",
        "  if x % 2 == 1:\n",
        "    d[x] = x**2\n",
        "\n",
        "print(d)"
      ],
      "metadata": {
        "id": "TttJElPxe30k",
        "colab": {
          "base_uri": "https://localhost:8080/"
        },
        "outputId": "f12cf437-face-47c3-cfed-8b5196a266fe"
      },
      "execution_count": null,
      "outputs": [
        {
          "output_type": "stream",
          "name": "stdout",
          "text": [
            "{1: 1, 3: 9}\n"
          ]
        }
      ]
    },
    {
      "cell_type": "markdown",
      "source": [
        "# Functions\n",
        "\n",
        "Python functions are defined using the `def` keyword. For example:"
      ],
      "metadata": {
        "id": "C0JBMGiJgHF5"
      }
    },
    {
      "cell_type": "code",
      "source": [
        "nums = [-1, 0, 1]\n",
        "\n",
        "# Function to check the sign of the number\n",
        "\n",
        "def sign(x):\n",
        "  if (x>=0):\n",
        "    return ('+')\n",
        "  else:\n",
        "    return ('-')\n",
        "\n",
        "for x in nums:\n",
        "    print(sign(x))"
      ],
      "metadata": {
        "id": "y5AYrQQDfM0o",
        "colab": {
          "base_uri": "https://localhost:8080/"
        },
        "outputId": "dd992e41-bc7c-4575-e1a6-1c762c2473df"
      },
      "execution_count": null,
      "outputs": [
        {
          "output_type": "stream",
          "name": "stdout",
          "text": [
            "-\n",
            "+\n",
            "+\n"
          ]
        }
      ]
    },
    {
      "cell_type": "code",
      "source": [],
      "metadata": {
        "id": "B0R7fqP_uAOj"
      },
      "execution_count": null,
      "outputs": []
    },
    {
      "cell_type": "markdown",
      "source": [
        "We will often define functions to take optional keyword arguments, like this:"
      ],
      "metadata": {
        "id": "d1xk5kJHgn5o"
      }
    },
    {
      "cell_type": "code",
      "source": [
        "def hello(name, loud=False):\n",
        "    if loud:\n",
        "        print('HELLO, {}'.format(name.upper()))\n",
        "    else:\n",
        "        print('Hello, {}!'.format(name))\n",
        "\n",
        "hello('Bob')\n",
        "hello('Fred', loud=True)"
      ],
      "metadata": {
        "colab": {
          "base_uri": "https://localhost:8080/"
        },
        "id": "e-0ccFnYghBC",
        "outputId": "1c3fef51-6e90-4662-e561-fdc7c0ab33ff"
      },
      "execution_count": null,
      "outputs": [
        {
          "output_type": "stream",
          "name": "stdout",
          "text": [
            "Hello, Bob!\n",
            "HELLO, FRED\n"
          ]
        }
      ]
    },
    {
      "cell_type": "markdown",
      "source": [
        "`main()` function\n",
        "\n",
        "`def main():`\n",
        "\n",
        "This defines the `main` function where the primary logic of your program will reside. You can include any code or function calls here.\n",
        "\n",
        "`if __name__ == \"__main__\":`\n",
        "\n",
        "This conditional statement checks if the script is being run directly (not imported as a module).\n",
        "`__name__` is a special variable that Python sets to `\"__main__\"` when the script is run directly. If the script is imported into another script, `__name__` will be set to the script's filename instead.\n",
        "If the script is being run directly, the `main()` function is called."
      ],
      "metadata": {
        "id": "4bRqXES1iKEJ"
      }
    },
    {
      "cell_type": "code",
      "source": [
        "def main():\n",
        "\n",
        "    print(\"This is the main function.\")\n",
        "\n",
        "    # Main code goes here\n",
        "    hello('Bob')\n",
        "    hello('Fred', loud=True)\n",
        "\n",
        "if __name__ == \"__main__\":\n",
        "    main()"
      ],
      "metadata": {
        "colab": {
          "base_uri": "https://localhost:8080/"
        },
        "id": "rKtuuxYniKe_",
        "outputId": "f30aab06-26e2-472d-eeef-feca07425f58"
      },
      "execution_count": null,
      "outputs": [
        {
          "output_type": "stream",
          "name": "stdout",
          "text": [
            "This is the main function.\n",
            "Hello, Bob!\n",
            "HELLO, FRED\n"
          ]
        }
      ]
    },
    {
      "cell_type": "markdown",
      "source": [
        "# Classes\n",
        "\n",
        "The syntax for defining classes in Python is straightforward:"
      ],
      "metadata": {
        "id": "fvNgMSv3gyWX"
      }
    },
    {
      "cell_type": "code",
      "source": [
        "class Greeter:\n",
        "\n",
        "    # Constructor\n",
        "    def __init__(self, name):\n",
        "        self.name = name  # Create an instance variable\n",
        "\n",
        "    def __init__(self):\n",
        "      self.name = \"Bob\"\n",
        "\n",
        "    # Instance method\n",
        "    def greet(self, loud=False):\n",
        "        if loud:\n",
        "          print('HELLO, {}'.format(self.name.upper()))\n",
        "        else:\n",
        "          print('Hello, {}!'.format(self.name))\n",
        "\n",
        "g = Greeter()  # Construct an instance of the Greeter class\n",
        "g.greet()            # Call an instance method; prints \"Hello, Fred\"\n",
        "g.greet(loud=True)   # Call an instance method; prints \"HELLO, FRED!\""
      ],
      "metadata": {
        "id": "Lz3fNOprg2u2",
        "colab": {
          "base_uri": "https://localhost:8080/"
        },
        "outputId": "2e77a147-3a00-43df-9044-80f9910e409d"
      },
      "execution_count": null,
      "outputs": [
        {
          "output_type": "stream",
          "name": "stdout",
          "text": [
            "Hello, Bob!\n",
            "HELLO, BOB\n"
          ]
        }
      ]
    },
    {
      "cell_type": "markdown",
      "source": [
        "# Student Tracker Assignment:\n",
        "\n",
        "Create a simple program that allows a user to track and display student grades. This assignment focuses on the use of lists, dictionaries, and basic class structure."
      ],
      "metadata": {
        "id": "nXHauqhZhMTk"
      }
    },
    {
      "cell_type": "markdown",
      "source": [
        "Define a Student Class:\n",
        "\n",
        "The class should have the following attributes:\n",
        "\n",
        "\n",
        "*   `name` (string): The student's name.\n",
        "*   `grades` (dictionary): A dictionary where the keys are subjects and the values are grades.\n",
        "\n",
        "The class should have methods to:\n",
        "* Add or update a grade for a subject.\n",
        "* Display the student's information, including their grades."
      ],
      "metadata": {
        "id": "bJJBnqCnjZ3K"
      }
    },
    {
      "cell_type": "code",
      "source": [
        "class Student:\n",
        "  def __init__(self, name):\n",
        "    self.name = name\n",
        "    self.d = {}\n",
        "  def addUpdate(self, subject, grade):\n",
        "    self.d[subject] = grade\n",
        "  def display(self):\n",
        "    print(self.name+':')\n",
        "    for subject, grade in self.d.items():\n",
        "      print('{}: {}'.format(subject, grade))\n",
        "\n",
        "test = Student('preston')\n",
        "test.addUpdate('math', 100)\n",
        "test.display()\n"
      ],
      "metadata": {
        "id": "iBgPkd5ChBhd",
        "colab": {
          "base_uri": "https://localhost:8080/"
        },
        "outputId": "2b7be1f9-874b-4fe9-f5cd-75b41a832745"
      },
      "execution_count": null,
      "outputs": [
        {
          "output_type": "stream",
          "name": "stdout",
          "text": [
            "preston:\n",
            "math: 100\n"
          ]
        }
      ]
    },
    {
      "cell_type": "markdown",
      "source": [
        "Create a Function to Manage Students:\n",
        "\n",
        "This function will:\n",
        "1. Create a list of Student objects.\n",
        "2. Add grades for each student.\n",
        "3. Display all students' information.\n"
      ],
      "metadata": {
        "id": "_D8J7bPsj8I7"
      }
    },
    {
      "cell_type": "code",
      "source": [
        "import random\n",
        "def manage_students():\n",
        "  students = [Student('Preston'), Student('Youssef'), Student('Alex'), Student('Vasu')]\n",
        "  for i in range(0,len(students)):\n",
        "    students[i].addUpdate('Math', random.randint(70, 100))\n",
        "    students[i].addUpdate('English', random.randint(70, 100))\n",
        "    students[i].addUpdate('Science', random.randint(70, 100))\n",
        "    students[i].addUpdate('Spanish', random.randint(70, 100))\n",
        "    students[i].display()\n",
        "    print()"
      ],
      "metadata": {
        "id": "agarttRckEIm"
      },
      "execution_count": null,
      "outputs": []
    },
    {
      "cell_type": "markdown",
      "source": [
        "Implement the Main Program:\n",
        "\n",
        "Call the `manage_students` function to run the program."
      ],
      "metadata": {
        "id": "pVb4VsChkPEn"
      }
    },
    {
      "cell_type": "code",
      "source": [
        "if __name__ == \"__main__\":\n",
        "    manage_students()"
      ],
      "metadata": {
        "id": "8BirUnrPkUlN",
        "colab": {
          "base_uri": "https://localhost:8080/"
        },
        "outputId": "52021057-fcd1-43eb-896b-ff5dadae3a25"
      },
      "execution_count": null,
      "outputs": [
        {
          "output_type": "stream",
          "name": "stdout",
          "text": [
            "Preston:\n",
            "Math: 76\n",
            "English: 82\n",
            "Science: 85\n",
            "Spanish: 87\n",
            "\n",
            "Youssef:\n",
            "Math: 95\n",
            "English: 95\n",
            "Science: 74\n",
            "Spanish: 73\n",
            "\n",
            "Alex:\n",
            "Math: 98\n",
            "English: 100\n",
            "Science: 99\n",
            "Spanish: 100\n",
            "\n",
            "Vasu:\n",
            "Math: 97\n",
            "English: 97\n",
            "Science: 97\n",
            "Spanish: 100\n",
            "\n"
          ]
        }
      ]
    }
  ]
}
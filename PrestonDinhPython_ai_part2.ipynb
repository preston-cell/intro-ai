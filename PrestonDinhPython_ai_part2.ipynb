{
  "nbformat": 4,
  "nbformat_minor": 0,
  "metadata": {
    "colab": {
      "provenance": [],
      "include_colab_link": true
    },
    "kernelspec": {
      "name": "python3",
      "display_name": "Python 3"
    },
    "language_info": {
      "name": "python"
    }
  },
  "cells": [
    {
      "cell_type": "markdown",
      "metadata": {
        "id": "view-in-github",
        "colab_type": "text"
      },
      "source": [
        "<a href=\"https://colab.research.google.com/github/preston-cell/vhs-intro-ai/blob/main/PrestonDinhPython_ai_part2.ipynb\" target=\"_parent\"><img src=\"https://colab.research.google.com/assets/colab-badge.svg\" alt=\"Open In Colab\"/></a>"
      ]
    },
    {
      "cell_type": "markdown",
      "source": [
        "We will learn:\n",
        "*   Numpy\n",
        "*   matplotlib\n",
        "*   pandas\n",
        "\n",
        "\n",
        "\n"
      ],
      "metadata": {
        "id": "2F48Aq6WFuYo"
      }
    },
    {
      "cell_type": "markdown",
      "source": [
        "# Numpy\n",
        "\n",
        "What is numpy? And what is it used for? How is it different from using a python list?\n",
        "\n",
        "Numpy is a python library and it is used for multi-dimensional array's and matrices. It is different from a python list as numpy array's have fixed sizes, same data types, and they are more efficient"
      ],
      "metadata": {
        "id": "RG3Zk3ZPSapb"
      }
    },
    {
      "cell_type": "code",
      "source": [
        "# Importing Numpy Library\n",
        "import numpy as np"
      ],
      "metadata": {
        "id": "dnRd4rA8ScHF"
      },
      "execution_count": null,
      "outputs": []
    },
    {
      "cell_type": "markdown",
      "source": [
        "# Arrays\n",
        "\n",
        "What is a numpy array and how is it different from a python list?\n",
        "\n",
        "A numpy array is multi-dimensional and used for storing large data or mathmetical calculations.It is different from a python list as numpy array's have fixed sizes, same data types, and they are more efficient"
      ],
      "metadata": {
        "id": "TYQ8fyivT3z7"
      }
    },
    {
      "cell_type": "code",
      "source": [
        "# Creating numpy array of rank/dimension 1 from a python [1,2,3]\n",
        "pl = [1,2,3]\n",
        "a=np.array(pl)\n",
        "print(pl)\n",
        "print(a)\n",
        "\n",
        "#print type\n",
        "print(type(pl))\n",
        "print(type(a))\n",
        "\n",
        "#print shape\n",
        "print(a.shape)"
      ],
      "metadata": {
        "colab": {
          "base_uri": "https://localhost:8080/"
        },
        "id": "ktYfTogzUTkh",
        "outputId": "cfe532aa-f71b-4f42-cba5-b0a1b6be8aff"
      },
      "execution_count": null,
      "outputs": [
        {
          "output_type": "stream",
          "name": "stdout",
          "text": [
            "[1, 2, 3]\n",
            "[1 2 3]\n",
            "<class 'list'>\n",
            "<class 'numpy.ndarray'>\n",
            "(3,)\n"
          ]
        }
      ]
    },
    {
      "cell_type": "code",
      "source": [
        "# Create and print 3D numpy array [[[1,2,3], [4,5,6]], [[7,8,9], [10,11,12]]]\n",
        "a=np.array([[[1,7], [2,8], [3,9]], [[4,10], [5,11], [6,12]]])\n",
        "\n",
        "print(a)\n",
        "print(a.shape)"
      ],
      "metadata": {
        "colab": {
          "base_uri": "https://localhost:8080/"
        },
        "id": "adVgt6DxVfzA",
        "outputId": "02f01303-2589-4676-fac4-f2911e41afe9"
      },
      "execution_count": null,
      "outputs": [
        {
          "output_type": "stream",
          "name": "stdout",
          "text": [
            "[[[ 1  7]\n",
            "  [ 2  8]\n",
            "  [ 3  9]]\n",
            "\n",
            " [[ 4 10]\n",
            "  [ 5 11]\n",
            "  [ 6 12]]]\n",
            "(2, 3, 2)\n"
          ]
        }
      ]
    },
    {
      "cell_type": "code",
      "source": [
        "# Create a rank 2 array with 2 rows and 3 columns\n",
        "\n",
        "a=np.zeros((2,3))\n",
        "print(a)"
      ],
      "metadata": {
        "colab": {
          "base_uri": "https://localhost:8080/"
        },
        "id": "iAEAbdKvZA2K",
        "outputId": "117abf28-60d5-4604-ffea-d4df5ec15c11"
      },
      "execution_count": null,
      "outputs": [
        {
          "output_type": "stream",
          "name": "stdout",
          "text": [
            "[[0. 0. 0.]\n",
            " [0. 0. 0.]]\n"
          ]
        }
      ]
    },
    {
      "cell_type": "code",
      "source": [
        "# Identify matrix of size 3\n",
        "id = np.eye(3)\n",
        "print(id)"
      ],
      "metadata": {
        "colab": {
          "base_uri": "https://localhost:8080/"
        },
        "id": "jLP8BtbgZXK6",
        "outputId": "eb4f5285-d9e7-4910-a35b-67c2cff03906"
      },
      "execution_count": null,
      "outputs": [
        {
          "output_type": "stream",
          "name": "stdout",
          "text": [
            "[[1. 0. 0.]\n",
            " [0. 1. 0.]\n",
            " [0. 0. 1.]]\n"
          ]
        }
      ]
    },
    {
      "cell_type": "code",
      "source": [
        "# Create an array of all 0's w dimensions (2,3,2)\n",
        "a = np.zeros((2,3,2))\n",
        "print(a)"
      ],
      "metadata": {
        "colab": {
          "base_uri": "https://localhost:8080/"
        },
        "id": "Nlgomi0ZXTn6",
        "outputId": "c85a7fae-55e3-4dd5-bc46-bd1425556729"
      },
      "execution_count": null,
      "outputs": [
        {
          "output_type": "stream",
          "name": "stdout",
          "text": [
            "[[[0. 0.]\n",
            "  [0. 0.]\n",
            "  [0. 0.]]\n",
            "\n",
            " [[0. 0.]\n",
            "  [0. 0.]\n",
            "  [0. 0.]]]\n"
          ]
        }
      ]
    },
    {
      "cell_type": "code",
      "source": [
        "#Create a random array of dimensions (2,3)\n",
        "\n",
        "r= np.random.random((2,3))\n",
        "print(r)"
      ],
      "metadata": {
        "colab": {
          "base_uri": "https://localhost:8080/"
        },
        "id": "C88L-oovXYKd",
        "outputId": "0215b9bc-12ce-42df-ce5e-dd6a116c597f"
      },
      "execution_count": null,
      "outputs": [
        {
          "output_type": "stream",
          "name": "stdout",
          "text": [
            "[[0.36085029 0.16363561 0.95700224]\n",
            " [0.35404654 0.05282127 0.55794782]]\n"
          ]
        }
      ]
    },
    {
      "cell_type": "markdown",
      "source": [
        "# Array Indexing"
      ],
      "metadata": {
        "id": "Rt2-F1uXqATA"
      }
    },
    {
      "cell_type": "code",
      "source": [
        "# Create 2D array x [1,2,3], [4,5,6]\n",
        "# print 2\n",
        "x=np.array([[1,2,3], [4,5,6]])\n",
        "print(x[0,1])"
      ],
      "metadata": {
        "id": "XyyowSd9qINs",
        "colab": {
          "base_uri": "https://localhost:8080/"
        },
        "outputId": "982cbe0c-5d60-4c74-c621-e57dfbfacc4c"
      },
      "execution_count": null,
      "outputs": [
        {
          "output_type": "stream",
          "name": "stdout",
          "text": [
            "2\n"
          ]
        }
      ]
    },
    {
      "cell_type": "code",
      "source": [
        "# Access sub matrix [2,3,5,6]\n",
        "\n",
        "# With slicing\n",
        "x[:, 1:3]"
      ],
      "metadata": {
        "colab": {
          "base_uri": "https://localhost:8080/"
        },
        "id": "aBNYE_pQrvaQ",
        "outputId": "a96481ce-d796-4948-c16c-31eba733834e"
      },
      "execution_count": null,
      "outputs": [
        {
          "output_type": "execute_result",
          "data": {
            "text/plain": [
              "array([[2, 3],\n",
              "       [5, 6]])"
            ]
          },
          "metadata": {},
          "execution_count": 10
        }
      ]
    },
    {
      "cell_type": "code",
      "source": [
        "# reshape\n",
        "print(x.reshape(6))\n",
        "print(x.reshape(3,2))"
      ],
      "metadata": {
        "colab": {
          "base_uri": "https://localhost:8080/"
        },
        "id": "YdY5dbxqryPU",
        "outputId": "fd0219e7-eefb-44bf-ebf6-71510f0e9759"
      },
      "execution_count": null,
      "outputs": [
        {
          "output_type": "stream",
          "name": "stdout",
          "text": [
            "[1 2 3 4 5 6]\n"
          ]
        }
      ]
    },
    {
      "cell_type": "code",
      "source": [
        "#slicing\n",
        "y = x[:,1:]\n",
        "print(y,y.shape)"
      ],
      "metadata": {
        "colab": {
          "base_uri": "https://localhost:8080/"
        },
        "id": "MJeU3G3NsWRY",
        "outputId": "05f21413-8951-46e9-aef0-89b75fd5c58b"
      },
      "execution_count": null,
      "outputs": [
        {
          "output_type": "stream",
          "name": "stdout",
          "text": [
            "[[2 3]\n",
            " [5 6]] (2, 2)\n"
          ]
        }
      ]
    },
    {
      "cell_type": "code",
      "source": [
        "y[0,0] = 10\n",
        "print(y)\n",
        "print(x)"
      ],
      "metadata": {
        "colab": {
          "base_uri": "https://localhost:8080/"
        },
        "id": "Iu8-9GpIskI4",
        "outputId": "7dac4187-d088-4057-c6bf-da3192577d38"
      },
      "execution_count": null,
      "outputs": [
        {
          "output_type": "stream",
          "name": "stdout",
          "text": [
            "[[10  3]\n",
            " [ 5  6]]\n",
            "[[ 1 10  3]\n",
            " [ 4  5  6]]\n"
          ]
        }
      ]
    },
    {
      "cell_type": "code",
      "source": [
        "# try slicing with python list and updating\n",
        "# assign your slice to annother variable and update new variable"
      ],
      "metadata": {
        "id": "rxLZrEgW4RMM"
      },
      "execution_count": null,
      "outputs": []
    },
    {
      "cell_type": "markdown",
      "source": [
        "##Integer array indexing"
      ],
      "metadata": {
        "id": "GlIUNh814bET"
      }
    },
    {
      "cell_type": "code",
      "source": [
        "a = np.array([1,2,3,4,5])\n",
        "\n",
        "# 3 and 5\n",
        "a[2], a[4]\n",
        "\n",
        "indices = [2,4]\n",
        "a[indices]"
      ],
      "metadata": {
        "colab": {
          "base_uri": "https://localhost:8080/"
        },
        "id": "0q-bN7ra4hlZ",
        "outputId": "0ba8f8eb-5a71-4458-c033-7038a0004164"
      },
      "execution_count": null,
      "outputs": [
        {
          "output_type": "execute_result",
          "data": {
            "text/plain": [
              "array([3, 5])"
            ]
          },
          "metadata": {},
          "execution_count": 18
        }
      ]
    },
    {
      "cell_type": "code",
      "source": [
        "# 2d array\n",
        "x = np.array([[1,2,3], [4,5,6]])\n",
        "\n",
        "# print 2,6\n",
        "row_indices = [0,1,0]\n",
        "column_indices = [1,2,2]\n",
        "\n",
        "x[row_indices, column_indices]"
      ],
      "metadata": {
        "colab": {
          "base_uri": "https://localhost:8080/"
        },
        "id": "EpbUS-ld5Enm",
        "outputId": "44b2f642-0174-454d-d2db-d3ccd650f567"
      },
      "execution_count": null,
      "outputs": [
        {
          "output_type": "execute_result",
          "data": {
            "text/plain": [
              "array([2, 6, 3])"
            ]
          },
          "metadata": {},
          "execution_count": 23
        }
      ]
    },
    {
      "cell_type": "code",
      "source": [
        "# data type. of array elements\n",
        "type(x)\n",
        "\n",
        "print(x.dtype)"
      ],
      "metadata": {
        "colab": {
          "base_uri": "https://localhost:8080/"
        },
        "id": "7YRLpGpj50At",
        "outputId": "3717f3b8-573e-417f-f0c0-6d8084890ca0"
      },
      "execution_count": null,
      "outputs": [
        {
          "output_type": "stream",
          "name": "stdout",
          "text": [
            "int64\n"
          ]
        }
      ]
    },
    {
      "cell_type": "markdown",
      "source": [
        "## Boolean array indexing\n"
      ],
      "metadata": {
        "id": "pXolVT8O6UXp"
      }
    },
    {
      "cell_type": "code",
      "source": [
        "x = np.array([[1,2,3], [4,5,6]])\n",
        "\n",
        "bool_indices = (x % 2 !=0)\n",
        "print(bool_indices)\n",
        "\n",
        "x[bool_indices]"
      ],
      "metadata": {
        "colab": {
          "base_uri": "https://localhost:8080/"
        },
        "id": "cIpbAWHj6WcM",
        "outputId": "2aef06d0-205d-427f-9ef3-772197927e44"
      },
      "execution_count": null,
      "outputs": [
        {
          "output_type": "stream",
          "name": "stdout",
          "text": [
            "[[ True False  True]\n",
            " [False  True False]]\n"
          ]
        },
        {
          "output_type": "execute_result",
          "data": {
            "text/plain": [
              "array([1, 3, 5])"
            ]
          },
          "metadata": {},
          "execution_count": 28
        }
      ]
    },
    {
      "cell_type": "markdown",
      "source": [
        "## Data Type"
      ],
      "metadata": {
        "id": "_KiHkIzF7p8p"
      }
    },
    {
      "cell_type": "code",
      "source": [
        "x = np.array([1.5,2.9], dtype = np.int64)\n",
        "print (x)\n",
        "x.dtype"
      ],
      "metadata": {
        "colab": {
          "base_uri": "https://localhost:8080/"
        },
        "id": "cF-8asWQ7ryH",
        "outputId": "79d9ed31-75bb-479c-fd49-f9f98212ee40"
      },
      "execution_count": null,
      "outputs": [
        {
          "output_type": "stream",
          "name": "stdout",
          "text": [
            "[1 2]\n"
          ]
        },
        {
          "output_type": "execute_result",
          "data": {
            "text/plain": [
              "dtype('int64')"
            ]
          },
          "metadata": {},
          "execution_count": 34
        }
      ]
    },
    {
      "cell_type": "markdown",
      "source": [
        "## Array Math\n"
      ],
      "metadata": {
        "id": "RlaN5Hzy8Plr"
      }
    },
    {
      "cell_type": "code",
      "source": [
        "x = np.array([[1,2],[3,4]])\n",
        "y = np.array([[5,6],[7,8]], dtype = np.float64)"
      ],
      "metadata": {
        "id": "7ScTOGRH8ROe"
      },
      "execution_count": null,
      "outputs": []
    },
    {
      "cell_type": "code",
      "source": [
        "print(x)\n",
        "print(y)"
      ],
      "metadata": {
        "colab": {
          "base_uri": "https://localhost:8080/"
        },
        "id": "IChgjQx28fQY",
        "outputId": "fb6aa124-9fa6-41e0-b7ac-fa7349a88e3a"
      },
      "execution_count": null,
      "outputs": [
        {
          "output_type": "stream",
          "name": "stdout",
          "text": [
            "[[1. 2.]\n",
            " [3. 4.]]\n",
            "[[5. 6.]\n",
            " [7. 8.]]\n"
          ]
        }
      ]
    },
    {
      "cell_type": "code",
      "source": [
        "x + y # elementwise addition\n",
        "x-y\n",
        "x*y\n",
        "x/y"
      ],
      "metadata": {
        "colab": {
          "base_uri": "https://localhost:8080/"
        },
        "id": "kNhRePO588Or",
        "outputId": "ec6181a0-5dcc-4042-843d-20cf0b4ef665"
      },
      "execution_count": null,
      "outputs": [
        {
          "output_type": "execute_result",
          "data": {
            "text/plain": [
              "array([[ 6.,  8.],\n",
              "       [10., 12.]])"
            ]
          },
          "metadata": {},
          "execution_count": 39
        }
      ]
    },
    {
      "cell_type": "code",
      "source": [
        "np.sqrt(x)"
      ],
      "metadata": {
        "colab": {
          "base_uri": "https://localhost:8080/"
        },
        "id": "onkXRjqE9kyO",
        "outputId": "7c74eecb-b8d1-461b-8512-89863a4de702"
      },
      "execution_count": null,
      "outputs": [
        {
          "output_type": "execute_result",
          "data": {
            "text/plain": [
              "array([[1.        , 1.41421356],\n",
              "       [1.73205081, 2.        ]])"
            ]
          },
          "metadata": {},
          "execution_count": 40
        }
      ]
    },
    {
      "cell_type": "code",
      "source": [
        "# dot product\n",
        "v = np.array([1,2])\n",
        "w = np.array([3,4])\n",
        "\n",
        "print(np.dot(v,w))\n",
        "print(v.dot(w))\n",
        "print(v @ w)"
      ],
      "metadata": {
        "colab": {
          "base_uri": "https://localhost:8080/"
        },
        "id": "hl53c7RE9pGL",
        "outputId": "c69696de-7c17-42f8-f27c-7bdeb064268f"
      },
      "execution_count": null,
      "outputs": [
        {
          "output_type": "stream",
          "name": "stdout",
          "text": [
            "11\n",
            "11\n",
            "11\n"
          ]
        }
      ]
    },
    {
      "cell_type": "code",
      "source": [
        "x = np.array([[1,2,3], [4,5,6]])\n",
        "print(np.sum(x))\n",
        "print(np.sum(x, axis = 0))"
      ],
      "metadata": {
        "colab": {
          "base_uri": "https://localhost:8080/"
        },
        "id": "uV6L_zMR-o1B",
        "outputId": "db9a3d93-9e2d-4e15-ff94-fa0f4874e6e9"
      },
      "execution_count": null,
      "outputs": [
        {
          "output_type": "stream",
          "name": "stdout",
          "text": [
            "21\n",
            "[5 7 9]\n"
          ]
        }
      ]
    },
    {
      "cell_type": "code",
      "source": [
        "# max, row max\n",
        "# min, row min"
      ],
      "metadata": {
        "id": "1vKMkvZl_SC3"
      },
      "execution_count": null,
      "outputs": []
    },
    {
      "cell_type": "markdown",
      "source": [
        "## Broadcasting\n"
      ],
      "metadata": {
        "id": "k7J-GJIt_Ugc"
      }
    },
    {
      "cell_type": "code",
      "source": [
        "x = np.array([[1,2,3], [4,5,6], [7,8,9], [10,11,12]])\n",
        "v = np.array([1,0,1])"
      ],
      "metadata": {
        "id": "Mhl8MDEi_V9Z"
      },
      "execution_count": null,
      "outputs": []
    },
    {
      "cell_type": "code",
      "source": [
        "print(x)\n",
        "print(x+v)"
      ],
      "metadata": {
        "colab": {
          "base_uri": "https://localhost:8080/"
        },
        "id": "JzinuOov_pFV",
        "outputId": "c56457dd-28c5-4da9-d044-1678d160cbcc"
      },
      "execution_count": null,
      "outputs": [
        {
          "output_type": "stream",
          "name": "stdout",
          "text": [
            "[[ 1  2  3]\n",
            " [ 4  5  6]\n",
            " [ 7  8  9]\n",
            " [10 11 12]]\n",
            "[[ 2  2  4]\n",
            " [ 5  5  7]\n",
            " [ 8  8 10]\n",
            " [11 11 13]]\n"
          ]
        }
      ]
    },
    {
      "cell_type": "markdown",
      "source": [
        "Use matplotlib library to plot a sine function"
      ],
      "metadata": {
        "id": "tQeBCMOlAOw9"
      }
    },
    {
      "cell_type": "code",
      "source": [
        "import numpy as np\n",
        "import matplotlib.pyplot as plt\n",
        "\n",
        "x = np.arange(0, 2*np.pi, 0.1)\n",
        "y = np.sin(x)\n",
        "plt.subplot(1,2,1)\n",
        "plt.plot(x, y, color='blue')\n",
        "\n",
        "x2 = np.arange(0, 2*np.pi, 0.1)\n",
        "y2 = np.cos(x)\n",
        "plt.subplot(1,2,2)\n",
        "plt.plot(x2, y2, color='red')\n",
        "\n",
        "plt.show()"
      ],
      "metadata": {
        "colab": {
          "base_uri": "https://localhost:8080/",
          "height": 430
        },
        "id": "813ZWOGcAoRm",
        "outputId": "4736b64a-09a6-4555-ffc1-cce2580f45ee"
      },
      "execution_count": 11,
      "outputs": [
        {
          "output_type": "display_data",
          "data": {
            "text/plain": [
              "<Figure size 640x480 with 2 Axes>"
            ],
            "image/png": "[encoded data removed]"
          },
          "metadata": {}
        }
      ]
    }
  ]
}
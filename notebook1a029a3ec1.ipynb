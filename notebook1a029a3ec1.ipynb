{
 "cells": [
  {
   "cell_type": "code",
   "execution_count": 1,
   "id": "fbe1f5bd",
   "metadata": {
    "_cell_guid": "b1076dfc-b9ad-4769-8c92-a6c4dae69d19",
    "_uuid": "8f2839f25d086af736a60e9eeb907d3b93b6e0e5",
    "execution": {
     "iopub.execute_input": "2024-11-11T18:32:07.722656Z",
     "iopub.status.busy": "2024-11-11T18:32:07.721312Z",
     "iopub.status.idle": "2024-11-11T18:32:08.557296Z",
     "shell.execute_reply": "2024-11-11T18:32:08.555589Z"
    },
    "papermill": {
     "duration": 0.850153,
     "end_time": "2024-11-11T18:32:08.560159",
     "exception": false,
     "start_time": "2024-11-11T18:32:07.710006",
     "status": "completed"
    },
    "tags": []
   },
   "outputs": [
    {
     "name": "stdout",
     "output_type": "stream",
     "text": [
      "/kaggle/input/titanic/train.csv\n",
      "/kaggle/input/titanic/test.csv\n",
      "/kaggle/input/titanic/gender_submission.csv\n"
     ]
    }
   ],
   "source": [
    "# This Python 3 environment comes with many helpful analytics libraries installed\n",
    "# It is defined by the kaggle/python Docker image: https://github.com/kaggle/docker-python\n",
    "# For example, here's several helpful packages to load\n",
    "\n",
    "import numpy as np # linear algebra\n",
    "import pandas as pd # data processing, CSV file I/O (e.g. pd.read_csv)\n",
    "\n",
    "# Input data files are available in the read-only \"../input/\" directory\n",
    "# For example, running this (by clicking run or pressing Shift+Enter) will list all files under the input directory\n",
    "\n",
    "import os\n",
    "for dirname, _, filenames in os.walk('/kaggle/input'):\n",
    "    for filename in filenames:\n",
    "        print(os.path.join(dirname, filename))\n",
    "\n",
    "# You can write up to 20GB to the current directory (/kaggle/working/) that gets preserved as output when you create a version using \"Save & Run All\" \n",
    "# You can also write temporary files to /kaggle/temp/, but they won't be saved outside of the current session"
   ]
  },
  {
   "cell_type": "markdown",
   "id": "6deb7202",
   "metadata": {
    "papermill": {
     "duration": 0.008517,
     "end_time": "2024-11-11T18:32:08.577837",
     "exception": false,
     "start_time": "2024-11-11T18:32:08.569320",
     "status": "completed"
    },
    "tags": []
   },
   "source": [
    "Load Data\n"
   ]
  },
  {
   "cell_type": "code",
   "execution_count": 2,
   "id": "ffafbc6c",
   "metadata": {
    "execution": {
     "iopub.execute_input": "2024-11-11T18:32:08.597719Z",
     "iopub.status.busy": "2024-11-11T18:32:08.597171Z",
     "iopub.status.idle": "2024-11-11T18:32:08.635297Z",
     "shell.execute_reply": "2024-11-11T18:32:08.634157Z"
    },
    "papermill": {
     "duration": 0.050862,
     "end_time": "2024-11-11T18:32:08.637751",
     "exception": false,
     "start_time": "2024-11-11T18:32:08.586889",
     "status": "completed"
    },
    "tags": []
   },
   "outputs": [
    {
     "data": {
      "text/plain": [
       "Index(['Survived', 'Pclass', 'Name', 'Sex', 'Age', 'SibSp', 'Parch', 'Ticket',\n",
       "       'Fare', 'Cabin', 'Embarked'],\n",
       "      dtype='object')"
      ]
     },
     "execution_count": 2,
     "metadata": {},
     "output_type": "execute_result"
    }
   ],
   "source": [
    "titanic_file_path = '../input/titanic/train.csv'\n",
    "survivor_data = pd.read_csv(titanic_file_path, index_col='PassengerId')\n",
    "survivor_data.columns"
   ]
  },
  {
   "cell_type": "code",
   "execution_count": 3,
   "id": "1573c1fb",
   "metadata": {
    "execution": {
     "iopub.execute_input": "2024-11-11T18:32:08.658067Z",
     "iopub.status.busy": "2024-11-11T18:32:08.657039Z",
     "iopub.status.idle": "2024-11-11T18:32:08.663979Z",
     "shell.execute_reply": "2024-11-11T18:32:08.662952Z"
    },
    "papermill": {
     "duration": 0.019957,
     "end_time": "2024-11-11T18:32:08.666587",
     "exception": false,
     "start_time": "2024-11-11T18:32:08.646630",
     "status": "completed"
    },
    "tags": []
   },
   "outputs": [
    {
     "data": {
      "text/plain": [
       "(891, 11)"
      ]
     },
     "execution_count": 3,
     "metadata": {},
     "output_type": "execute_result"
    }
   ],
   "source": [
    "# Number of rows and columns \n",
    "survivor_data.shape"
   ]
  },
  {
   "cell_type": "code",
   "execution_count": 4,
   "id": "bbac84dc",
   "metadata": {
    "execution": {
     "iopub.execute_input": "2024-11-11T18:32:08.687583Z",
     "iopub.status.busy": "2024-11-11T18:32:08.687159Z",
     "iopub.status.idle": "2024-11-11T18:32:08.709928Z",
     "shell.execute_reply": "2024-11-11T18:32:08.708827Z"
    },
    "papermill": {
     "duration": 0.036876,
     "end_time": "2024-11-11T18:32:08.712542",
     "exception": false,
     "start_time": "2024-11-11T18:32:08.675666",
     "status": "completed"
    },
    "tags": []
   },
   "outputs": [
    {
     "data": {
      "text/html": [
       "<div>\n",
       "<style scoped>\n",
       "    .dataframe tbody tr th:only-of-type {\n",
       "        vertical-align: middle;\n",
       "    }\n",
       "\n",
       "    .dataframe tbody tr th {\n",
       "        vertical-align: top;\n",
       "    }\n",
       "\n",
       "    .dataframe thead th {\n",
       "        text-align: right;\n",
       "    }\n",
       "</style>\n",
       "<table border=\"1\" class=\"dataframe\">\n",
       "  <thead>\n",
       "    <tr style=\"text-align: right;\">\n",
       "      <th></th>\n",
       "      <th>Survived</th>\n",
       "      <th>Pclass</th>\n",
       "      <th>Name</th>\n",
       "      <th>Sex</th>\n",
       "      <th>Age</th>\n",
       "      <th>SibSp</th>\n",
       "      <th>Parch</th>\n",
       "      <th>Ticket</th>\n",
       "      <th>Fare</th>\n",
       "      <th>Cabin</th>\n",
       "      <th>Embarked</th>\n",
       "    </tr>\n",
       "    <tr>\n",
       "      <th>PassengerId</th>\n",
       "      <th></th>\n",
       "      <th></th>\n",
       "      <th></th>\n",
       "      <th></th>\n",
       "      <th></th>\n",
       "      <th></th>\n",
       "      <th></th>\n",
       "      <th></th>\n",
       "      <th></th>\n",
       "      <th></th>\n",
       "      <th></th>\n",
       "    </tr>\n",
       "  </thead>\n",
       "  <tbody>\n",
       "    <tr>\n",
       "      <th>1</th>\n",
       "      <td>0</td>\n",
       "      <td>3</td>\n",
       "      <td>Braund, Mr. Owen Harris</td>\n",
       "      <td>male</td>\n",
       "      <td>22.0</td>\n",
       "      <td>1</td>\n",
       "      <td>0</td>\n",
       "      <td>A/5 21171</td>\n",
       "      <td>7.2500</td>\n",
       "      <td>NaN</td>\n",
       "      <td>S</td>\n",
       "    </tr>\n",
       "    <tr>\n",
       "      <th>2</th>\n",
       "      <td>1</td>\n",
       "      <td>1</td>\n",
       "      <td>Cumings, Mrs. John Bradley (Florence Briggs Th...</td>\n",
       "      <td>female</td>\n",
       "      <td>38.0</td>\n",
       "      <td>1</td>\n",
       "      <td>0</td>\n",
       "      <td>PC 17599</td>\n",
       "      <td>71.2833</td>\n",
       "      <td>C85</td>\n",
       "      <td>C</td>\n",
       "    </tr>\n",
       "    <tr>\n",
       "      <th>3</th>\n",
       "      <td>1</td>\n",
       "      <td>3</td>\n",
       "      <td>Heikkinen, Miss. Laina</td>\n",
       "      <td>female</td>\n",
       "      <td>26.0</td>\n",
       "      <td>0</td>\n",
       "      <td>0</td>\n",
       "      <td>STON/O2. 3101282</td>\n",
       "      <td>7.9250</td>\n",
       "      <td>NaN</td>\n",
       "      <td>S</td>\n",
       "    </tr>\n",
       "    <tr>\n",
       "      <th>4</th>\n",
       "      <td>1</td>\n",
       "      <td>1</td>\n",
       "      <td>Futrelle, Mrs. Jacques Heath (Lily May Peel)</td>\n",
       "      <td>female</td>\n",
       "      <td>35.0</td>\n",
       "      <td>1</td>\n",
       "      <td>0</td>\n",
       "      <td>113803</td>\n",
       "      <td>53.1000</td>\n",
       "      <td>C123</td>\n",
       "      <td>S</td>\n",
       "    </tr>\n",
       "    <tr>\n",
       "      <th>5</th>\n",
       "      <td>0</td>\n",
       "      <td>3</td>\n",
       "      <td>Allen, Mr. William Henry</td>\n",
       "      <td>male</td>\n",
       "      <td>35.0</td>\n",
       "      <td>0</td>\n",
       "      <td>0</td>\n",
       "      <td>373450</td>\n",
       "      <td>8.0500</td>\n",
       "      <td>NaN</td>\n",
       "      <td>S</td>\n",
       "    </tr>\n",
       "  </tbody>\n",
       "</table>\n",
       "</div>"
      ],
      "text/plain": [
       "             Survived  Pclass  \\\n",
       "PassengerId                     \n",
       "1                   0       3   \n",
       "2                   1       1   \n",
       "3                   1       3   \n",
       "4                   1       1   \n",
       "5                   0       3   \n",
       "\n",
       "                                                          Name     Sex   Age  \\\n",
       "PassengerId                                                                    \n",
       "1                                      Braund, Mr. Owen Harris    male  22.0   \n",
       "2            Cumings, Mrs. John Bradley (Florence Briggs Th...  female  38.0   \n",
       "3                                       Heikkinen, Miss. Laina  female  26.0   \n",
       "4                 Futrelle, Mrs. Jacques Heath (Lily May Peel)  female  35.0   \n",
       "5                                     Allen, Mr. William Henry    male  35.0   \n",
       "\n",
       "             SibSp  Parch            Ticket     Fare Cabin Embarked  \n",
       "PassengerId                                                          \n",
       "1                1      0         A/5 21171   7.2500   NaN        S  \n",
       "2                1      0          PC 17599  71.2833   C85        C  \n",
       "3                0      0  STON/O2. 3101282   7.9250   NaN        S  \n",
       "4                1      0            113803  53.1000  C123        S  \n",
       "5                0      0            373450   8.0500   NaN        S  "
      ]
     },
     "execution_count": 4,
     "metadata": {},
     "output_type": "execute_result"
    }
   ],
   "source": [
    "survivor_data.head()"
   ]
  },
  {
   "cell_type": "code",
   "execution_count": 5,
   "id": "ac52200d",
   "metadata": {
    "execution": {
     "iopub.execute_input": "2024-11-11T18:32:08.733552Z",
     "iopub.status.busy": "2024-11-11T18:32:08.733144Z",
     "iopub.status.idle": "2024-11-11T18:32:08.742032Z",
     "shell.execute_reply": "2024-11-11T18:32:08.741046Z"
    },
    "papermill": {
     "duration": 0.022366,
     "end_time": "2024-11-11T18:32:08.744503",
     "exception": false,
     "start_time": "2024-11-11T18:32:08.722137",
     "status": "completed"
    },
    "tags": []
   },
   "outputs": [
    {
     "data": {
      "text/plain": [
       "PassengerId\n",
       "1      0\n",
       "2      1\n",
       "3      1\n",
       "4      1\n",
       "5      0\n",
       "      ..\n",
       "887    0\n",
       "888    1\n",
       "889    0\n",
       "890    1\n",
       "891    0\n",
       "Name: Survived, Length: 891, dtype: int64"
      ]
     },
     "execution_count": 5,
     "metadata": {},
     "output_type": "execute_result"
    }
   ],
   "source": [
    "y = survivor_data.Survived\n",
    "y"
   ]
  },
  {
   "cell_type": "code",
   "execution_count": 6,
   "id": "24057651",
   "metadata": {
    "execution": {
     "iopub.execute_input": "2024-11-11T18:32:08.765360Z",
     "iopub.status.busy": "2024-11-11T18:32:08.764935Z",
     "iopub.status.idle": "2024-11-11T18:32:08.773925Z",
     "shell.execute_reply": "2024-11-11T18:32:08.772780Z"
    },
    "papermill": {
     "duration": 0.022154,
     "end_time": "2024-11-11T18:32:08.776313",
     "exception": false,
     "start_time": "2024-11-11T18:32:08.754159",
     "status": "completed"
    },
    "tags": []
   },
   "outputs": [],
   "source": [
    "survivor_data.drop('Name', axis=1, inplace=True)\n",
    "survivor_data.drop('Ticket', axis=1, inplace=True)"
   ]
  },
  {
   "cell_type": "code",
   "execution_count": 7,
   "id": "c16760a1",
   "metadata": {
    "execution": {
     "iopub.execute_input": "2024-11-11T18:32:08.798059Z",
     "iopub.status.busy": "2024-11-11T18:32:08.796861Z",
     "iopub.status.idle": "2024-11-11T18:32:08.808619Z",
     "shell.execute_reply": "2024-11-11T18:32:08.807033Z"
    },
    "papermill": {
     "duration": 0.025205,
     "end_time": "2024-11-11T18:32:08.811042",
     "exception": false,
     "start_time": "2024-11-11T18:32:08.785837",
     "status": "completed"
    },
    "tags": []
   },
   "outputs": [
    {
     "name": "stdout",
     "output_type": "stream",
     "text": [
      "(891, 9)\n",
      "Survived      0\n",
      "Pclass        0\n",
      "Sex           0\n",
      "Age         177\n",
      "SibSp         0\n",
      "Parch         0\n",
      "Fare          0\n",
      "Cabin       687\n",
      "Embarked      2\n",
      "dtype: int64\n",
      "Survived     0.000000\n",
      "Pclass       0.000000\n",
      "Sex          0.000000\n",
      "Age         19.865320\n",
      "SibSp        0.000000\n",
      "Parch        0.000000\n",
      "Fare         0.000000\n",
      "Cabin       77.104377\n",
      "Embarked     0.224467\n",
      "dtype: float64\n"
     ]
    }
   ],
   "source": [
    "# Shape of training data (num_rows, num_columns)\n",
    "print(survivor_data.shape)\n",
    "\n",
    "# Number of missing values in each column of training data\n",
    "missing_val_count_by_column = (survivor_data.isnull().sum())\n",
    "print(missing_val_count_by_column)\n",
    "print(100 * missing_val_count_by_column/survivor_data.shape[0])"
   ]
  },
  {
   "cell_type": "code",
   "execution_count": 8,
   "id": "df175bfc",
   "metadata": {
    "execution": {
     "iopub.execute_input": "2024-11-11T18:32:08.832427Z",
     "iopub.status.busy": "2024-11-11T18:32:08.832008Z",
     "iopub.status.idle": "2024-11-11T18:32:08.844635Z",
     "shell.execute_reply": "2024-11-11T18:32:08.843597Z"
    },
    "papermill": {
     "duration": 0.026556,
     "end_time": "2024-11-11T18:32:08.847288",
     "exception": false,
     "start_time": "2024-11-11T18:32:08.820732",
     "status": "completed"
    },
    "tags": []
   },
   "outputs": [
    {
     "name": "stdout",
     "output_type": "stream",
     "text": [
      "count    714.000000\n",
      "mean      29.699118\n",
      "std       14.526497\n",
      "min        0.420000\n",
      "25%       20.125000\n",
      "50%       28.000000\n",
      "75%       38.000000\n",
      "max       80.000000\n",
      "Name: Age, dtype: float64\n"
     ]
    }
   ],
   "source": [
    "print(survivor_data.Age.describe())"
   ]
  },
  {
   "cell_type": "code",
   "execution_count": 9,
   "id": "1ae3cd8e",
   "metadata": {
    "execution": {
     "iopub.execute_input": "2024-11-11T18:32:08.868794Z",
     "iopub.status.busy": "2024-11-11T18:32:08.868348Z",
     "iopub.status.idle": "2024-11-11T18:32:08.876414Z",
     "shell.execute_reply": "2024-11-11T18:32:08.875335Z"
    },
    "papermill": {
     "duration": 0.021858,
     "end_time": "2024-11-11T18:32:08.879053",
     "exception": false,
     "start_time": "2024-11-11T18:32:08.857195",
     "status": "completed"
    },
    "tags": []
   },
   "outputs": [
    {
     "data": {
      "text/plain": [
       "Index(['Survived', 'Pclass', 'Sex', 'Age', 'SibSp', 'Parch', 'Fare', 'Cabin',\n",
       "       'Embarked'],\n",
       "      dtype='object')"
      ]
     },
     "execution_count": 9,
     "metadata": {},
     "output_type": "execute_result"
    }
   ],
   "source": [
    "survivor_data.columns"
   ]
  },
  {
   "cell_type": "code",
   "execution_count": 10,
   "id": "291354c0",
   "metadata": {
    "execution": {
     "iopub.execute_input": "2024-11-11T18:32:08.901144Z",
     "iopub.status.busy": "2024-11-11T18:32:08.900668Z",
     "iopub.status.idle": "2024-11-11T18:32:08.907644Z",
     "shell.execute_reply": "2024-11-11T18:32:08.906416Z"
    },
    "papermill": {
     "duration": 0.020812,
     "end_time": "2024-11-11T18:32:08.910202",
     "exception": false,
     "start_time": "2024-11-11T18:32:08.889390",
     "status": "completed"
    },
    "tags": []
   },
   "outputs": [],
   "source": [
    "# drop entire `Cabin` column\n",
    "survivor_data.drop('Cabin', axis=1, inplace=True)"
   ]
  },
  {
   "cell_type": "code",
   "execution_count": 11,
   "id": "94d92500",
   "metadata": {
    "execution": {
     "iopub.execute_input": "2024-11-11T18:32:08.932145Z",
     "iopub.status.busy": "2024-11-11T18:32:08.931664Z",
     "iopub.status.idle": "2024-11-11T18:32:08.939136Z",
     "shell.execute_reply": "2024-11-11T18:32:08.938115Z"
    },
    "papermill": {
     "duration": 0.021221,
     "end_time": "2024-11-11T18:32:08.941640",
     "exception": false,
     "start_time": "2024-11-11T18:32:08.920419",
     "status": "completed"
    },
    "tags": []
   },
   "outputs": [
    {
     "data": {
      "text/plain": [
       "Index(['Survived', 'Pclass', 'Sex', 'Age', 'SibSp', 'Parch', 'Fare',\n",
       "       'Embarked'],\n",
       "      dtype='object')"
      ]
     },
     "execution_count": 11,
     "metadata": {},
     "output_type": "execute_result"
    }
   ],
   "source": [
    "survivor_data.columns"
   ]
  },
  {
   "cell_type": "code",
   "execution_count": 12,
   "id": "d0b35e36",
   "metadata": {
    "execution": {
     "iopub.execute_input": "2024-11-11T18:32:08.963544Z",
     "iopub.status.busy": "2024-11-11T18:32:08.963121Z",
     "iopub.status.idle": "2024-11-11T18:32:08.973091Z",
     "shell.execute_reply": "2024-11-11T18:32:08.972096Z"
    },
    "papermill": {
     "duration": 0.024063,
     "end_time": "2024-11-11T18:32:08.975699",
     "exception": false,
     "start_time": "2024-11-11T18:32:08.951636",
     "status": "completed"
    },
    "tags": []
   },
   "outputs": [],
   "source": [
    "survivor_data.dropna(subset=['Embarked'], inplace=True)"
   ]
  },
  {
   "cell_type": "code",
   "execution_count": 13,
   "id": "bed118aa",
   "metadata": {
    "execution": {
     "iopub.execute_input": "2024-11-11T18:32:08.997621Z",
     "iopub.status.busy": "2024-11-11T18:32:08.997213Z",
     "iopub.status.idle": "2024-11-11T18:32:09.004657Z",
     "shell.execute_reply": "2024-11-11T18:32:09.003578Z"
    },
    "papermill": {
     "duration": 0.021223,
     "end_time": "2024-11-11T18:32:09.007121",
     "exception": false,
     "start_time": "2024-11-11T18:32:08.985898",
     "status": "completed"
    },
    "tags": []
   },
   "outputs": [
    {
     "data": {
      "text/plain": [
       "Index(['Survived', 'Pclass', 'Sex', 'Age', 'SibSp', 'Parch', 'Fare',\n",
       "       'Embarked'],\n",
       "      dtype='object')"
      ]
     },
     "execution_count": 13,
     "metadata": {},
     "output_type": "execute_result"
    }
   ],
   "source": [
    "survivor_data.columns"
   ]
  },
  {
   "cell_type": "code",
   "execution_count": 14,
   "id": "68798542",
   "metadata": {
    "execution": {
     "iopub.execute_input": "2024-11-11T18:32:09.029874Z",
     "iopub.status.busy": "2024-11-11T18:32:09.028874Z",
     "iopub.status.idle": "2024-11-11T18:32:09.036329Z",
     "shell.execute_reply": "2024-11-11T18:32:09.035178Z"
    },
    "papermill": {
     "duration": 0.021527,
     "end_time": "2024-11-11T18:32:09.038793",
     "exception": false,
     "start_time": "2024-11-11T18:32:09.017266",
     "status": "completed"
    },
    "tags": []
   },
   "outputs": [
    {
     "name": "stdout",
     "output_type": "stream",
     "text": [
      "Categorical variables:\n",
      "['Sex', 'Embarked']\n"
     ]
    }
   ],
   "source": [
    "# Get list of categorical variables\n",
    "s = (survivor_data.dtypes == 'object')\n",
    "object_cols = list(s[s].index)\n",
    "\n",
    "print(\"Categorical variables:\")\n",
    "print(object_cols)"
   ]
  },
  {
   "cell_type": "code",
   "execution_count": 15,
   "id": "bf91d436",
   "metadata": {
    "execution": {
     "iopub.execute_input": "2024-11-11T18:32:09.061480Z",
     "iopub.status.busy": "2024-11-11T18:32:09.061040Z",
     "iopub.status.idle": "2024-11-11T18:32:09.071495Z",
     "shell.execute_reply": "2024-11-11T18:32:09.069865Z"
    },
    "papermill": {
     "duration": 0.024643,
     "end_time": "2024-11-11T18:32:09.074003",
     "exception": false,
     "start_time": "2024-11-11T18:32:09.049360",
     "status": "completed"
    },
    "tags": []
   },
   "outputs": [
    {
     "data": {
      "text/plain": [
       "array(['male', 'female'], dtype=object)"
      ]
     },
     "execution_count": 15,
     "metadata": {},
     "output_type": "execute_result"
    }
   ],
   "source": [
    "survivor_data.Sex.unique()"
   ]
  },
  {
   "cell_type": "code",
   "execution_count": 16,
   "id": "964a754e",
   "metadata": {
    "execution": {
     "iopub.execute_input": "2024-11-11T18:32:09.097451Z",
     "iopub.status.busy": "2024-11-11T18:32:09.096723Z",
     "iopub.status.idle": "2024-11-11T18:32:10.342685Z",
     "shell.execute_reply": "2024-11-11T18:32:10.341743Z"
    },
    "papermill": {
     "duration": 1.260514,
     "end_time": "2024-11-11T18:32:10.345372",
     "exception": false,
     "start_time": "2024-11-11T18:32:09.084858",
     "status": "completed"
    },
    "tags": []
   },
   "outputs": [],
   "source": [
    "from sklearn.preprocessing import OrdinalEncoder\n",
    "\n",
    "# Make copy to avoid changing original data \n",
    "label_survivor_data = survivor_data.copy()\n",
    "\n",
    "# Apply ordinal encoder to each column with categorical data\n",
    "ordinal_encoder = OrdinalEncoder()\n",
    "label_survivor_data[object_cols] = ordinal_encoder.fit_transform(survivor_data[object_cols])"
   ]
  },
  {
   "cell_type": "code",
   "execution_count": 17,
   "id": "aab83cdf",
   "metadata": {
    "execution": {
     "iopub.execute_input": "2024-11-11T18:32:10.368582Z",
     "iopub.status.busy": "2024-11-11T18:32:10.368008Z",
     "iopub.status.idle": "2024-11-11T18:32:10.374005Z",
     "shell.execute_reply": "2024-11-11T18:32:10.372974Z"
    },
    "papermill": {
     "duration": 0.020099,
     "end_time": "2024-11-11T18:32:10.376366",
     "exception": false,
     "start_time": "2024-11-11T18:32:10.356267",
     "status": "completed"
    },
    "tags": []
   },
   "outputs": [
    {
     "name": "stdout",
     "output_type": "stream",
     "text": [
      "Category to Label Mapping:\n",
      "[array(['female', 'male'], dtype=object), array(['C', 'Q', 'S'], dtype=object)]\n"
     ]
    }
   ],
   "source": [
    "print(\"Category to Label Mapping:\")\n",
    "print(ordinal_encoder.categories_)"
   ]
  },
  {
   "cell_type": "code",
   "execution_count": 18,
   "id": "07d9f5d2",
   "metadata": {
    "execution": {
     "iopub.execute_input": "2024-11-11T18:32:10.399249Z",
     "iopub.status.busy": "2024-11-11T18:32:10.398813Z",
     "iopub.status.idle": "2024-11-11T18:32:10.406063Z",
     "shell.execute_reply": "2024-11-11T18:32:10.404980Z"
    },
    "papermill": {
     "duration": 0.021692,
     "end_time": "2024-11-11T18:32:10.408536",
     "exception": false,
     "start_time": "2024-11-11T18:32:10.386844",
     "status": "completed"
    },
    "tags": []
   },
   "outputs": [
    {
     "data": {
      "text/plain": [
       "(889, 8)"
      ]
     },
     "execution_count": 18,
     "metadata": {},
     "output_type": "execute_result"
    }
   ],
   "source": [
    "label_survivor_data.shape"
   ]
  },
  {
   "cell_type": "code",
   "execution_count": 19,
   "id": "d4311f32",
   "metadata": {
    "execution": {
     "iopub.execute_input": "2024-11-11T18:32:10.432036Z",
     "iopub.status.busy": "2024-11-11T18:32:10.431606Z",
     "iopub.status.idle": "2024-11-11T18:32:10.439127Z",
     "shell.execute_reply": "2024-11-11T18:32:10.438062Z"
    },
    "papermill": {
     "duration": 0.021835,
     "end_time": "2024-11-11T18:32:10.441506",
     "exception": false,
     "start_time": "2024-11-11T18:32:10.419671",
     "status": "completed"
    },
    "tags": []
   },
   "outputs": [
    {
     "data": {
      "text/plain": [
       "Index(['Survived', 'Pclass', 'Sex', 'Age', 'SibSp', 'Parch', 'Fare',\n",
       "       'Embarked'],\n",
       "      dtype='object')"
      ]
     },
     "execution_count": 19,
     "metadata": {},
     "output_type": "execute_result"
    }
   ],
   "source": [
    "label_survivor_data.columns"
   ]
  },
  {
   "cell_type": "code",
   "execution_count": 20,
   "id": "c9fec7d0",
   "metadata": {
    "execution": {
     "iopub.execute_input": "2024-11-11T18:32:10.465442Z",
     "iopub.status.busy": "2024-11-11T18:32:10.464994Z",
     "iopub.status.idle": "2024-11-11T18:32:10.474202Z",
     "shell.execute_reply": "2024-11-11T18:32:10.473145Z"
    },
    "papermill": {
     "duration": 0.024014,
     "end_time": "2024-11-11T18:32:10.476628",
     "exception": false,
     "start_time": "2024-11-11T18:32:10.452614",
     "status": "completed"
    },
    "tags": []
   },
   "outputs": [
    {
     "data": {
      "text/plain": [
       "array([1., 0.])"
      ]
     },
     "execution_count": 20,
     "metadata": {},
     "output_type": "execute_result"
    }
   ],
   "source": [
    "label_survivor_data.Sex.unique()"
   ]
  },
  {
   "cell_type": "code",
   "execution_count": 21,
   "id": "1a71afba",
   "metadata": {
    "execution": {
     "iopub.execute_input": "2024-11-11T18:32:10.501677Z",
     "iopub.status.busy": "2024-11-11T18:32:10.501249Z",
     "iopub.status.idle": "2024-11-11T18:32:10.509088Z",
     "shell.execute_reply": "2024-11-11T18:32:10.507925Z"
    },
    "papermill": {
     "duration": 0.022694,
     "end_time": "2024-11-11T18:32:10.511532",
     "exception": false,
     "start_time": "2024-11-11T18:32:10.488838",
     "status": "completed"
    },
    "tags": []
   },
   "outputs": [
    {
     "data": {
      "text/plain": [
       "array([2., 0., 1.])"
      ]
     },
     "execution_count": 21,
     "metadata": {},
     "output_type": "execute_result"
    }
   ],
   "source": [
    "label_survivor_data.Embarked.unique()"
   ]
  },
  {
   "cell_type": "code",
   "execution_count": 22,
   "id": "7b9216cd",
   "metadata": {
    "execution": {
     "iopub.execute_input": "2024-11-11T18:32:10.536448Z",
     "iopub.status.busy": "2024-11-11T18:32:10.535514Z",
     "iopub.status.idle": "2024-11-11T18:32:10.543449Z",
     "shell.execute_reply": "2024-11-11T18:32:10.542347Z"
    },
    "papermill": {
     "duration": 0.022866,
     "end_time": "2024-11-11T18:32:10.545854",
     "exception": false,
     "start_time": "2024-11-11T18:32:10.522988",
     "status": "completed"
    },
    "tags": []
   },
   "outputs": [
    {
     "data": {
      "text/plain": [
       "177"
      ]
     },
     "execution_count": 22,
     "metadata": {},
     "output_type": "execute_result"
    }
   ],
   "source": [
    "label_survivor_data.Age.isnull().sum()"
   ]
  },
  {
   "cell_type": "code",
   "execution_count": 23,
   "id": "5b0164fc",
   "metadata": {
    "execution": {
     "iopub.execute_input": "2024-11-11T18:32:10.570163Z",
     "iopub.status.busy": "2024-11-11T18:32:10.569715Z",
     "iopub.status.idle": "2024-11-11T18:32:10.915552Z",
     "shell.execute_reply": "2024-11-11T18:32:10.914379Z"
    },
    "papermill": {
     "duration": 0.361153,
     "end_time": "2024-11-11T18:32:10.918219",
     "exception": false,
     "start_time": "2024-11-11T18:32:10.557066",
     "status": "completed"
    },
    "tags": []
   },
   "outputs": [],
   "source": [
    "from sklearn.impute import SimpleImputer\n",
    "\n",
    "# Fill in the lines below: imputation\n",
    "my_imputer = SimpleImputer() # Your code here\n",
    "imputed_survivor_data = pd.DataFrame(my_imputer.fit_transform(label_survivor_data))\n",
    "\n",
    "# Fill in the lines below: imputation removed column names; put them back\n",
    "imputed_survivor_data.columns = label_survivor_data.columns"
   ]
  },
  {
   "cell_type": "code",
   "execution_count": 24,
   "id": "a3cdf267",
   "metadata": {
    "execution": {
     "iopub.execute_input": "2024-11-11T18:32:10.942813Z",
     "iopub.status.busy": "2024-11-11T18:32:10.942391Z",
     "iopub.status.idle": "2024-11-11T18:32:10.949649Z",
     "shell.execute_reply": "2024-11-11T18:32:10.948577Z"
    },
    "papermill": {
     "duration": 0.022745,
     "end_time": "2024-11-11T18:32:10.952219",
     "exception": false,
     "start_time": "2024-11-11T18:32:10.929474",
     "status": "completed"
    },
    "tags": []
   },
   "outputs": [
    {
     "data": {
      "text/plain": [
       "Index(['Survived', 'Pclass', 'Sex', 'Age', 'SibSp', 'Parch', 'Fare',\n",
       "       'Embarked'],\n",
       "      dtype='object')"
      ]
     },
     "execution_count": 24,
     "metadata": {},
     "output_type": "execute_result"
    }
   ],
   "source": [
    "imputed_survivor_data.columns"
   ]
  },
  {
   "cell_type": "code",
   "execution_count": 25,
   "id": "b0e25134",
   "metadata": {
    "execution": {
     "iopub.execute_input": "2024-11-11T18:32:10.976780Z",
     "iopub.status.busy": "2024-11-11T18:32:10.976361Z",
     "iopub.status.idle": "2024-11-11T18:32:10.983474Z",
     "shell.execute_reply": "2024-11-11T18:32:10.982406Z"
    },
    "papermill": {
     "duration": 0.022822,
     "end_time": "2024-11-11T18:32:10.986504",
     "exception": false,
     "start_time": "2024-11-11T18:32:10.963682",
     "status": "completed"
    },
    "tags": []
   },
   "outputs": [
    {
     "name": "stdout",
     "output_type": "stream",
     "text": [
      "Survived    0\n",
      "Pclass      0\n",
      "Sex         0\n",
      "Age         0\n",
      "SibSp       0\n",
      "Parch       0\n",
      "Fare        0\n",
      "Embarked    0\n",
      "dtype: int64\n"
     ]
    }
   ],
   "source": [
    "missing_val_count_by_column = (imputed_survivor_data.isnull().sum())\n",
    "print(missing_val_count_by_column)"
   ]
  }
 ],
 "metadata": {
  "kaggle": {
   "accelerator": "none",
   "dataSources": [
    {
     "databundleVersionId": 26502,
     "sourceId": 3136,
     "sourceType": "competition"
    }
   ],
   "dockerImageVersionId": 30786,
   "isGpuEnabled": false,
   "isInternetEnabled": true,
   "language": "python",
   "sourceType": "notebook"
  },
  "kernelspec": {
   "display_name": "Python 3",
   "language": "python",
   "name": "python3"
  },
  "language_info": {
   "codemirror_mode": {
    "name": "ipython",
    "version": 3
   },
   "file_extension": ".py",
   "mimetype": "text/x-python",
   "name": "python",
   "nbconvert_exporter": "python",
   "pygments_lexer": "ipython3",
   "version": "3.10.14"
  },
  "papermill": {
   "default_parameters": {},
   "duration": 6.814803,
   "end_time": "2024-11-11T18:32:11.619373",
   "environment_variables": {},
   "exception": null,
   "input_path": "__notebook__.ipynb",
   "output_path": "__notebook__.ipynb",
   "parameters": {},
   "start_time": "2024-11-11T18:32:04.804570",
   "version": "2.6.0"
  }
 },
 "nbformat": 4,
 "nbformat_minor": 5
}

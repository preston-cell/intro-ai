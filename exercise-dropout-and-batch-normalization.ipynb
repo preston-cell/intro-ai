{
 "cells": [
  {
   "cell_type": "markdown",
   "id": "3e2ec2e5",
   "metadata": {
    "papermill": {
     "duration": 0.004144,
     "end_time": "2025-01-09T19:03:49.733813",
     "exception": false,
     "start_time": "2025-01-09T19:03:49.729669",
     "status": "completed"
    },
    "tags": []
   },
   "source": [
    "**This notebook is an exercise in the [Intro to Deep Learning](https://www.kaggle.com/learn/intro-to-deep-learning) course.  You can reference the tutorial at [this link](https://www.kaggle.com/ryanholbrook/dropout-and-batch-normalization).**\n",
    "\n",
    "---\n"
   ]
  },
  {
   "cell_type": "markdown",
   "id": "f1b4ce8a",
   "metadata": {
    "papermill": {
     "duration": 0.003495,
     "end_time": "2025-01-09T19:03:49.741069",
     "exception": false,
     "start_time": "2025-01-09T19:03:49.737574",
     "status": "completed"
    },
    "tags": []
   },
   "source": [
    "# Introduction #\n",
    "\n",
    "In this exercise, you'll add dropout to the *Spotify* model from Exercise 4 and see how batch normalization can let you successfully train models on difficult datasets.\n",
    "\n",
    "Run the next cell to get started!"
   ]
  },
  {
   "cell_type": "code",
   "execution_count": 1,
   "id": "e31855e8",
   "metadata": {
    "execution": {
     "iopub.execute_input": "2025-01-09T19:03:49.749784Z",
     "iopub.status.busy": "2025-01-09T19:03:49.749484Z",
     "iopub.status.idle": "2025-01-09T19:03:50.480114Z",
     "shell.execute_reply": "2025-01-09T19:03:50.479320Z"
    },
    "papermill": {
     "duration": 0.73726,
     "end_time": "2025-01-09T19:03:50.482057",
     "exception": false,
     "start_time": "2025-01-09T19:03:49.744797",
     "status": "completed"
    },
    "tags": []
   },
   "outputs": [
    {
     "name": "stderr",
     "output_type": "stream",
     "text": [
      "/tmp/ipykernel_26/195640296.py:3: MatplotlibDeprecationWarning: The seaborn styles shipped by Matplotlib are deprecated since 3.6, as they no longer correspond to the styles shipped by seaborn. However, they will remain available as 'seaborn-v0_8-<style>'. Alternatively, directly use the seaborn API instead.\n",
      "  plt.style.use('seaborn-whitegrid')\n"
     ]
    }
   ],
   "source": [
    "# Setup plotting\n",
    "import matplotlib.pyplot as plt\n",
    "plt.style.use('seaborn-whitegrid')\n",
    "# Set Matplotlib defaults\n",
    "plt.rc('figure', autolayout=True)\n",
    "plt.rc('axes', labelweight='bold', labelsize='large',\n",
    "       titleweight='bold', titlesize=18, titlepad=10)\n",
    "plt.rc('animation', html='html5')\n",
    "\n",
    "# Setup feedback system\n",
    "from learntools.core import binder\n",
    "binder.bind(globals())\n",
    "from learntools.deep_learning_intro.ex5 import *"
   ]
  },
  {
   "cell_type": "markdown",
   "id": "fbe33f10",
   "metadata": {
    "papermill": {
     "duration": 0.003579,
     "end_time": "2025-01-09T19:03:50.489528",
     "exception": false,
     "start_time": "2025-01-09T19:03:50.485949",
     "status": "completed"
    },
    "tags": []
   },
   "source": [
    "First load the *Spotify* dataset."
   ]
  },
  {
   "cell_type": "code",
   "execution_count": 2,
   "id": "bf910b09",
   "metadata": {
    "execution": {
     "iopub.execute_input": "2025-01-09T19:03:50.497904Z",
     "iopub.status.busy": "2025-01-09T19:03:50.497532Z",
     "iopub.status.idle": "2025-01-09T19:04:03.649561Z",
     "shell.execute_reply": "2025-01-09T19:04:03.648527Z"
    },
    "papermill": {
     "duration": 13.158343,
     "end_time": "2025-01-09T19:04:03.651419",
     "exception": false,
     "start_time": "2025-01-09T19:03:50.493076",
     "status": "completed"
    },
    "tags": []
   },
   "outputs": [
    {
     "name": "stderr",
     "output_type": "stream",
     "text": [
      "2025-01-09 19:03:53.435489: E external/local_xla/xla/stream_executor/cuda/cuda_dnn.cc:9261] Unable to register cuDNN factory: Attempting to register factory for plugin cuDNN when one has already been registered\n",
      "2025-01-09 19:03:53.435613: E external/local_xla/xla/stream_executor/cuda/cuda_fft.cc:607] Unable to register cuFFT factory: Attempting to register factory for plugin cuFFT when one has already been registered\n",
      "2025-01-09 19:03:53.571093: E external/local_xla/xla/stream_executor/cuda/cuda_blas.cc:1515] Unable to register cuBLAS factory: Attempting to register factory for plugin cuBLAS when one has already been registered\n"
     ]
    },
    {
     "name": "stdout",
     "output_type": "stream",
     "text": [
      "Input shape: [18]\n"
     ]
    }
   ],
   "source": [
    "import pandas as pd\n",
    "from sklearn.preprocessing import StandardScaler, OneHotEncoder\n",
    "from sklearn.compose import make_column_transformer\n",
    "from sklearn.model_selection import GroupShuffleSplit\n",
    "\n",
    "from tensorflow import keras\n",
    "from tensorflow.keras import layers\n",
    "from tensorflow.keras import callbacks\n",
    "\n",
    "spotify = pd.read_csv('../input/dl-course-data/spotify.csv')\n",
    "\n",
    "X = spotify.copy().dropna()\n",
    "y = X.pop('track_popularity')\n",
    "artists = X['track_artist']\n",
    "\n",
    "features_num = ['danceability', 'energy', 'key', 'loudness', 'mode',\n",
    "                'speechiness', 'acousticness', 'instrumentalness',\n",
    "                'liveness', 'valence', 'tempo', 'duration_ms']\n",
    "features_cat = ['playlist_genre']\n",
    "\n",
    "preprocessor = make_column_transformer(\n",
    "    (StandardScaler(), features_num),\n",
    "    (OneHotEncoder(), features_cat),\n",
    ")\n",
    "\n",
    "def group_split(X, y, group, train_size=0.75):\n",
    "    splitter = GroupShuffleSplit(train_size=train_size)\n",
    "    train, test = next(splitter.split(X, y, groups=group))\n",
    "    return (X.iloc[train], X.iloc[test], y.iloc[train], y.iloc[test])\n",
    "\n",
    "X_train, X_valid, y_train, y_valid = group_split(X, y, artists)\n",
    "\n",
    "X_train = preprocessor.fit_transform(X_train)\n",
    "X_valid = preprocessor.transform(X_valid)\n",
    "y_train = y_train / 100\n",
    "y_valid = y_valid / 100\n",
    "\n",
    "input_shape = [X_train.shape[1]]\n",
    "print(\"Input shape: {}\".format(input_shape))"
   ]
  },
  {
   "cell_type": "markdown",
   "id": "3f58da1c",
   "metadata": {
    "papermill": {
     "duration": 0.003767,
     "end_time": "2025-01-09T19:04:03.659381",
     "exception": false,
     "start_time": "2025-01-09T19:04:03.655614",
     "status": "completed"
    },
    "tags": []
   },
   "source": [
    "# 1) Add Dropout to Spotify Model\n",
    "\n",
    "Here is the last model from Exercise 4. Add two dropout layers, one after the `Dense` layer with 128 units, and one after the `Dense` layer with 64 units. Set the dropout rate on both to `0.3`."
   ]
  },
  {
   "cell_type": "code",
   "execution_count": 3,
   "id": "d7dcc9f6",
   "metadata": {
    "execution": {
     "iopub.execute_input": "2025-01-09T19:04:03.667894Z",
     "iopub.status.busy": "2025-01-09T19:04:03.667602Z",
     "iopub.status.idle": "2025-01-09T19:04:04.483857Z",
     "shell.execute_reply": "2025-01-09T19:04:04.483000Z"
    },
    "lines_to_next_cell": 2,
    "papermill": {
     "duration": 0.822432,
     "end_time": "2025-01-09T19:04:04.485439",
     "exception": false,
     "start_time": "2025-01-09T19:04:03.663007",
     "status": "completed"
    },
    "tags": []
   },
   "outputs": [
    {
     "data": {
      "application/javascript": [
       "parent.postMessage({\"jupyterEvent\": \"custom.exercise_interaction\", \"data\": {\"outcomeType\": 1, \"valueTowardsCompletion\": 0.25, \"interactionType\": 1, \"questionType\": 2, \"questionId\": \"1_Q1\", \"learnToolsVersion\": \"0.3.4\", \"failureMessage\": \"\", \"exceptionClass\": \"\", \"trace\": \"\"}}, \"*\")"
      ],
      "text/plain": [
       "<IPython.core.display.Javascript object>"
      ]
     },
     "metadata": {},
     "output_type": "display_data"
    },
    {
     "data": {
      "text/markdown": [
       "<span style=\"color:#33cc33\">Correct</span>"
      ],
      "text/plain": [
       "Correct"
      ]
     },
     "metadata": {},
     "output_type": "display_data"
    }
   ],
   "source": [
    "# YOUR CODE HERE: Add two 30% dropout layers, one after 128 and one after 64\n",
    "model = keras.Sequential([\n",
    "    layers.Dense(128, activation='relu', input_shape=input_shape),\n",
    "    layers.Dropout(0.3),\n",
    "    layers.Dense(64, activation='relu'),\n",
    "    layers.Dropout(0.3),\n",
    "    layers.Dense(1)\n",
    "])\n",
    "\n",
    "# Check your answer\n",
    "q_1.check()"
   ]
  },
  {
   "cell_type": "code",
   "execution_count": 4,
   "id": "acfe71d8",
   "metadata": {
    "execution": {
     "iopub.execute_input": "2025-01-09T19:04:04.494627Z",
     "iopub.status.busy": "2025-01-09T19:04:04.494355Z",
     "iopub.status.idle": "2025-01-09T19:04:04.497878Z",
     "shell.execute_reply": "2025-01-09T19:04:04.497200Z"
    },
    "papermill": {
     "duration": 0.009777,
     "end_time": "2025-01-09T19:04:04.499391",
     "exception": false,
     "start_time": "2025-01-09T19:04:04.489614",
     "status": "completed"
    },
    "tags": []
   },
   "outputs": [],
   "source": [
    "# Lines below will give you a hint or solution code\n",
    "#q_1.hint()\n",
    "#q_1.solution()"
   ]
  },
  {
   "cell_type": "markdown",
   "id": "7b8cb420",
   "metadata": {
    "papermill": {
     "duration": 0.003733,
     "end_time": "2025-01-09T19:04:04.507122",
     "exception": false,
     "start_time": "2025-01-09T19:04:04.503389",
     "status": "completed"
    },
    "tags": []
   },
   "source": [
    "Now run this next cell to train the model see the effect of adding dropout."
   ]
  },
  {
   "cell_type": "code",
   "execution_count": 5,
   "id": "20a40ed8",
   "metadata": {
    "execution": {
     "iopub.execute_input": "2025-01-09T19:04:04.517083Z",
     "iopub.status.busy": "2025-01-09T19:04:04.516637Z",
     "iopub.status.idle": "2025-01-09T19:04:15.307098Z",
     "shell.execute_reply": "2025-01-09T19:04:15.306225Z"
    },
    "papermill": {
     "duration": 10.797823,
     "end_time": "2025-01-09T19:04:15.308829",
     "exception": false,
     "start_time": "2025-01-09T19:04:04.511006",
     "status": "completed"
    },
    "tags": []
   },
   "outputs": [
    {
     "name": "stderr",
     "output_type": "stream",
     "text": [
      "WARNING: All log messages before absl::InitializeLog() is called are written to STDERR\n",
      "I0000 00:00:1736449446.870381      66 device_compiler.h:186] Compiled cluster using XLA!  This line is logged at most once for the lifetime of the process.\n"
     ]
    },
    {
     "name": "stdout",
     "output_type": "stream",
     "text": [
      "Minimum Validation Loss: 0.1962\n"
     ]
    },
    {
     "data": {
      "image/png": "[encoded data removed]",
      "text/plain": [
       "<Figure size 640x480 with 1 Axes>"
      ]
     },
     "metadata": {},
     "output_type": "display_data"
    }
   ],
   "source": [
    "model.compile(\n",
    "    optimizer='adam',\n",
    "    loss='mae',\n",
    ")\n",
    "history = model.fit(\n",
    "    X_train, y_train,\n",
    "    validation_data=(X_valid, y_valid),\n",
    "    batch_size=512,\n",
    "    epochs=50,\n",
    "    verbose=0,\n",
    ")\n",
    "history_df = pd.DataFrame(history.history)\n",
    "history_df.loc[:, ['loss', 'val_loss']].plot()\n",
    "print(\"Minimum Validation Loss: {:0.4f}\".format(history_df['val_loss'].min()))"
   ]
  },
  {
   "cell_type": "markdown",
   "id": "63ba9e03",
   "metadata": {
    "papermill": {
     "duration": 0.005302,
     "end_time": "2025-01-09T19:04:15.318749",
     "exception": false,
     "start_time": "2025-01-09T19:04:15.313447",
     "status": "completed"
    },
    "tags": []
   },
   "source": [
    "# 2) Evaluate Dropout\n",
    "\n",
    "Recall from Exercise 4 that this model tended to overfit the data around epoch 5. Did adding dropout seem to help prevent overfitting this time?"
   ]
  },
  {
   "cell_type": "code",
   "execution_count": 6,
   "id": "b7899fb7",
   "metadata": {
    "execution": {
     "iopub.execute_input": "2025-01-09T19:04:15.329194Z",
     "iopub.status.busy": "2025-01-09T19:04:15.328531Z",
     "iopub.status.idle": "2025-01-09T19:04:15.335002Z",
     "shell.execute_reply": "2025-01-09T19:04:15.334204Z"
    },
    "papermill": {
     "duration": 0.013534,
     "end_time": "2025-01-09T19:04:15.336762",
     "exception": false,
     "start_time": "2025-01-09T19:04:15.323228",
     "status": "completed"
    },
    "tags": []
   },
   "outputs": [
    {
     "data": {
      "application/javascript": [
       "parent.postMessage({\"jupyterEvent\": \"custom.exercise_interaction\", \"data\": {\"outcomeType\": 1, \"valueTowardsCompletion\": 0.25, \"interactionType\": 1, \"questionType\": 4, \"questionId\": \"2_Q2\", \"learnToolsVersion\": \"0.3.4\", \"failureMessage\": \"\", \"exceptionClass\": \"\", \"trace\": \"\"}}, \"*\")"
      ],
      "text/plain": [
       "<IPython.core.display.Javascript object>"
      ]
     },
     "metadata": {},
     "output_type": "display_data"
    },
    {
     "data": {
      "text/markdown": [
       "<span style=\"color:#33cc33\">Correct:</span> \n",
       "\n",
       "\n",
       "From the learning curves, you can see that the validation loss remains near a constant minimum even though the training loss continues to decrease. So we can see that adding dropout did prevent overfitting this time. Moreover, by making it harder for the network to fit spurious patterns, dropout may have encouraged the network to seek out more of the true patterns, possibly improving the validation loss some as well).\n"
      ],
      "text/plain": [
       "Correct: \n",
       "\n",
       "\n",
       "From the learning curves, you can see that the validation loss remains near a constant minimum even though the training loss continues to decrease. So we can see that adding dropout did prevent overfitting this time. Moreover, by making it harder for the network to fit spurious patterns, dropout may have encouraged the network to seek out more of the true patterns, possibly improving the validation loss some as well)."
      ]
     },
     "metadata": {},
     "output_type": "display_data"
    }
   ],
   "source": [
    "# View the solution (Run this cell to receive credit!)\n",
    "q_2.check()"
   ]
  },
  {
   "cell_type": "markdown",
   "id": "e0f4a435",
   "metadata": {
    "papermill": {
     "duration": 0.004606,
     "end_time": "2025-01-09T19:04:15.345939",
     "exception": false,
     "start_time": "2025-01-09T19:04:15.341333",
     "status": "completed"
    },
    "tags": []
   },
   "source": [
    "Now, we'll switch topics to explore how batch normalization can fix problems in training.\n",
    "\n",
    "Load the *Concrete* dataset. We won't do any standardization this time. This will make the effect of batch normalization much more apparent."
   ]
  },
  {
   "cell_type": "code",
   "execution_count": 7,
   "id": "fd053b16",
   "metadata": {
    "execution": {
     "iopub.execute_input": "2025-01-09T19:04:15.356307Z",
     "iopub.status.busy": "2025-01-09T19:04:15.355807Z",
     "iopub.status.idle": "2025-01-09T19:04:15.371871Z",
     "shell.execute_reply": "2025-01-09T19:04:15.371047Z"
    },
    "papermill": {
     "duration": 0.022833,
     "end_time": "2025-01-09T19:04:15.373404",
     "exception": false,
     "start_time": "2025-01-09T19:04:15.350571",
     "status": "completed"
    },
    "tags": []
   },
   "outputs": [],
   "source": [
    "import pandas as pd\n",
    "\n",
    "concrete = pd.read_csv('../input/dl-course-data/concrete.csv')\n",
    "df = concrete.copy()\n",
    "\n",
    "df_train = df.sample(frac=0.7, random_state=0)\n",
    "df_valid = df.drop(df_train.index)\n",
    "\n",
    "X_train = df_train.drop('CompressiveStrength', axis=1)\n",
    "X_valid = df_valid.drop('CompressiveStrength', axis=1)\n",
    "y_train = df_train['CompressiveStrength']\n",
    "y_valid = df_valid['CompressiveStrength']\n",
    "\n",
    "input_shape = [X_train.shape[1]]"
   ]
  },
  {
   "cell_type": "markdown",
   "id": "4e48eaeb",
   "metadata": {
    "papermill": {
     "duration": 0.004349,
     "end_time": "2025-01-09T19:04:15.382351",
     "exception": false,
     "start_time": "2025-01-09T19:04:15.378002",
     "status": "completed"
    },
    "tags": []
   },
   "source": [
    "Run the following cell to train the network on the unstandardized *Concrete* data."
   ]
  },
  {
   "cell_type": "code",
   "execution_count": 8,
   "id": "c50c74c3",
   "metadata": {
    "execution": {
     "iopub.execute_input": "2025-01-09T19:04:15.392751Z",
     "iopub.status.busy": "2025-01-09T19:04:15.392137Z",
     "iopub.status.idle": "2025-01-09T19:04:22.395072Z",
     "shell.execute_reply": "2025-01-09T19:04:22.394153Z"
    },
    "papermill": {
     "duration": 7.009888,
     "end_time": "2025-01-09T19:04:22.396812",
     "exception": false,
     "start_time": "2025-01-09T19:04:15.386924",
     "status": "completed"
    },
    "tags": []
   },
   "outputs": [
    {
     "name": "stdout",
     "output_type": "stream",
     "text": [
      "Minimum Validation Loss: nan\n"
     ]
    },
    {
     "data": {
      "image/png": "[encoded data removed]",
      "text/plain": [
       "<Figure size 640x480 with 1 Axes>"
      ]
     },
     "metadata": {},
     "output_type": "display_data"
    }
   ],
   "source": [
    "model = keras.Sequential([\n",
    "    layers.Dense(512, activation='relu', input_shape=input_shape),\n",
    "    layers.Dense(512, activation='relu'),    \n",
    "    layers.Dense(512, activation='relu'),\n",
    "    layers.Dense(1),\n",
    "])\n",
    "model.compile(\n",
    "    optimizer='sgd', # SGD is more sensitive to differences of scale\n",
    "    loss='mae',\n",
    "    metrics=['mae'],\n",
    ")\n",
    "history = model.fit(\n",
    "    X_train, y_train,\n",
    "    validation_data=(X_valid, y_valid),\n",
    "    batch_size=64,\n",
    "    epochs=100,\n",
    "    verbose=0,\n",
    ")\n",
    "\n",
    "history_df = pd.DataFrame(history.history)\n",
    "history_df.loc[0:, ['loss', 'val_loss']].plot()\n",
    "print((\"Minimum Validation Loss: {:0.4f}\").format(history_df['val_loss'].min()))"
   ]
  },
  {
   "cell_type": "markdown",
   "id": "be297488",
   "metadata": {
    "papermill": {
     "duration": 0.004817,
     "end_time": "2025-01-09T19:04:22.407064",
     "exception": false,
     "start_time": "2025-01-09T19:04:22.402247",
     "status": "completed"
    },
    "tags": []
   },
   "source": [
    "Did you end up with a blank graph? Trying to train this network on this dataset will usually fail. Even when it does converge (due to a lucky weight initialization), it tends to converge to a very large number.\n",
    "\n",
    "# 3) Add Batch Normalization Layers\n",
    "\n",
    "Batch normalization can help correct problems like this.\n",
    "\n",
    "Add four `BatchNormalization` layers, one before each of the dense layers. (Remember to move the `input_shape` argument to the new first layer.)"
   ]
  },
  {
   "cell_type": "code",
   "execution_count": 9,
   "id": "bee95b7c",
   "metadata": {
    "execution": {
     "iopub.execute_input": "2025-01-09T19:04:22.418168Z",
     "iopub.status.busy": "2025-01-09T19:04:22.417675Z",
     "iopub.status.idle": "2025-01-09T19:04:22.438014Z",
     "shell.execute_reply": "2025-01-09T19:04:22.437148Z"
    },
    "lines_to_next_cell": 0,
    "papermill": {
     "duration": 0.027756,
     "end_time": "2025-01-09T19:04:22.439757",
     "exception": false,
     "start_time": "2025-01-09T19:04:22.412001",
     "status": "completed"
    },
    "tags": []
   },
   "outputs": [
    {
     "data": {
      "application/javascript": [
       "parent.postMessage({\"jupyterEvent\": \"custom.exercise_interaction\", \"data\": {\"outcomeType\": 1, \"valueTowardsCompletion\": 0.25, \"interactionType\": 1, \"questionType\": 2, \"questionId\": \"3_Q3\", \"learnToolsVersion\": \"0.3.4\", \"failureMessage\": \"\", \"exceptionClass\": \"\", \"trace\": \"\"}}, \"*\")"
      ],
      "text/plain": [
       "<IPython.core.display.Javascript object>"
      ]
     },
     "metadata": {},
     "output_type": "display_data"
    },
    {
     "data": {
      "text/markdown": [
       "<span style=\"color:#33cc33\">Correct</span>"
      ],
      "text/plain": [
       "Correct"
      ]
     },
     "metadata": {},
     "output_type": "display_data"
    }
   ],
   "source": [
    "# YOUR CODE HERE: Add a BatchNormalization layer before each Dense layer\n",
    "model = keras.Sequential([\n",
    "    layers.BatchNormalization(),\n",
    "    layers.Dense(512, activation='relu', input_shape=input_shape),\n",
    "    layers.BatchNormalization(),\n",
    "    layers.Dense(512, activation='relu'),\n",
    "    layers.BatchNormalization(),\n",
    "    layers.Dense(512, activation='relu'),\n",
    "    layers.BatchNormalization(),\n",
    "    layers.Dense(1),\n",
    "])\n",
    "\n",
    "# Check your answer\n",
    "q_3.check()"
   ]
  },
  {
   "cell_type": "code",
   "execution_count": 10,
   "id": "305f3d30",
   "metadata": {
    "execution": {
     "iopub.execute_input": "2025-01-09T19:04:22.451595Z",
     "iopub.status.busy": "2025-01-09T19:04:22.451097Z",
     "iopub.status.idle": "2025-01-09T19:04:22.454588Z",
     "shell.execute_reply": "2025-01-09T19:04:22.453757Z"
    },
    "papermill": {
     "duration": 0.011323,
     "end_time": "2025-01-09T19:04:22.456171",
     "exception": false,
     "start_time": "2025-01-09T19:04:22.444848",
     "status": "completed"
    },
    "tags": []
   },
   "outputs": [],
   "source": [
    "# Lines below will give you a hint or solution code\n",
    "#q_3.hint()\n",
    "#q_3.solution()"
   ]
  },
  {
   "cell_type": "markdown",
   "id": "9a118608",
   "metadata": {
    "papermill": {
     "duration": 0.004837,
     "end_time": "2025-01-09T19:04:22.466164",
     "exception": false,
     "start_time": "2025-01-09T19:04:22.461327",
     "status": "completed"
    },
    "tags": []
   },
   "source": [
    "Run the next cell to see if batch normalization will let us train the model."
   ]
  },
  {
   "cell_type": "code",
   "execution_count": 11,
   "id": "f67b05ea",
   "metadata": {
    "execution": {
     "iopub.execute_input": "2025-01-09T19:04:22.477248Z",
     "iopub.status.busy": "2025-01-09T19:04:22.476980Z",
     "iopub.status.idle": "2025-01-09T19:04:33.128763Z",
     "shell.execute_reply": "2025-01-09T19:04:33.127909Z"
    },
    "papermill": {
     "duration": 10.659147,
     "end_time": "2025-01-09T19:04:33.130334",
     "exception": false,
     "start_time": "2025-01-09T19:04:22.471187",
     "status": "completed"
    },
    "tags": []
   },
   "outputs": [
    {
     "name": "stdout",
     "output_type": "stream",
     "text": [
      "Minimum Validation Loss: 3.9781\n"
     ]
    },
    {
     "data": {
      "image/png": "[encoded data removed]",
      "text/plain": [
       "<Figure size 640x480 with 1 Axes>"
      ]
     },
     "metadata": {},
     "output_type": "display_data"
    }
   ],
   "source": [
    "model.compile(\n",
    "    optimizer='sgd',\n",
    "    loss='mae',\n",
    "    metrics=['mae'],\n",
    ")\n",
    "EPOCHS = 100\n",
    "history = model.fit(\n",
    "    X_train, y_train,\n",
    "    validation_data=(X_valid, y_valid),\n",
    "    batch_size=64,\n",
    "    epochs=EPOCHS,\n",
    "    verbose=0,\n",
    ")\n",
    "\n",
    "history_df = pd.DataFrame(history.history)\n",
    "history_df.loc[0:, ['loss', 'val_loss']].plot()\n",
    "print((\"Minimum Validation Loss: {:0.4f}\").format(history_df['val_loss'].min()))"
   ]
  },
  {
   "cell_type": "markdown",
   "id": "681fe835",
   "metadata": {
    "papermill": {
     "duration": 0.005371,
     "end_time": "2025-01-09T19:04:33.141539",
     "exception": false,
     "start_time": "2025-01-09T19:04:33.136168",
     "status": "completed"
    },
    "tags": []
   },
   "source": [
    "# 4) Evaluate Batch Normalization\n",
    "\n",
    "Did adding batch normalization help?"
   ]
  },
  {
   "cell_type": "code",
   "execution_count": 12,
   "id": "2852e006",
   "metadata": {
    "execution": {
     "iopub.execute_input": "2025-01-09T19:04:33.153792Z",
     "iopub.status.busy": "2025-01-09T19:04:33.153318Z",
     "iopub.status.idle": "2025-01-09T19:04:33.159909Z",
     "shell.execute_reply": "2025-01-09T19:04:33.159193Z"
    },
    "lines_to_next_cell": 0,
    "papermill": {
     "duration": 0.01444,
     "end_time": "2025-01-09T19:04:33.161389",
     "exception": false,
     "start_time": "2025-01-09T19:04:33.146949",
     "status": "completed"
    },
    "tags": []
   },
   "outputs": [
    {
     "data": {
      "application/javascript": [
       "parent.postMessage({\"jupyterEvent\": \"custom.exercise_interaction\", \"data\": {\"outcomeType\": 1, \"valueTowardsCompletion\": 0.25, \"interactionType\": 1, \"questionType\": 4, \"questionId\": \"4_Q4\", \"learnToolsVersion\": \"0.3.4\", \"failureMessage\": \"\", \"exceptionClass\": \"\", \"trace\": \"\"}}, \"*\")"
      ],
      "text/plain": [
       "<IPython.core.display.Javascript object>"
      ]
     },
     "metadata": {},
     "output_type": "display_data"
    },
    {
     "data": {
      "text/markdown": [
       "<span style=\"color:#33cc33\">Correct:</span> \n",
       "\n",
       "\n",
       "You can see that adding batch normalization was a big improvement on the first attempt! By adaptively scaling the data as it passes through the network, batch normalization can let you train models on difficult datasets.\n"
      ],
      "text/plain": [
       "Correct: \n",
       "\n",
       "\n",
       "You can see that adding batch normalization was a big improvement on the first attempt! By adaptively scaling the data as it passes through the network, batch normalization can let you train models on difficult datasets."
      ]
     },
     "metadata": {},
     "output_type": "display_data"
    }
   ],
   "source": [
    "# View the solution (Run this cell to receive credit!)\n",
    "q_4.check()"
   ]
  },
  {
   "cell_type": "markdown",
   "id": "5b516ad7",
   "metadata": {
    "papermill": {
     "duration": 0.005447,
     "end_time": "2025-01-09T19:04:33.172577",
     "exception": false,
     "start_time": "2025-01-09T19:04:33.167130",
     "status": "completed"
    },
    "tags": []
   },
   "source": [
    "# Keep Going #\n",
    "\n",
    "[**Create neural networks**](https://www.kaggle.com/ryanholbrook/binary-classification) for binary classification."
   ]
  },
  {
   "cell_type": "markdown",
   "id": "533e1832",
   "metadata": {
    "papermill": {
     "duration": 0.00543,
     "end_time": "2025-01-09T19:04:33.183642",
     "exception": false,
     "start_time": "2025-01-09T19:04:33.178212",
     "status": "completed"
    },
    "tags": []
   },
   "source": [
    "---\n",
    "\n",
    "\n",
    "\n",
    "\n",
    "*Have questions or comments? Visit the [course discussion forum](https://www.kaggle.com/learn/intro-to-deep-learning/discussion) to chat with other learners.*"
   ]
  }
 ],
 "metadata": {
  "jupytext": {
   "cell_metadata_filter": "-all",
   "formats": "ipynb"
  },
  "kaggle": {
   "accelerator": "gpu",
   "dataSources": [
    {
     "datasetId": 829369,
     "sourceId": 1480608,
     "sourceType": "datasetVersion"
    }
   ],
   "dockerImageVersionId": 30648,
   "isGpuEnabled": true,
   "isInternetEnabled": false,
   "language": "python",
   "sourceType": "notebook"
  },
  "kernelspec": {
   "display_name": "Python 3",
   "language": "python",
   "name": "python3"
  },
  "language_info": {
   "codemirror_mode": {
    "name": "ipython",
    "version": 3
   },
   "file_extension": ".py",
   "mimetype": "text/x-python",
   "name": "python",
   "nbconvert_exporter": "python",
   "pygments_lexer": "ipython3",
   "version": "3.10.13"
  },
  "papermill": {
   "default_parameters": {},
   "duration": 48.069514,
   "end_time": "2025-01-09T19:04:35.212353",
   "environment_variables": {},
   "exception": null,
   "input_path": "__notebook__.ipynb",
   "output_path": "__notebook__.ipynb",
   "parameters": {},
   "start_time": "2025-01-09T19:03:47.142839",
   "version": "2.5.0"
  }
 },
 "nbformat": 4,
 "nbformat_minor": 5
}

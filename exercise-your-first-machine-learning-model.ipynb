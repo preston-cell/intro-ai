{
 "cells": [
  {
   "cell_type": "markdown",
   "id": "49d21039",
   "metadata": {
    "papermill": {
     "duration": 0.007231,
     "end_time": "2024-10-22T16:11:33.554042",
     "exception": false,
     "start_time": "2024-10-22T16:11:33.546811",
     "status": "completed"
    },
    "tags": []
   },
   "source": [
    "**This notebook is an exercise in the [Introduction to Machine Learning](https://www.kaggle.com/learn/intro-to-machine-learning) course.  You can reference the tutorial at [this link](https://www.kaggle.com/dansbecker/your-first-machine-learning-model).**\n",
    "\n",
    "---\n"
   ]
  },
  {
   "cell_type": "markdown",
   "id": "9d1b62e7",
   "metadata": {
    "papermill": {
     "duration": 0.006479,
     "end_time": "2024-10-22T16:11:33.567380",
     "exception": false,
     "start_time": "2024-10-22T16:11:33.560901",
     "status": "completed"
    },
    "tags": []
   },
   "source": [
    "## Recap\n",
    "So far, you have loaded your data and reviewed it with the following code. Run this cell to set up your coding environment where the previous step left off."
   ]
  },
  {
   "cell_type": "code",
   "execution_count": 1,
   "id": "b2386d06",
   "metadata": {
    "collapsed": true,
    "execution": {
     "iopub.execute_input": "2024-10-22T16:11:33.583527Z",
     "iopub.status.busy": "2024-10-22T16:11:33.582967Z",
     "iopub.status.idle": "2024-10-22T16:11:36.832758Z",
     "shell.execute_reply": "2024-10-22T16:11:36.831450Z"
    },
    "jupyter": {
     "outputs_hidden": true
    },
    "papermill": {
     "duration": 3.260806,
     "end_time": "2024-10-22T16:11:36.835489",
     "exception": false,
     "start_time": "2024-10-22T16:11:33.574683",
     "status": "completed"
    },
    "tags": []
   },
   "outputs": [
    {
     "name": "stdout",
     "output_type": "stream",
     "text": [
      "Setup Complete\n"
     ]
    }
   ],
   "source": [
    "# Code you have previously used to load data\n",
    "import pandas as pd\n",
    "\n",
    "# Path of the file to read\n",
    "iowa_file_path = '../input/home-data-for-ml-course/train.csv'\n",
    "\n",
    "home_data = pd.read_csv(iowa_file_path)\n",
    "\n",
    "# Set up code checking\n",
    "from learntools.core import binder\n",
    "binder.bind(globals())\n",
    "from learntools.machine_learning.ex3 import *\n",
    "\n",
    "print(\"Setup Complete\")"
   ]
  },
  {
   "cell_type": "markdown",
   "id": "b86e6aa7",
   "metadata": {
    "papermill": {
     "duration": 0.006506,
     "end_time": "2024-10-22T16:11:36.848936",
     "exception": false,
     "start_time": "2024-10-22T16:11:36.842430",
     "status": "completed"
    },
    "tags": []
   },
   "source": [
    "# Exercises\n",
    "\n",
    "## Step 1: Specify Prediction Target\n",
    "Select the target variable, which corresponds to the sales price. Save this to a new variable called `y`. You'll need to print a list of the columns to find the name of the column you need.\n"
   ]
  },
  {
   "cell_type": "code",
   "execution_count": 2,
   "id": "f5c820cf",
   "metadata": {
    "collapsed": true,
    "execution": {
     "iopub.execute_input": "2024-10-22T16:11:36.864668Z",
     "iopub.status.busy": "2024-10-22T16:11:36.864046Z",
     "iopub.status.idle": "2024-10-22T16:11:36.869619Z",
     "shell.execute_reply": "2024-10-22T16:11:36.868479Z"
    },
    "jupyter": {
     "outputs_hidden": true
    },
    "papermill": {
     "duration": 0.016668,
     "end_time": "2024-10-22T16:11:36.872352",
     "exception": false,
     "start_time": "2024-10-22T16:11:36.855684",
     "status": "completed"
    },
    "tags": []
   },
   "outputs": [],
   "source": [
    "# print the list of columns in the dataset to find the name of the prediction target\n"
   ]
  },
  {
   "cell_type": "code",
   "execution_count": 3,
   "id": "81880b4b",
   "metadata": {
    "collapsed": true,
    "execution": {
     "iopub.execute_input": "2024-10-22T16:11:36.887928Z",
     "iopub.status.busy": "2024-10-22T16:11:36.887442Z",
     "iopub.status.idle": "2024-10-22T16:11:36.898997Z",
     "shell.execute_reply": "2024-10-22T16:11:36.897836Z"
    },
    "jupyter": {
     "outputs_hidden": true
    },
    "papermill": {
     "duration": 0.022483,
     "end_time": "2024-10-22T16:11:36.901751",
     "exception": false,
     "start_time": "2024-10-22T16:11:36.879268",
     "status": "completed"
    },
    "tags": []
   },
   "outputs": [
    {
     "data": {
      "application/javascript": [
       "parent.postMessage({\"jupyterEvent\": \"custom.exercise_interaction\", \"data\": {\"outcomeType\": 4, \"interactionType\": 1, \"questionType\": 2, \"questionId\": \"1_SetTarget\", \"learnToolsVersion\": \"0.3.4\", \"valueTowardsCompletion\": 0.0, \"failureMessage\": \"\", \"exceptionClass\": \"\", \"trace\": \"\"}}, \"*\")"
      ],
      "text/plain": [
       "<IPython.core.display.Javascript object>"
      ]
     },
     "metadata": {},
     "output_type": "display_data"
    },
    {
     "data": {
      "text/markdown": [
       "<span style=\"color:#ccaa33\">Check:</span> When you've updated the starter code, `check()` will tell you whether your code is correct. You need to update the code that creates variable `y`"
      ],
      "text/plain": [
       "Check: When you've updated the starter code, `check()` will tell you whether your code is correct. You need to update the code that creates variable `y`"
      ]
     },
     "metadata": {},
     "output_type": "display_data"
    }
   ],
   "source": [
    "y = ____\n",
    "\n",
    "# Check your answer\n",
    "step_1.check()"
   ]
  },
  {
   "cell_type": "code",
   "execution_count": 4,
   "id": "9660cb23",
   "metadata": {
    "collapsed": true,
    "execution": {
     "iopub.execute_input": "2024-10-22T16:11:36.920062Z",
     "iopub.status.busy": "2024-10-22T16:11:36.919620Z",
     "iopub.status.idle": "2024-10-22T16:11:36.924720Z",
     "shell.execute_reply": "2024-10-22T16:11:36.923467Z"
    },
    "jupyter": {
     "outputs_hidden": true
    },
    "papermill": {
     "duration": 0.017203,
     "end_time": "2024-10-22T16:11:36.927459",
     "exception": false,
     "start_time": "2024-10-22T16:11:36.910256",
     "status": "completed"
    },
    "tags": []
   },
   "outputs": [],
   "source": [
    "# The lines below will show you a hint or the solution.\n",
    "# step_1.hint() \n",
    "# step_1.solution()"
   ]
  },
  {
   "cell_type": "markdown",
   "id": "8e9dded9",
   "metadata": {
    "papermill": {
     "duration": 0.007354,
     "end_time": "2024-10-22T16:11:36.942483",
     "exception": false,
     "start_time": "2024-10-22T16:11:36.935129",
     "status": "completed"
    },
    "tags": []
   },
   "source": [
    "## Step 2: Create X\n",
    "Now you will create a DataFrame called `X` holding the predictive features.\n",
    "\n",
    "Since you want only some columns from the original data, you'll first create a list with the names of the columns you want in `X`.\n",
    "\n",
    "You'll use just the following columns in the list (you can copy and paste the whole list to save some typing, though you'll still need to add quotes):\n",
    "  * LotArea\n",
    "  * YearBuilt\n",
    "  * 1stFlrSF\n",
    "  * 2ndFlrSF\n",
    "  * FullBath\n",
    "  * BedroomAbvGr\n",
    "  * TotRmsAbvGrd\n",
    "\n",
    "After you've created that list of features, use it to create the DataFrame that you'll use to fit the model."
   ]
  },
  {
   "cell_type": "code",
   "execution_count": 5,
   "id": "f62af2f7",
   "metadata": {
    "collapsed": true,
    "execution": {
     "iopub.execute_input": "2024-10-22T16:11:36.959104Z",
     "iopub.status.busy": "2024-10-22T16:11:36.958700Z",
     "iopub.status.idle": "2024-10-22T16:11:36.969378Z",
     "shell.execute_reply": "2024-10-22T16:11:36.968238Z"
    },
    "jupyter": {
     "outputs_hidden": true
    },
    "papermill": {
     "duration": 0.022299,
     "end_time": "2024-10-22T16:11:36.972109",
     "exception": false,
     "start_time": "2024-10-22T16:11:36.949810",
     "status": "completed"
    },
    "tags": []
   },
   "outputs": [
    {
     "data": {
      "application/javascript": [
       "parent.postMessage({\"jupyterEvent\": \"custom.exercise_interaction\", \"data\": {\"outcomeType\": 4, \"interactionType\": 1, \"questionType\": 2, \"questionId\": \"2_SelectPredictionData\", \"learnToolsVersion\": \"0.3.4\", \"valueTowardsCompletion\": 0.0, \"failureMessage\": \"\", \"exceptionClass\": \"\", \"trace\": \"\"}}, \"*\")"
      ],
      "text/plain": [
       "<IPython.core.display.Javascript object>"
      ]
     },
     "metadata": {},
     "output_type": "display_data"
    },
    {
     "data": {
      "text/markdown": [
       "<span style=\"color:#ccaa33\">Check:</span> When you've updated the starter code, `check()` will tell you whether your code is correct. You need to update the code that creates variable `X`"
      ],
      "text/plain": [
       "Check: When you've updated the starter code, `check()` will tell you whether your code is correct. You need to update the code that creates variable `X`"
      ]
     },
     "metadata": {},
     "output_type": "display_data"
    }
   ],
   "source": [
    "# Create the list of features below\n",
    "feature_names = ___\n",
    "\n",
    "# Select data corresponding to features in feature_names\n",
    "X = ____\n",
    "\n",
    "# Check your answer\n",
    "step_2.check()"
   ]
  },
  {
   "cell_type": "code",
   "execution_count": 6,
   "id": "30af1361",
   "metadata": {
    "collapsed": true,
    "execution": {
     "iopub.execute_input": "2024-10-22T16:11:36.990114Z",
     "iopub.status.busy": "2024-10-22T16:11:36.989662Z",
     "iopub.status.idle": "2024-10-22T16:11:36.995299Z",
     "shell.execute_reply": "2024-10-22T16:11:36.993804Z"
    },
    "jupyter": {
     "outputs_hidden": true
    },
    "papermill": {
     "duration": 0.017857,
     "end_time": "2024-10-22T16:11:36.998029",
     "exception": false,
     "start_time": "2024-10-22T16:11:36.980172",
     "status": "completed"
    },
    "tags": []
   },
   "outputs": [],
   "source": [
    "# step_2.hint()\n",
    "# step_2.solution()"
   ]
  },
  {
   "cell_type": "markdown",
   "id": "9657d902",
   "metadata": {
    "papermill": {
     "duration": 0.008531,
     "end_time": "2024-10-22T16:11:37.015236",
     "exception": false,
     "start_time": "2024-10-22T16:11:37.006705",
     "status": "completed"
    },
    "tags": []
   },
   "source": [
    "## Review Data\n",
    "Before building a model, take a quick look at **X** to verify it looks sensible"
   ]
  },
  {
   "cell_type": "code",
   "execution_count": 7,
   "id": "f3b1430f",
   "metadata": {
    "collapsed": true,
    "execution": {
     "iopub.execute_input": "2024-10-22T16:11:37.034034Z",
     "iopub.status.busy": "2024-10-22T16:11:37.033338Z",
     "iopub.status.idle": "2024-10-22T16:11:37.038910Z",
     "shell.execute_reply": "2024-10-22T16:11:37.037596Z"
    },
    "jupyter": {
     "outputs_hidden": true
    },
    "papermill": {
     "duration": 0.017857,
     "end_time": "2024-10-22T16:11:37.041745",
     "exception": false,
     "start_time": "2024-10-22T16:11:37.023888",
     "status": "completed"
    },
    "tags": []
   },
   "outputs": [],
   "source": [
    "# Review data\n",
    "# print description or statistics from X\n",
    "#print(_)\n",
    "\n",
    "# print the top few lines\n",
    "#print(_)"
   ]
  },
  {
   "cell_type": "markdown",
   "id": "8c37676e",
   "metadata": {
    "papermill": {
     "duration": 0.007706,
     "end_time": "2024-10-22T16:11:37.057671",
     "exception": false,
     "start_time": "2024-10-22T16:11:37.049965",
     "status": "completed"
    },
    "tags": []
   },
   "source": [
    "## Step 3: Specify and Fit Model\n",
    "Create a `DecisionTreeRegressor` and save it iowa_model. Ensure you've done the relevant import from sklearn to run this command.\n",
    "\n",
    "Then fit the model you just created using the data in `X` and `y` that you saved above."
   ]
  },
  {
   "cell_type": "code",
   "execution_count": 8,
   "id": "bc60cb7e",
   "metadata": {
    "collapsed": true,
    "execution": {
     "iopub.execute_input": "2024-10-22T16:11:37.076740Z",
     "iopub.status.busy": "2024-10-22T16:11:37.076254Z",
     "iopub.status.idle": "2024-10-22T16:11:37.086655Z",
     "shell.execute_reply": "2024-10-22T16:11:37.085475Z"
    },
    "jupyter": {
     "outputs_hidden": true
    },
    "papermill": {
     "duration": 0.02304,
     "end_time": "2024-10-22T16:11:37.089252",
     "exception": false,
     "start_time": "2024-10-22T16:11:37.066212",
     "status": "completed"
    },
    "tags": []
   },
   "outputs": [
    {
     "data": {
      "application/javascript": [
       "parent.postMessage({\"jupyterEvent\": \"custom.exercise_interaction\", \"data\": {\"outcomeType\": 4, \"interactionType\": 1, \"questionType\": 2, \"questionId\": \"3_CreateModel\", \"learnToolsVersion\": \"0.3.4\", \"valueTowardsCompletion\": 0.0, \"failureMessage\": \"\", \"exceptionClass\": \"\", \"trace\": \"\"}}, \"*\")"
      ],
      "text/plain": [
       "<IPython.core.display.Javascript object>"
      ]
     },
     "metadata": {},
     "output_type": "display_data"
    },
    {
     "data": {
      "text/markdown": [
       "<span style=\"color:#ccaa33\">Check:</span> When you've updated the starter code, `check()` will tell you whether your code is correct. You need to update the code that creates variable `iowa_model`"
      ],
      "text/plain": [
       "Check: When you've updated the starter code, `check()` will tell you whether your code is correct. You need to update the code that creates variable `iowa_model`"
      ]
     },
     "metadata": {},
     "output_type": "display_data"
    }
   ],
   "source": [
    "# from _ import _\n",
    "#specify the model. \n",
    "#For model reproducibility, set a numeric value for random_state when specifying the model\n",
    "iowa_model = ____\n",
    "\n",
    "# Fit the model\n",
    "____\n",
    "\n",
    "# Check your answer\n",
    "step_3.check()"
   ]
  },
  {
   "cell_type": "code",
   "execution_count": 9,
   "id": "6244ca9d",
   "metadata": {
    "collapsed": true,
    "execution": {
     "iopub.execute_input": "2024-10-22T16:11:37.108267Z",
     "iopub.status.busy": "2024-10-22T16:11:37.107855Z",
     "iopub.status.idle": "2024-10-22T16:11:37.113436Z",
     "shell.execute_reply": "2024-10-22T16:11:37.111897Z"
    },
    "jupyter": {
     "outputs_hidden": true
    },
    "papermill": {
     "duration": 0.018559,
     "end_time": "2024-10-22T16:11:37.116555",
     "exception": false,
     "start_time": "2024-10-22T16:11:37.097996",
     "status": "completed"
    },
    "tags": []
   },
   "outputs": [],
   "source": [
    "# step_3.hint()\n",
    "# step_3.solution()"
   ]
  },
  {
   "cell_type": "markdown",
   "id": "0979b776",
   "metadata": {
    "papermill": {
     "duration": 0.008395,
     "end_time": "2024-10-22T16:11:37.134119",
     "exception": false,
     "start_time": "2024-10-22T16:11:37.125724",
     "status": "completed"
    },
    "tags": []
   },
   "source": [
    "## Step 4: Make Predictions\n",
    "Make predictions with the model's `predict` command using `X` as the data. Save the results to a variable called `predictions`."
   ]
  },
  {
   "cell_type": "code",
   "execution_count": 10,
   "id": "30f27567",
   "metadata": {
    "collapsed": true,
    "execution": {
     "iopub.execute_input": "2024-10-22T16:11:37.153019Z",
     "iopub.status.busy": "2024-10-22T16:11:37.152574Z",
     "iopub.status.idle": "2024-10-22T16:11:37.165154Z",
     "shell.execute_reply": "2024-10-22T16:11:37.163593Z"
    },
    "jupyter": {
     "outputs_hidden": true
    },
    "papermill": {
     "duration": 0.025196,
     "end_time": "2024-10-22T16:11:37.167834",
     "exception": false,
     "start_time": "2024-10-22T16:11:37.142638",
     "status": "completed"
    },
    "tags": []
   },
   "outputs": [
    {
     "name": "stdout",
     "output_type": "stream",
     "text": [
      "<learntools.core.constants.PlaceholderValue object at 0x78df0f171120>\n"
     ]
    },
    {
     "data": {
      "application/javascript": [
       "parent.postMessage({\"jupyterEvent\": \"custom.exercise_interaction\", \"data\": {\"outcomeType\": 4, \"interactionType\": 1, \"questionType\": 2, \"questionId\": \"4_MakePredictions\", \"learnToolsVersion\": \"0.3.4\", \"valueTowardsCompletion\": 0.0, \"failureMessage\": \"\", \"exceptionClass\": \"\", \"trace\": \"\"}}, \"*\")"
      ],
      "text/plain": [
       "<IPython.core.display.Javascript object>"
      ]
     },
     "metadata": {},
     "output_type": "display_data"
    },
    {
     "data": {
      "text/markdown": [
       "<span style=\"color:#ccaa33\">Check:</span> When you've updated the starter code, `check()` will tell you whether your code is correct. You need to update the code that creates variables `predictions`, `iowa_model`, `X`"
      ],
      "text/plain": [
       "Check: When you've updated the starter code, `check()` will tell you whether your code is correct. You need to update the code that creates variables `predictions`, `iowa_model`, `X`"
      ]
     },
     "metadata": {},
     "output_type": "display_data"
    }
   ],
   "source": [
    "predictions = ____\n",
    "print(predictions)\n",
    "\n",
    "# Check your answer\n",
    "step_4.check()"
   ]
  },
  {
   "cell_type": "code",
   "execution_count": 11,
   "id": "dce582f2",
   "metadata": {
    "collapsed": true,
    "execution": {
     "iopub.execute_input": "2024-10-22T16:11:37.188377Z",
     "iopub.status.busy": "2024-10-22T16:11:37.187918Z",
     "iopub.status.idle": "2024-10-22T16:11:37.193711Z",
     "shell.execute_reply": "2024-10-22T16:11:37.192239Z"
    },
    "jupyter": {
     "outputs_hidden": true
    },
    "papermill": {
     "duration": 0.019393,
     "end_time": "2024-10-22T16:11:37.196738",
     "exception": false,
     "start_time": "2024-10-22T16:11:37.177345",
     "status": "completed"
    },
    "tags": []
   },
   "outputs": [],
   "source": [
    "# step_4.hint()\n",
    "# step_4.solution()"
   ]
  },
  {
   "cell_type": "markdown",
   "id": "4a2a14b8",
   "metadata": {
    "papermill": {
     "duration": 0.008758,
     "end_time": "2024-10-22T16:11:37.214733",
     "exception": false,
     "start_time": "2024-10-22T16:11:37.205975",
     "status": "completed"
    },
    "tags": []
   },
   "source": [
    "## Think About Your Results\n",
    "\n",
    "Use the `head` method to compare the top few predictions to the actual home values (in `y`) for those same homes. Anything surprising?\n"
   ]
  },
  {
   "cell_type": "code",
   "execution_count": 12,
   "id": "1c91e7ef",
   "metadata": {
    "execution": {
     "iopub.execute_input": "2024-10-22T16:11:37.235443Z",
     "iopub.status.busy": "2024-10-22T16:11:37.234977Z",
     "iopub.status.idle": "2024-10-22T16:11:37.240518Z",
     "shell.execute_reply": "2024-10-22T16:11:37.239343Z"
    },
    "papermill": {
     "duration": 0.018878,
     "end_time": "2024-10-22T16:11:37.243210",
     "exception": false,
     "start_time": "2024-10-22T16:11:37.224332",
     "status": "completed"
    },
    "tags": []
   },
   "outputs": [],
   "source": [
    "# You can write code in this cell\n"
   ]
  },
  {
   "cell_type": "markdown",
   "id": "53155e74",
   "metadata": {
    "papermill": {
     "duration": 0.009493,
     "end_time": "2024-10-22T16:11:37.262052",
     "exception": false,
     "start_time": "2024-10-22T16:11:37.252559",
     "status": "completed"
    },
    "tags": []
   },
   "source": [
    "It's natural to ask how accurate the model's predictions will be and how you can improve that. That will be you're next step.\n",
    "\n",
    "# Keep Going\n",
    "\n",
    "You are ready for **[Model Validation](https://www.kaggle.com/dansbecker/model-validation).**\n"
   ]
  },
  {
   "cell_type": "markdown",
   "id": "223fae02",
   "metadata": {
    "papermill": {
     "duration": 0.009048,
     "end_time": "2024-10-22T16:11:37.280992",
     "exception": false,
     "start_time": "2024-10-22T16:11:37.271944",
     "status": "completed"
    },
    "tags": []
   },
   "source": [
    "---\n",
    "\n",
    "\n",
    "\n",
    "\n",
    "*Have questions or comments? Visit the [course discussion forum](https://www.kaggle.com/learn/intro-to-machine-learning/discussion) to chat with other learners.*"
   ]
  }
 ],
 "metadata": {
  "kaggle": {
   "accelerator": "none",
   "dataSources": [
    {
     "databundleVersionId": 111096,
     "sourceId": 10211,
     "sourceType": "competition"
    },
    {
     "datasetId": 11167,
     "sourceId": 15520,
     "sourceType": "datasetVersion"
    },
    {
     "datasetId": 2709,
     "sourceId": 38454,
     "sourceType": "datasetVersion"
    }
   ],
   "isGpuEnabled": false,
   "isInternetEnabled": false,
   "language": "python",
   "sourceType": "notebook"
  },
  "kernelspec": {
   "display_name": "Python 3",
   "language": "python",
   "name": "python3"
  },
  "language_info": {
   "codemirror_mode": {
    "name": "ipython",
    "version": 3
   },
   "file_extension": ".py",
   "mimetype": "text/x-python",
   "name": "python",
   "nbconvert_exporter": "python",
   "pygments_lexer": "ipython3",
   "version": "3.10.14"
  },
  "papermill": {
   "default_parameters": {},
   "duration": 7.935135,
   "end_time": "2024-10-22T16:11:38.014635",
   "environment_variables": {},
   "exception": null,
   "input_path": "__notebook__.ipynb",
   "output_path": "__notebook__.ipynb",
   "parameters": {},
   "start_time": "2024-10-22T16:11:30.079500",
   "version": "2.6.0"
  }
 },
 "nbformat": 4,
 "nbformat_minor": 5
}

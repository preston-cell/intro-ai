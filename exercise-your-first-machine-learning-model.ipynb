{
 "cells": [
  {
   "cell_type": "markdown",
   "id": "04f2668e",
   "metadata": {
    "papermill": {
     "duration": 0.007816,
     "end_time": "2024-10-22T16:31:55.791858",
     "exception": false,
     "start_time": "2024-10-22T16:31:55.784042",
     "status": "completed"
    },
    "tags": []
   },
   "source": [
    "**This notebook is an exercise in the [Introduction to Machine Learning](https://www.kaggle.com/learn/intro-to-machine-learning) course.  You can reference the tutorial at [this link](https://www.kaggle.com/dansbecker/your-first-machine-learning-model).**\n",
    "\n",
    "---\n"
   ]
  },
  {
   "cell_type": "markdown",
   "id": "3044e20c",
   "metadata": {
    "papermill": {
     "duration": 0.006954,
     "end_time": "2024-10-22T16:31:55.806105",
     "exception": false,
     "start_time": "2024-10-22T16:31:55.799151",
     "status": "completed"
    },
    "tags": []
   },
   "source": [
    "## Recap\n",
    "So far, you have loaded your data and reviewed it with the following code. Run this cell to set up your coding environment where the previous step left off."
   ]
  },
  {
   "cell_type": "code",
   "execution_count": 1,
   "id": "6c6283a9",
   "metadata": {
    "execution": {
     "iopub.execute_input": "2024-10-22T16:31:55.822725Z",
     "iopub.status.busy": "2024-10-22T16:31:55.822137Z",
     "iopub.status.idle": "2024-10-22T16:31:58.549233Z",
     "shell.execute_reply": "2024-10-22T16:31:58.547891Z"
    },
    "papermill": {
     "duration": 2.738882,
     "end_time": "2024-10-22T16:31:58.552192",
     "exception": false,
     "start_time": "2024-10-22T16:31:55.813310",
     "status": "completed"
    },
    "tags": []
   },
   "outputs": [
    {
     "name": "stdout",
     "output_type": "stream",
     "text": [
      "Setup Complete\n"
     ]
    }
   ],
   "source": [
    "# Code you have previously used to load data\n",
    "import pandas as pd\n",
    "\n",
    "# Path of the file to read\n",
    "iowa_file_path = '../input/home-data-for-ml-course/train.csv'\n",
    "\n",
    "home_data = pd.read_csv(iowa_file_path)\n",
    "\n",
    "# Set up code checking\n",
    "from learntools.core import binder\n",
    "binder.bind(globals())\n",
    "from learntools.machine_learning.ex3 import *\n",
    "\n",
    "print(\"Setup Complete\")"
   ]
  },
  {
   "cell_type": "markdown",
   "id": "536e9ee5",
   "metadata": {
    "papermill": {
     "duration": 0.007139,
     "end_time": "2024-10-22T16:31:58.566809",
     "exception": false,
     "start_time": "2024-10-22T16:31:58.559670",
     "status": "completed"
    },
    "tags": []
   },
   "source": [
    "# Exercises\n",
    "\n",
    "## Step 1: Specify Prediction Target\n",
    "Select the target variable, which corresponds to the sales price. Save this to a new variable called `y`. You'll need to print a list of the columns to find the name of the column you need.\n"
   ]
  },
  {
   "cell_type": "code",
   "execution_count": 2,
   "id": "20c559ad",
   "metadata": {
    "execution": {
     "iopub.execute_input": "2024-10-22T16:31:58.584200Z",
     "iopub.status.busy": "2024-10-22T16:31:58.583511Z",
     "iopub.status.idle": "2024-10-22T16:31:58.589604Z",
     "shell.execute_reply": "2024-10-22T16:31:58.588148Z"
    },
    "papermill": {
     "duration": 0.017686,
     "end_time": "2024-10-22T16:31:58.592262",
     "exception": false,
     "start_time": "2024-10-22T16:31:58.574576",
     "status": "completed"
    },
    "tags": []
   },
   "outputs": [],
   "source": [
    "# print the list of columns in the dataset to find the name of the prediction target\n"
   ]
  },
  {
   "cell_type": "code",
   "execution_count": 3,
   "id": "0e14eeb5",
   "metadata": {
    "execution": {
     "iopub.execute_input": "2024-10-22T16:31:58.608663Z",
     "iopub.status.busy": "2024-10-22T16:31:58.608221Z",
     "iopub.status.idle": "2024-10-22T16:31:58.626180Z",
     "shell.execute_reply": "2024-10-22T16:31:58.624743Z"
    },
    "papermill": {
     "duration": 0.029244,
     "end_time": "2024-10-22T16:31:58.628758",
     "exception": false,
     "start_time": "2024-10-22T16:31:58.599514",
     "status": "completed"
    },
    "tags": []
   },
   "outputs": [
    {
     "data": {
      "application/javascript": [
       "parent.postMessage({\"jupyterEvent\": \"custom.exercise_interaction\", \"data\": {\"outcomeType\": 1, \"valueTowardsCompletion\": 0.25, \"interactionType\": 1, \"questionType\": 2, \"questionId\": \"1_SetTarget\", \"learnToolsVersion\": \"0.3.4\", \"failureMessage\": \"\", \"exceptionClass\": \"\", \"trace\": \"\"}}, \"*\")"
      ],
      "text/plain": [
       "<IPython.core.display.Javascript object>"
      ]
     },
     "metadata": {},
     "output_type": "display_data"
    },
    {
     "data": {
      "text/markdown": [
       "<span style=\"color:#33cc33\">Correct</span>"
      ],
      "text/plain": [
       "Correct"
      ]
     },
     "metadata": {},
     "output_type": "display_data"
    }
   ],
   "source": [
    "y = home_data.SalePrice\n",
    "\n",
    "# Check your answer\n",
    "step_1.check()"
   ]
  },
  {
   "cell_type": "code",
   "execution_count": 4,
   "id": "c23abeb0",
   "metadata": {
    "execution": {
     "iopub.execute_input": "2024-10-22T16:31:58.646851Z",
     "iopub.status.busy": "2024-10-22T16:31:58.646378Z",
     "iopub.status.idle": "2024-10-22T16:31:58.651571Z",
     "shell.execute_reply": "2024-10-22T16:31:58.650350Z"
    },
    "papermill": {
     "duration": 0.01716,
     "end_time": "2024-10-22T16:31:58.654549",
     "exception": false,
     "start_time": "2024-10-22T16:31:58.637389",
     "status": "completed"
    },
    "tags": []
   },
   "outputs": [],
   "source": [
    "# The lines below will show you a hint or the solution.\n",
    "# step_1.hint() \n",
    "# step_1.solution()"
   ]
  },
  {
   "cell_type": "markdown",
   "id": "43d6d8e4",
   "metadata": {
    "papermill": {
     "duration": 0.00737,
     "end_time": "2024-10-22T16:31:58.669620",
     "exception": false,
     "start_time": "2024-10-22T16:31:58.662250",
     "status": "completed"
    },
    "tags": []
   },
   "source": [
    "## Step 2: Create X\n",
    "Now you will create a DataFrame called `X` holding the predictive features.\n",
    "\n",
    "Since you want only some columns from the original data, you'll first create a list with the names of the columns you want in `X`.\n",
    "\n",
    "You'll use just the following columns in the list (you can copy and paste the whole list to save some typing, though you'll still need to add quotes):\n",
    "  * LotArea\n",
    "  * YearBuilt\n",
    "  * 1stFlrSF\n",
    "  * 2ndFlrSF\n",
    "  * FullBath\n",
    "  * BedroomAbvGr\n",
    "  * TotRmsAbvGrd\n",
    "\n",
    "After you've created that list of features, use it to create the DataFrame that you'll use to fit the model."
   ]
  },
  {
   "cell_type": "code",
   "execution_count": 5,
   "id": "238ef621",
   "metadata": {
    "execution": {
     "iopub.execute_input": "2024-10-22T16:31:58.686524Z",
     "iopub.status.busy": "2024-10-22T16:31:58.686070Z",
     "iopub.status.idle": "2024-10-22T16:31:58.701107Z",
     "shell.execute_reply": "2024-10-22T16:31:58.699807Z"
    },
    "papermill": {
     "duration": 0.026712,
     "end_time": "2024-10-22T16:31:58.703787",
     "exception": false,
     "start_time": "2024-10-22T16:31:58.677075",
     "status": "completed"
    },
    "tags": []
   },
   "outputs": [
    {
     "data": {
      "application/javascript": [
       "parent.postMessage({\"jupyterEvent\": \"custom.exercise_interaction\", \"data\": {\"outcomeType\": 1, \"valueTowardsCompletion\": 0.25, \"interactionType\": 1, \"questionType\": 2, \"questionId\": \"2_SelectPredictionData\", \"learnToolsVersion\": \"0.3.4\", \"failureMessage\": \"\", \"exceptionClass\": \"\", \"trace\": \"\"}}, \"*\")"
      ],
      "text/plain": [
       "<IPython.core.display.Javascript object>"
      ]
     },
     "metadata": {},
     "output_type": "display_data"
    },
    {
     "data": {
      "text/markdown": [
       "<span style=\"color:#33cc33\">Correct</span>"
      ],
      "text/plain": [
       "Correct"
      ]
     },
     "metadata": {},
     "output_type": "display_data"
    }
   ],
   "source": [
    "# Create the list of features below\n",
    "feature_names = [\"LotArea\", \"YearBuilt\", \"1stFlrSF\", \"2ndFlrSF\",\"FullBath\", \"BedroomAbvGr\", \"TotRmsAbvGrd\"]\n",
    "\n",
    "# Select data corresponding to features in feature_names\n",
    "X = home_data[feature_names]\n",
    "\n",
    "# Check your answer\n",
    "step_2.check()"
   ]
  },
  {
   "cell_type": "code",
   "execution_count": 6,
   "id": "df6fffa4",
   "metadata": {
    "execution": {
     "iopub.execute_input": "2024-10-22T16:31:58.721335Z",
     "iopub.status.busy": "2024-10-22T16:31:58.720903Z",
     "iopub.status.idle": "2024-10-22T16:31:58.726285Z",
     "shell.execute_reply": "2024-10-22T16:31:58.725026Z"
    },
    "papermill": {
     "duration": 0.017227,
     "end_time": "2024-10-22T16:31:58.728998",
     "exception": false,
     "start_time": "2024-10-22T16:31:58.711771",
     "status": "completed"
    },
    "tags": []
   },
   "outputs": [],
   "source": [
    "# step_2.hint()\n",
    "# step_2.solution()"
   ]
  },
  {
   "cell_type": "markdown",
   "id": "72c86123",
   "metadata": {
    "papermill": {
     "duration": 0.007598,
     "end_time": "2024-10-22T16:31:58.744438",
     "exception": false,
     "start_time": "2024-10-22T16:31:58.736840",
     "status": "completed"
    },
    "tags": []
   },
   "source": [
    "## Review Data\n",
    "Before building a model, take a quick look at **X** to verify it looks sensible"
   ]
  },
  {
   "cell_type": "code",
   "execution_count": 7,
   "id": "f76303eb",
   "metadata": {
    "execution": {
     "iopub.execute_input": "2024-10-22T16:31:58.763275Z",
     "iopub.status.busy": "2024-10-22T16:31:58.762838Z",
     "iopub.status.idle": "2024-10-22T16:31:58.777983Z",
     "shell.execute_reply": "2024-10-22T16:31:58.776478Z"
    },
    "papermill": {
     "duration": 0.027491,
     "end_time": "2024-10-22T16:31:58.780793",
     "exception": false,
     "start_time": "2024-10-22T16:31:58.753302",
     "status": "completed"
    },
    "tags": []
   },
   "outputs": [
    {
     "name": "stdout",
     "output_type": "stream",
     "text": [
      "      LotArea  YearBuilt  1stFlrSF  2ndFlrSF  FullBath  BedroomAbvGr  \\\n",
      "0        8450       2003       856       854         2             3   \n",
      "1        9600       1976      1262         0         2             3   \n",
      "2       11250       2001       920       866         2             3   \n",
      "3        9550       1915       961       756         1             3   \n",
      "4       14260       2000      1145      1053         2             4   \n",
      "...       ...        ...       ...       ...       ...           ...   \n",
      "1455     7917       1999       953       694         2             3   \n",
      "1456    13175       1978      2073         0         2             3   \n",
      "1457     9042       1941      1188      1152         2             4   \n",
      "1458     9717       1950      1078         0         1             2   \n",
      "1459     9937       1965      1256         0         1             3   \n",
      "\n",
      "      TotRmsAbvGrd  \n",
      "0                8  \n",
      "1                6  \n",
      "2                6  \n",
      "3                7  \n",
      "4                9  \n",
      "...            ...  \n",
      "1455             7  \n",
      "1456             7  \n",
      "1457             9  \n",
      "1458             5  \n",
      "1459             6  \n",
      "\n",
      "[1460 rows x 7 columns]\n"
     ]
    }
   ],
   "source": [
    "# Review data\n",
    "# print description or statistics from X\n",
    "print(X)\n",
    "\n",
    "# print the top few lines\n",
    "#print(_)"
   ]
  },
  {
   "cell_type": "markdown",
   "id": "15d91c85",
   "metadata": {
    "papermill": {
     "duration": 0.007817,
     "end_time": "2024-10-22T16:31:58.796834",
     "exception": false,
     "start_time": "2024-10-22T16:31:58.789017",
     "status": "completed"
    },
    "tags": []
   },
   "source": [
    "## Step 3: Specify and Fit Model\n",
    "Create a `DecisionTreeRegressor` and save it iowa_model. Ensure you've done the relevant import from sklearn to run this command.\n",
    "\n",
    "Then fit the model you just created using the data in `X` and `y` that you saved above."
   ]
  },
  {
   "cell_type": "code",
   "execution_count": 8,
   "id": "e4c80e92",
   "metadata": {
    "execution": {
     "iopub.execute_input": "2024-10-22T16:31:58.816490Z",
     "iopub.status.busy": "2024-10-22T16:31:58.815229Z",
     "iopub.status.idle": "2024-10-22T16:31:58.840222Z",
     "shell.execute_reply": "2024-10-22T16:31:58.838793Z"
    },
    "papermill": {
     "duration": 0.037616,
     "end_time": "2024-10-22T16:31:58.843295",
     "exception": false,
     "start_time": "2024-10-22T16:31:58.805679",
     "status": "completed"
    },
    "tags": []
   },
   "outputs": [
    {
     "data": {
      "application/javascript": [
       "parent.postMessage({\"jupyterEvent\": \"custom.exercise_interaction\", \"data\": {\"outcomeType\": 1, \"valueTowardsCompletion\": 0.25, \"interactionType\": 1, \"questionType\": 2, \"questionId\": \"3_CreateModel\", \"learnToolsVersion\": \"0.3.4\", \"failureMessage\": \"\", \"exceptionClass\": \"\", \"trace\": \"\"}}, \"*\")"
      ],
      "text/plain": [
       "<IPython.core.display.Javascript object>"
      ]
     },
     "metadata": {},
     "output_type": "display_data"
    },
    {
     "data": {
      "text/markdown": [
       "<span style=\"color:#33cc33\">Correct</span>"
      ],
      "text/plain": [
       "Correct"
      ]
     },
     "metadata": {},
     "output_type": "display_data"
    }
   ],
   "source": [
    "from sklearn.tree import DecisionTreeRegressor\n",
    "#specify the model. \n",
    "iowa_model = DecisionTreeRegressor(random_state=1)\n",
    "#For model reproducibility, set a numeric value for random_state when specifying the model\n",
    "\n",
    "\n",
    "# Fit the model\n",
    "iowa_model.fit(X, y)\n",
    "\n",
    "# Check your answer\n",
    "step_3.check()"
   ]
  },
  {
   "cell_type": "code",
   "execution_count": 9,
   "id": "a870d307",
   "metadata": {
    "execution": {
     "iopub.execute_input": "2024-10-22T16:31:58.862187Z",
     "iopub.status.busy": "2024-10-22T16:31:58.861760Z",
     "iopub.status.idle": "2024-10-22T16:31:58.867148Z",
     "shell.execute_reply": "2024-10-22T16:31:58.865851Z"
    },
    "papermill": {
     "duration": 0.018175,
     "end_time": "2024-10-22T16:31:58.870038",
     "exception": false,
     "start_time": "2024-10-22T16:31:58.851863",
     "status": "completed"
    },
    "tags": []
   },
   "outputs": [],
   "source": [
    "# step_3.hint()\n",
    "# step_3.solution()"
   ]
  },
  {
   "cell_type": "markdown",
   "id": "34a20ba1",
   "metadata": {
    "papermill": {
     "duration": 0.008252,
     "end_time": "2024-10-22T16:31:58.886629",
     "exception": false,
     "start_time": "2024-10-22T16:31:58.878377",
     "status": "completed"
    },
    "tags": []
   },
   "source": [
    "## Step 4: Make Predictions\n",
    "Make predictions with the model's `predict` command using `X` as the data. Save the results to a variable called `predictions`."
   ]
  },
  {
   "cell_type": "code",
   "execution_count": 10,
   "id": "8713edac",
   "metadata": {
    "execution": {
     "iopub.execute_input": "2024-10-22T16:31:58.906052Z",
     "iopub.status.busy": "2024-10-22T16:31:58.905092Z",
     "iopub.status.idle": "2024-10-22T16:31:58.921592Z",
     "shell.execute_reply": "2024-10-22T16:31:58.920258Z"
    },
    "papermill": {
     "duration": 0.029489,
     "end_time": "2024-10-22T16:31:58.924545",
     "exception": false,
     "start_time": "2024-10-22T16:31:58.895056",
     "status": "completed"
    },
    "tags": []
   },
   "outputs": [
    {
     "name": "stdout",
     "output_type": "stream",
     "text": [
      "[208500. 181500. 223500. ... 266500. 142125. 147500.]\n"
     ]
    },
    {
     "data": {
      "application/javascript": [
       "parent.postMessage({\"jupyterEvent\": \"custom.exercise_interaction\", \"data\": {\"outcomeType\": 1, \"valueTowardsCompletion\": 0.25, \"interactionType\": 1, \"questionType\": 2, \"questionId\": \"4_MakePredictions\", \"learnToolsVersion\": \"0.3.4\", \"failureMessage\": \"\", \"exceptionClass\": \"\", \"trace\": \"\"}}, \"*\")"
      ],
      "text/plain": [
       "<IPython.core.display.Javascript object>"
      ]
     },
     "metadata": {},
     "output_type": "display_data"
    },
    {
     "data": {
      "text/markdown": [
       "<span style=\"color:#33cc33\">Correct</span>"
      ],
      "text/plain": [
       "Correct"
      ]
     },
     "metadata": {},
     "output_type": "display_data"
    }
   ],
   "source": [
    "predictions = iowa_model.predict(X)\n",
    "print(predictions)\n",
    "\n",
    "# Check your answer\n",
    "step_4.check()"
   ]
  },
  {
   "cell_type": "code",
   "execution_count": 11,
   "id": "e04f9c0c",
   "metadata": {
    "execution": {
     "iopub.execute_input": "2024-10-22T16:31:58.945564Z",
     "iopub.status.busy": "2024-10-22T16:31:58.945071Z",
     "iopub.status.idle": "2024-10-22T16:31:58.951029Z",
     "shell.execute_reply": "2024-10-22T16:31:58.949508Z"
    },
    "papermill": {
     "duration": 0.020009,
     "end_time": "2024-10-22T16:31:58.954095",
     "exception": false,
     "start_time": "2024-10-22T16:31:58.934086",
     "status": "completed"
    },
    "tags": []
   },
   "outputs": [],
   "source": [
    "# step_4.hint()\n",
    "# step_4.solution()"
   ]
  },
  {
   "cell_type": "markdown",
   "id": "fbb474ed",
   "metadata": {
    "papermill": {
     "duration": 0.008486,
     "end_time": "2024-10-22T16:31:58.971994",
     "exception": false,
     "start_time": "2024-10-22T16:31:58.963508",
     "status": "completed"
    },
    "tags": []
   },
   "source": [
    "## Think About Your Results\n",
    "\n",
    "Use the `head` method to compare the top few predictions to the actual home values (in `y`) for those same homes. Anything surprising?\n"
   ]
  },
  {
   "cell_type": "code",
   "execution_count": 12,
   "id": "a9fe629f",
   "metadata": {
    "execution": {
     "iopub.execute_input": "2024-10-22T16:31:58.991620Z",
     "iopub.status.busy": "2024-10-22T16:31:58.991141Z",
     "iopub.status.idle": "2024-10-22T16:31:58.998956Z",
     "shell.execute_reply": "2024-10-22T16:31:58.997625Z"
    },
    "papermill": {
     "duration": 0.020762,
     "end_time": "2024-10-22T16:31:59.001591",
     "exception": false,
     "start_time": "2024-10-22T16:31:58.980829",
     "status": "completed"
    },
    "tags": []
   },
   "outputs": [
    {
     "name": "stdout",
     "output_type": "stream",
     "text": [
      "Predictions:  [208500. 181500. 223500. 140000. 250000.]\n",
      "Actual values:  [208500 181500 223500 140000 250000]\n"
     ]
    }
   ],
   "source": [
    "# You can write code in this cell\n",
    "\n",
    "print(\"Predictions: \", predictions[:5])\n",
    "print(\"Actual values: \", y.head().values)"
   ]
  },
  {
   "cell_type": "markdown",
   "id": "6fee40b8",
   "metadata": {
    "papermill": {
     "duration": 0.008695,
     "end_time": "2024-10-22T16:31:59.019154",
     "exception": false,
     "start_time": "2024-10-22T16:31:59.010459",
     "status": "completed"
    },
    "tags": []
   },
   "source": [
    "It's natural to ask how accurate the model's predictions will be and how you can improve that. That will be you're next step.\n",
    "\n",
    "# Keep Going\n",
    "\n",
    "You are ready for **[Model Validation](https://www.kaggle.com/dansbecker/model-validation).**\n"
   ]
  },
  {
   "cell_type": "markdown",
   "id": "109dc5f5",
   "metadata": {
    "papermill": {
     "duration": 0.009392,
     "end_time": "2024-10-22T16:31:59.038148",
     "exception": false,
     "start_time": "2024-10-22T16:31:59.028756",
     "status": "completed"
    },
    "tags": []
   },
   "source": [
    "---\n",
    "\n",
    "\n",
    "\n",
    "\n",
    "*Have questions or comments? Visit the [course discussion forum](https://www.kaggle.com/learn/intro-to-machine-learning/discussion) to chat with other learners.*"
   ]
  }
 ],
 "metadata": {
  "kaggle": {
   "accelerator": "none",
   "dataSources": [
    {
     "databundleVersionId": 111096,
     "sourceId": 10211,
     "sourceType": "competition"
    },
    {
     "datasetId": 11167,
     "sourceId": 15520,
     "sourceType": "datasetVersion"
    },
    {
     "datasetId": 2709,
     "sourceId": 38454,
     "sourceType": "datasetVersion"
    }
   ],
   "isGpuEnabled": false,
   "isInternetEnabled": false,
   "language": "python",
   "sourceType": "notebook"
  },
  "kernelspec": {
   "display_name": "Python 3",
   "language": "python",
   "name": "python3"
  },
  "language_info": {
   "codemirror_mode": {
    "name": "ipython",
    "version": 3
   },
   "file_extension": ".py",
   "mimetype": "text/x-python",
   "name": "python",
   "nbconvert_exporter": "python",
   "pygments_lexer": "ipython3",
   "version": "3.10.14"
  },
  "papermill": {
   "default_parameters": {},
   "duration": 7.676394,
   "end_time": "2024-10-22T16:31:59.771070",
   "environment_variables": {},
   "exception": null,
   "input_path": "__notebook__.ipynb",
   "output_path": "__notebook__.ipynb",
   "parameters": {},
   "start_time": "2024-10-22T16:31:52.094676",
   "version": "2.6.0"
  }
 },
 "nbformat": 4,
 "nbformat_minor": 5
}

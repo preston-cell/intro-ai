{
 "cells": [
  {
   "cell_type": "markdown",
   "id": "5cc593a4",
   "metadata": {
    "papermill": {
     "duration": 0.004391,
     "end_time": "2025-01-15T17:39:03.628850",
     "exception": false,
     "start_time": "2025-01-15T17:39:03.624459",
     "status": "completed"
    },
    "tags": []
   },
   "source": [
    "**This notebook is an exercise in the [Intro to Deep Learning](https://www.kaggle.com/learn/intro-to-deep-learning) course.  You can reference the tutorial at [this link](https://www.kaggle.com/ryanholbrook/dropout-and-batch-normalization).**\n",
    "\n",
    "---\n"
   ]
  },
  {
   "cell_type": "markdown",
   "id": "586fa7d3",
   "metadata": {
    "papermill": {
     "duration": 0.00345,
     "end_time": "2025-01-15T17:39:03.636042",
     "exception": false,
     "start_time": "2025-01-15T17:39:03.632592",
     "status": "completed"
    },
    "tags": []
   },
   "source": [
    "# Introduction #\n",
    "\n",
    "In this exercise, you'll add dropout to the *Spotify* model from Exercise 4 and see how batch normalization can let you successfully train models on difficult datasets.\n",
    "\n",
    "Run the next cell to get started!"
   ]
  },
  {
   "cell_type": "code",
   "execution_count": 1,
   "id": "2b756590",
   "metadata": {
    "execution": {
     "iopub.execute_input": "2025-01-15T17:39:03.644697Z",
     "iopub.status.busy": "2025-01-15T17:39:03.644300Z",
     "iopub.status.idle": "2025-01-15T17:39:04.358754Z",
     "shell.execute_reply": "2025-01-15T17:39:04.357888Z"
    },
    "papermill": {
     "duration": 0.721268,
     "end_time": "2025-01-15T17:39:04.360814",
     "exception": false,
     "start_time": "2025-01-15T17:39:03.639546",
     "status": "completed"
    },
    "tags": []
   },
   "outputs": [
    {
     "name": "stderr",
     "output_type": "stream",
     "text": [
      "/tmp/ipykernel_26/195640296.py:3: MatplotlibDeprecationWarning: The seaborn styles shipped by Matplotlib are deprecated since 3.6, as they no longer correspond to the styles shipped by seaborn. However, they will remain available as 'seaborn-v0_8-<style>'. Alternatively, directly use the seaborn API instead.\n",
      "  plt.style.use('seaborn-whitegrid')\n"
     ]
    }
   ],
   "source": [
    "# Setup plotting\n",
    "import matplotlib.pyplot as plt\n",
    "plt.style.use('seaborn-whitegrid')\n",
    "# Set Matplotlib defaults\n",
    "plt.rc('figure', autolayout=True)\n",
    "plt.rc('axes', labelweight='bold', labelsize='large',\n",
    "       titleweight='bold', titlesize=18, titlepad=10)\n",
    "plt.rc('animation', html='html5')\n",
    "\n",
    "# Setup feedback system\n",
    "from learntools.core import binder\n",
    "binder.bind(globals())\n",
    "from learntools.deep_learning_intro.ex5 import *"
   ]
  },
  {
   "cell_type": "markdown",
   "id": "f9189aa8",
   "metadata": {
    "papermill": {
     "duration": 0.003578,
     "end_time": "2025-01-15T17:39:04.368385",
     "exception": false,
     "start_time": "2025-01-15T17:39:04.364807",
     "status": "completed"
    },
    "tags": []
   },
   "source": [
    "First load the *Spotify* dataset."
   ]
  },
  {
   "cell_type": "code",
   "execution_count": 2,
   "id": "8064e308",
   "metadata": {
    "execution": {
     "iopub.execute_input": "2025-01-15T17:39:04.377067Z",
     "iopub.status.busy": "2025-01-15T17:39:04.376728Z",
     "iopub.status.idle": "2025-01-15T17:39:17.100369Z",
     "shell.execute_reply": "2025-01-15T17:39:17.099449Z"
    },
    "papermill": {
     "duration": 12.729932,
     "end_time": "2025-01-15T17:39:17.102183",
     "exception": false,
     "start_time": "2025-01-15T17:39:04.372251",
     "status": "completed"
    },
    "tags": []
   },
   "outputs": [
    {
     "name": "stderr",
     "output_type": "stream",
     "text": [
      "2025-01-15 17:39:07.109542: E external/local_xla/xla/stream_executor/cuda/cuda_dnn.cc:9261] Unable to register cuDNN factory: Attempting to register factory for plugin cuDNN when one has already been registered\n",
      "2025-01-15 17:39:07.109698: E external/local_xla/xla/stream_executor/cuda/cuda_fft.cc:607] Unable to register cuFFT factory: Attempting to register factory for plugin cuFFT when one has already been registered\n",
      "2025-01-15 17:39:07.230241: E external/local_xla/xla/stream_executor/cuda/cuda_blas.cc:1515] Unable to register cuBLAS factory: Attempting to register factory for plugin cuBLAS when one has already been registered\n"
     ]
    },
    {
     "name": "stdout",
     "output_type": "stream",
     "text": [
      "Input shape: [18]\n"
     ]
    }
   ],
   "source": [
    "import pandas as pd\n",
    "from sklearn.preprocessing import StandardScaler, OneHotEncoder\n",
    "from sklearn.compose import make_column_transformer\n",
    "from sklearn.model_selection import GroupShuffleSplit\n",
    "\n",
    "from tensorflow import keras\n",
    "from tensorflow.keras import layers\n",
    "from tensorflow.keras import callbacks\n",
    "\n",
    "spotify = pd.read_csv('../input/dl-course-data/spotify.csv')\n",
    "\n",
    "X = spotify.copy().dropna()\n",
    "y = X.pop('track_popularity')\n",
    "artists = X['track_artist']\n",
    "\n",
    "features_num = ['danceability', 'energy', 'key', 'loudness', 'mode',\n",
    "                'speechiness', 'acousticness', 'instrumentalness',\n",
    "                'liveness', 'valence', 'tempo', 'duration_ms']\n",
    "features_cat = ['playlist_genre']\n",
    "\n",
    "preprocessor = make_column_transformer(\n",
    "    (StandardScaler(), features_num),\n",
    "    (OneHotEncoder(), features_cat),\n",
    ")\n",
    "\n",
    "def group_split(X, y, group, train_size=0.75):\n",
    "    splitter = GroupShuffleSplit(train_size=train_size)\n",
    "    train, test = next(splitter.split(X, y, groups=group))\n",
    "    return (X.iloc[train], X.iloc[test], y.iloc[train], y.iloc[test])\n",
    "\n",
    "X_train, X_valid, y_train, y_valid = group_split(X, y, artists)\n",
    "\n",
    "X_train = preprocessor.fit_transform(X_train)\n",
    "X_valid = preprocessor.transform(X_valid)\n",
    "y_train = y_train / 100\n",
    "y_valid = y_valid / 100\n",
    "\n",
    "input_shape = [X_train.shape[1]]\n",
    "print(\"Input shape: {}\".format(input_shape))"
   ]
  },
  {
   "cell_type": "markdown",
   "id": "5bfdc017",
   "metadata": {
    "papermill": {
     "duration": 0.003645,
     "end_time": "2025-01-15T17:39:17.109905",
     "exception": false,
     "start_time": "2025-01-15T17:39:17.106260",
     "status": "completed"
    },
    "tags": []
   },
   "source": [
    "# 1) Add Dropout to Spotify Model\n",
    "\n",
    "Here is the last model from Exercise 4. Add two dropout layers, one after the `Dense` layer with 128 units, and one after the `Dense` layer with 64 units. Set the dropout rate on both to `0.3`."
   ]
  },
  {
   "cell_type": "code",
   "execution_count": 3,
   "id": "55194497",
   "metadata": {
    "execution": {
     "iopub.execute_input": "2025-01-15T17:39:17.118395Z",
     "iopub.status.busy": "2025-01-15T17:39:17.118120Z",
     "iopub.status.idle": "2025-01-15T17:39:17.921641Z",
     "shell.execute_reply": "2025-01-15T17:39:17.920714Z"
    },
    "lines_to_next_cell": 2,
    "papermill": {
     "duration": 0.809664,
     "end_time": "2025-01-15T17:39:17.923255",
     "exception": false,
     "start_time": "2025-01-15T17:39:17.113591",
     "status": "completed"
    },
    "tags": []
   },
   "outputs": [
    {
     "data": {
      "application/javascript": [
       "parent.postMessage({\"jupyterEvent\": \"custom.exercise_interaction\", \"data\": {\"outcomeType\": 1, \"valueTowardsCompletion\": 0.25, \"interactionType\": 1, \"questionType\": 2, \"questionId\": \"1_Q1\", \"learnToolsVersion\": \"0.3.4\", \"failureMessage\": \"\", \"exceptionClass\": \"\", \"trace\": \"\"}}, \"*\")"
      ],
      "text/plain": [
       "<IPython.core.display.Javascript object>"
      ]
     },
     "metadata": {},
     "output_type": "display_data"
    },
    {
     "data": {
      "text/markdown": [
       "<span style=\"color:#33cc33\">Correct</span>"
      ],
      "text/plain": [
       "Correct"
      ]
     },
     "metadata": {},
     "output_type": "display_data"
    }
   ],
   "source": [
    "# YOUR CODE HERE: Add two 30% dropout layers, one after 128 and one after 64\n",
    "model = keras.Sequential([\n",
    "    layers.Dense(128, activation='relu', input_shape=input_shape),\n",
    "    layers.Dropout(0.3),\n",
    "    layers.Dense(64, activation='relu'),\n",
    "    layers.Dropout(0.3),\n",
    "    layers.Dense(1)\n",
    "])\n",
    "\n",
    "# Check your answer\n",
    "q_1.check()"
   ]
  },
  {
   "cell_type": "code",
   "execution_count": 4,
   "id": "7eceae5f",
   "metadata": {
    "execution": {
     "iopub.execute_input": "2025-01-15T17:39:17.932291Z",
     "iopub.status.busy": "2025-01-15T17:39:17.932045Z",
     "iopub.status.idle": "2025-01-15T17:39:17.935278Z",
     "shell.execute_reply": "2025-01-15T17:39:17.934553Z"
    },
    "papermill": {
     "duration": 0.00954,
     "end_time": "2025-01-15T17:39:17.936879",
     "exception": false,
     "start_time": "2025-01-15T17:39:17.927339",
     "status": "completed"
    },
    "tags": []
   },
   "outputs": [],
   "source": [
    "# Lines below will give you a hint or solution code\n",
    "#q_1.hint()\n",
    "#q_1.solution()"
   ]
  },
  {
   "cell_type": "markdown",
   "id": "5d5e5ab2",
   "metadata": {
    "papermill": {
     "duration": 0.003754,
     "end_time": "2025-01-15T17:39:17.944664",
     "exception": false,
     "start_time": "2025-01-15T17:39:17.940910",
     "status": "completed"
    },
    "tags": []
   },
   "source": [
    "Now run this next cell to train the model see the effect of adding dropout."
   ]
  },
  {
   "cell_type": "code",
   "execution_count": 5,
   "id": "d2334cb5",
   "metadata": {
    "execution": {
     "iopub.execute_input": "2025-01-15T17:39:17.958616Z",
     "iopub.status.busy": "2025-01-15T17:39:17.958350Z",
     "iopub.status.idle": "2025-01-15T17:39:28.738742Z",
     "shell.execute_reply": "2025-01-15T17:39:28.737909Z"
    },
    "papermill": {
     "duration": 10.791816,
     "end_time": "2025-01-15T17:39:28.740454",
     "exception": false,
     "start_time": "2025-01-15T17:39:17.948638",
     "status": "completed"
    },
    "tags": []
   },
   "outputs": [
    {
     "name": "stderr",
     "output_type": "stream",
     "text": [
      "WARNING: All log messages before absl::InitializeLog() is called are written to STDERR\n",
      "I0000 00:00:1736962760.290065      66 device_compiler.h:186] Compiled cluster using XLA!  This line is logged at most once for the lifetime of the process.\n"
     ]
    },
    {
     "name": "stdout",
     "output_type": "stream",
     "text": [
      "Minimum Validation Loss: 0.1831\n"
     ]
    },
    {
     "data": {
      "image/png": "[encoded data removed]",
      "text/plain": [
       "<Figure size 640x480 with 1 Axes>"
      ]
     },
     "metadata": {},
     "output_type": "display_data"
    }
   ],
   "source": [
    "model.compile(\n",
    "    optimizer='adam',\n",
    "    loss='mae',\n",
    ")\n",
    "history = model.fit(\n",
    "    X_train, y_train,\n",
    "    validation_data=(X_valid, y_valid),\n",
    "    batch_size=512,\n",
    "    epochs=50,\n",
    "    verbose=0,\n",
    ")\n",
    "history_df = pd.DataFrame(history.history)\n",
    "history_df.loc[:, ['loss', 'val_loss']].plot()\n",
    "print(\"Minimum Validation Loss: {:0.4f}\".format(history_df['val_loss'].min()))"
   ]
  },
  {
   "cell_type": "markdown",
   "id": "de59ea8d",
   "metadata": {
    "papermill": {
     "duration": 0.004294,
     "end_time": "2025-01-15T17:39:28.749502",
     "exception": false,
     "start_time": "2025-01-15T17:39:28.745208",
     "status": "completed"
    },
    "tags": []
   },
   "source": [
    "# 2) Evaluate Dropout\n",
    "\n",
    "Recall from Exercise 4 that this model tended to overfit the data around epoch 5. Did adding dropout seem to help prevent overfitting this time?"
   ]
  },
  {
   "cell_type": "code",
   "execution_count": 6,
   "id": "878a7acc",
   "metadata": {
    "execution": {
     "iopub.execute_input": "2025-01-15T17:39:28.759322Z",
     "iopub.status.busy": "2025-01-15T17:39:28.759088Z",
     "iopub.status.idle": "2025-01-15T17:39:28.766061Z",
     "shell.execute_reply": "2025-01-15T17:39:28.765243Z"
    },
    "papermill": {
     "duration": 0.013663,
     "end_time": "2025-01-15T17:39:28.767572",
     "exception": false,
     "start_time": "2025-01-15T17:39:28.753909",
     "status": "completed"
    },
    "tags": []
   },
   "outputs": [
    {
     "data": {
      "application/javascript": [
       "parent.postMessage({\"jupyterEvent\": \"custom.exercise_interaction\", \"data\": {\"outcomeType\": 1, \"valueTowardsCompletion\": 0.25, \"interactionType\": 1, \"questionType\": 4, \"questionId\": \"2_Q2\", \"learnToolsVersion\": \"0.3.4\", \"failureMessage\": \"\", \"exceptionClass\": \"\", \"trace\": \"\"}}, \"*\")"
      ],
      "text/plain": [
       "<IPython.core.display.Javascript object>"
      ]
     },
     "metadata": {},
     "output_type": "display_data"
    },
    {
     "data": {
      "text/markdown": [
       "<span style=\"color:#33cc33\">Correct:</span> \n",
       "\n",
       "\n",
       "From the learning curves, you can see that the validation loss remains near a constant minimum even though the training loss continues to decrease. So we can see that adding dropout did prevent overfitting this time. Moreover, by making it harder for the network to fit spurious patterns, dropout may have encouraged the network to seek out more of the true patterns, possibly improving the validation loss some as well).\n"
      ],
      "text/plain": [
       "Correct: \n",
       "\n",
       "\n",
       "From the learning curves, you can see that the validation loss remains near a constant minimum even though the training loss continues to decrease. So we can see that adding dropout did prevent overfitting this time. Moreover, by making it harder for the network to fit spurious patterns, dropout may have encouraged the network to seek out more of the true patterns, possibly improving the validation loss some as well)."
      ]
     },
     "metadata": {},
     "output_type": "display_data"
    }
   ],
   "source": [
    "# View the solution (Run this cell to receive credit!)\n",
    "q_2.check()"
   ]
  },
  {
   "cell_type": "markdown",
   "id": "e29a06b6",
   "metadata": {
    "papermill": {
     "duration": 0.00435,
     "end_time": "2025-01-15T17:39:28.776428",
     "exception": false,
     "start_time": "2025-01-15T17:39:28.772078",
     "status": "completed"
    },
    "tags": []
   },
   "source": [
    "Now, we'll switch topics to explore how batch normalization can fix problems in training.\n",
    "\n",
    "Load the *Concrete* dataset. We won't do any standardization this time. This will make the effect of batch normalization much more apparent."
   ]
  },
  {
   "cell_type": "code",
   "execution_count": 7,
   "id": "0ca4b347",
   "metadata": {
    "execution": {
     "iopub.execute_input": "2025-01-15T17:39:28.786755Z",
     "iopub.status.busy": "2025-01-15T17:39:28.786257Z",
     "iopub.status.idle": "2025-01-15T17:39:28.802218Z",
     "shell.execute_reply": "2025-01-15T17:39:28.801412Z"
    },
    "papermill": {
     "duration": 0.022977,
     "end_time": "2025-01-15T17:39:28.803970",
     "exception": false,
     "start_time": "2025-01-15T17:39:28.780993",
     "status": "completed"
    },
    "tags": []
   },
   "outputs": [],
   "source": [
    "import pandas as pd\n",
    "\n",
    "concrete = pd.read_csv('../input/dl-course-data/concrete.csv')\n",
    "df = concrete.copy()\n",
    "\n",
    "df_train = df.sample(frac=0.7, random_state=0)\n",
    "df_valid = df.drop(df_train.index)\n",
    "\n",
    "X_train = df_train.drop('CompressiveStrength', axis=1)\n",
    "X_valid = df_valid.drop('CompressiveStrength', axis=1)\n",
    "y_train = df_train['CompressiveStrength']\n",
    "y_valid = df_valid['CompressiveStrength']\n",
    "\n",
    "input_shape = [X_train.shape[1]]"
   ]
  },
  {
   "cell_type": "markdown",
   "id": "626763ef",
   "metadata": {
    "papermill": {
     "duration": 0.004527,
     "end_time": "2025-01-15T17:39:28.813233",
     "exception": false,
     "start_time": "2025-01-15T17:39:28.808706",
     "status": "completed"
    },
    "tags": []
   },
   "source": [
    "Run the following cell to train the network on the unstandardized *Concrete* data."
   ]
  },
  {
   "cell_type": "code",
   "execution_count": 8,
   "id": "836bf29c",
   "metadata": {
    "execution": {
     "iopub.execute_input": "2025-01-15T17:39:28.823567Z",
     "iopub.status.busy": "2025-01-15T17:39:28.822981Z",
     "iopub.status.idle": "2025-01-15T17:39:35.672650Z",
     "shell.execute_reply": "2025-01-15T17:39:35.671629Z"
    },
    "papermill": {
     "duration": 6.856798,
     "end_time": "2025-01-15T17:39:35.674594",
     "exception": false,
     "start_time": "2025-01-15T17:39:28.817796",
     "status": "completed"
    },
    "tags": []
   },
   "outputs": [
    {
     "name": "stdout",
     "output_type": "stream",
     "text": [
      "Minimum Validation Loss: nan\n"
     ]
    },
    {
     "data": {
      "image/png": "[encoded data removed]",
      "text/plain": [
       "<Figure size 640x480 with 1 Axes>"
      ]
     },
     "metadata": {},
     "output_type": "display_data"
    }
   ],
   "source": [
    "model = keras.Sequential([\n",
    "    layers.Dense(512, activation='relu', input_shape=input_shape),\n",
    "    layers.Dense(512, activation='relu'),    \n",
    "    layers.Dense(512, activation='relu'),\n",
    "    layers.Dense(1),\n",
    "])\n",
    "model.compile(\n",
    "    optimizer='sgd', # SGD is more sensitive to differences of scale\n",
    "    loss='mae',\n",
    "    metrics=['mae'],\n",
    ")\n",
    "history = model.fit(\n",
    "    X_train, y_train,\n",
    "    validation_data=(X_valid, y_valid),\n",
    "    batch_size=64,\n",
    "    epochs=100,\n",
    "    verbose=0,\n",
    ")\n",
    "\n",
    "history_df = pd.DataFrame(history.history)\n",
    "history_df.loc[0:, ['loss', 'val_loss']].plot()\n",
    "print((\"Minimum Validation Loss: {:0.4f}\").format(history_df['val_loss'].min()))"
   ]
  },
  {
   "cell_type": "markdown",
   "id": "5caee721",
   "metadata": {
    "papermill": {
     "duration": 0.004877,
     "end_time": "2025-01-15T17:39:35.684637",
     "exception": false,
     "start_time": "2025-01-15T17:39:35.679760",
     "status": "completed"
    },
    "tags": []
   },
   "source": [
    "Did you end up with a blank graph? Trying to train this network on this dataset will usually fail. Even when it does converge (due to a lucky weight initialization), it tends to converge to a very large number.\n",
    "\n",
    "# 3) Add Batch Normalization Layers\n",
    "\n",
    "Batch normalization can help correct problems like this.\n",
    "\n",
    "Add four `BatchNormalization` layers, one before each of the dense layers. (Remember to move the `input_shape` argument to the new first layer.)"
   ]
  },
  {
   "cell_type": "code",
   "execution_count": 9,
   "id": "efc69e33",
   "metadata": {
    "execution": {
     "iopub.execute_input": "2025-01-15T17:39:35.695503Z",
     "iopub.status.busy": "2025-01-15T17:39:35.695223Z",
     "iopub.status.idle": "2025-01-15T17:39:35.716543Z",
     "shell.execute_reply": "2025-01-15T17:39:35.715717Z"
    },
    "lines_to_next_cell": 0,
    "papermill": {
     "duration": 0.028795,
     "end_time": "2025-01-15T17:39:35.718256",
     "exception": false,
     "start_time": "2025-01-15T17:39:35.689461",
     "status": "completed"
    },
    "tags": []
   },
   "outputs": [
    {
     "data": {
      "application/javascript": [
       "parent.postMessage({\"jupyterEvent\": \"custom.exercise_interaction\", \"data\": {\"outcomeType\": 1, \"valueTowardsCompletion\": 0.25, \"interactionType\": 1, \"questionType\": 2, \"questionId\": \"3_Q3\", \"learnToolsVersion\": \"0.3.4\", \"failureMessage\": \"\", \"exceptionClass\": \"\", \"trace\": \"\"}}, \"*\")"
      ],
      "text/plain": [
       "<IPython.core.display.Javascript object>"
      ]
     },
     "metadata": {},
     "output_type": "display_data"
    },
    {
     "data": {
      "text/markdown": [
       "<span style=\"color:#33cc33\">Correct</span>"
      ],
      "text/plain": [
       "Correct"
      ]
     },
     "metadata": {},
     "output_type": "display_data"
    }
   ],
   "source": [
    "# YOUR CODE HERE: Add a BatchNormalization layer before each Dense layer\n",
    "model = keras.Sequential([\n",
    "    layers.BatchNormalization(),\n",
    "    layers.Dense(512, activation='relu', input_shape=input_shape),\n",
    "    layers.BatchNormalization(),\n",
    "    layers.Dense(512, activation='relu'),\n",
    "    layers.BatchNormalization(),\n",
    "    layers.Dense(512, activation='relu'),\n",
    "    layers.BatchNormalization(),\n",
    "    layers.Dense(1),\n",
    "])\n",
    "\n",
    "# Check your answer\n",
    "q_3.check()"
   ]
  },
  {
   "cell_type": "code",
   "execution_count": 10,
   "id": "063da88e",
   "metadata": {
    "execution": {
     "iopub.execute_input": "2025-01-15T17:39:35.729975Z",
     "iopub.status.busy": "2025-01-15T17:39:35.729250Z",
     "iopub.status.idle": "2025-01-15T17:39:35.733059Z",
     "shell.execute_reply": "2025-01-15T17:39:35.732301Z"
    },
    "papermill": {
     "duration": 0.011372,
     "end_time": "2025-01-15T17:39:35.734711",
     "exception": false,
     "start_time": "2025-01-15T17:39:35.723339",
     "status": "completed"
    },
    "tags": []
   },
   "outputs": [],
   "source": [
    "# Lines below will give you a hint or solution code\n",
    "#q_3.hint()\n",
    "#q_3.solution()"
   ]
  },
  {
   "cell_type": "markdown",
   "id": "8872f654",
   "metadata": {
    "papermill": {
     "duration": 0.0049,
     "end_time": "2025-01-15T17:39:35.744623",
     "exception": false,
     "start_time": "2025-01-15T17:39:35.739723",
     "status": "completed"
    },
    "tags": []
   },
   "source": [
    "Run the next cell to see if batch normalization will let us train the model."
   ]
  },
  {
   "cell_type": "code",
   "execution_count": 11,
   "id": "471634e3",
   "metadata": {
    "execution": {
     "iopub.execute_input": "2025-01-15T17:39:35.755599Z",
     "iopub.status.busy": "2025-01-15T17:39:35.755340Z",
     "iopub.status.idle": "2025-01-15T17:39:46.393712Z",
     "shell.execute_reply": "2025-01-15T17:39:46.392751Z"
    },
    "papermill": {
     "duration": 10.645813,
     "end_time": "2025-01-15T17:39:46.395417",
     "exception": false,
     "start_time": "2025-01-15T17:39:35.749604",
     "status": "completed"
    },
    "tags": []
   },
   "outputs": [
    {
     "name": "stdout",
     "output_type": "stream",
     "text": [
      "Minimum Validation Loss: 3.7057\n"
     ]
    },
    {
     "data": {
      "image/png": "[encoded data removed]",
      "text/plain": [
       "<Figure size 640x480 with 1 Axes>"
      ]
     },
     "metadata": {},
     "output_type": "display_data"
    }
   ],
   "source": [
    "model.compile(\n",
    "    optimizer='sgd',\n",
    "    loss='mae',\n",
    "    metrics=['mae'],\n",
    ")\n",
    "EPOCHS = 100\n",
    "history = model.fit(\n",
    "    X_train, y_train,\n",
    "    validation_data=(X_valid, y_valid),\n",
    "    batch_size=64,\n",
    "    epochs=EPOCHS,\n",
    "    verbose=0,\n",
    ")\n",
    "\n",
    "history_df = pd.DataFrame(history.history)\n",
    "history_df.loc[0:, ['loss', 'val_loss']].plot()\n",
    "print((\"Minimum Validation Loss: {:0.4f}\").format(history_df['val_loss'].min()))"
   ]
  },
  {
   "cell_type": "markdown",
   "id": "ca90b309",
   "metadata": {
    "papermill": {
     "duration": 0.005519,
     "end_time": "2025-01-15T17:39:46.406810",
     "exception": false,
     "start_time": "2025-01-15T17:39:46.401291",
     "status": "completed"
    },
    "tags": []
   },
   "source": [
    "# 4) Evaluate Batch Normalization\n",
    "\n",
    "Did adding batch normalization help?"
   ]
  },
  {
   "cell_type": "code",
   "execution_count": 12,
   "id": "8cfd4ab0",
   "metadata": {
    "execution": {
     "iopub.execute_input": "2025-01-15T17:39:46.418959Z",
     "iopub.status.busy": "2025-01-15T17:39:46.418680Z",
     "iopub.status.idle": "2025-01-15T17:39:46.425972Z",
     "shell.execute_reply": "2025-01-15T17:39:46.425246Z"
    },
    "lines_to_next_cell": 0,
    "papermill": {
     "duration": 0.01513,
     "end_time": "2025-01-15T17:39:46.427420",
     "exception": false,
     "start_time": "2025-01-15T17:39:46.412290",
     "status": "completed"
    },
    "tags": []
   },
   "outputs": [
    {
     "data": {
      "application/javascript": [
       "parent.postMessage({\"jupyterEvent\": \"custom.exercise_interaction\", \"data\": {\"outcomeType\": 1, \"valueTowardsCompletion\": 0.25, \"interactionType\": 1, \"questionType\": 4, \"questionId\": \"4_Q4\", \"learnToolsVersion\": \"0.3.4\", \"failureMessage\": \"\", \"exceptionClass\": \"\", \"trace\": \"\"}}, \"*\")"
      ],
      "text/plain": [
       "<IPython.core.display.Javascript object>"
      ]
     },
     "metadata": {},
     "output_type": "display_data"
    },
    {
     "data": {
      "text/markdown": [
       "<span style=\"color:#33cc33\">Correct:</span> \n",
       "\n",
       "\n",
       "You can see that adding batch normalization was a big improvement on the first attempt! By adaptively scaling the data as it passes through the network, batch normalization can let you train models on difficult datasets.\n"
      ],
      "text/plain": [
       "Correct: \n",
       "\n",
       "\n",
       "You can see that adding batch normalization was a big improvement on the first attempt! By adaptively scaling the data as it passes through the network, batch normalization can let you train models on difficult datasets."
      ]
     },
     "metadata": {},
     "output_type": "display_data"
    }
   ],
   "source": [
    "# View the solution (Run this cell to receive credit!)\n",
    "q_4.check()"
   ]
  },
  {
   "cell_type": "markdown",
   "id": "ac802516",
   "metadata": {
    "papermill": {
     "duration": 0.005554,
     "end_time": "2025-01-15T17:39:46.439075",
     "exception": false,
     "start_time": "2025-01-15T17:39:46.433521",
     "status": "completed"
    },
    "tags": []
   },
   "source": [
    "# Keep Going #\n",
    "\n",
    "[**Create neural networks**](https://www.kaggle.com/ryanholbrook/binary-classification) for binary classification."
   ]
  },
  {
   "cell_type": "markdown",
   "id": "df5942ed",
   "metadata": {
    "papermill": {
     "duration": 0.005538,
     "end_time": "2025-01-15T17:39:46.450203",
     "exception": false,
     "start_time": "2025-01-15T17:39:46.444665",
     "status": "completed"
    },
    "tags": []
   },
   "source": [
    "---\n",
    "\n",
    "\n",
    "\n",
    "\n",
    "*Have questions or comments? Visit the [course discussion forum](https://www.kaggle.com/learn/intro-to-deep-learning/discussion) to chat with other learners.*"
   ]
  }
 ],
 "metadata": {
  "jupytext": {
   "cell_metadata_filter": "-all",
   "formats": "ipynb"
  },
  "kaggle": {
   "accelerator": "gpu",
   "dataSources": [
    {
     "datasetId": 829369,
     "sourceId": 1480608,
     "sourceType": "datasetVersion"
    }
   ],
   "dockerImageVersionId": 30648,
   "isGpuEnabled": true,
   "isInternetEnabled": false,
   "language": "python",
   "sourceType": "notebook"
  },
  "kernelspec": {
   "display_name": "Python 3",
   "language": "python",
   "name": "python3"
  },
  "language_info": {
   "codemirror_mode": {
    "name": "ipython",
    "version": 3
   },
   "file_extension": ".py",
   "mimetype": "text/x-python",
   "name": "python",
   "nbconvert_exporter": "python",
   "pygments_lexer": "ipython3",
   "version": "3.10.13"
  },
  "papermill": {
   "default_parameters": {},
   "duration": 48.099661,
   "end_time": "2025-01-15T17:39:49.254974",
   "environment_variables": {},
   "exception": null,
   "input_path": "__notebook__.ipynb",
   "output_path": "__notebook__.ipynb",
   "parameters": {},
   "start_time": "2025-01-15T17:39:01.155313",
   "version": "2.5.0"
  }
 },
 "nbformat": 4,
 "nbformat_minor": 5
}

{
 "cells": [
  {
   "cell_type": "markdown",
   "id": "c09d33da",
   "metadata": {
    "papermill": {
     "duration": 0.003505,
     "end_time": "2025-01-15T18:50:20.702210",
     "exception": false,
     "start_time": "2025-01-15T18:50:20.698705",
     "status": "completed"
    },
    "tags": []
   },
   "source": [
    "**This notebook is an exercise in the [Intro to Deep Learning](https://www.kaggle.com/learn/intro-to-deep-learning) course.  You can reference the tutorial at [this link](https://www.kaggle.com/ryanholbrook/binary-classification).**\n",
    "\n",
    "---\n"
   ]
  },
  {
   "cell_type": "markdown",
   "id": "e215b6d0",
   "metadata": {
    "papermill": {
     "duration": 0.002784,
     "end_time": "2025-01-15T18:50:20.708117",
     "exception": false,
     "start_time": "2025-01-15T18:50:20.705333",
     "status": "completed"
    },
    "tags": []
   },
   "source": [
    "# Introduction #\n",
    "\n",
    "In this exercise, you'll build a model to predict hotel cancellations with a binary classifier."
   ]
  },
  {
   "cell_type": "code",
   "execution_count": 1,
   "id": "74fb4987",
   "metadata": {
    "execution": {
     "iopub.execute_input": "2025-01-15T18:50:20.715276Z",
     "iopub.status.busy": "2025-01-15T18:50:20.714918Z",
     "iopub.status.idle": "2025-01-15T18:50:21.505742Z",
     "shell.execute_reply": "2025-01-15T18:50:21.504960Z"
    },
    "lines_to_next_cell": 0,
    "papermill": {
     "duration": 0.796907,
     "end_time": "2025-01-15T18:50:21.507928",
     "exception": false,
     "start_time": "2025-01-15T18:50:20.711021",
     "status": "completed"
    },
    "tags": []
   },
   "outputs": [
    {
     "name": "stderr",
     "output_type": "stream",
     "text": [
      "/tmp/ipykernel_26/3338970720.py:3: MatplotlibDeprecationWarning: The seaborn styles shipped by Matplotlib are deprecated since 3.6, as they no longer correspond to the styles shipped by seaborn. However, they will remain available as 'seaborn-v0_8-<style>'. Alternatively, directly use the seaborn API instead.\n",
      "  plt.style.use('seaborn-whitegrid')\n"
     ]
    }
   ],
   "source": [
    "# Setup plotting\n",
    "import matplotlib.pyplot as plt\n",
    "plt.style.use('seaborn-whitegrid')\n",
    "# Set Matplotlib defaults\n",
    "plt.rc('figure', autolayout=True)\n",
    "plt.rc('axes', labelweight='bold', labelsize='large',\n",
    "       titleweight='bold', titlesize=18, titlepad=10)\n",
    "plt.rc('animation', html='html5')\n",
    "\n",
    "# Setup feedback system\n",
    "from learntools.core import binder\n",
    "binder.bind(globals())\n",
    "from learntools.deep_learning_intro.ex6 import *"
   ]
  },
  {
   "cell_type": "markdown",
   "id": "76f86fcf",
   "metadata": {
    "papermill": {
     "duration": 0.002717,
     "end_time": "2025-01-15T18:50:21.513867",
     "exception": false,
     "start_time": "2025-01-15T18:50:21.511150",
     "status": "completed"
    },
    "tags": []
   },
   "source": [
    "First, load the *Hotel Cancellations* dataset."
   ]
  },
  {
   "cell_type": "code",
   "execution_count": 2,
   "id": "28a267ee",
   "metadata": {
    "execution": {
     "iopub.execute_input": "2025-01-15T18:50:21.521169Z",
     "iopub.status.busy": "2025-01-15T18:50:21.520782Z",
     "iopub.status.idle": "2025-01-15T18:50:24.054972Z",
     "shell.execute_reply": "2025-01-15T18:50:24.054101Z"
    },
    "lines_to_next_cell": 2,
    "papermill": {
     "duration": 2.540457,
     "end_time": "2025-01-15T18:50:24.057219",
     "exception": false,
     "start_time": "2025-01-15T18:50:21.516762",
     "status": "completed"
    },
    "tags": []
   },
   "outputs": [],
   "source": [
    "import pandas as pd\n",
    "\n",
    "from sklearn.model_selection import train_test_split\n",
    "from sklearn.preprocessing import StandardScaler, OneHotEncoder\n",
    "from sklearn.impute import SimpleImputer\n",
    "from sklearn.pipeline import make_pipeline\n",
    "from sklearn.compose import make_column_transformer\n",
    "\n",
    "hotel = pd.read_csv('../input/dl-course-data/hotel.csv')\n",
    "\n",
    "X = hotel.copy()\n",
    "y = X.pop('is_canceled')\n",
    "\n",
    "X['arrival_date_month'] = \\\n",
    "    X['arrival_date_month'].map(\n",
    "        {'January':1, 'February': 2, 'March':3,\n",
    "         'April':4, 'May':5, 'June':6, 'July':7,\n",
    "         'August':8, 'September':9, 'October':10,\n",
    "         'November':11, 'December':12}\n",
    "    )\n",
    "\n",
    "features_num = [\n",
    "    \"lead_time\", \"arrival_date_week_number\",\n",
    "    \"arrival_date_day_of_month\", \"stays_in_weekend_nights\",\n",
    "    \"stays_in_week_nights\", \"adults\", \"children\", \"babies\",\n",
    "    \"is_repeated_guest\", \"previous_cancellations\",\n",
    "    \"previous_bookings_not_canceled\", \"required_car_parking_spaces\",\n",
    "    \"total_of_special_requests\", \"adr\",\n",
    "]\n",
    "features_cat = [\n",
    "    \"hotel\", \"arrival_date_month\", \"meal\",\n",
    "    \"market_segment\", \"distribution_channel\",\n",
    "    \"reserved_room_type\", \"deposit_type\", \"customer_type\",\n",
    "]\n",
    "\n",
    "transformer_num = make_pipeline(\n",
    "    SimpleImputer(strategy=\"constant\"), # there are a few missing values\n",
    "    StandardScaler(),\n",
    ")\n",
    "transformer_cat = make_pipeline(\n",
    "    SimpleImputer(strategy=\"constant\", fill_value=\"NA\"),\n",
    "    OneHotEncoder(handle_unknown='ignore'),\n",
    ")\n",
    "\n",
    "preprocessor = make_column_transformer(\n",
    "    (transformer_num, features_num),\n",
    "    (transformer_cat, features_cat),\n",
    ")\n",
    "\n",
    "# stratify - make sure classes are evenlly represented across splits\n",
    "X_train, X_valid, y_train, y_valid = \\\n",
    "    train_test_split(X, y, stratify=y, train_size=0.75)\n",
    "\n",
    "X_train = preprocessor.fit_transform(X_train)\n",
    "X_valid = preprocessor.transform(X_valid)\n",
    "\n",
    "input_shape = [X_train.shape[1]]"
   ]
  },
  {
   "cell_type": "markdown",
   "id": "5c0da35a",
   "metadata": {
    "papermill": {
     "duration": 0.002874,
     "end_time": "2025-01-15T18:50:24.063515",
     "exception": false,
     "start_time": "2025-01-15T18:50:24.060641",
     "status": "completed"
    },
    "tags": []
   },
   "source": [
    "# 1) Define Model #\n",
    "\n",
    "The model we'll use this time will have both batch normalization and dropout layers. To ease reading we've broken the diagram into blocks, but you can define it layer by layer as usual.\n",
    "\n",
    "Define a model with an architecture given by this diagram:\n",
    "\n",
    "<figure style=\"padding: 1em;\">\n",
    "<img src=\"https://storage.googleapis.com/kaggle-media/learn/images/V04o59Z.png\" width=\"400\" alt=\"Diagram of network architecture: BatchNorm, Dense, BatchNorm, Dropout, Dense, BatchNorm, Dropout, Dense.\">\n",
    "<figcaption style=\"textalign: center; font-style: italic\"><center>Diagram of a binary classifier.</center></figcaption>\n",
    "</figure>\n"
   ]
  },
  {
   "cell_type": "code",
   "execution_count": 3,
   "id": "fe081c11",
   "metadata": {
    "execution": {
     "iopub.execute_input": "2025-01-15T18:50:24.070849Z",
     "iopub.status.busy": "2025-01-15T18:50:24.070468Z",
     "iopub.status.idle": "2025-01-15T18:50:37.007870Z",
     "shell.execute_reply": "2025-01-15T18:50:37.006381Z"
    },
    "lines_to_next_cell": 2,
    "papermill": {
     "duration": 12.943463,
     "end_time": "2025-01-15T18:50:37.009772",
     "exception": false,
     "start_time": "2025-01-15T18:50:24.066309",
     "status": "completed"
    },
    "tags": []
   },
   "outputs": [
    {
     "name": "stderr",
     "output_type": "stream",
     "text": [
      "2025-01-15 18:50:25.900011: E external/local_xla/xla/stream_executor/cuda/cuda_dnn.cc:9261] Unable to register cuDNN factory: Attempting to register factory for plugin cuDNN when one has already been registered\n",
      "2025-01-15 18:50:25.900168: E external/local_xla/xla/stream_executor/cuda/cuda_fft.cc:607] Unable to register cuFFT factory: Attempting to register factory for plugin cuFFT when one has already been registered\n",
      "2025-01-15 18:50:26.031577: E external/local_xla/xla/stream_executor/cuda/cuda_blas.cc:1515] Unable to register cuBLAS factory: Attempting to register factory for plugin cuBLAS when one has already been registered\n"
     ]
    },
    {
     "data": {
      "application/javascript": [
       "parent.postMessage({\"jupyterEvent\": \"custom.exercise_interaction\", \"data\": {\"outcomeType\": 1, \"valueTowardsCompletion\": 0.3333333333333333, \"interactionType\": 1, \"questionType\": 2, \"questionId\": \"1_Q1\", \"learnToolsVersion\": \"0.3.4\", \"failureMessage\": \"\", \"exceptionClass\": \"\", \"trace\": \"\"}}, \"*\")"
      ],
      "text/plain": [
       "<IPython.core.display.Javascript object>"
      ]
     },
     "metadata": {},
     "output_type": "display_data"
    },
    {
     "data": {
      "text/markdown": [
       "<span style=\"color:#33cc33\">Correct</span>"
      ],
      "text/plain": [
       "Correct"
      ]
     },
     "metadata": {},
     "output_type": "display_data"
    }
   ],
   "source": [
    "from tensorflow import keras\n",
    "from tensorflow.keras import layers\n",
    "\n",
    "# YOUR CODE HERE: define the model given in the diagram\n",
    "model = keras.Sequential([\n",
    "    layers.BatchNormalization(),\n",
    "    layers.Dense(256, activation='relu', input_shape=input_shape),\n",
    "    layers.BatchNormalization(),\n",
    "    layers.Dropout(0.3),\n",
    "    layers.Dense(256, activation='relu'),\n",
    "    layers.BatchNormalization(),\n",
    "    layers.Dropout(0.3),\n",
    "    layers.Dense(1, activation='sigmoid')\n",
    "]\n",
    ")\n",
    "\n",
    "# Check your answer\n",
    "q_1.check()"
   ]
  },
  {
   "cell_type": "markdown",
   "id": "aadda669",
   "metadata": {
    "papermill": {
     "duration": 0.003449,
     "end_time": "2025-01-15T18:50:37.016894",
     "exception": false,
     "start_time": "2025-01-15T18:50:37.013445",
     "status": "completed"
    },
    "tags": []
   },
   "source": [
    "# 2) Add Optimizer, Loss, and Metric #\n",
    "\n",
    "Now compile the model with the Adam optimizer and binary versions of the cross-entropy loss and accuracy metric."
   ]
  },
  {
   "cell_type": "code",
   "execution_count": 4,
   "id": "5d4505d3",
   "metadata": {
    "execution": {
     "iopub.execute_input": "2025-01-15T18:50:37.025123Z",
     "iopub.status.busy": "2025-01-15T18:50:37.024799Z",
     "iopub.status.idle": "2025-01-15T18:50:37.054818Z",
     "shell.execute_reply": "2025-01-15T18:50:37.053883Z"
    },
    "lines_to_next_cell": 0,
    "papermill": {
     "duration": 0.036191,
     "end_time": "2025-01-15T18:50:37.056557",
     "exception": false,
     "start_time": "2025-01-15T18:50:37.020366",
     "status": "completed"
    },
    "tags": []
   },
   "outputs": [
    {
     "data": {
      "application/javascript": [
       "parent.postMessage({\"jupyterEvent\": \"custom.exercise_interaction\", \"data\": {\"outcomeType\": 1, \"valueTowardsCompletion\": 0.3333333333333333, \"interactionType\": 1, \"questionType\": 2, \"questionId\": \"2_Q2\", \"learnToolsVersion\": \"0.3.4\", \"failureMessage\": \"\", \"exceptionClass\": \"\", \"trace\": \"\"}}, \"*\")"
      ],
      "text/plain": [
       "<IPython.core.display.Javascript object>"
      ]
     },
     "metadata": {},
     "output_type": "display_data"
    },
    {
     "data": {
      "text/markdown": [
       "<span style=\"color:#33cc33\">Correct</span>"
      ],
      "text/plain": [
       "Correct"
      ]
     },
     "metadata": {},
     "output_type": "display_data"
    }
   ],
   "source": [
    "# YOUR CODE HERE\n",
    "model.compile(\n",
    "    optimizer='adam',\n",
    "    loss='binary_crossentropy',\n",
    "    metrics=['binary_accuracy']\n",
    ")\n",
    "\n",
    "# Check your answer\n",
    "q_2.check()"
   ]
  },
  {
   "cell_type": "code",
   "execution_count": 5,
   "id": "e185335e",
   "metadata": {
    "execution": {
     "iopub.execute_input": "2025-01-15T18:50:37.064882Z",
     "iopub.status.busy": "2025-01-15T18:50:37.064584Z",
     "iopub.status.idle": "2025-01-15T18:50:37.067989Z",
     "shell.execute_reply": "2025-01-15T18:50:37.067189Z"
    },
    "lines_to_next_cell": 0,
    "papermill": {
     "duration": 0.009503,
     "end_time": "2025-01-15T18:50:37.069636",
     "exception": false,
     "start_time": "2025-01-15T18:50:37.060133",
     "status": "completed"
    },
    "tags": []
   },
   "outputs": [],
   "source": [
    "# Lines below will give you a hint or solution code\n",
    "#q_2.hint()\n",
    "#q_2.solution()"
   ]
  },
  {
   "cell_type": "markdown",
   "id": "e3ef8f81",
   "metadata": {
    "papermill": {
     "duration": 0.003228,
     "end_time": "2025-01-15T18:50:37.076520",
     "exception": false,
     "start_time": "2025-01-15T18:50:37.073292",
     "status": "completed"
    },
    "tags": []
   },
   "source": [
    "Finally, run this cell to train the model and view the learning curves. It may run for around 60 to 70 epochs, which could take a minute or two."
   ]
  },
  {
   "cell_type": "code",
   "execution_count": 6,
   "id": "3fcb8a13",
   "metadata": {
    "execution": {
     "iopub.execute_input": "2025-01-15T18:50:37.084312Z",
     "iopub.status.busy": "2025-01-15T18:50:37.084050Z",
     "iopub.status.idle": "2025-01-15T18:51:09.967977Z",
     "shell.execute_reply": "2025-01-15T18:51:09.967051Z"
    },
    "papermill": {
     "duration": 32.890352,
     "end_time": "2025-01-15T18:51:09.970105",
     "exception": false,
     "start_time": "2025-01-15T18:50:37.079753",
     "status": "completed"
    },
    "tags": []
   },
   "outputs": [
    {
     "name": "stdout",
     "output_type": "stream",
     "text": [
      "Epoch 1/200\n"
     ]
    },
    {
     "name": "stderr",
     "output_type": "stream",
     "text": [
      "WARNING: All log messages before absl::InitializeLog() is called are written to STDERR\n",
      "I0000 00:00:1736967041.454150      69 device_compiler.h:186] Compiled cluster using XLA!  This line is logged at most once for the lifetime of the process.\n"
     ]
    },
    {
     "name": "stdout",
     "output_type": "stream",
     "text": [
      "175/175 [==============================] - 6s 7ms/step - loss: 0.4704 - binary_accuracy: 0.7765 - val_loss: 0.4332 - val_binary_accuracy: 0.8031\n",
      "Epoch 2/200\n",
      "175/175 [==============================] - 1s 6ms/step - loss: 0.4211 - binary_accuracy: 0.8031 - val_loss: 0.4069 - val_binary_accuracy: 0.8135\n",
      "Epoch 3/200\n",
      "175/175 [==============================] - 1s 6ms/step - loss: 0.4080 - binary_accuracy: 0.8092 - val_loss: 0.3979 - val_binary_accuracy: 0.8176\n",
      "Epoch 4/200\n",
      "175/175 [==============================] - 1s 6ms/step - loss: 0.4007 - binary_accuracy: 0.8117 - val_loss: 0.3905 - val_binary_accuracy: 0.8182\n",
      "Epoch 5/200\n",
      "175/175 [==============================] - 1s 5ms/step - loss: 0.3968 - binary_accuracy: 0.8152 - val_loss: 0.3888 - val_binary_accuracy: 0.8213\n",
      "Epoch 6/200\n",
      "175/175 [==============================] - 1s 6ms/step - loss: 0.3926 - binary_accuracy: 0.8172 - val_loss: 0.3854 - val_binary_accuracy: 0.8223\n",
      "Epoch 7/200\n",
      "175/175 [==============================] - 1s 6ms/step - loss: 0.3880 - binary_accuracy: 0.8202 - val_loss: 0.3836 - val_binary_accuracy: 0.8223\n",
      "Epoch 8/200\n",
      "175/175 [==============================] - 1s 5ms/step - loss: 0.3851 - binary_accuracy: 0.8203 - val_loss: 0.3829 - val_binary_accuracy: 0.8248\n",
      "Epoch 9/200\n",
      "175/175 [==============================] - 1s 6ms/step - loss: 0.3807 - binary_accuracy: 0.8233 - val_loss: 0.3773 - val_binary_accuracy: 0.8259\n",
      "Epoch 10/200\n",
      "175/175 [==============================] - 1s 6ms/step - loss: 0.3772 - binary_accuracy: 0.8250 - val_loss: 0.3754 - val_binary_accuracy: 0.8283\n",
      "Epoch 11/200\n",
      "175/175 [==============================] - 1s 6ms/step - loss: 0.3755 - binary_accuracy: 0.8256 - val_loss: 0.3710 - val_binary_accuracy: 0.8278\n",
      "Epoch 12/200\n",
      "175/175 [==============================] - 1s 6ms/step - loss: 0.3736 - binary_accuracy: 0.8259 - val_loss: 0.3778 - val_binary_accuracy: 0.8256\n",
      "Epoch 13/200\n",
      "175/175 [==============================] - 1s 6ms/step - loss: 0.3694 - binary_accuracy: 0.8292 - val_loss: 0.3798 - val_binary_accuracy: 0.8242\n",
      "Epoch 14/200\n",
      "175/175 [==============================] - 1s 6ms/step - loss: 0.3697 - binary_accuracy: 0.8295 - val_loss: 0.3674 - val_binary_accuracy: 0.8299\n",
      "Epoch 15/200\n",
      "175/175 [==============================] - 1s 5ms/step - loss: 0.3677 - binary_accuracy: 0.8295 - val_loss: 0.3691 - val_binary_accuracy: 0.8304\n",
      "Epoch 16/200\n",
      "175/175 [==============================] - 1s 6ms/step - loss: 0.3668 - binary_accuracy: 0.8315 - val_loss: 0.3655 - val_binary_accuracy: 0.8326\n",
      "Epoch 17/200\n",
      "175/175 [==============================] - 1s 6ms/step - loss: 0.3641 - binary_accuracy: 0.8317 - val_loss: 0.3626 - val_binary_accuracy: 0.8334\n",
      "Epoch 18/200\n",
      "175/175 [==============================] - 1s 6ms/step - loss: 0.3624 - binary_accuracy: 0.8325 - val_loss: 0.3629 - val_binary_accuracy: 0.8351\n",
      "Epoch 19/200\n",
      "175/175 [==============================] - 1s 5ms/step - loss: 0.3601 - binary_accuracy: 0.8329 - val_loss: 0.3693 - val_binary_accuracy: 0.8295\n",
      "Epoch 20/200\n",
      "175/175 [==============================] - 1s 6ms/step - loss: 0.3587 - binary_accuracy: 0.8339 - val_loss: 0.3635 - val_binary_accuracy: 0.8316\n",
      "Epoch 21/200\n",
      "175/175 [==============================] - 1s 5ms/step - loss: 0.3577 - binary_accuracy: 0.8351 - val_loss: 0.3635 - val_binary_accuracy: 0.8326\n",
      "Epoch 22/200\n",
      "175/175 [==============================] - 1s 6ms/step - loss: 0.3567 - binary_accuracy: 0.8367 - val_loss: 0.3595 - val_binary_accuracy: 0.8344\n",
      "Epoch 23/200\n",
      "175/175 [==============================] - 1s 6ms/step - loss: 0.3544 - binary_accuracy: 0.8362 - val_loss: 0.3596 - val_binary_accuracy: 0.8344\n",
      "Epoch 24/200\n",
      "175/175 [==============================] - 1s 6ms/step - loss: 0.3535 - binary_accuracy: 0.8367 - val_loss: 0.3602 - val_binary_accuracy: 0.8335\n",
      "Epoch 25/200\n",
      "175/175 [==============================] - 1s 6ms/step - loss: 0.3533 - binary_accuracy: 0.8363 - val_loss: 0.3587 - val_binary_accuracy: 0.8361\n",
      "Epoch 26/200\n",
      "175/175 [==============================] - 1s 6ms/step - loss: 0.3507 - binary_accuracy: 0.8382 - val_loss: 0.3618 - val_binary_accuracy: 0.8342\n",
      "Epoch 27/200\n",
      "175/175 [==============================] - 1s 6ms/step - loss: 0.3502 - binary_accuracy: 0.8382 - val_loss: 0.3589 - val_binary_accuracy: 0.8345\n"
     ]
    },
    {
     "data": {
      "text/plain": [
       "<Axes: title={'center': 'Accuracy'}>"
      ]
     },
     "execution_count": 6,
     "metadata": {},
     "output_type": "execute_result"
    },
    {
     "data": {
      "image/png": "[encoded data removed]",
      "text/plain": [
       "<Figure size 640x480 with 1 Axes>"
      ]
     },
     "metadata": {},
     "output_type": "display_data"
    },
    {
     "data": {
      "image/png": "[encoded data removed]",
      "text/plain": [
       "<Figure size 640x480 with 1 Axes>"
      ]
     },
     "metadata": {},
     "output_type": "display_data"
    }
   ],
   "source": [
    "early_stopping = keras.callbacks.EarlyStopping(\n",
    "    patience=5,\n",
    "    min_delta=0.001,\n",
    "    restore_best_weights=True,\n",
    ")\n",
    "history = model.fit(\n",
    "    X_train, y_train,\n",
    "    validation_data=(X_valid, y_valid),\n",
    "    batch_size=512,\n",
    "    epochs=200,\n",
    "    callbacks=[early_stopping],\n",
    ")\n",
    "\n",
    "history_df = pd.DataFrame(history.history)\n",
    "history_df.loc[:, ['loss', 'val_loss']].plot(title=\"Cross-entropy\")\n",
    "history_df.loc[:, ['binary_accuracy', 'val_binary_accuracy']].plot(title=\"Accuracy\")"
   ]
  },
  {
   "cell_type": "markdown",
   "id": "84e1d585",
   "metadata": {
    "papermill": {
     "duration": 0.026027,
     "end_time": "2025-01-15T18:51:10.026936",
     "exception": false,
     "start_time": "2025-01-15T18:51:10.000909",
     "status": "completed"
    },
    "tags": []
   },
   "source": [
    "# 3) Train and Evaluate #\n",
    "\n",
    "\n",
    "What do you think about the learning curves? Does it look like the model underfit or overfit? Was the cross-entropy loss a good stand-in for accuracy?"
   ]
  },
  {
   "cell_type": "code",
   "execution_count": 7,
   "id": "9d5af154",
   "metadata": {
    "execution": {
     "iopub.execute_input": "2025-01-15T18:51:10.082204Z",
     "iopub.status.busy": "2025-01-15T18:51:10.081417Z",
     "iopub.status.idle": "2025-01-15T18:51:10.088681Z",
     "shell.execute_reply": "2025-01-15T18:51:10.087901Z"
    },
    "papermill": {
     "duration": 0.036903,
     "end_time": "2025-01-15T18:51:10.090251",
     "exception": false,
     "start_time": "2025-01-15T18:51:10.053348",
     "status": "completed"
    },
    "tags": []
   },
   "outputs": [
    {
     "data": {
      "application/javascript": [
       "parent.postMessage({\"jupyterEvent\": \"custom.exercise_interaction\", \"data\": {\"outcomeType\": 1, \"valueTowardsCompletion\": 0.3333333333333333, \"interactionType\": 1, \"questionType\": 4, \"questionId\": \"3_Q3\", \"learnToolsVersion\": \"0.3.4\", \"failureMessage\": \"\", \"exceptionClass\": \"\", \"trace\": \"\"}}, \"*\")"
      ],
      "text/plain": [
       "<IPython.core.display.Javascript object>"
      ]
     },
     "metadata": {},
     "output_type": "display_data"
    },
    {
     "data": {
      "text/markdown": [
       "<span style=\"color:#33cc33\">Correct:</span> \n",
       "\n",
       "Though we can see the training loss continuing to fall, the early stopping callback prevented any overfitting. Moreover, the accuracy rose at the same rate as the cross-entropy fell, so it appears that minimizing cross-entropy was a good stand-in. All in all, it looks like this training was a success!"
      ],
      "text/plain": [
       "Correct: \n",
       "\n",
       "Though we can see the training loss continuing to fall, the early stopping callback prevented any overfitting. Moreover, the accuracy rose at the same rate as the cross-entropy fell, so it appears that minimizing cross-entropy was a good stand-in. All in all, it looks like this training was a success!"
      ]
     },
     "metadata": {},
     "output_type": "display_data"
    }
   ],
   "source": [
    "# View the solution (Run this cell to receive credit!)\n",
    "q_3.check()"
   ]
  },
  {
   "cell_type": "markdown",
   "id": "9d87addc",
   "metadata": {
    "papermill": {
     "duration": 0.026571,
     "end_time": "2025-01-15T18:51:10.144757",
     "exception": false,
     "start_time": "2025-01-15T18:51:10.118186",
     "status": "completed"
    },
    "tags": []
   },
   "source": [
    "# Conclusion #\n",
    "\n",
    "Congratulations! You've completed Kaggle's *Introduction to Deep Learning* course!\n",
    "\n",
    "With your new skills you're ready to take on more advanced applications like computer vision and sentiment classification. What would you like to do next?\n",
    "\n",
    "Why not try one of our *Getting Started* competitions?\n",
    "\n",
    "- Classify images with TPUs in [**Petals to the Metal**](https://www.kaggle.com/c/tpu-getting-started)\n",
    "- Create art with GANs in [**I'm Something of a Painter Myself**](https://www.kaggle.com/c/gan-getting-started)\n",
    "- Classify Tweets in [**Real or Not? NLP with Disaster Tweets**](https://www.kaggle.com/c/nlp-getting-started)\n",
    "- Detect contradiction and entailment in [**Contradictory, My Dear Watson**](https://www.kaggle.com/c/contradictory-my-dear-watson)\n",
    "\n",
    "Until next time, Kagglers!"
   ]
  },
  {
   "cell_type": "markdown",
   "id": "0ba456a8",
   "metadata": {
    "papermill": {
     "duration": 0.027081,
     "end_time": "2025-01-15T18:51:10.204792",
     "exception": false,
     "start_time": "2025-01-15T18:51:10.177711",
     "status": "completed"
    },
    "tags": []
   },
   "source": [
    "---\n",
    "\n",
    "\n",
    "\n",
    "\n",
    "*Have questions or comments? Visit the [course discussion forum](https://www.kaggle.com/learn/intro-to-deep-learning/discussion) to chat with other learners.*"
   ]
  }
 ],
 "metadata": {
  "jupytext": {
   "cell_metadata_filter": "-all",
   "formats": "ipynb"
  },
  "kaggle": {
   "accelerator": "gpu",
   "dataSources": [
    {
     "datasetId": 829369,
     "sourceId": 1480608,
     "sourceType": "datasetVersion"
    }
   ],
   "dockerImageVersionId": 30648,
   "isGpuEnabled": true,
   "isInternetEnabled": false,
   "language": "python",
   "sourceType": "notebook"
  },
  "kernelspec": {
   "display_name": "Python 3",
   "language": "python",
   "name": "python3"
  },
  "language_info": {
   "codemirror_mode": {
    "name": "ipython",
    "version": 3
   },
   "file_extension": ".py",
   "mimetype": "text/x-python",
   "name": "python",
   "nbconvert_exporter": "python",
   "pygments_lexer": "ipython3",
   "version": "3.10.13"
  },
  "papermill": {
   "default_parameters": {},
   "duration": 55.188024,
   "end_time": "2025-01-15T18:51:13.146800",
   "environment_variables": {},
   "exception": null,
   "input_path": "__notebook__.ipynb",
   "output_path": "__notebook__.ipynb",
   "parameters": {},
   "start_time": "2025-01-15T18:50:17.958776",
   "version": "2.5.0"
  }
 },
 "nbformat": 4,
 "nbformat_minor": 5
}

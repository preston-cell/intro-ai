{
 "cells": [
  {
   "cell_type": "markdown",
   "id": "e9b24b63",
   "metadata": {
    "papermill": {
     "duration": 0.008469,
     "end_time": "2024-12-02T17:34:42.651398",
     "exception": false,
     "start_time": "2024-12-02T17:34:42.642929",
     "status": "completed"
    },
    "tags": []
   },
   "source": [
    "**This notebook is an exercise in the [Intermediate Machine Learning](https://www.kaggle.com/learn/intermediate-machine-learning) course.  You can reference the tutorial at [this link](https://www.kaggle.com/alexisbcook/missing-values).**\n",
    "\n",
    "---\n"
   ]
  },
  {
   "cell_type": "markdown",
   "id": "e5fec20c",
   "metadata": {
    "papermill": {
     "duration": 0.007633,
     "end_time": "2024-12-02T17:34:42.667167",
     "exception": false,
     "start_time": "2024-12-02T17:34:42.659534",
     "status": "completed"
    },
    "tags": []
   },
   "source": [
    "Now it's your turn to test your new knowledge of **missing values** handling. You'll probably find it makes a big difference.\n",
    "\n",
    "# Setup\n",
    "\n",
    "The questions will give you feedback on your work. Run the following cell to set up the feedback system."
   ]
  },
  {
   "cell_type": "code",
   "execution_count": 1,
   "id": "211ff418",
   "metadata": {
    "execution": {
     "iopub.execute_input": "2024-12-02T17:34:42.685623Z",
     "iopub.status.busy": "2024-12-02T17:34:42.685102Z",
     "iopub.status.idle": "2024-12-02T17:34:43.961112Z",
     "shell.execute_reply": "2024-12-02T17:34:43.959208Z"
    },
    "papermill": {
     "duration": 1.288634,
     "end_time": "2024-12-02T17:34:43.964116",
     "exception": false,
     "start_time": "2024-12-02T17:34:42.675482",
     "status": "completed"
    },
    "tags": []
   },
   "outputs": [
    {
     "name": "stdout",
     "output_type": "stream",
     "text": [
      "Setup Complete\n"
     ]
    }
   ],
   "source": [
    "# Set up code checking\n",
    "import os\n",
    "if not os.path.exists(\"../input/train.csv\"):\n",
    "    os.symlink(\"../input/home-data-for-ml-course/train.csv\", \"../input/train.csv\")  \n",
    "    os.symlink(\"../input/home-data-for-ml-course/test.csv\", \"../input/test.csv\") \n",
    "from learntools.core import binder\n",
    "binder.bind(globals())\n",
    "from learntools.ml_intermediate.ex2 import *\n",
    "print(\"Setup Complete\")"
   ]
  },
  {
   "cell_type": "markdown",
   "id": "57fc239c",
   "metadata": {
    "papermill": {
     "duration": 0.007542,
     "end_time": "2024-12-02T17:34:43.981226",
     "exception": false,
     "start_time": "2024-12-02T17:34:43.973684",
     "status": "completed"
    },
    "tags": []
   },
   "source": [
    "In this exercise, you will work with data from the [Housing Prices Competition for Kaggle Learn Users](https://www.kaggle.com/c/home-data-for-ml-course). \n",
    "\n",
    "![Ames Housing dataset image](https://storage.googleapis.com/kaggle-media/learn/images/lTJVG4e.png)\n",
    "\n",
    "Run the next code cell without changes to load the training and validation sets in `X_train`, `X_valid`, `y_train`, and `y_valid`.  The test set is loaded in `X_test`."
   ]
  },
  {
   "cell_type": "code",
   "execution_count": 2,
   "id": "1827b175",
   "metadata": {
    "execution": {
     "iopub.execute_input": "2024-12-02T17:34:43.999191Z",
     "iopub.status.busy": "2024-12-02T17:34:43.998458Z",
     "iopub.status.idle": "2024-12-02T17:34:46.022280Z",
     "shell.execute_reply": "2024-12-02T17:34:46.020968Z"
    },
    "papermill": {
     "duration": 2.03672,
     "end_time": "2024-12-02T17:34:46.025570",
     "exception": false,
     "start_time": "2024-12-02T17:34:43.988850",
     "status": "completed"
    },
    "tags": []
   },
   "outputs": [],
   "source": [
    "import pandas as pd\n",
    "from sklearn.model_selection import train_test_split\n",
    "\n",
    "# Read the data\n",
    "X_full = pd.read_csv('../input/train.csv', index_col='Id')\n",
    "X_test_full = pd.read_csv('../input/test.csv', index_col='Id')\n",
    "\n",
    "# Remove rows with missing target, separate target from predictors\n",
    "X_full.dropna(axis=0, subset=['SalePrice'], inplace=True)\n",
    "y = X_full.SalePrice\n",
    "X_full.drop(['SalePrice'], axis=1, inplace=True)\n",
    "\n",
    "# To keep things simple, we'll use only numerical predictors\n",
    "X = X_full.select_dtypes(exclude=['object'])\n",
    "X_test = X_test_full.select_dtypes(exclude=['object'])\n",
    "\n",
    "# Break off validation set from training data\n",
    "X_train, X_valid, y_train, y_valid = train_test_split(X, y, train_size=0.8, test_size=0.2,\n",
    "                                                      random_state=0)"
   ]
  },
  {
   "cell_type": "markdown",
   "id": "a97794bd",
   "metadata": {
    "papermill": {
     "duration": 0.007294,
     "end_time": "2024-12-02T17:34:46.041010",
     "exception": false,
     "start_time": "2024-12-02T17:34:46.033716",
     "status": "completed"
    },
    "tags": []
   },
   "source": [
    "Use the next code cell to print the first five rows of the data."
   ]
  },
  {
   "cell_type": "code",
   "execution_count": 3,
   "id": "f1dab0a4",
   "metadata": {
    "execution": {
     "iopub.execute_input": "2024-12-02T17:34:46.059152Z",
     "iopub.status.busy": "2024-12-02T17:34:46.058689Z",
     "iopub.status.idle": "2024-12-02T17:34:46.090975Z",
     "shell.execute_reply": "2024-12-02T17:34:46.089122Z"
    },
    "papermill": {
     "duration": 0.045396,
     "end_time": "2024-12-02T17:34:46.094170",
     "exception": false,
     "start_time": "2024-12-02T17:34:46.048774",
     "status": "completed"
    },
    "tags": []
   },
   "outputs": [
    {
     "data": {
      "text/html": [
       "<div>\n",
       "<style scoped>\n",
       "    .dataframe tbody tr th:only-of-type {\n",
       "        vertical-align: middle;\n",
       "    }\n",
       "\n",
       "    .dataframe tbody tr th {\n",
       "        vertical-align: top;\n",
       "    }\n",
       "\n",
       "    .dataframe thead th {\n",
       "        text-align: right;\n",
       "    }\n",
       "</style>\n",
       "<table border=\"1\" class=\"dataframe\">\n",
       "  <thead>\n",
       "    <tr style=\"text-align: right;\">\n",
       "      <th></th>\n",
       "      <th>MSSubClass</th>\n",
       "      <th>LotFrontage</th>\n",
       "      <th>LotArea</th>\n",
       "      <th>OverallQual</th>\n",
       "      <th>OverallCond</th>\n",
       "      <th>YearBuilt</th>\n",
       "      <th>YearRemodAdd</th>\n",
       "      <th>MasVnrArea</th>\n",
       "      <th>BsmtFinSF1</th>\n",
       "      <th>BsmtFinSF2</th>\n",
       "      <th>...</th>\n",
       "      <th>GarageArea</th>\n",
       "      <th>WoodDeckSF</th>\n",
       "      <th>OpenPorchSF</th>\n",
       "      <th>EnclosedPorch</th>\n",
       "      <th>3SsnPorch</th>\n",
       "      <th>ScreenPorch</th>\n",
       "      <th>PoolArea</th>\n",
       "      <th>MiscVal</th>\n",
       "      <th>MoSold</th>\n",
       "      <th>YrSold</th>\n",
       "    </tr>\n",
       "    <tr>\n",
       "      <th>Id</th>\n",
       "      <th></th>\n",
       "      <th></th>\n",
       "      <th></th>\n",
       "      <th></th>\n",
       "      <th></th>\n",
       "      <th></th>\n",
       "      <th></th>\n",
       "      <th></th>\n",
       "      <th></th>\n",
       "      <th></th>\n",
       "      <th></th>\n",
       "      <th></th>\n",
       "      <th></th>\n",
       "      <th></th>\n",
       "      <th></th>\n",
       "      <th></th>\n",
       "      <th></th>\n",
       "      <th></th>\n",
       "      <th></th>\n",
       "      <th></th>\n",
       "      <th></th>\n",
       "    </tr>\n",
       "  </thead>\n",
       "  <tbody>\n",
       "    <tr>\n",
       "      <th>619</th>\n",
       "      <td>20</td>\n",
       "      <td>90.0</td>\n",
       "      <td>11694</td>\n",
       "      <td>9</td>\n",
       "      <td>5</td>\n",
       "      <td>2007</td>\n",
       "      <td>2007</td>\n",
       "      <td>452.0</td>\n",
       "      <td>48</td>\n",
       "      <td>0</td>\n",
       "      <td>...</td>\n",
       "      <td>774</td>\n",
       "      <td>0</td>\n",
       "      <td>108</td>\n",
       "      <td>0</td>\n",
       "      <td>0</td>\n",
       "      <td>260</td>\n",
       "      <td>0</td>\n",
       "      <td>0</td>\n",
       "      <td>7</td>\n",
       "      <td>2007</td>\n",
       "    </tr>\n",
       "    <tr>\n",
       "      <th>871</th>\n",
       "      <td>20</td>\n",
       "      <td>60.0</td>\n",
       "      <td>6600</td>\n",
       "      <td>5</td>\n",
       "      <td>5</td>\n",
       "      <td>1962</td>\n",
       "      <td>1962</td>\n",
       "      <td>0.0</td>\n",
       "      <td>0</td>\n",
       "      <td>0</td>\n",
       "      <td>...</td>\n",
       "      <td>308</td>\n",
       "      <td>0</td>\n",
       "      <td>0</td>\n",
       "      <td>0</td>\n",
       "      <td>0</td>\n",
       "      <td>0</td>\n",
       "      <td>0</td>\n",
       "      <td>0</td>\n",
       "      <td>8</td>\n",
       "      <td>2009</td>\n",
       "    </tr>\n",
       "    <tr>\n",
       "      <th>93</th>\n",
       "      <td>30</td>\n",
       "      <td>80.0</td>\n",
       "      <td>13360</td>\n",
       "      <td>5</td>\n",
       "      <td>7</td>\n",
       "      <td>1921</td>\n",
       "      <td>2006</td>\n",
       "      <td>0.0</td>\n",
       "      <td>713</td>\n",
       "      <td>0</td>\n",
       "      <td>...</td>\n",
       "      <td>432</td>\n",
       "      <td>0</td>\n",
       "      <td>0</td>\n",
       "      <td>44</td>\n",
       "      <td>0</td>\n",
       "      <td>0</td>\n",
       "      <td>0</td>\n",
       "      <td>0</td>\n",
       "      <td>8</td>\n",
       "      <td>2009</td>\n",
       "    </tr>\n",
       "    <tr>\n",
       "      <th>818</th>\n",
       "      <td>20</td>\n",
       "      <td>NaN</td>\n",
       "      <td>13265</td>\n",
       "      <td>8</td>\n",
       "      <td>5</td>\n",
       "      <td>2002</td>\n",
       "      <td>2002</td>\n",
       "      <td>148.0</td>\n",
       "      <td>1218</td>\n",
       "      <td>0</td>\n",
       "      <td>...</td>\n",
       "      <td>857</td>\n",
       "      <td>150</td>\n",
       "      <td>59</td>\n",
       "      <td>0</td>\n",
       "      <td>0</td>\n",
       "      <td>0</td>\n",
       "      <td>0</td>\n",
       "      <td>0</td>\n",
       "      <td>7</td>\n",
       "      <td>2008</td>\n",
       "    </tr>\n",
       "    <tr>\n",
       "      <th>303</th>\n",
       "      <td>20</td>\n",
       "      <td>118.0</td>\n",
       "      <td>13704</td>\n",
       "      <td>7</td>\n",
       "      <td>5</td>\n",
       "      <td>2001</td>\n",
       "      <td>2002</td>\n",
       "      <td>150.0</td>\n",
       "      <td>0</td>\n",
       "      <td>0</td>\n",
       "      <td>...</td>\n",
       "      <td>843</td>\n",
       "      <td>468</td>\n",
       "      <td>81</td>\n",
       "      <td>0</td>\n",
       "      <td>0</td>\n",
       "      <td>0</td>\n",
       "      <td>0</td>\n",
       "      <td>0</td>\n",
       "      <td>1</td>\n",
       "      <td>2006</td>\n",
       "    </tr>\n",
       "  </tbody>\n",
       "</table>\n",
       "<p>5 rows × 36 columns</p>\n",
       "</div>"
      ],
      "text/plain": [
       "     MSSubClass  LotFrontage  LotArea  OverallQual  OverallCond  YearBuilt  \\\n",
       "Id                                                                           \n",
       "619          20         90.0    11694            9            5       2007   \n",
       "871          20         60.0     6600            5            5       1962   \n",
       "93           30         80.0    13360            5            7       1921   \n",
       "818          20          NaN    13265            8            5       2002   \n",
       "303          20        118.0    13704            7            5       2001   \n",
       "\n",
       "     YearRemodAdd  MasVnrArea  BsmtFinSF1  BsmtFinSF2  ...  GarageArea  \\\n",
       "Id                                                     ...               \n",
       "619          2007       452.0          48           0  ...         774   \n",
       "871          1962         0.0           0           0  ...         308   \n",
       "93           2006         0.0         713           0  ...         432   \n",
       "818          2002       148.0        1218           0  ...         857   \n",
       "303          2002       150.0           0           0  ...         843   \n",
       "\n",
       "     WoodDeckSF  OpenPorchSF  EnclosedPorch  3SsnPorch  ScreenPorch  PoolArea  \\\n",
       "Id                                                                              \n",
       "619           0          108              0          0          260         0   \n",
       "871           0            0              0          0            0         0   \n",
       "93            0            0             44          0            0         0   \n",
       "818         150           59              0          0            0         0   \n",
       "303         468           81              0          0            0         0   \n",
       "\n",
       "     MiscVal  MoSold  YrSold  \n",
       "Id                            \n",
       "619        0       7    2007  \n",
       "871        0       8    2009  \n",
       "93         0       8    2009  \n",
       "818        0       7    2008  \n",
       "303        0       1    2006  \n",
       "\n",
       "[5 rows x 36 columns]"
      ]
     },
     "execution_count": 3,
     "metadata": {},
     "output_type": "execute_result"
    }
   ],
   "source": [
    "X_train.head()"
   ]
  },
  {
   "cell_type": "markdown",
   "id": "78112438",
   "metadata": {
    "papermill": {
     "duration": 0.007437,
     "end_time": "2024-12-02T17:34:46.110654",
     "exception": false,
     "start_time": "2024-12-02T17:34:46.103217",
     "status": "completed"
    },
    "tags": []
   },
   "source": [
    "You can already see a few missing values in the first several rows.  In the next step, you'll obtain a more comprehensive understanding of the missing values in the dataset.\n",
    "\n",
    "# Step 1: Preliminary investigation\n",
    "\n",
    "Run the code cell below without changes."
   ]
  },
  {
   "cell_type": "code",
   "execution_count": 4,
   "id": "59aca174",
   "metadata": {
    "execution": {
     "iopub.execute_input": "2024-12-02T17:34:46.128752Z",
     "iopub.status.busy": "2024-12-02T17:34:46.128243Z",
     "iopub.status.idle": "2024-12-02T17:34:46.139764Z",
     "shell.execute_reply": "2024-12-02T17:34:46.138068Z"
    },
    "papermill": {
     "duration": 0.023958,
     "end_time": "2024-12-02T17:34:46.142852",
     "exception": false,
     "start_time": "2024-12-02T17:34:46.118894",
     "status": "completed"
    },
    "tags": []
   },
   "outputs": [
    {
     "name": "stdout",
     "output_type": "stream",
     "text": [
      "(1168, 36)\n",
      "LotFrontage    212\n",
      "MasVnrArea       6\n",
      "GarageYrBlt     58\n",
      "dtype: int64\n"
     ]
    }
   ],
   "source": [
    "# Shape of training data (num_rows, num_columns)\n",
    "print(X_train.shape)\n",
    "\n",
    "# Number of missing values in each column of training data\n",
    "missing_val_count_by_column = (X_train.isnull().sum())\n",
    "print(missing_val_count_by_column[missing_val_count_by_column > 0])"
   ]
  },
  {
   "cell_type": "markdown",
   "id": "797e9e96",
   "metadata": {
    "papermill": {
     "duration": 0.007317,
     "end_time": "2024-12-02T17:34:46.158029",
     "exception": false,
     "start_time": "2024-12-02T17:34:46.150712",
     "status": "completed"
    },
    "tags": []
   },
   "source": [
    "### Part A\n",
    "\n",
    "Use the above output to answer the questions below."
   ]
  },
  {
   "cell_type": "code",
   "execution_count": 5,
   "id": "2acadcbe",
   "metadata": {
    "execution": {
     "iopub.execute_input": "2024-12-02T17:34:46.175298Z",
     "iopub.status.busy": "2024-12-02T17:34:46.174847Z",
     "iopub.status.idle": "2024-12-02T17:34:46.185787Z",
     "shell.execute_reply": "2024-12-02T17:34:46.184427Z"
    },
    "papermill": {
     "duration": 0.022561,
     "end_time": "2024-12-02T17:34:46.188181",
     "exception": false,
     "start_time": "2024-12-02T17:34:46.165620",
     "status": "completed"
    },
    "tags": []
   },
   "outputs": [
    {
     "data": {
      "application/javascript": [
       "parent.postMessage({\"jupyterEvent\": \"custom.exercise_interaction\", \"data\": {\"outcomeType\": 1, \"valueTowardsCompletion\": 1.0, \"interactionType\": 1, \"questionType\": 1, \"questionId\": \"1.1_InvestigateEquality\", \"learnToolsVersion\": \"0.3.4\", \"failureMessage\": \"\", \"exceptionClass\": \"\", \"trace\": \"\"}}, \"*\")"
      ],
      "text/plain": [
       "<IPython.core.display.Javascript object>"
      ]
     },
     "metadata": {},
     "output_type": "display_data"
    },
    {
     "data": {
      "text/markdown": [
       "<span style=\"color:#33cc33\">Correct</span>"
      ],
      "text/plain": [
       "Correct"
      ]
     },
     "metadata": {},
     "output_type": "display_data"
    }
   ],
   "source": [
    "# Fill in the line below: How many rows are in the training data?\n",
    "num_rows = 1168\n",
    "\n",
    "# Fill in the line below: How many columns in the training data\n",
    "# have missing values?\n",
    "num_cols_with_missing = 3\n",
    "\n",
    "# Fill in the line below: How many missing entries are contained in \n",
    "# all of the training data?\n",
    "tot_missing = 276\n",
    "\n",
    "# Check your answers\n",
    "step_1.a.check()"
   ]
  },
  {
   "cell_type": "code",
   "execution_count": 6,
   "id": "4c12c1d6",
   "metadata": {
    "execution": {
     "iopub.execute_input": "2024-12-02T17:34:46.208679Z",
     "iopub.status.busy": "2024-12-02T17:34:46.208226Z",
     "iopub.status.idle": "2024-12-02T17:34:46.214896Z",
     "shell.execute_reply": "2024-12-02T17:34:46.212698Z"
    },
    "papermill": {
     "duration": 0.019467,
     "end_time": "2024-12-02T17:34:46.217628",
     "exception": false,
     "start_time": "2024-12-02T17:34:46.198161",
     "status": "completed"
    },
    "tags": []
   },
   "outputs": [],
   "source": [
    "# Lines below will give you a hint or solution code\n",
    "#step_1.a.hint()\n",
    "#step_1.a.solution()"
   ]
  },
  {
   "cell_type": "markdown",
   "id": "99dc61b7",
   "metadata": {
    "papermill": {
     "duration": 0.007639,
     "end_time": "2024-12-02T17:34:46.235015",
     "exception": false,
     "start_time": "2024-12-02T17:34:46.227376",
     "status": "completed"
    },
    "tags": []
   },
   "source": [
    "### Part B\n",
    "Considering your answers above, what do you think is likely the best approach to dealing with the missing values?"
   ]
  },
  {
   "cell_type": "code",
   "execution_count": 7,
   "id": "8ff30360",
   "metadata": {
    "execution": {
     "iopub.execute_input": "2024-12-02T17:34:46.253440Z",
     "iopub.status.busy": "2024-12-02T17:34:46.252893Z",
     "iopub.status.idle": "2024-12-02T17:34:46.659872Z",
     "shell.execute_reply": "2024-12-02T17:34:46.658357Z"
    },
    "papermill": {
     "duration": 0.419455,
     "end_time": "2024-12-02T17:34:46.662555",
     "exception": false,
     "start_time": "2024-12-02T17:34:46.243100",
     "status": "completed"
    },
    "tags": []
   },
   "outputs": [
    {
     "data": {
      "application/javascript": [
       "parent.postMessage({\"jupyterEvent\": \"custom.exercise_interaction\", \"data\": {\"outcomeType\": 1, \"valueTowardsCompletion\": 1.0, \"interactionType\": 1, \"questionType\": 4, \"questionId\": \"1.2_InvestigateThought\", \"learnToolsVersion\": \"0.3.4\", \"failureMessage\": \"\", \"exceptionClass\": \"\", \"trace\": \"\"}}, \"*\")"
      ],
      "text/plain": [
       "<IPython.core.display.Javascript object>"
      ]
     },
     "metadata": {},
     "output_type": "display_data"
    },
    {
     "data": {
      "text/markdown": [
       "<span style=\"color:#33cc33\">Correct:</span> \n",
       "\n",
       "Since there are relatively few missing entries in the data (the column with the greatest percentage of missing values is missing less than 20% of its entries), we can expect that dropping columns is unlikely to yield good results.  This is because we'd be throwing away a lot of valuable data, and so imputation will likely perform better."
      ],
      "text/plain": [
       "Correct: \n",
       "\n",
       "Since there are relatively few missing entries in the data (the column with the greatest percentage of missing values is missing less than 20% of its entries), we can expect that dropping columns is unlikely to yield good results.  This is because we'd be throwing away a lot of valuable data, and so imputation will likely perform better."
      ]
     },
     "metadata": {},
     "output_type": "display_data"
    }
   ],
   "source": [
    "# Check your answer (Run this code cell to receive credit!)\n",
    "from sklearn.impute import SimpleImputer\n",
    "step_1.b.check()"
   ]
  },
  {
   "cell_type": "code",
   "execution_count": 8,
   "id": "70ede612",
   "metadata": {
    "execution": {
     "iopub.execute_input": "2024-12-02T17:34:46.683192Z",
     "iopub.status.busy": "2024-12-02T17:34:46.681915Z",
     "iopub.status.idle": "2024-12-02T17:34:46.688147Z",
     "shell.execute_reply": "2024-12-02T17:34:46.686701Z"
    },
    "papermill": {
     "duration": 0.020252,
     "end_time": "2024-12-02T17:34:46.691554",
     "exception": false,
     "start_time": "2024-12-02T17:34:46.671302",
     "status": "completed"
    },
    "tags": []
   },
   "outputs": [],
   "source": [
    "#step_1.b.hint()"
   ]
  },
  {
   "cell_type": "markdown",
   "id": "a857d498",
   "metadata": {
    "papermill": {
     "duration": 0.01025,
     "end_time": "2024-12-02T17:34:46.712983",
     "exception": false,
     "start_time": "2024-12-02T17:34:46.702733",
     "status": "completed"
    },
    "tags": []
   },
   "source": [
    "To compare different approaches to dealing with missing values, you'll use the same `score_dataset()` function from the tutorial.  This function reports the [mean absolute error](https://en.wikipedia.org/wiki/Mean_absolute_error) (MAE) from a random forest model."
   ]
  },
  {
   "cell_type": "code",
   "execution_count": 9,
   "id": "1d98fc7e",
   "metadata": {
    "execution": {
     "iopub.execute_input": "2024-12-02T17:34:46.732702Z",
     "iopub.status.busy": "2024-12-02T17:34:46.732247Z",
     "iopub.status.idle": "2024-12-02T17:34:46.881459Z",
     "shell.execute_reply": "2024-12-02T17:34:46.879905Z"
    },
    "papermill": {
     "duration": 0.163307,
     "end_time": "2024-12-02T17:34:46.884870",
     "exception": false,
     "start_time": "2024-12-02T17:34:46.721563",
     "status": "completed"
    },
    "tags": []
   },
   "outputs": [],
   "source": [
    "from sklearn.ensemble import RandomForestRegressor\n",
    "from sklearn.metrics import mean_absolute_error\n",
    "\n",
    "# Function for comparing different approaches\n",
    "def score_dataset(X_train, X_valid, y_train, y_valid):\n",
    "    model = RandomForestRegressor(n_estimators=100, random_state=0)\n",
    "    model.fit(X_train, y_train)\n",
    "    preds = model.predict(X_valid)\n",
    "    return mean_absolute_error(y_valid, preds)"
   ]
  },
  {
   "cell_type": "markdown",
   "id": "93f25da6",
   "metadata": {
    "papermill": {
     "duration": 0.008193,
     "end_time": "2024-12-02T17:34:46.901921",
     "exception": false,
     "start_time": "2024-12-02T17:34:46.893728",
     "status": "completed"
    },
    "tags": []
   },
   "source": [
    "# Step 2: Drop columns with missing values\n",
    "\n",
    "In this step, you'll preprocess the data in `X_train` and `X_valid` to remove columns with missing values.  Set the preprocessed DataFrames to `reduced_X_train` and `reduced_X_valid`, respectively.  "
   ]
  },
  {
   "cell_type": "code",
   "execution_count": 10,
   "id": "79a38f7f",
   "metadata": {
    "execution": {
     "iopub.execute_input": "2024-12-02T17:34:46.921147Z",
     "iopub.status.busy": "2024-12-02T17:34:46.920628Z",
     "iopub.status.idle": "2024-12-02T17:34:46.949659Z",
     "shell.execute_reply": "2024-12-02T17:34:46.948375Z"
    },
    "papermill": {
     "duration": 0.041948,
     "end_time": "2024-12-02T17:34:46.952430",
     "exception": false,
     "start_time": "2024-12-02T17:34:46.910482",
     "status": "completed"
    },
    "tags": []
   },
   "outputs": [
    {
     "data": {
      "application/javascript": [
       "parent.postMessage({\"jupyterEvent\": \"custom.exercise_interaction\", \"data\": {\"outcomeType\": 1, \"valueTowardsCompletion\": 1.0, \"interactionType\": 1, \"questionType\": 2, \"questionId\": \"2_DropMissing\", \"learnToolsVersion\": \"0.3.4\", \"failureMessage\": \"\", \"exceptionClass\": \"\", \"trace\": \"\"}}, \"*\")"
      ],
      "text/plain": [
       "<IPython.core.display.Javascript object>"
      ]
     },
     "metadata": {},
     "output_type": "display_data"
    },
    {
     "data": {
      "text/markdown": [
       "<span style=\"color:#33cc33\">Correct</span>"
      ],
      "text/plain": [
       "Correct"
      ]
     },
     "metadata": {},
     "output_type": "display_data"
    }
   ],
   "source": [
    "# Fill in the line below: get names of columns with missing values\n",
    "cols_missing = [col for col in X_train.columns\n",
    "               if X_train[col].isnull().any()] # Your code here\n",
    "\n",
    "# Fill in the lines below: drop columns in training and validation data\n",
    "reduced_X_train = X_train.drop(cols_missing, axis=1)\n",
    "reduced_X_valid = X_valid.drop(cols_missing, axis=1)\n",
    "\n",
    "# Check your answers\n",
    "step_2.check()"
   ]
  },
  {
   "cell_type": "code",
   "execution_count": 11,
   "id": "9347800f",
   "metadata": {
    "execution": {
     "iopub.execute_input": "2024-12-02T17:34:46.973825Z",
     "iopub.status.busy": "2024-12-02T17:34:46.972612Z",
     "iopub.status.idle": "2024-12-02T17:34:46.978802Z",
     "shell.execute_reply": "2024-12-02T17:34:46.977188Z"
    },
    "papermill": {
     "duration": 0.021049,
     "end_time": "2024-12-02T17:34:46.982176",
     "exception": false,
     "start_time": "2024-12-02T17:34:46.961127",
     "status": "completed"
    },
    "tags": []
   },
   "outputs": [],
   "source": [
    "# Lines below will give you a hint or solution code\n",
    "#step_2.hint()\n",
    "#step_2.solution()"
   ]
  },
  {
   "cell_type": "markdown",
   "id": "5e12fa42",
   "metadata": {
    "papermill": {
     "duration": 0.008255,
     "end_time": "2024-12-02T17:34:46.998872",
     "exception": false,
     "start_time": "2024-12-02T17:34:46.990617",
     "status": "completed"
    },
    "tags": []
   },
   "source": [
    "Run the next code cell without changes to obtain the MAE for this approach."
   ]
  },
  {
   "cell_type": "code",
   "execution_count": 12,
   "id": "9462f01b",
   "metadata": {
    "execution": {
     "iopub.execute_input": "2024-12-02T17:34:47.019005Z",
     "iopub.status.busy": "2024-12-02T17:34:47.017525Z",
     "iopub.status.idle": "2024-12-02T17:34:48.402678Z",
     "shell.execute_reply": "2024-12-02T17:34:48.400743Z"
    },
    "papermill": {
     "duration": 1.398331,
     "end_time": "2024-12-02T17:34:48.405678",
     "exception": false,
     "start_time": "2024-12-02T17:34:47.007347",
     "status": "completed"
    },
    "tags": []
   },
   "outputs": [
    {
     "name": "stdout",
     "output_type": "stream",
     "text": [
      "MAE (Drop columns with missing values):\n",
      "17837.82570776256\n"
     ]
    }
   ],
   "source": [
    "print(\"MAE (Drop columns with missing values):\")\n",
    "print(score_dataset(reduced_X_train, reduced_X_valid, y_train, y_valid))"
   ]
  },
  {
   "cell_type": "markdown",
   "id": "57730768",
   "metadata": {
    "papermill": {
     "duration": 0.00881,
     "end_time": "2024-12-02T17:34:48.423420",
     "exception": false,
     "start_time": "2024-12-02T17:34:48.414610",
     "status": "completed"
    },
    "tags": []
   },
   "source": [
    "# Step 3: Imputation\n",
    "\n",
    "### Part A\n",
    "\n",
    "Use the next code cell to impute missing values with the mean value along each column.  Set the preprocessed DataFrames to `imputed_X_train` and `imputed_X_valid`.  Make sure that the column names match those in `X_train` and `X_valid`."
   ]
  },
  {
   "cell_type": "code",
   "execution_count": 13,
   "id": "1dbc6b45",
   "metadata": {
    "execution": {
     "iopub.execute_input": "2024-12-02T17:34:48.443779Z",
     "iopub.status.busy": "2024-12-02T17:34:48.443242Z",
     "iopub.status.idle": "2024-12-02T17:34:48.475216Z",
     "shell.execute_reply": "2024-12-02T17:34:48.473721Z"
    },
    "papermill": {
     "duration": 0.04607,
     "end_time": "2024-12-02T17:34:48.478179",
     "exception": false,
     "start_time": "2024-12-02T17:34:48.432109",
     "status": "completed"
    },
    "tags": []
   },
   "outputs": [
    {
     "data": {
      "application/javascript": [
       "parent.postMessage({\"jupyterEvent\": \"custom.exercise_interaction\", \"data\": {\"outcomeType\": 1, \"valueTowardsCompletion\": 1.0, \"interactionType\": 1, \"questionType\": 2, \"questionId\": \"3.1_ImputeCode\", \"learnToolsVersion\": \"0.3.4\", \"failureMessage\": \"\", \"exceptionClass\": \"\", \"trace\": \"\"}}, \"*\")"
      ],
      "text/plain": [
       "<IPython.core.display.Javascript object>"
      ]
     },
     "metadata": {},
     "output_type": "display_data"
    },
    {
     "data": {
      "text/markdown": [
       "<span style=\"color:#33cc33\">Correct</span>"
      ],
      "text/plain": [
       "Correct"
      ]
     },
     "metadata": {},
     "output_type": "display_data"
    }
   ],
   "source": [
    "from sklearn.impute import SimpleImputer\n",
    "\n",
    "# Fill in the lines below: imputation\n",
    "my_imputer = SimpleImputer() # Your code here\n",
    "imputed_X_train = pd.DataFrame(my_imputer.fit_transform(X_train))\n",
    "imputed_X_valid = pd.DataFrame(my_imputer.transform(X_valid))\n",
    "\n",
    "# Fill in the lines below: imputation removed column names; put them back\n",
    "imputed_X_train.columns = X_train.columns\n",
    "imputed_X_valid.columns = X_valid.columns\n",
    "\n",
    "# Check your answers\n",
    "step_3.a.check()"
   ]
  },
  {
   "cell_type": "code",
   "execution_count": 14,
   "id": "bddad18c",
   "metadata": {
    "execution": {
     "iopub.execute_input": "2024-12-02T17:34:48.498985Z",
     "iopub.status.busy": "2024-12-02T17:34:48.498500Z",
     "iopub.status.idle": "2024-12-02T17:34:48.504341Z",
     "shell.execute_reply": "2024-12-02T17:34:48.502833Z"
    },
    "papermill": {
     "duration": 0.019544,
     "end_time": "2024-12-02T17:34:48.507311",
     "exception": false,
     "start_time": "2024-12-02T17:34:48.487767",
     "status": "completed"
    },
    "tags": []
   },
   "outputs": [],
   "source": [
    "# Lines below will give you a hint or solution code\n",
    "#step_3.a.hint()\n",
    "#step_3.a.solution()"
   ]
  },
  {
   "cell_type": "markdown",
   "id": "319f33e8",
   "metadata": {
    "papermill": {
     "duration": 0.008425,
     "end_time": "2024-12-02T17:34:48.524777",
     "exception": false,
     "start_time": "2024-12-02T17:34:48.516352",
     "status": "completed"
    },
    "tags": []
   },
   "source": [
    "Run the next code cell without changes to obtain the MAE for this approach."
   ]
  },
  {
   "cell_type": "code",
   "execution_count": 15,
   "id": "6032a36e",
   "metadata": {
    "execution": {
     "iopub.execute_input": "2024-12-02T17:34:48.547443Z",
     "iopub.status.busy": "2024-12-02T17:34:48.546976Z",
     "iopub.status.idle": "2024-12-02T17:34:49.981094Z",
     "shell.execute_reply": "2024-12-02T17:34:49.979605Z"
    },
    "papermill": {
     "duration": 1.447866,
     "end_time": "2024-12-02T17:34:49.984008",
     "exception": false,
     "start_time": "2024-12-02T17:34:48.536142",
     "status": "completed"
    },
    "tags": []
   },
   "outputs": [
    {
     "name": "stdout",
     "output_type": "stream",
     "text": [
      "MAE (Imputation):\n",
      "18062.894611872147\n"
     ]
    }
   ],
   "source": [
    "print(\"MAE (Imputation):\")\n",
    "print(score_dataset(imputed_X_train, imputed_X_valid, y_train, y_valid))"
   ]
  },
  {
   "cell_type": "markdown",
   "id": "7c11230a",
   "metadata": {
    "papermill": {
     "duration": 0.008641,
     "end_time": "2024-12-02T17:34:50.001830",
     "exception": false,
     "start_time": "2024-12-02T17:34:49.993189",
     "status": "completed"
    },
    "tags": []
   },
   "source": [
    "### Part B\n",
    "\n",
    "Compare the MAE from each approach.  Does anything surprise you about the results?  Why do you think one approach performed better than the other?\n",
    "\n",
    "We thought that since there were 3 columns with missing values that had less than half of their rows missing, removing the whole column would be wasteful of the useful data. However the MAE shows that imputing those missing values does worse than removing the columns. "
   ]
  },
  {
   "cell_type": "code",
   "execution_count": 16,
   "id": "dd52579f",
   "metadata": {
    "execution": {
     "iopub.execute_input": "2024-12-02T17:34:50.022133Z",
     "iopub.status.busy": "2024-12-02T17:34:50.021691Z",
     "iopub.status.idle": "2024-12-02T17:34:50.033780Z",
     "shell.execute_reply": "2024-12-02T17:34:50.032076Z"
    },
    "papermill": {
     "duration": 0.025668,
     "end_time": "2024-12-02T17:34:50.036719",
     "exception": false,
     "start_time": "2024-12-02T17:34:50.011051",
     "status": "completed"
    },
    "tags": []
   },
   "outputs": [
    {
     "data": {
      "application/javascript": [
       "parent.postMessage({\"jupyterEvent\": \"custom.exercise_interaction\", \"data\": {\"outcomeType\": 1, \"valueTowardsCompletion\": 1.0, \"interactionType\": 1, \"questionType\": 4, \"questionId\": \"3.2_ImputeThought\", \"learnToolsVersion\": \"0.3.4\", \"failureMessage\": \"\", \"exceptionClass\": \"\", \"trace\": \"\"}}, \"*\")"
      ],
      "text/plain": [
       "<IPython.core.display.Javascript object>"
      ]
     },
     "metadata": {},
     "output_type": "display_data"
    },
    {
     "data": {
      "text/markdown": [
       "<span style=\"color:#33cc33\">Correct:</span> \n",
       "\n",
       "Given that thre are so few missing values in the dataset, we'd expect imputation to perform better than dropping columns entirely.  However, we see that dropping columns performs slightly better!  While this can probably partially be attributed to noise in the dataset, another potential explanation is that the imputation method is not a great match to this dataset.  That is, maybe instead of filling in the mean value, it makes more sense to set every missing value to a value of 0, to fill in the most frequently encountered value, or to use some other method.  For instance, consider the `GarageYrBlt` column (which indicates the year that the garage was built).  It's likely that in some cases, a missing value could indicate a house that does not have a garage.  Does it make more sense to fill in the median value along each column in this case?  Or could we get better results by filling in the minimum value along each column?  It's not quite clear what's best in this case, but perhaps we can rule out some options immediately - for instance, setting missing values in this column to 0 is likely to yield horrible results!"
      ],
      "text/plain": [
       "Correct: \n",
       "\n",
       "Given that thre are so few missing values in the dataset, we'd expect imputation to perform better than dropping columns entirely.  However, we see that dropping columns performs slightly better!  While this can probably partially be attributed to noise in the dataset, another potential explanation is that the imputation method is not a great match to this dataset.  That is, maybe instead of filling in the mean value, it makes more sense to set every missing value to a value of 0, to fill in the most frequently encountered value, or to use some other method.  For instance, consider the `GarageYrBlt` column (which indicates the year that the garage was built).  It's likely that in some cases, a missing value could indicate a house that does not have a garage.  Does it make more sense to fill in the median value along each column in this case?  Or could we get better results by filling in the minimum value along each column?  It's not quite clear what's best in this case, but perhaps we can rule out some options immediately - for instance, setting missing values in this column to 0 is likely to yield horrible results!"
      ]
     },
     "metadata": {},
     "output_type": "display_data"
    }
   ],
   "source": [
    "# Check your answer (Run this code cell to receive credit!)\n",
    "step_3.b.check()"
   ]
  },
  {
   "cell_type": "code",
   "execution_count": 17,
   "id": "5f777cf1",
   "metadata": {
    "execution": {
     "iopub.execute_input": "2024-12-02T17:34:50.057229Z",
     "iopub.status.busy": "2024-12-02T17:34:50.056775Z",
     "iopub.status.idle": "2024-12-02T17:34:50.062476Z",
     "shell.execute_reply": "2024-12-02T17:34:50.061090Z"
    },
    "papermill": {
     "duration": 0.019118,
     "end_time": "2024-12-02T17:34:50.065275",
     "exception": false,
     "start_time": "2024-12-02T17:34:50.046157",
     "status": "completed"
    },
    "tags": []
   },
   "outputs": [],
   "source": [
    "#step_3.b.hint()"
   ]
  },
  {
   "cell_type": "markdown",
   "id": "27cec725",
   "metadata": {
    "papermill": {
     "duration": 0.009582,
     "end_time": "2024-12-02T17:34:50.084752",
     "exception": false,
     "start_time": "2024-12-02T17:34:50.075170",
     "status": "completed"
    },
    "tags": []
   },
   "source": [
    "# Step 4: Generate test predictions\n",
    "\n",
    "In this final step, you'll use any approach of your choosing to deal with missing values.  Once you've preprocessed the training and validation features, you'll train and evaluate a random forest model.  Then, you'll preprocess the test data before generating predictions that can be submitted to the competition!\n",
    "\n",
    "### Part A\n",
    "\n",
    "Use the next code cell to preprocess the training and validation data.  Set the preprocessed DataFrames to `final_X_train` and `final_X_valid`.  **You can use any approach of your choosing here!**  in order for this step to be marked as correct, you need only ensure:\n",
    "- the preprocessed DataFrames have the same number of columns,\n",
    "- the preprocessed DataFrames have no missing values, \n",
    "- `final_X_train` and `y_train` have the same number of rows, and\n",
    "- `final_X_valid` and `y_valid` have the same number of rows."
   ]
  },
  {
   "cell_type": "code",
   "execution_count": 18,
   "id": "6a609c45",
   "metadata": {
    "execution": {
     "iopub.execute_input": "2024-12-02T17:34:50.106104Z",
     "iopub.status.busy": "2024-12-02T17:34:50.105462Z",
     "iopub.status.idle": "2024-12-02T17:34:50.144719Z",
     "shell.execute_reply": "2024-12-02T17:34:50.142975Z"
    },
    "papermill": {
     "duration": 0.053288,
     "end_time": "2024-12-02T17:34:50.147627",
     "exception": false,
     "start_time": "2024-12-02T17:34:50.094339",
     "status": "completed"
    },
    "tags": []
   },
   "outputs": [
    {
     "data": {
      "application/javascript": [
       "parent.postMessage({\"jupyterEvent\": \"custom.exercise_interaction\", \"data\": {\"outcomeType\": 1, \"valueTowardsCompletion\": 1.0, \"interactionType\": 1, \"questionType\": 2, \"questionId\": \"4.1_PredsCodeA\", \"learnToolsVersion\": \"0.3.4\", \"failureMessage\": \"\", \"exceptionClass\": \"\", \"trace\": \"\"}}, \"*\")"
      ],
      "text/plain": [
       "<IPython.core.display.Javascript object>"
      ]
     },
     "metadata": {},
     "output_type": "display_data"
    },
    {
     "data": {
      "text/markdown": [
       "<span style=\"color:#33cc33\">Correct</span>"
      ],
      "text/plain": [
       "Correct"
      ]
     },
     "metadata": {},
     "output_type": "display_data"
    }
   ],
   "source": [
    "# Preprocessed training and validation features\n",
    "final_X_train = X_train.copy()\n",
    "final_X_valid = X_valid.copy()\n",
    "\n",
    "for col in cols_missing:\n",
    "    final_X_train[col + '_was_missing'] = final_X_train[col].isnull()\n",
    "    final_X_valid[col + '_was_missing'] = final_X_valid[col].isnull()\n",
    "    \n",
    "temp_X_train = final_X_train.copy()\n",
    "temp_X_valid = final_X_valid.copy()\n",
    "\n",
    "final_X_train = pd.DataFrame(my_imputer.fit_transform(final_X_train))\n",
    "final_X_valid = pd.DataFrame(my_imputer.transform(final_X_valid))\n",
    "\n",
    "final_X_train.columns = temp_X_train.columns\n",
    "final_X_valid.columns = temp_X_valid.columns\n",
    "\n",
    "# Check your answers\n",
    "step_4.a.check()"
   ]
  },
  {
   "cell_type": "code",
   "execution_count": 19,
   "id": "9037fe04",
   "metadata": {
    "execution": {
     "iopub.execute_input": "2024-12-02T17:34:50.169210Z",
     "iopub.status.busy": "2024-12-02T17:34:50.168744Z",
     "iopub.status.idle": "2024-12-02T17:34:50.174398Z",
     "shell.execute_reply": "2024-12-02T17:34:50.172772Z"
    },
    "papermill": {
     "duration": 0.01924,
     "end_time": "2024-12-02T17:34:50.177028",
     "exception": false,
     "start_time": "2024-12-02T17:34:50.157788",
     "status": "completed"
    },
    "tags": []
   },
   "outputs": [],
   "source": [
    "# Lines below will give you a hint or solution code\n",
    "#step_4.a.hint()\n",
    "#step_4.a.solution()"
   ]
  },
  {
   "cell_type": "markdown",
   "id": "cfe832ec",
   "metadata": {
    "papermill": {
     "duration": 0.009179,
     "end_time": "2024-12-02T17:34:50.195966",
     "exception": false,
     "start_time": "2024-12-02T17:34:50.186787",
     "status": "completed"
    },
    "tags": []
   },
   "source": [
    "Run the next code cell to train and evaluate a random forest model.  (*Note that we don't use the `score_dataset()` function above, because we will soon use the trained model to generate test predictions!*)"
   ]
  },
  {
   "cell_type": "code",
   "execution_count": 20,
   "id": "406ec01a",
   "metadata": {
    "execution": {
     "iopub.execute_input": "2024-12-02T17:34:50.217323Z",
     "iopub.status.busy": "2024-12-02T17:34:50.216792Z",
     "iopub.status.idle": "2024-12-02T17:34:51.651993Z",
     "shell.execute_reply": "2024-12-02T17:34:51.650745Z"
    },
    "papermill": {
     "duration": 1.449389,
     "end_time": "2024-12-02T17:34:51.654742",
     "exception": false,
     "start_time": "2024-12-02T17:34:50.205353",
     "status": "completed"
    },
    "tags": []
   },
   "outputs": [
    {
     "name": "stdout",
     "output_type": "stream",
     "text": [
      "MAE (Your approach):\n",
      "18148.417180365297\n"
     ]
    }
   ],
   "source": [
    "# Define and fit model\n",
    "model = RandomForestRegressor(n_estimators=100, random_state=0)\n",
    "model.fit(final_X_train, y_train)\n",
    "\n",
    "# Get validation predictions and MAE\n",
    "preds_valid = model.predict(final_X_valid)\n",
    "print(\"MAE (Your approach):\")\n",
    "print(mean_absolute_error(y_valid, preds_valid))"
   ]
  },
  {
   "cell_type": "markdown",
   "id": "014f16f7",
   "metadata": {
    "papermill": {
     "duration": 0.009033,
     "end_time": "2024-12-02T17:34:51.673333",
     "exception": false,
     "start_time": "2024-12-02T17:34:51.664300",
     "status": "completed"
    },
    "tags": []
   },
   "source": [
    "### Part B\n",
    "\n",
    "Use the next code cell to preprocess your test data.  Make sure that you use a method that agrees with how you preprocessed the training and validation data, and set the preprocessed test features to `final_X_test`.\n",
    "\n",
    "Then, use the preprocessed test features and the trained model to generate test predictions in `preds_test`.\n",
    "\n",
    "In order for this step to be marked correct, you need only ensure:\n",
    "- the preprocessed test DataFrame has no missing values, and\n",
    "- `final_X_test` has the same number of rows as `X_test`."
   ]
  },
  {
   "cell_type": "code",
   "execution_count": 21,
   "id": "845fd4e4",
   "metadata": {
    "execution": {
     "iopub.execute_input": "2024-12-02T17:34:51.697788Z",
     "iopub.status.busy": "2024-12-02T17:34:51.697206Z",
     "iopub.status.idle": "2024-12-02T17:34:51.757799Z",
     "shell.execute_reply": "2024-12-02T17:34:51.756363Z"
    },
    "papermill": {
     "duration": 0.077678,
     "end_time": "2024-12-02T17:34:51.760556",
     "exception": false,
     "start_time": "2024-12-02T17:34:51.682878",
     "status": "completed"
    },
    "tags": []
   },
   "outputs": [
    {
     "data": {
      "application/javascript": [
       "parent.postMessage({\"jupyterEvent\": \"custom.exercise_interaction\", \"data\": {\"outcomeType\": 1, \"valueTowardsCompletion\": 1.0, \"interactionType\": 1, \"questionType\": 2, \"questionId\": \"4.2_PredsCodeB\", \"learnToolsVersion\": \"0.3.4\", \"failureMessage\": \"\", \"exceptionClass\": \"\", \"trace\": \"\"}}, \"*\")"
      ],
      "text/plain": [
       "<IPython.core.display.Javascript object>"
      ]
     },
     "metadata": {},
     "output_type": "display_data"
    },
    {
     "data": {
      "text/markdown": [
       "<span style=\"color:#33cc33\">Correct</span>"
      ],
      "text/plain": [
       "Correct"
      ]
     },
     "metadata": {},
     "output_type": "display_data"
    }
   ],
   "source": [
    "# Fill in the line below: preprocess test data\n",
    "final_X_test = X_test\n",
    "for col in cols_missing:\n",
    "    final_X_test[col + '_was_missing'] = final_X_test[col].isnull()\n",
    "temp_X_test = final_X_test.copy()\n",
    "final_X_test = pd.DataFrame(my_imputer.fit_transform(final_X_test))\n",
    "\n",
    "final_X_test.columns = temp_X_test.columns\n",
    "\n",
    "# Fill in the line below: get test predictions\n",
    "preds_test = model.predict(final_X_test)\n",
    "\n",
    "# Check your answers\n",
    "step_4.b.check()"
   ]
  },
  {
   "cell_type": "code",
   "execution_count": 22,
   "id": "f1fd3e46",
   "metadata": {
    "execution": {
     "iopub.execute_input": "2024-12-02T17:34:51.781863Z",
     "iopub.status.busy": "2024-12-02T17:34:51.781350Z",
     "iopub.status.idle": "2024-12-02T17:34:51.787609Z",
     "shell.execute_reply": "2024-12-02T17:34:51.785983Z"
    },
    "papermill": {
     "duration": 0.020272,
     "end_time": "2024-12-02T17:34:51.790459",
     "exception": false,
     "start_time": "2024-12-02T17:34:51.770187",
     "status": "completed"
    },
    "tags": []
   },
   "outputs": [],
   "source": [
    "# Lines below will give you a hint or solution code\n",
    "#step_4.b.hint()\n",
    "#step_4.b.solution()"
   ]
  },
  {
   "cell_type": "markdown",
   "id": "a246721c",
   "metadata": {
    "papermill": {
     "duration": 0.009251,
     "end_time": "2024-12-02T17:34:51.809222",
     "exception": false,
     "start_time": "2024-12-02T17:34:51.799971",
     "status": "completed"
    },
    "tags": []
   },
   "source": [
    "Run the next code cell without changes to save your results to a CSV file that can be submitted directly to the competition."
   ]
  },
  {
   "cell_type": "code",
   "execution_count": 23,
   "id": "55d1022c",
   "metadata": {
    "execution": {
     "iopub.execute_input": "2024-12-02T17:34:51.830904Z",
     "iopub.status.busy": "2024-12-02T17:34:51.830322Z",
     "iopub.status.idle": "2024-12-02T17:34:51.844137Z",
     "shell.execute_reply": "2024-12-02T17:34:51.842898Z"
    },
    "papermill": {
     "duration": 0.027819,
     "end_time": "2024-12-02T17:34:51.846738",
     "exception": false,
     "start_time": "2024-12-02T17:34:51.818919",
     "status": "completed"
    },
    "tags": []
   },
   "outputs": [],
   "source": [
    "# Save test predictions to file\n",
    "output = pd.DataFrame({'Id': X_test.index,\n",
    "                       'SalePrice': preds_test})\n",
    "output.to_csv('submission.csv', index=False)"
   ]
  },
  {
   "cell_type": "markdown",
   "id": "32c3a6a0",
   "metadata": {
    "papermill": {
     "duration": 0.010122,
     "end_time": "2024-12-02T17:34:51.866789",
     "exception": false,
     "start_time": "2024-12-02T17:34:51.856667",
     "status": "completed"
    },
    "tags": []
   },
   "source": [
    "# Submit your results\n",
    "\n",
    "Once you have successfully completed Step 4, you're ready to submit your results to the leaderboard!  (_You also learned how to do this in the previous exercise.  If you need a reminder of how to do this, please use the instructions below._)  \n",
    "\n",
    "First, you'll need to join the competition if you haven't already.  So open a new window by clicking on [this link](https://www.kaggle.com/c/home-data-for-ml-course).  Then click on the **Join Competition** button.\n",
    "\n",
    "![join competition image](https://storage.googleapis.com/kaggle-media/learn/images/wLmFtH3.png)\n",
    "\n",
    "Next, follow the instructions below:\n",
    "1. Begin by clicking on the **Save Version** button in the top right corner of the window.  This will generate a pop-up window.  \n",
    "2. Ensure that the **Save and Run All** option is selected, and then click on the **Save** button.\n",
    "3. This generates a window in the bottom left corner of the notebook.  After it has finished running, click on the number to the right of the **Save Version** button.  This pulls up a list of versions on the right of the screen.  Click on the ellipsis **(...)** to the right of the most recent version, and select **Open in Viewer**.  This brings you into view mode of the same page. You will need to scroll down to get back to these instructions.\n",
    "4. Click on the **Data** tab near the top of the screen.  Then, click on the file you would like to submit, and click on the **Submit** button to submit your results to the leaderboard.\n",
    "\n",
    "You have now successfully submitted to the competition!\n",
    "\n",
    "If you want to keep working to improve your performance, select the **Edit** button in the top right of the screen. Then you can change your code and repeat the process. There's a lot of room to improve, and you will climb up the leaderboard as you work.\n",
    "\n",
    "\n",
    "# Keep going\n",
    "\n",
    "Move on to learn what **[categorical variables](https://www.kaggle.com/alexisbcook/categorical-variables)** are, along with how to incorporate them into your machine learning models.  Categorical variables are very common in real-world data, but you'll get an error if you try to plug them into your models without processing them first!"
   ]
  },
  {
   "cell_type": "markdown",
   "id": "516f1f8d",
   "metadata": {
    "papermill": {
     "duration": 0.009392,
     "end_time": "2024-12-02T17:34:51.885961",
     "exception": false,
     "start_time": "2024-12-02T17:34:51.876569",
     "status": "completed"
    },
    "tags": []
   },
   "source": [
    "---\n",
    "\n",
    "\n",
    "\n",
    "\n",
    "*Have questions or comments? Visit the [course discussion forum](https://www.kaggle.com/learn/intermediate-machine-learning/discussion) to chat with other learners.*"
   ]
  }
 ],
 "metadata": {
  "kaggle": {
   "accelerator": "none",
   "dataSources": [
    {
     "databundleVersionId": 111096,
     "sourceId": 10211,
     "sourceType": "competition"
    }
   ],
   "isGpuEnabled": false,
   "isInternetEnabled": false,
   "language": "python",
   "sourceType": "notebook"
  },
  "kernelspec": {
   "display_name": "Python 3",
   "language": "python",
   "name": "python3"
  },
  "language_info": {
   "codemirror_mode": {
    "name": "ipython",
    "version": 3
   },
   "file_extension": ".py",
   "mimetype": "text/x-python",
   "name": "python",
   "nbconvert_exporter": "python",
   "pygments_lexer": "ipython3",
   "version": "3.10.14"
  },
  "papermill": {
   "default_parameters": {},
   "duration": 13.599756,
   "end_time": "2024-12-02T17:34:52.921839",
   "environment_variables": {},
   "exception": null,
   "input_path": "__notebook__.ipynb",
   "output_path": "__notebook__.ipynb",
   "parameters": {},
   "start_time": "2024-12-02T17:34:39.322083",
   "version": "2.6.0"
  }
 },
 "nbformat": 4,
 "nbformat_minor": 5
}

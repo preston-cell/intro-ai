{
 "cells": [
  {
   "cell_type": "markdown",
   "id": "b8141668",
   "metadata": {
    "papermill": {
     "duration": 0.004932,
     "end_time": "2024-12-02T17:25:06.760865",
     "exception": false,
     "start_time": "2024-12-02T17:25:06.755933",
     "status": "completed"
    },
    "tags": []
   },
   "source": [
    "**This notebook is an exercise in the [Intermediate Machine Learning](https://www.kaggle.com/learn/intermediate-machine-learning) course.  You can reference the tutorial at [this link](https://www.kaggle.com/alexisbcook/xgboost).**\n",
    "\n",
    "---\n"
   ]
  },
  {
   "cell_type": "markdown",
   "id": "f24c644f",
   "metadata": {
    "papermill": {
     "duration": 0.003852,
     "end_time": "2024-12-02T17:25:06.768933",
     "exception": false,
     "start_time": "2024-12-02T17:25:06.765081",
     "status": "completed"
    },
    "tags": []
   },
   "source": [
    "In this exercise, you will use your new knowledge to train a model with **gradient boosting**.\n",
    "\n",
    "# Setup\n",
    "\n",
    "The questions below will give you feedback on your work. Run the following cell to set up the feedback system."
   ]
  },
  {
   "cell_type": "code",
   "execution_count": 1,
   "id": "4f2cd393",
   "metadata": {
    "execution": {
     "iopub.execute_input": "2024-12-02T17:25:06.778952Z",
     "iopub.status.busy": "2024-12-02T17:25:06.778428Z",
     "iopub.status.idle": "2024-12-02T17:25:10.314526Z",
     "shell.execute_reply": "2024-12-02T17:25:10.311784Z"
    },
    "papermill": {
     "duration": 3.544103,
     "end_time": "2024-12-02T17:25:10.317089",
     "exception": false,
     "start_time": "2024-12-02T17:25:06.772986",
     "status": "completed"
    },
    "tags": []
   },
   "outputs": [
    {
     "name": "stdout",
     "output_type": "stream",
     "text": [
      "Setup Complete\n"
     ]
    }
   ],
   "source": [
    "# Set up code checking\n",
    "import os\n",
    "if not os.path.exists(\"../input/train.csv\"):\n",
    "    os.symlink(\"../input/home-data-for-ml-course/train.csv\", \"../input/train.csv\")  \n",
    "    os.symlink(\"../input/home-data-for-ml-course/test.csv\", \"../input/test.csv\") \n",
    "from learntools.core import binder\n",
    "binder.bind(globals())\n",
    "from learntools.ml_intermediate.ex6 import *\n",
    "print(\"Setup Complete\")"
   ]
  },
  {
   "cell_type": "markdown",
   "id": "501a2ce7",
   "metadata": {
    "papermill": {
     "duration": 0.004109,
     "end_time": "2024-12-02T17:25:10.327174",
     "exception": false,
     "start_time": "2024-12-02T17:25:10.323065",
     "status": "completed"
    },
    "tags": []
   },
   "source": [
    "You will work with the [Housing Prices Competition for Kaggle Learn Users](https://www.kaggle.com/c/home-data-for-ml-course) dataset from the previous exercise. \n",
    "\n",
    "![Ames Housing dataset image](https://storage.googleapis.com/kaggle-media/learn/images/lTJVG4e.png)\n",
    "\n",
    "Run the next code cell without changes to load the training and validation sets in `X_train`, `X_valid`, `y_train`, and `y_valid`.  The test set is loaded in `X_test`."
   ]
  },
  {
   "cell_type": "code",
   "execution_count": 2,
   "id": "820c2568",
   "metadata": {
    "execution": {
     "iopub.execute_input": "2024-12-02T17:25:10.337288Z",
     "iopub.status.busy": "2024-12-02T17:25:10.336887Z",
     "iopub.status.idle": "2024-12-02T17:25:10.488485Z",
     "shell.execute_reply": "2024-12-02T17:25:10.487311Z"
    },
    "papermill": {
     "duration": 0.159655,
     "end_time": "2024-12-02T17:25:10.490995",
     "exception": false,
     "start_time": "2024-12-02T17:25:10.331340",
     "status": "completed"
    },
    "tags": []
   },
   "outputs": [],
   "source": [
    "import pandas as pd\n",
    "from sklearn.model_selection import train_test_split\n",
    "\n",
    "# Read the data\n",
    "X = pd.read_csv('../input/train.csv', index_col='Id')\n",
    "X_test_full = pd.read_csv('../input/test.csv', index_col='Id')\n",
    "\n",
    "# Remove rows with missing target, separate target from predictors\n",
    "X.dropna(axis=0, subset=['SalePrice'], inplace=True)\n",
    "y = X.SalePrice              \n",
    "X.drop(['SalePrice'], axis=1, inplace=True)\n",
    "\n",
    "# Break off validation set from training data\n",
    "X_train_full, X_valid_full, y_train, y_valid = train_test_split(X, y, train_size=0.8, test_size=0.2,\n",
    "                                                                random_state=0)\n",
    "\n",
    "# \"Cardinality\" means the number of unique values in a column\n",
    "# Select categorical columns with relatively low cardinality (convenient but arbitrary)\n",
    "low_cardinality_cols = [cname for cname in X_train_full.columns if X_train_full[cname].nunique() < 10 and \n",
    "                        X_train_full[cname].dtype == \"object\"]\n",
    "\n",
    "# Select numeric columns\n",
    "numeric_cols = [cname for cname in X_train_full.columns if X_train_full[cname].dtype in ['int64', 'float64']]\n",
    "\n",
    "# Keep selected columns only\n",
    "my_cols = low_cardinality_cols + numeric_cols\n",
    "X_train = X_train_full[my_cols].copy()\n",
    "X_valid = X_valid_full[my_cols].copy()\n",
    "X_test = X_test_full[my_cols].copy()\n",
    "\n",
    "# One-hot encode the data (to shorten the code, we use pandas)\n",
    "X_train = pd.get_dummies(X_train)\n",
    "X_valid = pd.get_dummies(X_valid)\n",
    "X_test = pd.get_dummies(X_test)\n",
    "X_train, X_valid = X_train.align(X_valid, join='left', axis=1)\n",
    "X_train, X_test = X_train.align(X_test, join='left', axis=1)"
   ]
  },
  {
   "cell_type": "markdown",
   "id": "ec6cafa4",
   "metadata": {
    "papermill": {
     "duration": 0.004103,
     "end_time": "2024-12-02T17:25:10.499740",
     "exception": false,
     "start_time": "2024-12-02T17:25:10.495637",
     "status": "completed"
    },
    "tags": []
   },
   "source": [
    "# Step 1: Build model\n",
    "\n",
    "### Part A\n",
    "\n",
    "In this step, you'll build and train your first model with gradient boosting.\n",
    "\n",
    "- Begin by setting `my_model_1` to an XGBoost model.  Use the [XGBRegressor](https://xgboost.readthedocs.io/en/latest/python/python_api.html#xgboost.XGBRegressor) class, and set the random seed to 0 (`random_state=0`).  **Leave all other parameters as default.**\n",
    "- Then, fit the model to the training data in `X_train` and `y_train`."
   ]
  },
  {
   "cell_type": "code",
   "execution_count": 3,
   "id": "75d1761a",
   "metadata": {
    "execution": {
     "iopub.execute_input": "2024-12-02T17:25:10.510020Z",
     "iopub.status.busy": "2024-12-02T17:25:10.509486Z",
     "iopub.status.idle": "2024-12-02T17:25:10.948642Z",
     "shell.execute_reply": "2024-12-02T17:25:10.947900Z"
    },
    "papermill": {
     "duration": 0.448372,
     "end_time": "2024-12-02T17:25:10.952396",
     "exception": false,
     "start_time": "2024-12-02T17:25:10.504024",
     "status": "completed"
    },
    "tags": []
   },
   "outputs": [
    {
     "data": {
      "application/javascript": [
       "parent.postMessage({\"jupyterEvent\": \"custom.exercise_interaction\", \"data\": {\"outcomeType\": 1, \"valueTowardsCompletion\": 0.5, \"interactionType\": 1, \"questionType\": 2, \"questionId\": \"1.1_Model1A\", \"learnToolsVersion\": \"0.3.4\", \"failureMessage\": \"\", \"exceptionClass\": \"\", \"trace\": \"\"}}, \"*\")"
      ],
      "text/plain": [
       "<IPython.core.display.Javascript object>"
      ]
     },
     "metadata": {},
     "output_type": "display_data"
    },
    {
     "data": {
      "text/markdown": [
       "<span style=\"color:#33cc33\">Correct</span>"
      ],
      "text/plain": [
       "Correct"
      ]
     },
     "metadata": {},
     "output_type": "display_data"
    }
   ],
   "source": [
    "from xgboost import XGBRegressor\n",
    "\n",
    "# Define the model\n",
    "my_model_1 = XGBRegressor(random_state=0) # Your code here\n",
    "\n",
    "# Fit the model\n",
    "my_model_1.fit(X_train, y_train) # Your code here\n",
    "\n",
    "# Check your answer\n",
    "step_1.a.check()"
   ]
  },
  {
   "cell_type": "code",
   "execution_count": 4,
   "id": "b5ffadda",
   "metadata": {
    "execution": {
     "iopub.execute_input": "2024-12-02T17:25:10.965004Z",
     "iopub.status.busy": "2024-12-02T17:25:10.964369Z",
     "iopub.status.idle": "2024-12-02T17:25:10.969121Z",
     "shell.execute_reply": "2024-12-02T17:25:10.967919Z"
    },
    "papermill": {
     "duration": 0.012642,
     "end_time": "2024-12-02T17:25:10.971138",
     "exception": false,
     "start_time": "2024-12-02T17:25:10.958496",
     "status": "completed"
    },
    "tags": []
   },
   "outputs": [],
   "source": [
    "# Lines below will give you a hint or solution code\n",
    "#step_1.a.hint()\n",
    "#step_1.a.solution()"
   ]
  },
  {
   "cell_type": "markdown",
   "id": "6206e2e3",
   "metadata": {
    "papermill": {
     "duration": 0.004214,
     "end_time": "2024-12-02T17:25:10.979966",
     "exception": false,
     "start_time": "2024-12-02T17:25:10.975752",
     "status": "completed"
    },
    "tags": []
   },
   "source": [
    "### Part B\n",
    "\n",
    "Set `predictions_1` to the model's predictions for the validation data.  Recall that the validation features are stored in `X_valid`."
   ]
  },
  {
   "cell_type": "code",
   "execution_count": 5,
   "id": "43146e09",
   "metadata": {
    "execution": {
     "iopub.execute_input": "2024-12-02T17:25:10.990890Z",
     "iopub.status.busy": "2024-12-02T17:25:10.990466Z",
     "iopub.status.idle": "2024-12-02T17:25:11.026558Z",
     "shell.execute_reply": "2024-12-02T17:25:11.023788Z"
    },
    "papermill": {
     "duration": 0.04797,
     "end_time": "2024-12-02T17:25:11.032388",
     "exception": false,
     "start_time": "2024-12-02T17:25:10.984418",
     "status": "completed"
    },
    "tags": []
   },
   "outputs": [
    {
     "data": {
      "application/javascript": [
       "parent.postMessage({\"jupyterEvent\": \"custom.exercise_interaction\", \"data\": {\"outcomeType\": 1, \"valueTowardsCompletion\": 0.5, \"interactionType\": 1, \"questionType\": 2, \"questionId\": \"1.2_Model1B\", \"learnToolsVersion\": \"0.3.4\", \"failureMessage\": \"\", \"exceptionClass\": \"\", \"trace\": \"\"}}, \"*\")"
      ],
      "text/plain": [
       "<IPython.core.display.Javascript object>"
      ]
     },
     "metadata": {},
     "output_type": "display_data"
    },
    {
     "data": {
      "text/markdown": [
       "<span style=\"color:#33cc33\">Correct</span>"
      ],
      "text/plain": [
       "Correct"
      ]
     },
     "metadata": {},
     "output_type": "display_data"
    }
   ],
   "source": [
    "from sklearn.metrics import mean_absolute_error\n",
    "\n",
    "# Get predictions\n",
    "predictions_1 = my_model_1.predict(X_valid) # Your code here\n",
    "\n",
    "# Check your answer\n",
    "step_1.b.check()"
   ]
  },
  {
   "cell_type": "code",
   "execution_count": 6,
   "id": "cb19afcf",
   "metadata": {
    "execution": {
     "iopub.execute_input": "2024-12-02T17:25:11.044868Z",
     "iopub.status.busy": "2024-12-02T17:25:11.043860Z",
     "iopub.status.idle": "2024-12-02T17:25:11.048333Z",
     "shell.execute_reply": "2024-12-02T17:25:11.047370Z"
    },
    "papermill": {
     "duration": 0.012081,
     "end_time": "2024-12-02T17:25:11.050273",
     "exception": false,
     "start_time": "2024-12-02T17:25:11.038192",
     "status": "completed"
    },
    "tags": []
   },
   "outputs": [],
   "source": [
    "# Lines below will give you a hint or solution code\n",
    "#step_1.b.hint()\n",
    "#step_1.b.solution()"
   ]
  },
  {
   "cell_type": "markdown",
   "id": "1353c0e1",
   "metadata": {
    "papermill": {
     "duration": 0.004422,
     "end_time": "2024-12-02T17:25:11.059573",
     "exception": false,
     "start_time": "2024-12-02T17:25:11.055151",
     "status": "completed"
    },
    "tags": []
   },
   "source": [
    "### Part C\n",
    "\n",
    "Finally, use the `mean_absolute_error()` function to calculate the mean absolute error (MAE) corresponding to the predictions for the validation set.  Recall that the labels for the validation data are stored in `y_valid`."
   ]
  },
  {
   "cell_type": "code",
   "execution_count": 7,
   "id": "e9af9925",
   "metadata": {
    "execution": {
     "iopub.execute_input": "2024-12-02T17:25:11.070315Z",
     "iopub.status.busy": "2024-12-02T17:25:11.069929Z",
     "iopub.status.idle": "2024-12-02T17:25:11.080237Z",
     "shell.execute_reply": "2024-12-02T17:25:11.079179Z"
    },
    "papermill": {
     "duration": 0.018049,
     "end_time": "2024-12-02T17:25:11.082219",
     "exception": false,
     "start_time": "2024-12-02T17:25:11.064170",
     "status": "completed"
    },
    "tags": []
   },
   "outputs": [
    {
     "data": {
      "application/javascript": [
       "parent.postMessage({\"jupyterEvent\": \"custom.exercise_interaction\", \"data\": {\"outcomeType\": 1, \"valueTowardsCompletion\": 0.5, \"interactionType\": 1, \"questionType\": 2, \"questionId\": \"1.3_Model1C\", \"learnToolsVersion\": \"0.3.4\", \"failureMessage\": \"\", \"exceptionClass\": \"\", \"trace\": \"\"}}, \"*\")"
      ],
      "text/plain": [
       "<IPython.core.display.Javascript object>"
      ]
     },
     "metadata": {},
     "output_type": "display_data"
    },
    {
     "data": {
      "text/markdown": [
       "<span style=\"color:#33cc33\">Correct</span>"
      ],
      "text/plain": [
       "Correct"
      ]
     },
     "metadata": {},
     "output_type": "display_data"
    }
   ],
   "source": [
    "# Calculate MAE\n",
    "mae_1 = mean_absolute_error(predictions_1, y_valid) # Your code here\n",
    "\n",
    "# Uncomment to print MAE\n",
    "# print(\"Mean Absolute Error:\" , mae_1)\n",
    "\n",
    "# Check your answer\n",
    "step_1.c.check()"
   ]
  },
  {
   "cell_type": "code",
   "execution_count": 8,
   "id": "3fb8edaf",
   "metadata": {
    "execution": {
     "iopub.execute_input": "2024-12-02T17:25:11.094362Z",
     "iopub.status.busy": "2024-12-02T17:25:11.093452Z",
     "iopub.status.idle": "2024-12-02T17:25:11.098441Z",
     "shell.execute_reply": "2024-12-02T17:25:11.097365Z"
    },
    "papermill": {
     "duration": 0.013272,
     "end_time": "2024-12-02T17:25:11.100532",
     "exception": false,
     "start_time": "2024-12-02T17:25:11.087260",
     "status": "completed"
    },
    "tags": []
   },
   "outputs": [],
   "source": [
    "# Lines below will give you a hint or solution code\n",
    "#step_1.c.hint()\n",
    "#step_1.c.solution()"
   ]
  },
  {
   "cell_type": "markdown",
   "id": "b2a62120",
   "metadata": {
    "papermill": {
     "duration": 0.004692,
     "end_time": "2024-12-02T17:25:11.110377",
     "exception": false,
     "start_time": "2024-12-02T17:25:11.105685",
     "status": "completed"
    },
    "tags": []
   },
   "source": [
    "# Step 2: Improve the model\n",
    "\n",
    "Now that you've trained a default model as baseline, it's time to tinker with the parameters, to see if you can get better performance!\n",
    "- Begin by setting `my_model_2` to an XGBoost model, using the [XGBRegressor](https://xgboost.readthedocs.io/en/latest/python/python_api.html#xgboost.XGBRegressor) class.  Use what you learned in the previous tutorial to figure out how to change the default parameters (like `n_estimators` and `learning_rate`) to get better results.\n",
    "- Then, fit the model to the training data in `X_train` and `y_train`.\n",
    "- Set `predictions_2` to the model's predictions for the validation data.  Recall that the validation features are stored in `X_valid`.\n",
    "- Finally, use the `mean_absolute_error()` function to calculate the mean absolute error (MAE) corresponding to the predictions on the validation set.  Recall that the labels for the validation data are stored in `y_valid`.\n",
    "\n",
    "In order for this step to be marked correct, your model in `my_model_2` must attain lower MAE than the model in `my_model_1`. "
   ]
  },
  {
   "cell_type": "code",
   "execution_count": 9,
   "id": "baa5f830",
   "metadata": {
    "execution": {
     "iopub.execute_input": "2024-12-02T17:25:11.122193Z",
     "iopub.status.busy": "2024-12-02T17:25:11.121417Z",
     "iopub.status.idle": "2024-12-02T17:25:16.710963Z",
     "shell.execute_reply": "2024-12-02T17:25:16.710014Z"
    },
    "papermill": {
     "duration": 5.597891,
     "end_time": "2024-12-02T17:25:16.713148",
     "exception": false,
     "start_time": "2024-12-02T17:25:11.115257",
     "status": "completed"
    },
    "tags": []
   },
   "outputs": [
    {
     "name": "stdout",
     "output_type": "stream",
     "text": [
      "Mean Absolute Error: 17224.27947078339\n"
     ]
    },
    {
     "data": {
      "application/javascript": [
       "parent.postMessage({\"jupyterEvent\": \"custom.exercise_interaction\", \"data\": {\"outcomeType\": 1, \"valueTowardsCompletion\": 0.5, \"interactionType\": 1, \"questionType\": 2, \"questionId\": \"2_Model2\", \"learnToolsVersion\": \"0.3.4\", \"failureMessage\": \"\", \"exceptionClass\": \"\", \"trace\": \"\"}}, \"*\")"
      ],
      "text/plain": [
       "<IPython.core.display.Javascript object>"
      ]
     },
     "metadata": {},
     "output_type": "display_data"
    },
    {
     "data": {
      "text/markdown": [
       "<span style=\"color:#33cc33\">Correct</span>"
      ],
      "text/plain": [
       "Correct"
      ]
     },
     "metadata": {},
     "output_type": "display_data"
    }
   ],
   "source": [
    "# Define the model\n",
    "my_model_2 = XGBRegressor(n_estimators=1000, learning_rate=0.05, n_jobs=4) # Your code here\n",
    "\n",
    "# Fit the model\n",
    "my_model_2.fit(X_train, y_train,eval_set=[(X_valid, y_valid)],verbose=False)# Your code here\n",
    "\n",
    "# Get predictions\n",
    "predictions_2 = my_model_2.predict(X_valid) # Your code here\n",
    "\n",
    "# Calculate MAE\n",
    "mae_2 = mean_absolute_error(predictions_2, y_valid) # Your code here\n",
    "\n",
    "print(\"Mean Absolute Error:\" , mae_2)\n",
    "\n",
    "# Check your answer\n",
    "step_2.check()\n"
   ]
  },
  {
   "cell_type": "code",
   "execution_count": 10,
   "id": "92a1cbc5",
   "metadata": {
    "execution": {
     "iopub.execute_input": "2024-12-02T17:25:16.727480Z",
     "iopub.status.busy": "2024-12-02T17:25:16.726364Z",
     "iopub.status.idle": "2024-12-02T17:25:16.731169Z",
     "shell.execute_reply": "2024-12-02T17:25:16.730122Z"
    },
    "papermill": {
     "duration": 0.013771,
     "end_time": "2024-12-02T17:25:16.733578",
     "exception": false,
     "start_time": "2024-12-02T17:25:16.719807",
     "status": "completed"
    },
    "tags": []
   },
   "outputs": [],
   "source": [
    "# Lines below will give you a hint or solution code\n",
    "#step_2.hint()\n",
    "#step_2.solution()"
   ]
  },
  {
   "cell_type": "markdown",
   "id": "47283d6e",
   "metadata": {
    "papermill": {
     "duration": 0.005749,
     "end_time": "2024-12-02T17:25:16.744906",
     "exception": false,
     "start_time": "2024-12-02T17:25:16.739157",
     "status": "completed"
    },
    "tags": []
   },
   "source": [
    "# Step 3: Break the model\n",
    "\n",
    "In this step, you will create a model that performs worse than the original model in Step 1.  This will help you to develop your intuition for how to set parameters.  You might even find that you accidentally get better performance, which is ultimately a nice problem to have and a valuable learning experience!\n",
    "- Begin by setting `my_model_3` to an XGBoost model, using the [XGBRegressor](https://xgboost.readthedocs.io/en/latest/python/python_api.html#xgboost.XGBRegressor) class.  Use what you learned in the previous tutorial to figure out how to change the default parameters (like `n_estimators` and `learning_rate`) to design a model to get high MAE.\n",
    "- Then, fit the model to the training data in `X_train` and `y_train`.\n",
    "- Set `predictions_3` to the model's predictions for the validation data.  Recall that the validation features are stored in `X_valid`.\n",
    "- Finally, use the `mean_absolute_error()` function to calculate the mean absolute error (MAE) corresponding to the predictions on the validation set.  Recall that the labels for the validation data are stored in `y_valid`.\n",
    "\n",
    "In order for this step to be marked correct, your model in `my_model_3` must attain higher MAE than the model in `my_model_1`. "
   ]
  },
  {
   "cell_type": "code",
   "execution_count": 11,
   "id": "e4f8a85a",
   "metadata": {
    "execution": {
     "iopub.execute_input": "2024-12-02T17:25:16.757234Z",
     "iopub.status.busy": "2024-12-02T17:25:16.756777Z",
     "iopub.status.idle": "2024-12-02T17:25:16.902621Z",
     "shell.execute_reply": "2024-12-02T17:25:16.901882Z"
    },
    "papermill": {
     "duration": 0.158667,
     "end_time": "2024-12-02T17:25:16.908924",
     "exception": false,
     "start_time": "2024-12-02T17:25:16.750257",
     "status": "completed"
    },
    "tags": []
   },
   "outputs": [
    {
     "name": "stdout",
     "output_type": "stream",
     "text": [
      "Mean Absolute Error: 54604.38415025685\n"
     ]
    },
    {
     "name": "stderr",
     "output_type": "stream",
     "text": [
      "/opt/conda/lib/python3.10/site-packages/xgboost/sklearn.py:889: UserWarning: `early_stopping_rounds` in `fit` method is deprecated for better compatibility with scikit-learn, use `early_stopping_rounds` in constructor or`set_params` instead.\n",
      "  warnings.warn(\n"
     ]
    },
    {
     "data": {
      "application/javascript": [
       "parent.postMessage({\"jupyterEvent\": \"custom.exercise_interaction\", \"data\": {\"outcomeType\": 1, \"valueTowardsCompletion\": 0.5, \"interactionType\": 1, \"questionType\": 2, \"questionId\": \"3_Model3\", \"learnToolsVersion\": \"0.3.4\", \"failureMessage\": \"\", \"exceptionClass\": \"\", \"trace\": \"\"}}, \"*\")"
      ],
      "text/plain": [
       "<IPython.core.display.Javascript object>"
      ]
     },
     "metadata": {},
     "output_type": "display_data"
    },
    {
     "data": {
      "text/markdown": [
       "<span style=\"color:#33cc33\">Correct</span>"
      ],
      "text/plain": [
       "Correct"
      ]
     },
     "metadata": {},
     "output_type": "display_data"
    }
   ],
   "source": [
    "# Define the model\n",
    "my_model_3 =  XGBRegressor(n_estimators=1, learning_rate=0.05, n_jobs=4)\n",
    "\n",
    "# Fit the model\n",
    "my_model_3.fit(X_train, y_train, early_stopping_rounds=5, eval_set=[(X_valid, y_valid)],verbose=False) # Your code here\n",
    "\n",
    "# Get predictions\n",
    "predictions_3 = my_model_3.predict(X_valid)\n",
    "\n",
    "# Calculate MAE\n",
    "mae_3 = mean_absolute_error(predictions_3, y_valid)\n",
    "\n",
    "# Uncomment to print MAE\n",
    "print(\"Mean Absolute Error:\" , mae_3)\n",
    "\n",
    "# Check your answer\n",
    "step_3.check()"
   ]
  },
  {
   "cell_type": "code",
   "execution_count": 12,
   "id": "773594aa",
   "metadata": {
    "execution": {
     "iopub.execute_input": "2024-12-02T17:25:16.923288Z",
     "iopub.status.busy": "2024-12-02T17:25:16.922284Z",
     "iopub.status.idle": "2024-12-02T17:25:16.927843Z",
     "shell.execute_reply": "2024-12-02T17:25:16.926668Z"
    },
    "papermill": {
     "duration": 0.014833,
     "end_time": "2024-12-02T17:25:16.930256",
     "exception": false,
     "start_time": "2024-12-02T17:25:16.915423",
     "status": "completed"
    },
    "tags": []
   },
   "outputs": [],
   "source": [
    "# Lines below will give you a hint or solution code\n",
    "#step_3.hint()\n",
    "#step_3.solution()"
   ]
  },
  {
   "cell_type": "markdown",
   "id": "a405c449",
   "metadata": {
    "papermill": {
     "duration": 0.005391,
     "end_time": "2024-12-02T17:25:16.941880",
     "exception": false,
     "start_time": "2024-12-02T17:25:16.936489",
     "status": "completed"
    },
    "tags": []
   },
   "source": [
    "# Keep going\n",
    "\n",
    "Continue to learn about **[data leakage](https://www.kaggle.com/alexisbcook/data-leakage)**.  This is an important issue for a data scientist to understand, and it has the potential to ruin your models in subtle and dangerous ways!"
   ]
  },
  {
   "cell_type": "markdown",
   "id": "336985ee",
   "metadata": {
    "papermill": {
     "duration": 0.005358,
     "end_time": "2024-12-02T17:25:16.952757",
     "exception": false,
     "start_time": "2024-12-02T17:25:16.947399",
     "status": "completed"
    },
    "tags": []
   },
   "source": [
    "---\n",
    "\n",
    "\n",
    "\n",
    "\n",
    "*Have questions or comments? Visit the [course discussion forum](https://www.kaggle.com/learn/intermediate-machine-learning/discussion) to chat with other learners.*"
   ]
  }
 ],
 "metadata": {
  "kaggle": {
   "accelerator": "none",
   "dataSources": [
    {
     "databundleVersionId": 111096,
     "sourceId": 10211,
     "sourceType": "competition"
    }
   ],
   "isGpuEnabled": false,
   "isInternetEnabled": false,
   "language": "python",
   "sourceType": "notebook"
  },
  "kernelspec": {
   "display_name": "Python 3",
   "language": "python",
   "name": "python3"
  },
  "language_info": {
   "codemirror_mode": {
    "name": "ipython",
    "version": 3
   },
   "file_extension": ".py",
   "mimetype": "text/x-python",
   "name": "python",
   "nbconvert_exporter": "python",
   "pygments_lexer": "ipython3",
   "version": "3.10.14"
  },
  "papermill": {
   "default_parameters": {},
   "duration": 13.849401,
   "end_time": "2024-12-02T17:25:17.680659",
   "environment_variables": {},
   "exception": null,
   "input_path": "__notebook__.ipynb",
   "output_path": "__notebook__.ipynb",
   "parameters": {},
   "start_time": "2024-12-02T17:25:03.831258",
   "version": "2.6.0"
  }
 },
 "nbformat": 4,
 "nbformat_minor": 5
}

{
 "cells": [
  {
   "cell_type": "markdown",
   "id": "e52a2e0b",
   "metadata": {
    "papermill": {
     "duration": 0.004667,
     "end_time": "2024-11-01T06:37:39.283640",
     "exception": false,
     "start_time": "2024-11-01T06:37:39.278973",
     "status": "completed"
    },
    "tags": []
   },
   "source": [
    "**This notebook is an exercise in the [Introduction to Machine Learning](https://www.kaggle.com/learn/intro-to-machine-learning) course.  You can reference the tutorial at [this link](https://www.kaggle.com/dansbecker/random-forests).**\n",
    "\n",
    "---\n"
   ]
  },
  {
   "cell_type": "markdown",
   "id": "49f4def0",
   "metadata": {
    "papermill": {
     "duration": 0.00338,
     "end_time": "2024-11-01T06:37:39.291403",
     "exception": false,
     "start_time": "2024-11-01T06:37:39.288023",
     "status": "completed"
    },
    "tags": []
   },
   "source": [
    "## Recap\n",
    "Here's the code you've written so far."
   ]
  },
  {
   "cell_type": "code",
   "execution_count": 1,
   "id": "a1161ca5",
   "metadata": {
    "execution": {
     "iopub.execute_input": "2024-11-01T06:37:39.301882Z",
     "iopub.status.busy": "2024-11-01T06:37:39.301268Z",
     "iopub.status.idle": "2024-11-01T06:37:43.323905Z",
     "shell.execute_reply": "2024-11-01T06:37:43.322158Z"
    },
    "papermill": {
     "duration": 4.032498,
     "end_time": "2024-11-01T06:37:43.327751",
     "exception": false,
     "start_time": "2024-11-01T06:37:39.295253",
     "status": "completed"
    },
    "tags": []
   },
   "outputs": [
    {
     "name": "stdout",
     "output_type": "stream",
     "text": [
      "Validation MAE when not specifying max_leaf_nodes: 29,653\n",
      "Validation MAE for best value of max_leaf_nodes: 27,283\n",
      "\n",
      "Setup complete\n"
     ]
    }
   ],
   "source": [
    "# Code you have previously used to load data\n",
    "import pandas as pd\n",
    "from sklearn.metrics import mean_absolute_error\n",
    "from sklearn.model_selection import train_test_split\n",
    "from sklearn.tree import DecisionTreeRegressor\n",
    "\n",
    "\n",
    "# Path of the file to read\n",
    "iowa_file_path = '../input/home-data-for-ml-course/train.csv'\n",
    "\n",
    "home_data = pd.read_csv(iowa_file_path)\n",
    "# Create target object and call it y\n",
    "y = home_data.SalePrice\n",
    "# Create X\n",
    "features =['LotArea', 'YearBuilt', '1stFlrSF', '2ndFlrSF', 'FullBath', 'BedroomAbvGr', 'TotRmsAbvGrd']\n",
    "features2 =['MoSold', 'MSSubClass', 'MiscVal', 'FullBath', 'BedroomAbvGr']\n",
    "X = home_data[features]\n",
    "X2 = home_data[features2]\n",
    "\n",
    "# Split into validation and training data\n",
    "train_X, val_X, train_y, val_y = train_test_split(X, y, random_state=1)\n",
    "train_X2, val_X2, train_y2, val_y2 = train_test_split(X2, y, random_state=1)\n",
    "\n",
    "# Specify Model\n",
    "iowa_model = DecisionTreeRegressor(random_state=1)\n",
    "# Fit Model\n",
    "iowa_model.fit(train_X, train_y)\n",
    "iowa_model2 = DecisionTreeRegressor(random_state=1)\n",
    "# Fit Model\n",
    "iowa_model2.fit(train_X2, train_y2)\n",
    "\n",
    "# Make validation predictions and calculate mean absolute error\n",
    "val_predictions = iowa_model.predict(val_X)\n",
    "val_mae = mean_absolute_error(val_predictions, val_y)\n",
    "print(\"Validation MAE when not specifying max_leaf_nodes: {:,.0f}\".format(val_mae))\n",
    "\n",
    "# Using best value for max_leaf_nodes\n",
    "iowa_model = DecisionTreeRegressor(max_leaf_nodes=100, random_state=1)\n",
    "iowa_model.fit(train_X, train_y)\n",
    "val_predictions = iowa_model.predict(val_X)\n",
    "val_mae = mean_absolute_error(val_predictions, val_y)\n",
    "print(\"Validation MAE for best value of max_leaf_nodes: {:,.0f}\".format(val_mae))\n",
    "\n",
    "\n",
    "# Set up code checking\n",
    "from learntools.core import binder\n",
    "binder.bind(globals())\n",
    "from learntools.machine_learning.ex6 import *\n",
    "print(\"\\nSetup complete\")"
   ]
  },
  {
   "cell_type": "markdown",
   "id": "d710d837",
   "metadata": {
    "papermill": {
     "duration": 0.003774,
     "end_time": "2024-11-01T06:37:43.335884",
     "exception": false,
     "start_time": "2024-11-01T06:37:43.332110",
     "status": "completed"
    },
    "tags": []
   },
   "source": [
    "# Exercises\n",
    "Data science isn't always this easy. But replacing the decision tree with a Random Forest is going to be an easy win."
   ]
  },
  {
   "cell_type": "markdown",
   "id": "d82ba983",
   "metadata": {
    "papermill": {
     "duration": 0.003333,
     "end_time": "2024-11-01T06:37:43.342923",
     "exception": false,
     "start_time": "2024-11-01T06:37:43.339590",
     "status": "completed"
    },
    "tags": []
   },
   "source": [
    "## Step 1: Use a Random Forest"
   ]
  },
  {
   "cell_type": "code",
   "execution_count": 2,
   "id": "6f63ec5c",
   "metadata": {
    "execution": {
     "iopub.execute_input": "2024-11-01T06:37:43.352989Z",
     "iopub.status.busy": "2024-11-01T06:37:43.352414Z",
     "iopub.status.idle": "2024-11-01T06:37:44.572432Z",
     "shell.execute_reply": "2024-11-01T06:37:44.570918Z"
    },
    "papermill": {
     "duration": 1.228973,
     "end_time": "2024-11-01T06:37:44.575644",
     "exception": false,
     "start_time": "2024-11-01T06:37:43.346671",
     "status": "completed"
    },
    "tags": []
   },
   "outputs": [
    {
     "name": "stdout",
     "output_type": "stream",
     "text": [
      "Validation MAE for Random Forest Model: 21913.641834964124\n",
      "Validation MAE for Selected values Random Forest Model: 41465.72204364481\n"
     ]
    },
    {
     "data": {
      "application/javascript": [
       "parent.postMessage({\"jupyterEvent\": \"custom.exercise_interaction\", \"data\": {\"outcomeType\": 1, \"valueTowardsCompletion\": 1.0, \"interactionType\": 1, \"questionType\": 2, \"questionId\": \"1_CheckRfScore\", \"learnToolsVersion\": \"0.3.4\", \"failureMessage\": \"\", \"exceptionClass\": \"\", \"trace\": \"\"}}, \"*\")"
      ],
      "text/plain": [
       "<IPython.core.display.Javascript object>"
      ]
     },
     "metadata": {},
     "output_type": "display_data"
    },
    {
     "data": {
      "text/markdown": [
       "<span style=\"color:#33cc33\">Correct</span>"
      ],
      "text/plain": [
       "Correct"
      ]
     },
     "metadata": {},
     "output_type": "display_data"
    }
   ],
   "source": [
    "from sklearn.ensemble import RandomForestRegressor\n",
    "\n",
    "# Define the model. Set random_state to 1\n",
    "rf_model = RandomForestRegressor()\n",
    "\n",
    "# fit your model\n",
    "rf_model.fit(train_X, train_y)\n",
    "\n",
    "# Calculate the mean absolute error of your Random Forest model on the validation data\n",
    "rf_val_predictions = rf_model.predict(val_X)\n",
    "rf_val_mae = mean_absolute_error(rf_val_predictions, val_y)\n",
    "\n",
    "print(\"Validation MAE for Random Forest Model: {}\".format(rf_val_mae))\n",
    "\n",
    "\n",
    "# Define the model. Set random_state to 1\n",
    "rf_model_selected_features = RandomForestRegressor()\n",
    "\n",
    "# fit your model\n",
    "rf_model_selected_features.fit(train_X2, train_y2)\n",
    "\n",
    "# Calculate the mean absolute error of your Random Forest model on the validation data\n",
    "rf_model_selected_features_val_predictions = rf_model_selected_features.predict(val_X2)\n",
    "rf_model_selected_features_val_mae = mean_absolute_error(rf_model_selected_features_val_predictions, val_y2)\n",
    "\n",
    "print(\"Validation MAE for Selected values Random Forest Model: {}\".format(rf_model_selected_features_val_mae))\n",
    "\n",
    "# Check your answer\n",
    "step_1.check()"
   ]
  },
  {
   "cell_type": "markdown",
   "id": "75cd031a",
   "metadata": {
    "papermill": {
     "duration": 0.004657,
     "end_time": "2024-11-01T06:37:44.585948",
     "exception": false,
     "start_time": "2024-11-01T06:37:44.581291",
     "status": "completed"
    },
    "tags": []
   },
   "source": [
    "The prediction with my chosen columns did substantially worse than the ones chosen in the default notebook. This indicates that I did not choose very well, I must improve my data exploration skills. "
   ]
  },
  {
   "cell_type": "code",
   "execution_count": 3,
   "id": "74257e2e",
   "metadata": {
    "execution": {
     "iopub.execute_input": "2024-11-01T06:37:44.598072Z",
     "iopub.status.busy": "2024-11-01T06:37:44.597396Z",
     "iopub.status.idle": "2024-11-01T06:37:44.604325Z",
     "shell.execute_reply": "2024-11-01T06:37:44.602668Z"
    },
    "papermill": {
     "duration": 0.01694,
     "end_time": "2024-11-01T06:37:44.607791",
     "exception": false,
     "start_time": "2024-11-01T06:37:44.590851",
     "status": "completed"
    },
    "tags": []
   },
   "outputs": [],
   "source": [
    "# The lines below will show you a hint or the solution.\n",
    "# step_1.hint() \n",
    "# step_1.solution()\n"
   ]
  },
  {
   "cell_type": "markdown",
   "id": "f74dbb47",
   "metadata": {
    "papermill": {
     "duration": 0.004907,
     "end_time": "2024-11-01T06:37:44.617266",
     "exception": false,
     "start_time": "2024-11-01T06:37:44.612359",
     "status": "completed"
    },
    "tags": []
   },
   "source": [
    "So far, you have followed specific instructions at each step of your project. This helped learn key ideas and build your first model, but now you know enough to try things on your own. \n",
    "\n",
    "Machine Learning competitions are a great way to try your own ideas and learn more as you independently navigate a machine learning project. \n",
    "\n",
    "# Keep Going\n",
    "\n",
    "You are ready for **[Machine Learning Competitions](https://www.kaggle.com/alexisbcook/machine-learning-competitions).**\n"
   ]
  },
  {
   "cell_type": "markdown",
   "id": "3420200d",
   "metadata": {
    "papermill": {
     "duration": 0.004055,
     "end_time": "2024-11-01T06:37:44.625918",
     "exception": false,
     "start_time": "2024-11-01T06:37:44.621863",
     "status": "completed"
    },
    "tags": []
   },
   "source": [
    "---\n",
    "\n",
    "\n",
    "\n",
    "\n",
    "*Have questions or comments? Visit the [course discussion forum](https://www.kaggle.com/learn/intro-to-machine-learning/discussion) to chat with other learners.*"
   ]
  }
 ],
 "metadata": {
  "kaggle": {
   "accelerator": "none",
   "dataSources": [
    {
     "databundleVersionId": 111096,
     "sourceId": 10211,
     "sourceType": "competition"
    },
    {
     "datasetId": 11167,
     "sourceId": 15520,
     "sourceType": "datasetVersion"
    },
    {
     "datasetId": 2709,
     "sourceId": 38454,
     "sourceType": "datasetVersion"
    }
   ],
   "isGpuEnabled": false,
   "isInternetEnabled": false,
   "language": "python",
   "sourceType": "notebook"
  },
  "kernelspec": {
   "display_name": "Python 3",
   "language": "python",
   "name": "python3"
  },
  "language_info": {
   "codemirror_mode": {
    "name": "ipython",
    "version": 3
   },
   "file_extension": ".py",
   "mimetype": "text/x-python",
   "name": "python",
   "nbconvert_exporter": "python",
   "pygments_lexer": "ipython3",
   "version": "3.10.14"
  },
  "papermill": {
   "default_parameters": {},
   "duration": 9.981151,
   "end_time": "2024-11-01T06:37:45.458261",
   "environment_variables": {},
   "exception": null,
   "input_path": "__notebook__.ipynb",
   "output_path": "__notebook__.ipynb",
   "parameters": {},
   "start_time": "2024-11-01T06:37:35.477110",
   "version": "2.6.0"
  }
 },
 "nbformat": 4,
 "nbformat_minor": 5
}

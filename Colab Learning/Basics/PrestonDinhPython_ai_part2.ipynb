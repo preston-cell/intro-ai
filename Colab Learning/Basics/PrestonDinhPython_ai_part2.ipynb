{
  "nbformat": 4,
  "nbformat_minor": 0,
  "metadata": {
    "colab": {
      "provenance": [],
      "include_colab_link": true
    },
    "kernelspec": {
      "name": "python3",
      "display_name": "Python 3"
    },
    "language_info": {
      "name": "python"
    }
  },
  "cells": [
    {
      "cell_type": "markdown",
      "metadata": {
        "id": "view-in-github",
        "colab_type": "text"
      },
      "source": [
        "<a href=\"https://colab.research.google.com/github/preston-cell/vhs-intro-ai/blob/main/PrestonDinhPython_ai_part2.ipynb\" target=\"_parent\"><img src=\"https://colab.research.google.com/assets/colab-badge.svg\" alt=\"Open In Colab\"/></a>"
      ]
    },
    {
      "cell_type": "markdown",
      "source": [
        "We will learn:\n",
        "*   Numpy\n",
        "*   matplotlib\n",
        "*   pandas\n",
        "\n",
        "\n",
        "\n"
      ],
      "metadata": {
        "id": "2F48Aq6WFuYo"
      }
    },
    {
      "cell_type": "markdown",
      "source": [
        "# Numpy\n",
        "\n",
        "What is numpy? And what is it used for? How is it different from using a python list?\n",
        "\n",
        "Numpy is a python library and it is used for multi-dimensional array's and matrices. It is different from a python list as numpy array's have fixed sizes, same data types, and they are more efficient"
      ],
      "metadata": {
        "id": "RG3Zk3ZPSapb"
      }
    },
    {
      "cell_type": "code",
      "source": [
        "# Importing Numpy Library\n",
        "import numpy as np"
      ],
      "metadata": {
        "id": "dnRd4rA8ScHF"
      },
      "execution_count": 17,
      "outputs": []
    },
    {
      "cell_type": "markdown",
      "source": [
        "# Arrays\n",
        "\n",
        "What is a numpy array and how is it different from a python list?\n",
        "\n",
        "A numpy array is multi-dimensional and used for storing large data or mathmetical calculations.It is different from a python list as numpy array's have fixed sizes, same data types, and they are more efficient"
      ],
      "metadata": {
        "id": "TYQ8fyivT3z7"
      }
    },
    {
      "cell_type": "code",
      "source": [
        "# Creating numpy array of rank/dimension 1 from a python [1,2,3]\n",
        "pl = [1,2,3]\n",
        "a=np.array(pl)\n",
        "print(pl)\n",
        "print(a)\n",
        "\n",
        "#print type\n",
        "print(type(pl))\n",
        "print(type(a))\n",
        "\n",
        "#print shape\n",
        "print(a.shape)"
      ],
      "metadata": {
        "colab": {
          "base_uri": "https://localhost:8080/"
        },
        "id": "ktYfTogzUTkh",
        "outputId": "7b29f43f-1b11-40c0-e2b9-76f133c80edf"
      },
      "execution_count": 18,
      "outputs": [
        {
          "output_type": "stream",
          "name": "stdout",
          "text": [
            "[1, 2, 3]\n",
            "[1 2 3]\n",
            "<class 'list'>\n",
            "<class 'numpy.ndarray'>\n",
            "(3,)\n"
          ]
        }
      ]
    },
    {
      "cell_type": "code",
      "source": [
        "# Create and print 3D numpy array [[[1,2,3], [4,5,6]], [[7,8,9], [10,11,12]]]\n",
        "a=np.array([[[1,7], [2,8], [3,9]], [[4,10], [5,11], [6,12]]])\n",
        "\n",
        "print(a)\n",
        "print(a.shape)"
      ],
      "metadata": {
        "colab": {
          "base_uri": "https://localhost:8080/"
        },
        "id": "adVgt6DxVfzA",
        "outputId": "27b98390-b589-4003-c751-7c23c7a85d05"
      },
      "execution_count": 19,
      "outputs": [
        {
          "output_type": "stream",
          "name": "stdout",
          "text": [
            "[[[ 1  7]\n",
            "  [ 2  8]\n",
            "  [ 3  9]]\n",
            "\n",
            " [[ 4 10]\n",
            "  [ 5 11]\n",
            "  [ 6 12]]]\n",
            "(2, 3, 2)\n"
          ]
        }
      ]
    },
    {
      "cell_type": "code",
      "source": [
        "# Create a rank 2 array with 2 rows and 3 columns\n",
        "\n",
        "a=np.zeros((2,3))\n",
        "print(a)"
      ],
      "metadata": {
        "colab": {
          "base_uri": "https://localhost:8080/"
        },
        "id": "iAEAbdKvZA2K",
        "outputId": "32586a94-ec32-42c3-f8c7-d656f5259465"
      },
      "execution_count": 20,
      "outputs": [
        {
          "output_type": "stream",
          "name": "stdout",
          "text": [
            "[[0. 0. 0.]\n",
            " [0. 0. 0.]]\n"
          ]
        }
      ]
    },
    {
      "cell_type": "code",
      "source": [
        "# Identify matrix of size 3\n",
        "id = np.eye(3)\n",
        "print(id)"
      ],
      "metadata": {
        "colab": {
          "base_uri": "https://localhost:8080/"
        },
        "id": "jLP8BtbgZXK6",
        "outputId": "3ab4cac3-2450-4fc7-dfc1-48c93a331628"
      },
      "execution_count": 21,
      "outputs": [
        {
          "output_type": "stream",
          "name": "stdout",
          "text": [
            "[[1. 0. 0.]\n",
            " [0. 1. 0.]\n",
            " [0. 0. 1.]]\n"
          ]
        }
      ]
    },
    {
      "cell_type": "code",
      "source": [
        "# Create an array of all 0's w dimensions (2,3,2)\n",
        "a = np.zeros((2,3,2))\n",
        "print(a)"
      ],
      "metadata": {
        "colab": {
          "base_uri": "https://localhost:8080/"
        },
        "id": "Nlgomi0ZXTn6",
        "outputId": "fd43da15-2d5b-4f9b-e56d-c6b4ff481a4b"
      },
      "execution_count": 22,
      "outputs": [
        {
          "output_type": "stream",
          "name": "stdout",
          "text": [
            "[[[0. 0.]\n",
            "  [0. 0.]\n",
            "  [0. 0.]]\n",
            "\n",
            " [[0. 0.]\n",
            "  [0. 0.]\n",
            "  [0. 0.]]]\n"
          ]
        }
      ]
    },
    {
      "cell_type": "code",
      "source": [
        "#Create a random array of dimensions (2,3)\n",
        "\n",
        "r= np.random.random((2,3))\n",
        "print(r)"
      ],
      "metadata": {
        "colab": {
          "base_uri": "https://localhost:8080/"
        },
        "id": "C88L-oovXYKd",
        "outputId": "031c61de-0692-49be-9718-c57db2e2b97b"
      },
      "execution_count": 23,
      "outputs": [
        {
          "output_type": "stream",
          "name": "stdout",
          "text": [
            "[[0.67817295 0.83840038 0.09084343]\n",
            " [0.94316383 0.76328135 0.67248875]]\n"
          ]
        }
      ]
    },
    {
      "cell_type": "markdown",
      "source": [
        "# Array Indexing"
      ],
      "metadata": {
        "id": "Rt2-F1uXqATA"
      }
    },
    {
      "cell_type": "code",
      "source": [
        "# Create 2D array x [1,2,3], [4,5,6]\n",
        "# print 2\n",
        "x=np.array([[1,2,3], [4,5,6]])\n",
        "print(x[0,1])"
      ],
      "metadata": {
        "id": "XyyowSd9qINs",
        "colab": {
          "base_uri": "https://localhost:8080/"
        },
        "outputId": "238bd204-122d-488e-d3f3-85314e230aa7"
      },
      "execution_count": 24,
      "outputs": [
        {
          "output_type": "stream",
          "name": "stdout",
          "text": [
            "2\n"
          ]
        }
      ]
    },
    {
      "cell_type": "code",
      "source": [
        "# Access sub matrix [2,3,5,6]\n",
        "\n",
        "# With slicing\n",
        "x[:, 1:3]"
      ],
      "metadata": {
        "colab": {
          "base_uri": "https://localhost:8080/"
        },
        "id": "aBNYE_pQrvaQ",
        "outputId": "7e3f0ca8-c170-4aad-ea00-5b71abe94e34"
      },
      "execution_count": 25,
      "outputs": [
        {
          "output_type": "execute_result",
          "data": {
            "text/plain": [
              "array([[2, 3],\n",
              "       [5, 6]])"
            ]
          },
          "metadata": {},
          "execution_count": 25
        }
      ]
    },
    {
      "cell_type": "code",
      "source": [
        "# reshape\n",
        "print(x.reshape(6))\n",
        "print(x.reshape(3,2))"
      ],
      "metadata": {
        "colab": {
          "base_uri": "https://localhost:8080/"
        },
        "id": "YdY5dbxqryPU",
        "outputId": "74597eef-9fed-4743-b3e3-6a1596fcb3d8"
      },
      "execution_count": 26,
      "outputs": [
        {
          "output_type": "stream",
          "name": "stdout",
          "text": [
            "[1 2 3 4 5 6]\n",
            "[[1 2]\n",
            " [3 4]\n",
            " [5 6]]\n"
          ]
        }
      ]
    },
    {
      "cell_type": "code",
      "source": [
        "#slicing\n",
        "y = x[:,1:]\n",
        "print(y,y.shape)"
      ],
      "metadata": {
        "colab": {
          "base_uri": "https://localhost:8080/"
        },
        "id": "MJeU3G3NsWRY",
        "outputId": "7446ab9f-d9fe-4057-f6d3-0d8227fd1948"
      },
      "execution_count": 27,
      "outputs": [
        {
          "output_type": "stream",
          "name": "stdout",
          "text": [
            "[[2 3]\n",
            " [5 6]] (2, 2)\n"
          ]
        }
      ]
    },
    {
      "cell_type": "code",
      "source": [
        "y[0,0] = 10\n",
        "print(y)\n",
        "print(x)"
      ],
      "metadata": {
        "colab": {
          "base_uri": "https://localhost:8080/"
        },
        "id": "Iu8-9GpIskI4",
        "outputId": "3877d78f-4acf-40eb-9755-88f26830a3c7"
      },
      "execution_count": 28,
      "outputs": [
        {
          "output_type": "stream",
          "name": "stdout",
          "text": [
            "[[10  3]\n",
            " [ 5  6]]\n",
            "[[ 1 10  3]\n",
            " [ 4  5  6]]\n"
          ]
        }
      ]
    },
    {
      "cell_type": "code",
      "source": [
        "# try slicing with python list and updating\n",
        "# assign your slice to annother variable and update new variable"
      ],
      "metadata": {
        "id": "rxLZrEgW4RMM"
      },
      "execution_count": 29,
      "outputs": []
    },
    {
      "cell_type": "markdown",
      "source": [
        "##Integer array indexing"
      ],
      "metadata": {
        "id": "GlIUNh814bET"
      }
    },
    {
      "cell_type": "code",
      "source": [
        "a = np.array([1,2,3,4,5])\n",
        "\n",
        "# 3 and 5\n",
        "a[2], a[4]\n",
        "\n",
        "indices = [2,4]\n",
        "a[indices]"
      ],
      "metadata": {
        "colab": {
          "base_uri": "https://localhost:8080/"
        },
        "id": "0q-bN7ra4hlZ",
        "outputId": "b33b4ef8-e254-486c-ef04-a3f89c8738f0"
      },
      "execution_count": 30,
      "outputs": [
        {
          "output_type": "execute_result",
          "data": {
            "text/plain": [
              "array([3, 5])"
            ]
          },
          "metadata": {},
          "execution_count": 30
        }
      ]
    },
    {
      "cell_type": "code",
      "source": [
        "# 2d array\n",
        "x = np.array([[1,2,3], [4,5,6]])\n",
        "\n",
        "# print 2,6\n",
        "row_indices = [0,1,0]\n",
        "column_indices = [1,2,2]\n",
        "\n",
        "x[row_indices, column_indices]"
      ],
      "metadata": {
        "colab": {
          "base_uri": "https://localhost:8080/"
        },
        "id": "EpbUS-ld5Enm",
        "outputId": "63193eed-5d52-4e93-fe73-2038255f6705"
      },
      "execution_count": 31,
      "outputs": [
        {
          "output_type": "execute_result",
          "data": {
            "text/plain": [
              "array([2, 6, 3])"
            ]
          },
          "metadata": {},
          "execution_count": 31
        }
      ]
    },
    {
      "cell_type": "code",
      "source": [
        "# data type. of array elements\n",
        "type(x)\n",
        "\n",
        "print(x.dtype)"
      ],
      "metadata": {
        "colab": {
          "base_uri": "https://localhost:8080/"
        },
        "id": "7YRLpGpj50At",
        "outputId": "5aae85f8-1f9a-46c1-a3ac-a6344195ba86"
      },
      "execution_count": 32,
      "outputs": [
        {
          "output_type": "stream",
          "name": "stdout",
          "text": [
            "int64\n"
          ]
        }
      ]
    },
    {
      "cell_type": "markdown",
      "source": [
        "## Boolean array indexing\n"
      ],
      "metadata": {
        "id": "pXolVT8O6UXp"
      }
    },
    {
      "cell_type": "code",
      "source": [
        "x = np.array([[1,2,3], [4,5,6]])\n",
        "\n",
        "bool_indices = (x % 2 !=0)\n",
        "print(bool_indices)\n",
        "\n",
        "x[bool_indices]"
      ],
      "metadata": {
        "colab": {
          "base_uri": "https://localhost:8080/"
        },
        "id": "cIpbAWHj6WcM",
        "outputId": "ad32ed3e-0aba-4e9c-947e-b630015f6010"
      },
      "execution_count": 33,
      "outputs": [
        {
          "output_type": "stream",
          "name": "stdout",
          "text": [
            "[[ True False  True]\n",
            " [False  True False]]\n"
          ]
        },
        {
          "output_type": "execute_result",
          "data": {
            "text/plain": [
              "array([1, 3, 5])"
            ]
          },
          "metadata": {},
          "execution_count": 33
        }
      ]
    },
    {
      "cell_type": "markdown",
      "source": [
        "## Data Type"
      ],
      "metadata": {
        "id": "_KiHkIzF7p8p"
      }
    },
    {
      "cell_type": "code",
      "source": [
        "x = np.array([1.5,2.9], dtype = np.int64)\n",
        "print (x)\n",
        "x.dtype"
      ],
      "metadata": {
        "colab": {
          "base_uri": "https://localhost:8080/"
        },
        "id": "cF-8asWQ7ryH",
        "outputId": "0f63cba7-44e0-4cb3-b3c2-d09d93b8c53f"
      },
      "execution_count": 34,
      "outputs": [
        {
          "output_type": "stream",
          "name": "stdout",
          "text": [
            "[1 2]\n"
          ]
        },
        {
          "output_type": "execute_result",
          "data": {
            "text/plain": [
              "dtype('int64')"
            ]
          },
          "metadata": {},
          "execution_count": 34
        }
      ]
    },
    {
      "cell_type": "markdown",
      "source": [
        "## Array Math\n"
      ],
      "metadata": {
        "id": "RlaN5Hzy8Plr"
      }
    },
    {
      "cell_type": "code",
      "source": [
        "x = np.array([[1,2],[3,4]])\n",
        "y = np.array([[5,6],[7,8]], dtype = np.float64)"
      ],
      "metadata": {
        "id": "7ScTOGRH8ROe"
      },
      "execution_count": 35,
      "outputs": []
    },
    {
      "cell_type": "code",
      "source": [
        "print(x)\n",
        "print(y)"
      ],
      "metadata": {
        "colab": {
          "base_uri": "https://localhost:8080/"
        },
        "id": "IChgjQx28fQY",
        "outputId": "78229afa-906b-4ace-c98d-464a2a6f427f"
      },
      "execution_count": 36,
      "outputs": [
        {
          "output_type": "stream",
          "name": "stdout",
          "text": [
            "[[1 2]\n",
            " [3 4]]\n",
            "[[5. 6.]\n",
            " [7. 8.]]\n"
          ]
        }
      ]
    },
    {
      "cell_type": "code",
      "source": [
        "x + y # elementwise addition\n",
        "x-y\n",
        "x*y\n",
        "x/y"
      ],
      "metadata": {
        "colab": {
          "base_uri": "https://localhost:8080/"
        },
        "id": "kNhRePO588Or",
        "outputId": "998ccd0b-cd09-4127-a1d3-c7692ac22299"
      },
      "execution_count": 37,
      "outputs": [
        {
          "output_type": "execute_result",
          "data": {
            "text/plain": [
              "array([[0.2       , 0.33333333],\n",
              "       [0.42857143, 0.5       ]])"
            ]
          },
          "metadata": {},
          "execution_count": 37
        }
      ]
    },
    {
      "cell_type": "code",
      "source": [
        "np.sqrt(x)"
      ],
      "metadata": {
        "colab": {
          "base_uri": "https://localhost:8080/"
        },
        "id": "onkXRjqE9kyO",
        "outputId": "c189d28a-b820-4961-b664-f91261b03eca"
      },
      "execution_count": 38,
      "outputs": [
        {
          "output_type": "execute_result",
          "data": {
            "text/plain": [
              "array([[1.        , 1.41421356],\n",
              "       [1.73205081, 2.        ]])"
            ]
          },
          "metadata": {},
          "execution_count": 38
        }
      ]
    },
    {
      "cell_type": "code",
      "source": [
        "# dot product\n",
        "v = np.array([1,2])\n",
        "w = np.array([3,4])\n",
        "\n",
        "print(np.dot(v,w))\n",
        "print(v.dot(w))\n",
        "print(v @ w)"
      ],
      "metadata": {
        "colab": {
          "base_uri": "https://localhost:8080/"
        },
        "id": "hl53c7RE9pGL",
        "outputId": "ab787b1d-bd07-42d5-8f06-56752c6ddb36"
      },
      "execution_count": 39,
      "outputs": [
        {
          "output_type": "stream",
          "name": "stdout",
          "text": [
            "11\n",
            "11\n",
            "11\n"
          ]
        }
      ]
    },
    {
      "cell_type": "code",
      "source": [
        "x = np.array([[1,2,3], [4,5,6]])\n",
        "print(np.sum(x))\n",
        "print(np.sum(x, axis = 0))"
      ],
      "metadata": {
        "colab": {
          "base_uri": "https://localhost:8080/"
        },
        "id": "uV6L_zMR-o1B",
        "outputId": "922f8a78-b3f1-402f-888e-97e0429040ab"
      },
      "execution_count": 40,
      "outputs": [
        {
          "output_type": "stream",
          "name": "stdout",
          "text": [
            "21\n",
            "[5 7 9]\n"
          ]
        }
      ]
    },
    {
      "cell_type": "code",
      "source": [
        "# max, row max\n",
        "# min, row min"
      ],
      "metadata": {
        "id": "1vKMkvZl_SC3"
      },
      "execution_count": 41,
      "outputs": []
    },
    {
      "cell_type": "markdown",
      "source": [
        "## Broadcasting\n"
      ],
      "metadata": {
        "id": "k7J-GJIt_Ugc"
      }
    },
    {
      "cell_type": "code",
      "source": [
        "x = np.array([[1,2,3], [4,5,6], [7,8,9], [10,11,12]])\n",
        "v = np.array([1,0,1])"
      ],
      "metadata": {
        "id": "Mhl8MDEi_V9Z"
      },
      "execution_count": 42,
      "outputs": []
    },
    {
      "cell_type": "code",
      "source": [
        "print(x)\n",
        "print(x+v)"
      ],
      "metadata": {
        "colab": {
          "base_uri": "https://localhost:8080/"
        },
        "id": "JzinuOov_pFV",
        "outputId": "c476ff04-b594-4134-d45a-9bdcf58a5b52"
      },
      "execution_count": 43,
      "outputs": [
        {
          "output_type": "stream",
          "name": "stdout",
          "text": [
            "[[ 1  2  3]\n",
            " [ 4  5  6]\n",
            " [ 7  8  9]\n",
            " [10 11 12]]\n",
            "[[ 2  2  4]\n",
            " [ 5  5  7]\n",
            " [ 8  8 10]\n",
            " [11 11 13]]\n"
          ]
        }
      ]
    },
    {
      "cell_type": "markdown",
      "source": [
        "Use matplotlib library to plot a sine function"
      ],
      "metadata": {
        "id": "tQeBCMOlAOw9"
      }
    },
    {
      "cell_type": "code",
      "source": [
        "import numpy as np\n",
        "import matplotlib.pyplot as plt\n",
        "\n",
        "x = np.arange(0, 2*np.pi, 0.1)\n",
        "y = np.sin(x)\n",
        "plt.subplot(1,2,1)\n",
        "plt.plot(x, y, color='blue')\n",
        "\n",
        "x2 = np.arange(0, 2*np.pi, 0.1)\n",
        "y2 = np.cos(x)\n",
        "plt.subplot(1,2,2)\n",
        "plt.plot(x2, y2, color='red')\n",
        "\n",
        "plt.show()"
      ],
      "metadata": {
        "colab": {
          "base_uri": "https://localhost:8080/",
          "height": 430
        },
        "id": "813ZWOGcAoRm",
        "outputId": "3ed17341-66c7-4eae-f8cb-13728f0ef8c5"
      },
      "execution_count": 44,
      "outputs": [
        {
          "output_type": "display_data",
          "data": {
            "text/plain": [
              "<Figure size 640x480 with 2 Axes>"
            ],
            "image/png": "[encoded data removed]"
          },
          "metadata": {}
        }
      ]
    },
    {
      "cell_type": "markdown",
      "source": [
        "## Assignment 1"
      ],
      "metadata": {
        "id": "WUsyPfm0Nbep"
      }
    },
    {
      "cell_type": "code",
      "source": [
        "# Grades for 5 students in 3 subjects\n",
        "grades = np.array([\n",
        "[85, 90, 78], # Student 1\n",
        "[92, 88, 84], # Student 2\n",
        "[76, 85, 91], # Student 3\n",
        "[88, 77, 95], # Student 4\n",
        "[94, 89, 82] # Student 5\n",
        "])\n",
        "\n",
        "# Average for each student\n",
        "total = 0\n",
        "for r in range(0,len(grades)):\n",
        "  for c in range(0, len(grades[0])):\n",
        "    total+= grades[r][c]\n",
        "  print(total/(len(grades[0])))\n",
        "  total = 0\n",
        "print(grades.mean(1))\n",
        "\n",
        "# Average for each subject\n",
        "for c in range(0,len(grades[0])):\n",
        "  for r in range(0, len(grades)):\n",
        "    total+= grades[r][c]\n",
        "  print(total/(len(grades)))\n",
        "  total = 0\n",
        "print(grades.mean(0))\n",
        "\n",
        "# Average of the whole class\n",
        "print(np.mean(grades))\n",
        "\n",
        "# Broadcasting bonus\n",
        "bonus = [2,4,7]\n",
        "print(grades+bonus)\n",
        "\n",
        "# graphing\n",
        "x = grades.mean(1)\n",
        "y = np.arange(1,6)\n",
        "plt.bar(y, x, color ='maroon',\n",
        "        width = .5)\n",
        "plt.xlabel(\"Students\")\n",
        "plt.ylabel(\"Average grade\")\n",
        "plt.title(\"Bar plot of average grades vs students\")\n",
        "plt.show()"
      ],
      "metadata": {
        "colab": {
          "base_uri": "https://localhost:8080/",
          "height": 758
        },
        "id": "mRg4bbdSNeDg",
        "outputId": "204edca1-8b31-43fe-b816-152a6a97d74c"
      },
      "execution_count": 45,
      "outputs": [
        {
          "output_type": "stream",
          "name": "stdout",
          "text": [
            "84.33333333333333\n",
            "88.0\n",
            "84.0\n",
            "86.66666666666667\n",
            "88.33333333333333\n",
            "[84.33333333 88.         84.         86.66666667 88.33333333]\n",
            "87.0\n",
            "85.8\n",
            "86.0\n",
            "[87.  85.8 86. ]\n",
            "86.26666666666667\n",
            "[[ 87  94  85]\n",
            " [ 94  92  91]\n",
            " [ 78  89  98]\n",
            " [ 90  81 102]\n",
            " [ 96  93  89]]\n"
          ]
        },
        {
          "output_type": "display_data",
          "data": {
            "text/plain": [
              "<Figure size 640x480 with 1 Axes>"
            ],
            "image/png": "[encoded data removed]"
          },
          "metadata": {}
        }
      ]
    },
    {
      "cell_type": "markdown",
      "source": [
        "## Assignment 2"
      ],
      "metadata": {
        "id": "Mk05YcGhSbvC"
      }
    },
    {
      "cell_type": "code",
      "source": [
        "import pandas as pd\n",
        "from google.colab import files\n",
        "\n",
        "\n",
        "df = pd.read_csv('https://raw.githubusercontent.com/preston-cell/vhs-intro-ai/main/students_sat.csv?token=GHSAT0AAAAAACWYO5MR434RLMCLAWLSJDKQZWZDEMA')\n",
        "\n",
        "print(df.head())\n",
        "print(df.info())\n",
        "print(df.describe())\n",
        "\n",
        "print(df[['Name', 'SAT_Score']])\n",
        "\n",
        "houston_students = df[df['City'] == 'Houston']\n",
        "print(houston_students)\n",
        "\n",
        "df['Graduated'] = False\n",
        "df.loc[df['SAT_Score'] >= 1400, 'Graduated'] = True\n",
        "\n",
        "sorted_df = df.sort_values(by='Age', ascending=False)\n",
        "print(sorted_df)\n",
        "\n",
        "average_age_by_city = df.groupby('City')['Age'].mean().reset_index()\n",
        "print(average_age_by_city)\n",
        "\n",
        "df.loc[13] = [13, 'Chris Lee', None, 'Los Angeles', None, 'Male', False]\n",
        "df.fillna({'Age': df['Age'].mean(), 'SAT_Score': df['SAT_Score'].mean()}, inplace=True)\n",
        "\n",
        "df.to_csv('students_modified.csv', encoding = 'utf-8-sig')\n",
        "# file is saved to downloads when running program\n",
        "files.download('students_modified.csv')"
      ],
      "metadata": {
        "colab": {
          "base_uri": "https://localhost:8080/",
          "height": 1000
        },
        "id": "OlOHQTxFSeqG",
        "outputId": "e2cc8031-7e2a-4d35-e703-7e53e020eda9"
      },
      "execution_count": 46,
      "outputs": [
        {
          "output_type": "stream",
          "name": "stdout",
          "text": [
            "   ID           Name  Age         City  SAT_Score  Gender\n",
            "0   1     John Smith   21     New York       1450    Male\n",
            "1   2  Ana Rodriguez   22  Los Angeles       1200  Female\n",
            "2   3    Emily Davis   20      Chicago       1500  Female\n",
            "3   4  Michael Brown   23     New York       1100    Male\n",
            "4   5    Emma Wilson   21  Los Angeles       1480  Female\n",
            "<class 'pandas.core.frame.DataFrame'>\n",
            "RangeIndex: 12 entries, 0 to 11\n",
            "Data columns (total 6 columns):\n",
            " #   Column     Non-Null Count  Dtype \n",
            "---  ------     --------------  ----- \n",
            " 0   ID         12 non-null     int64 \n",
            " 1   Name       12 non-null     object\n",
            " 2   Age        12 non-null     int64 \n",
            " 3   City       12 non-null     object\n",
            " 4   SAT_Score  12 non-null     int64 \n",
            " 5   Gender     12 non-null     object\n",
            "dtypes: int64(3), object(3)\n",
            "memory usage: 704.0+ bytes\n",
            "None\n",
            "              ID   Age    SAT_Score\n",
            "count  12.000000  12.0    12.000000\n",
            "mean    6.500000  21.5  1365.000000\n",
            "std     3.605551   1.0   149.696663\n",
            "min     1.000000  20.0  1100.000000\n",
            "25%     3.750000  21.0  1275.000000\n",
            "50%     6.500000  21.5  1390.000000\n",
            "75%     9.250000  22.0  1485.000000\n",
            "max    12.000000  23.0  1550.000000\n",
            "               Name  SAT_Score\n",
            "0        John Smith       1450\n",
            "1     Ana Rodriguez       1200\n",
            "2       Emily Davis       1500\n",
            "3     Michael Brown       1100\n",
            "4       Emma Wilson       1480\n",
            "5            Li Wei       1350\n",
            "6   Sophia Martinez       1300\n",
            "7    Hiroshi Tanaka       1520\n",
            "8     Carlos Garcia       1150\n",
            "9          Yumi Kim       1380\n",
            "10      Arjun Patel       1400\n",
            "11      Neha Sharma       1550\n",
            "   ID           Name  Age     City  SAT_Score Gender\n",
            "8   9  Carlos Garcia   23  Houston       1150   Male\n",
            "    ID             Name  Age           City  SAT_Score  Gender  Graduated\n",
            "3    4    Michael Brown   23       New York       1100    Male      False\n",
            "8    9    Carlos Garcia   23        Houston       1150    Male      False\n",
            "1    2    Ana Rodriguez   22    Los Angeles       1200  Female      False\n",
            "5    6           Li Wei   22        Chicago       1350    Male      False\n",
            "9   10         Yumi Kim   22        Chicago       1380  Female      False\n",
            "11  12      Neha Sharma   22       New York       1550  Female       True\n",
            "0    1       John Smith   21       New York       1450    Male       True\n",
            "4    5      Emma Wilson   21    Los Angeles       1480  Female       True\n",
            "7    8   Hiroshi Tanaka   21  San Francisco       1520    Male       True\n",
            "10  11      Arjun Patel   21         Austin       1400    Male       True\n",
            "2    3      Emily Davis   20        Chicago       1500  Female       True\n",
            "6    7  Sophia Martinez   20       New York       1300  Female      False\n",
            "            City        Age\n",
            "0         Austin  21.000000\n",
            "1        Chicago  21.333333\n",
            "2        Houston  23.000000\n",
            "3    Los Angeles  21.500000\n",
            "4       New York  21.500000\n",
            "5  San Francisco  21.000000\n"
          ]
        },
        {
          "output_type": "display_data",
          "data": {
            "text/plain": [
              "<IPython.core.display.Javascript object>"
            ],
            "application/javascript": [
              "\n",
              "    async function download(id, filename, size) {\n",
              "      if (!google.colab.kernel.accessAllowed) {\n",
              "        return;\n",
              "      }\n",
              "      const div = document.createElement('div');\n",
              "      const label = document.createElement('label');\n",
              "      label.textContent = `Downloading \"${filename}\": `;\n",
              "      div.appendChild(label);\n",
              "      const progress = document.createElement('progress');\n",
              "      progress.max = size;\n",
              "      div.appendChild(progress);\n",
              "      document.body.appendChild(div);\n",
              "\n",
              "      const buffers = [];\n",
              "      let downloaded = 0;\n",
              "\n",
              "      const channel = await google.colab.kernel.comms.open(id);\n",
              "      // Send a message to notify the kernel that we're ready.\n",
              "      channel.send({})\n",
              "\n",
              "      for await (const message of channel.messages) {\n",
              "        // Send a message to notify the kernel that we're ready.\n",
              "        channel.send({})\n",
              "        if (message.buffers) {\n",
              "          for (const buffer of message.buffers) {\n",
              "            buffers.push(buffer);\n",
              "            downloaded += buffer.byteLength;\n",
              "            progress.value = downloaded;\n",
              "          }\n",
              "        }\n",
              "      }\n",
              "      const blob = new Blob(buffers, {type: 'application/binary'});\n",
              "      const a = document.createElement('a');\n",
              "      a.href = window.URL.createObjectURL(blob);\n",
              "      a.download = filename;\n",
              "      div.appendChild(a);\n",
              "      a.click();\n",
              "      div.remove();\n",
              "    }\n",
              "  "
            ]
          },
          "metadata": {}
        },
        {
          "output_type": "display_data",
          "data": {
            "text/plain": [
              "<IPython.core.display.Javascript object>"
            ],
            "application/javascript": [
              "download(\"download_0d00dd62-7907-4426-8575-3a54e9ac4db6\", \"students_modified.csv\", 695)"
            ]
          },
          "metadata": {}
        }
      ]
    }
  ]
}

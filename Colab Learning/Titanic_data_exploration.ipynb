{
  "nbformat": 4,
  "nbformat_minor": 0,
  "metadata": {
    "colab": {
      "provenance": [],
      "include_colab_link": true
    },
    "kernelspec": {
      "name": "python3",
      "display_name": "Python 3"
    },
    "language_info": {
      "name": "python"
    }
  },
  "cells": [
    {
      "cell_type": "markdown",
      "metadata": {
        "id": "view-in-github",
        "colab_type": "text"
      },
      "source": [
        "<a href=\"https://colab.research.google.com/github/preston-cell/vhs-intro-ai/blob/main/Titanic_data_exploration.ipynb\" target=\"_parent\"><img src=\"https://colab.research.google.com/assets/colab-badge.svg\" alt=\"Open In Colab\"/></a>"
      ]
    },
    {
      "cell_type": "markdown",
      "source": [
        "In this project, you will explore the famous Titanic dataset to understand how data can provide insights into the survival of passengers. You will use the Pandas library in Python to analyze and visualize the data.\n",
        "\n",
        "*Note: Points for each section are given in [].*\n"
      ],
      "metadata": {
        "id": "BAJv98fLBs9g"
      }
    },
    {
      "cell_type": "code",
      "execution_count": 24,
      "metadata": {
        "id": "7aq_Nz8KBhzG"
      },
      "outputs": [],
      "source": [
        "# Import libraries [6]\n",
        "\n",
        "# numpy\n",
        "# pandas\n",
        "# matplotlib\n",
        "\n",
        "import numpy as np\n",
        "import pandas as pd\n",
        "import matplotlib.pyplot as plt\n"
      ]
    },
    {
      "cell_type": "markdown",
      "source": [
        "# Get Data\n",
        "Upload `train.csv` to a Google folder named `vhs-ai-intro`. Load this file into a dataframe named `df`. [6]\n",
        "\n",
        "\n",
        "\n"
      ],
      "metadata": {
        "id": "cjlrnsugCqpb"
      }
    },
    {
      "cell_type": "code",
      "source": [
        "# mount google drive\n",
        "\n",
        "# access file and load into data frame\n",
        "\n",
        "from google.colab import drive\n",
        "drive.mount('/content/gdrive')\n",
        "import pandas as pd\n",
        "df=pd.read_csv('gdrive/My Drive/train.csv')"
      ],
      "metadata": {
        "id": "u3TjICzkDJeF",
        "colab": {
          "base_uri": "https://localhost:8080/"
        },
        "outputId": "115cd056-e6ee-4b1a-9869-ec2d7a405b05"
      },
      "execution_count": 1,
      "outputs": [
        {
          "output_type": "stream",
          "name": "stdout",
          "text": [
            "Mounted at /content/gdrive\n"
          ]
        }
      ]
    },
    {
      "cell_type": "markdown",
      "source": [
        "# Explore Data"
      ],
      "metadata": {
        "id": "pfLEjVZyg3Bf"
      }
    },
    {
      "cell_type": "code",
      "source": [
        "df.info()"
      ],
      "metadata": {
        "id": "bDMlPgPSDkPZ",
        "colab": {
          "base_uri": "https://localhost:8080/"
        },
        "outputId": "f8806f90-9004-4849-cf11-f6859306cbd2"
      },
      "execution_count": 3,
      "outputs": [
        {
          "output_type": "stream",
          "name": "stdout",
          "text": [
            "<class 'pandas.core.frame.DataFrame'>\n",
            "RangeIndex: 891 entries, 0 to 890\n",
            "Data columns (total 12 columns):\n",
            " #   Column       Non-Null Count  Dtype  \n",
            "---  ------       --------------  -----  \n",
            " 0   PassengerId  891 non-null    int64  \n",
            " 1   Survived     891 non-null    int64  \n",
            " 2   Pclass       891 non-null    int64  \n",
            " 3   Name         891 non-null    object \n",
            " 4   Sex          891 non-null    object \n",
            " 5   Age          714 non-null    float64\n",
            " 6   SibSp        891 non-null    int64  \n",
            " 7   Parch        891 non-null    int64  \n",
            " 8   Ticket       891 non-null    object \n",
            " 9   Fare         891 non-null    float64\n",
            " 10  Cabin        204 non-null    object \n",
            " 11  Embarked     889 non-null    object \n",
            "dtypes: float64(2), int64(5), object(5)\n",
            "memory usage: 83.7+ KB\n"
          ]
        }
      ]
    },
    {
      "cell_type": "markdown",
      "source": [
        "Look at the output of `df.info()` above and answer the following: [8]\n",
        "\n",
        "1. How many rows and columns does `df` have?\n",
        "**891 rows, 12 columns**\n",
        "2. Identify the columns that have integer datatype.\n",
        "**PassengerId, Survived, Pclass, SibSp, Parch**\n",
        "3. Identify the columns containing `null` (empty) values and calculate the proportion of values that are `null`.\n",
        "**Age column: 177 null values. About 20% are null.\n",
        "Cabin column: 687 null values. About 77% are null.\n",
        "Embarked column: 2 null values. About .2% are null.**\n",
        "\n",
        "\n",
        "\n",
        "\n"
      ],
      "metadata": {
        "id": "ZDOUN2ZYDoHT"
      }
    },
    {
      "cell_type": "markdown",
      "source": [
        "# Data Cleaning"
      ],
      "metadata": {
        "id": "JLKLhp-Ig-_M"
      }
    },
    {
      "cell_type": "code",
      "source": [
        "df = df.drop(['PassengerId', 'Name', 'Ticket'], axis=1)\n",
        "df.info()\n"
      ],
      "metadata": {
        "id": "JVtYpdQyE5sE",
        "colab": {
          "base_uri": "https://localhost:8080/"
        },
        "outputId": "079a060a-6fa8-4b64-e118-9d87135f9bbc"
      },
      "execution_count": 4,
      "outputs": [
        {
          "output_type": "stream",
          "name": "stdout",
          "text": [
            "<class 'pandas.core.frame.DataFrame'>\n",
            "RangeIndex: 891 entries, 0 to 890\n",
            "Data columns (total 9 columns):\n",
            " #   Column    Non-Null Count  Dtype  \n",
            "---  ------    --------------  -----  \n",
            " 0   Survived  891 non-null    int64  \n",
            " 1   Pclass    891 non-null    int64  \n",
            " 2   Sex       891 non-null    object \n",
            " 3   Age       714 non-null    float64\n",
            " 4   SibSp     891 non-null    int64  \n",
            " 5   Parch     891 non-null    int64  \n",
            " 6   Fare      891 non-null    float64\n",
            " 7   Cabin     204 non-null    object \n",
            " 8   Embarked  889 non-null    object \n",
            "dtypes: float64(2), int64(4), object(3)\n",
            "memory usage: 62.8+ KB\n"
          ]
        }
      ]
    },
    {
      "cell_type": "markdown",
      "source": [
        "Explain what the above line of code is doing. You can use `df.info()` to check the changes in `df`. [2]\n",
        "\n",
        "**The line of code is dropping, or deleting, the \"passengerId,\" \"name,\" and \"ticket\" columns from df.**"
      ],
      "metadata": {
        "id": "OeqszSMdFRBR"
      }
    },
    {
      "cell_type": "code",
      "source": [
        "df['Age'].fillna(df['Age'].median(), inplace=True)"
      ],
      "metadata": {
        "id": "29koWCYRhFNR"
      },
      "execution_count": 7,
      "outputs": []
    },
    {
      "cell_type": "markdown",
      "source": [
        "Using the `fillna()` function, we can fill the missing values in the `Age` column with the median value of `Age`.\n",
        "\n",
        "What does the `inplace` parameter specify in the `fillna()` function? [2]\n",
        "**The inplace parameter, when set to true, will edit the dataframe itself instead of creating new objects after each run**"
      ],
      "metadata": {
        "id": "6MAlKpYhhaZm"
      }
    },
    {
      "cell_type": "markdown",
      "source": [
        "# Data Analysis\n",
        "\n",
        "Let's do some counting. Using `groupby` and `size()`, or otherwise:\n",
        "\n",
        "1. Count the number of male and female passengers. (*Hint: Use `Sex` column*) [2]\n",
        "**314 female, 577 male.**\n",
        "2. What percentage of passengers survived? (*Hint: Use `Survived` column*) [2]\n",
        "**About 38% survived**\n"
      ],
      "metadata": {
        "id": "dJ5y7Kb3HAOv"
      }
    },
    {
      "cell_type": "code",
      "source": [
        "# Number of male & female passengers\n",
        "print(df.groupby('Sex').size())"
      ],
      "metadata": {
        "id": "YxjB9tc3FerD",
        "colab": {
          "base_uri": "https://localhost:8080/"
        },
        "outputId": "3ac8b8db-3220-4101-ba7b-aa1f536f1a6e"
      },
      "execution_count": 12,
      "outputs": [
        {
          "output_type": "stream",
          "name": "stdout",
          "text": [
            "Sex\n",
            "female    314\n",
            "male      577\n",
            "dtype: int64\n"
          ]
        }
      ]
    },
    {
      "cell_type": "code",
      "source": [
        "# Percentage of passengers that survived\n",
        "totalpassengers = len(df)\n",
        "survived = df['Survived'].sum()\n",
        "survival_rate = (survived / totalpassengers) * 100\n",
        "\n",
        "print(f\"{survival_rate}% of passengers survived\")"
      ],
      "metadata": {
        "id": "eRG8KIgvI9QB",
        "colab": {
          "base_uri": "https://localhost:8080/"
        },
        "outputId": "5251e445-cf63-4832-8aaa-5a0ab3e04f5c"
      },
      "execution_count": 21,
      "outputs": [
        {
          "output_type": "stream",
          "name": "stdout",
          "text": [
            "38.38383838383838% of passengers survived\n"
          ]
        }
      ]
    },
    {
      "cell_type": "markdown",
      "source": [
        "We want to see if gender played a role in the survival rates. Let us visualise the survival rates. We will combine the 2 columns `Survived` and `Sex` to answer this and use `Matplotlib` to plot the counts."
      ],
      "metadata": {
        "id": "7EuNv0GiJ9eb"
      }
    },
    {
      "cell_type": "code",
      "source": [
        "# Group the data by 'Survived' and 'Sex' and get the counts\n",
        "survival_gender_counts = df.groupby(['Survived', 'Sex']).size().unstack()\n",
        "print(len(survival_gender_counts.axes[0]))\n",
        "\n",
        "# Plot the grouped data\n",
        "survival_gender_counts.plot(kind='bar')\n",
        "\n",
        "# Add title and labels\n",
        "plt.title('Survival by Gender')\n",
        "plt.xlabel('Survived')\n",
        "plt.ylabel('Count')\n",
        "\n",
        "# Show the plot\n",
        "plt.show()"
      ],
      "metadata": {
        "id": "pgN3CTy0KPNN",
        "colab": {
          "base_uri": "https://localhost:8080/",
          "height": 485
        },
        "outputId": "d7e57f5b-6291-492b-9463-63b6c3d62c08"
      },
      "execution_count": 37,
      "outputs": [
        {
          "output_type": "stream",
          "name": "stdout",
          "text": [
            "2\n"
          ]
        },
        {
          "output_type": "display_data",
          "data": {
            "text/plain": [
              "<Figure size 640x480 with 1 Axes>"
            ],
            "image/png": "[encoded data removed]"
          },
          "metadata": {}
        }
      ]
    },
    {
      "cell_type": "markdown",
      "source": [
        "Let us pay attention to the code.\n",
        "\n",
        "\n",
        "1.   `survival_gender_counts` holds the counts of number of survivors that are male and female. What is the type of this variable? How many rows and columns does this variable have? [2]\n",
        "**survival_gender_counts is a dataframe type. It has 2 rows and 2 columns**\n",
        "\n",
        "2.   In the `survival_gender_counts.plot(kind='bar')` line, what does the `kind='bar'` parameter specify? How would the plot change if you used `kind='barh'` instead? [4]\n",
        "\n",
        "**If you used kind='barh', a horizontal bar chart would be created instead of a vertical one**"
      ],
      "metadata": {
        "id": "Z1OJMVLoXz9n"
      }
    },
    {
      "cell_type": "markdown",
      "source": [
        "We can create the same plot with another library `Seaborn` that is built on top of `Matplotlib`."
      ],
      "metadata": {
        "id": "6M11XkMyXWfb"
      }
    },
    {
      "cell_type": "code",
      "source": [
        "import seaborn as sns\n",
        "sns.countplot(x='Survived', hue='Sex', data=df)\n",
        "\n",
        "plt.title('Survival by Gender')\n",
        "plt.show()"
      ],
      "metadata": {
        "id": "_an9Z1dmXTB1",
        "colab": {
          "base_uri": "https://localhost:8080/",
          "height": 472
        },
        "outputId": "00d3661f-204d-4e17-e474-8f4b18a25ebe"
      },
      "execution_count": 38,
      "outputs": [
        {
          "output_type": "display_data",
          "data": {
            "text/plain": [
              "<Figure size 640x480 with 1 Axes>"
            ],
            "image/png": "[encoded data removed]"
          },
          "metadata": {}
        }
      ]
    },
    {
      "cell_type": "markdown",
      "source": [
        "We used the function `countplot()` in `seaborn` to generate the bar plot showing the counts we need.\n",
        "\n",
        "Explain what each of the parameters for `countplot()` specify. [6]\n",
        "\n",
        "**The first parameter is what the X axis is; the second is the data to be graphed, with the different values indicated by the different color; the final parameter is the dataframe that the plot is pulling from.**"
      ],
      "metadata": {
        "id": "9FixlUWMabog"
      }
    },
    {
      "cell_type": "markdown",
      "source": [
        "By looking at the plot, do you think gender and survival were related? Explain why or why not.    [3]\n",
        "\n",
        "**Yes, it seems that the passengers that died were predominantly males, while the passengers that survived were predominantly female. It is reasonable to suggest that a female had a higher chance of surviving.**"
      ],
      "metadata": {
        "id": "Vme2szr1UvgA"
      }
    },
    {
      "cell_type": "markdown",
      "source": [
        "In the Titanic dataset, `Pclass` refers to the passenger class, which indicates the socioeconomic status (SES) of the passengers. There are three classes:\n",
        "\n",
        "* 1 = First class (Upper class)\n",
        "* 2 = Second class (Middle class)\n",
        "* 3 = Third class (Lower class)\n",
        "\n",
        "Using `seaborn` library, create a count plot (similar to the one above) to show the relationship between survivors and passenger class."
      ],
      "metadata": {
        "id": "g6Y5ZMJbd_1j"
      }
    },
    {
      "cell_type": "code",
      "source": [
        "# Plot Survival by Passenger Class [6]\n",
        "import seaborn as sns\n",
        "\n",
        "sns.countplot(x='Survived', hue='Pclass', data=df)\n",
        "\n",
        "plt.title('Survival by Passenger Class')\n",
        "\n",
        "plt.show()"
      ],
      "metadata": {
        "id": "smYqLLqOeijb",
        "colab": {
          "base_uri": "https://localhost:8080/",
          "height": 472
        },
        "outputId": "656701d5-bbb4-4fe7-88b2-f8c5e1c6ba53"
      },
      "execution_count": 39,
      "outputs": [
        {
          "output_type": "display_data",
          "data": {
            "text/plain": [
              "<Figure size 640x480 with 1 Axes>"
            ],
            "image/png": "[encoded data removed]"
          },
          "metadata": {}
        }
      ]
    },
    {
      "cell_type": "markdown",
      "source": [
        "By looking at the plot, do you think passenger class and survival were related? Explain why or why not. [3]\n",
        "\n",
        "**It seems that the passengers that died were predominantly in the lower class, while those who survived were predominatnly in the upper class. There were more survivors in the lower class than in the middle class, but this may just be attributed to the large amount of lower class passengers. Proportionally, the higher the class, the more survivors there were compared to non-survivors. Therefore it is safe to assume that a higher class mean't a higher chance of survival.**"
      ],
      "metadata": {
        "id": "lZJLL4p6fy-R"
      }
    }
  ]
}

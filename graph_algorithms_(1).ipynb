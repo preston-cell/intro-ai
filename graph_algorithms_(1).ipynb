{
  "nbformat": 4,
  "nbformat_minor": 0,
  "metadata": {
    "colab": {
      "provenance": [],
      "include_colab_link": true
    },
    "kernelspec": {
      "name": "python3",
      "display_name": "Python 3"
    },
    "language_info": {
      "name": "python"
    }
  },
  "cells": [
    {
      "cell_type": "markdown",
      "metadata": {
        "id": "view-in-github",
        "colab_type": "text"
      },
      "source": [
        "<a href=\"https://colab.research.google.com/github/preston-cell/vhs-intro-ai/blob/main/graph_algorithms_(1).ipynb\" target=\"_parent\"><img src=\"https://colab.research.google.com/assets/colab-badge.svg\" alt=\"Open In Colab\"/></a>"
      ]
    },
    {
      "cell_type": "markdown",
      "source": [
        "# Graphs\n",
        "\n",
        "A graph is a data structure consisting of **vertices** (or nodes) and **edges** that connect pairs of vertices. It can be used to model *relationships* between objects, where vertices represent the objects, and edges represent connections between them.\n",
        "\n",
        "Graphs can be:\n",
        "1. Directed (where edges have a direction) or,\n",
        "2. Undirected\n",
        "\n",
        "Graphs can be:\n",
        "1. Weighted (where edges have a numerical value) or,\n",
        "2. Unweighted.\n",
        "\n"
      ],
      "metadata": {
        "id": "OtJ3rt_3Ocsz"
      }
    },
    {
      "cell_type": "markdown",
      "source": [
        "## Practical Scenarios\n",
        "\n",
        "Explain how graphs can be used to represent the information in:\n",
        "1. Road maps\n",
        "2. Social networks\n",
        "\n",
        "[ANSWER HERE]"
      ],
      "metadata": {
        "id": "kJy1T4KXPOZR"
      }
    },
    {
      "cell_type": "markdown",
      "source": [
        "## Representing Graph in Code\n",
        "\n",
        "### Adjacency Matrix\n",
        "\n",
        "Describe how an adjacency matrix can represent graphs.\n",
        "\n",
        "\n",
        "**The matrix can be made with all the rows and columns consisting of all the nodes in the graph. The values in the matrix, 0 or 1, will determine whether a node has an edge with another node or not, and from that we can determine a path. If there is weight on an edge, perhaps the value can be greater than 1; if there is direction on the edge, perhaps it will only be a true value if a node is pointing to another node and not the other way around.**\n"
      ],
      "metadata": {
        "id": "cpkIu1a3Qhl-"
      }
    },
    {
      "cell_type": "markdown",
      "source": [
        "Undirected & unweighted graph\n",
        "```\n",
        "A -- B\n",
        "|    |\n",
        "C -- D\n",
        "```\n",
        "\n",
        "Complete the adjacency matrix:\n",
        "```\n",
        "# Adjacency Matrix\n",
        "[[0, 1, 1, 0],\n",
        " [1, 0, 0, 1],\n",
        " [1, 0, 0, 1],\n",
        " [0, 1, 1, 0]]\n",
        "\n",
        "```\n",
        "\n"
      ],
      "metadata": {
        "id": "Q3tMH0PkQ02U"
      }
    },
    {
      "cell_type": "markdown",
      "source": [
        "Undirected & weighted graph\n",
        "```\n",
        "     2\n",
        "  A -- B\n",
        "3 |    | 1    \n",
        "  C -- D\n",
        "     2\n",
        "```\n",
        "```\n",
        "# Adjacency Matrix\n",
        "[[0, 2, 3, 0],\n",
        "[2, 0, 0, 1],\n",
        "[3, 0, 0, 2],\n",
        "[0, 1, 3, 0]]\n",
        "\n",
        "```\n",
        "\n"
      ],
      "metadata": {
        "id": "CLhgxYHwXExL"
      }
    },
    {
      "cell_type": "markdown",
      "source": [
        "Directed & unweighted graph\n",
        "```\n",
        "A --> B\n",
        "|     |\n",
        "V     V\n",
        "C <-- D\n",
        "```\n",
        "```\n",
        "# Adjacency Matrix\n",
        "[0, 1, 1, 0],\n",
        "[0, 0, 0, 1],\n",
        "[0, 0, 0, 0],\n",
        "[0, 0, 1, 0]\n",
        "\n",
        "```\n"
      ],
      "metadata": {
        "id": "GpwXA1rAWCi1"
      }
    },
    {
      "cell_type": "markdown",
      "source": [
        "directed & weighted graph\n",
        "```\n",
        "     2\n",
        "  A --> B\n",
        "3 |     | 1    \n",
        "  V     V\n",
        "  C <-- D\n",
        "     2\n",
        "```\n",
        "\n",
        "```\n",
        "# Adjacency Matrix\n",
        "[0, 2, 3, 0],\n",
        "[0, 0, 0, 1],\n",
        "[0, 0, 0, 0],\n",
        "[0, 0, 2, 0]\n",
        "\n",
        "```\n"
      ],
      "metadata": {
        "id": "Jggiok8UX8KS"
      }
    },
    {
      "cell_type": "markdown",
      "source": [
        "Let's code a graph as an adjacency matrix using Python. Follow these steps:\n",
        "\n",
        "\n",
        "1.   Add the constructor `__init__` function that recieves the number of vertices (nodes) `num_vertices` in the graph.\n",
        "     * It should create a matrix of shape `(num_vertices, num_vertices)` initialised to zero. You may use a Numpy array for this.\n",
        "     * It should also have a parameter `directed` that is `True` if the graph is a directed graph. Initialize it to `False` if the parameter is not specified.\n",
        "2.   Add a method `add_edge` that updates the matrix appropriately (based on `directed` parameter) to add the edge. This method has the following inputs:\n",
        "    * `u`: first node\n",
        "    * `v`: second node\n",
        "    * `weight`: weight associated with the edge\n",
        "3. Add a method `remove_edge` that updates the matrix appropriately (based on `directed` parameter) to remove the edge. This method has the following inputs:\n",
        "    * `u`: first node\n",
        "    * `v`: second node\n",
        "4. Add a method `display` that prints the adjacency matrix.\n",
        "\n",
        "5. Add a method `get_neighbors` that prints the neighbors for a given vertex. For a directed graph, a neighbor is a vertex that has a directed edge from the given vertex.\n",
        "\n",
        "6. Add a method `has_edge` that checks if there is an edge from `u` to `v` and returns `True` or `False`.\n",
        "\n",
        "Use the examples above to test your class definition.  \n",
        "    \n",
        "\n"
      ],
      "metadata": {
        "id": "-43nhA-UgpIK"
      }
    },
    {
      "cell_type": "code",
      "execution_count": 2,
      "metadata": {
        "id": "BnmdoOBOMKCf"
      },
      "outputs": [],
      "source": [
        "import numpy as np\n",
        "\n",
        "class Graph:\n",
        "    def __init__(self, num_vertices, directed=False):\n",
        "        self.num_vertices = num_vertices\n",
        "        self.directed = directed\n",
        "        self.adj_matrix = np.zeros((num_vertices, num_vertices))\n",
        "\n",
        "    def add_edge(self, u, v, weight=1):\n",
        "        if self.directed:\n",
        "            self.adj_matrix[u][v] = weight\n",
        "        else:\n",
        "            self.adj_matrix[u][v] = weight\n",
        "            self.adj_matrix[v][u] = weight\n",
        "\n",
        "    def remove_edge(self, u, v):\n",
        "       if self.directed:\n",
        "           self.adj_matrix[u][v] = 0\n",
        "       else:\n",
        "           self.adj_matrix[u][v] = 0\n",
        "           self.adj_matrix[v][u] = 0\n",
        "\n",
        "    def display(self):\n",
        "        print(self.adj_matrix)\n",
        "\n",
        "    def get_neighbors(self, vertex):\n",
        "        neighbors = []\n",
        "        Dict = {}\n",
        "        for i in range(self.num_vertices):\n",
        "          if self.adj_matrix[vertex][i] != 0:\n",
        "            neighbors.append((i, self.adj_matrix[vertex][i]))\n",
        "            Dict[vertex] = neighbors\n",
        "        print(Dict)\n",
        "\n",
        "    def has_edge(self, u, v):\n",
        "        if self.adj_matrix[u][v] != 0:\n",
        "            return True\n",
        "        else:\n",
        "            return False"
      ]
    },
    {
      "cell_type": "code",
      "source": [
        "graph = Graph(4)\n",
        "\n",
        "# Add edges\n",
        "graph.add_edge(0, 1, 2)\n",
        "graph.add_edge(0, 2, 3)\n",
        "graph.add_edge(1, 3, 1)\n",
        "graph.add_edge(2, 3, 2)\n",
        "\n",
        "graph.display()\n",
        "\n",
        "# Get neighbors of vertex 0\n",
        "graph.get_neighbors(0)\n",
        "\n",
        "# Check if there is an edge between vertex 0 and vertex 1\n",
        "print(graph.has_edge(0, 1))\n",
        "\n",
        "# Create a directed graph with 4 vertices\n",
        "directed_graph = Graph(4, directed=True)\n",
        "\n",
        "# Add edges to the directed graph\n",
        "directed_graph.add_edge(0, 1, 2)\n",
        "directed_graph.add_edge(0, 2, 3)\n",
        "directed_graph.add_edge(3, 2, 2)\n",
        "directed_graph.add_edge(1, 3, 1)\n",
        "\n",
        "# Display the adjacency matrix of the directed graph\n",
        "directed_graph.display()\n",
        "\n",
        "# Get neighbors of vertex 0 in the directed graph\n",
        "directed_graph.get_neighbors(0)\n",
        "\n",
        "# Check if there is an edge between vertex 0 and vertex 1 in the directed graph\n",
        "print(directed_graph.has_edge(0, 1))\n"
      ],
      "metadata": {
        "id": "d1ikp0BCNoHM",
        "colab": {
          "base_uri": "https://localhost:8080/"
        },
        "outputId": "7aa0f92a-8fa4-413f-8b29-23690db4d620"
      },
      "execution_count": 3,
      "outputs": [
        {
          "output_type": "stream",
          "name": "stdout",
          "text": [
            "[[0. 2. 3. 0.]\n",
            " [2. 0. 0. 1.]\n",
            " [3. 0. 0. 2.]\n",
            " [0. 1. 2. 0.]]\n",
            "{0: [(1, 2.0), (2, 3.0)]}\n",
            "True\n",
            "[[0. 2. 3. 0.]\n",
            " [0. 0. 0. 1.]\n",
            " [0. 0. 0. 0.]\n",
            " [0. 0. 2. 0.]]\n",
            "{0: [(1, 2.0), (2, 3.0)]}\n",
            "True\n"
          ]
        }
      ]
    },
    {
      "cell_type": "markdown",
      "source": [
        "Use the `Graph` class to create the adjacency matrix for this undirected and weighted graph."
      ],
      "metadata": {
        "id": "czsHAS82pPru"
      }
    },
    {
      "cell_type": "markdown",
      "source": [
        "![image.png](data:image/png;base64,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)"
      ],
      "metadata": {
        "id": "RtmZ-_VBoqbZ"
      }
    },
    {
      "cell_type": "code",
      "source": [
        "graph = Graph(9)\n",
        "\n",
        "graph.add_edge(0,1,4)\n",
        "graph.add_edge(1,2,8)\n",
        "graph.add_edge(2,3,7)\n",
        "graph.add_edge(3,4,9)\n",
        "graph.add_edge(4,5,10)\n",
        "graph.add_edge(5,6,2)\n",
        "graph.add_edge(6,7,1)\n",
        "graph.add_edge(7,8,7)\n",
        "graph.add_edge(8,6,6)\n",
        "graph.add_edge(8,2,2)\n",
        "graph.add_edge(2,5,4)\n",
        "graph.add_edge(3,5,14)\n",
        "graph.add_edge(0,7,8)\n",
        "graph.add_edge(1,7,11)\n",
        "\n",
        "graph.display()\n"
      ],
      "metadata": {
        "id": "TWwURT1HpjDk",
        "colab": {
          "base_uri": "https://localhost:8080/"
        },
        "outputId": "e43ceaab-5507-45b2-e80b-a8c89c3e41bc"
      },
      "execution_count": 4,
      "outputs": [
        {
          "output_type": "stream",
          "name": "stdout",
          "text": [
            "[[ 0.  4.  0.  0.  0.  0.  0.  8.  0.]\n",
            " [ 4.  0.  8.  0.  0.  0.  0. 11.  0.]\n",
            " [ 0.  8.  0.  7.  0.  4.  0.  0.  2.]\n",
            " [ 0.  0.  7.  0.  9. 14.  0.  0.  0.]\n",
            " [ 0.  0.  0.  9.  0. 10.  0.  0.  0.]\n",
            " [ 0.  0.  4. 14. 10.  0.  2.  0.  0.]\n",
            " [ 0.  0.  0.  0.  0.  2.  0.  1.  6.]\n",
            " [ 8. 11.  0.  0.  0.  0.  1.  0.  7.]\n",
            " [ 0.  0.  2.  0.  0.  0.  6.  7.  0.]]\n"
          ]
        }
      ]
    },
    {
      "cell_type": "markdown",
      "source": [
        "## When to use the Adjacency Matrix?\n",
        "\n",
        "\n",
        "An adjacency matrix might be better if there are many edges. However if there are less edges and more nodes, then a list would be better.  \n"
      ],
      "metadata": {
        "id": "mHcXBEwTlu3-"
      }
    },
    {
      "cell_type": "code",
      "source": [
        "for i in range(0,8):\n",
        "  graph.get_neighbors(i)"
      ],
      "metadata": {
        "colab": {
          "base_uri": "https://localhost:8080/"
        },
        "id": "Kx3rwFgYKbDv",
        "outputId": "516caa59-2e5f-482f-a93b-025e12435968"
      },
      "execution_count": 5,
      "outputs": [
        {
          "output_type": "stream",
          "name": "stdout",
          "text": [
            "{0: [(1, 4.0), (7, 8.0)]}\n",
            "{1: [(0, 4.0), (2, 8.0), (7, 11.0)]}\n",
            "{2: [(1, 8.0), (3, 7.0), (5, 4.0), (8, 2.0)]}\n",
            "{3: [(2, 7.0), (4, 9.0), (5, 14.0)]}\n",
            "{4: [(3, 9.0), (5, 10.0)]}\n",
            "{5: [(2, 4.0), (3, 14.0), (4, 10.0), (6, 2.0)]}\n",
            "{6: [(5, 2.0), (7, 1.0), (8, 6.0)]}\n",
            "{7: [(0, 8.0), (1, 11.0), (6, 1.0), (8, 7.0)]}\n"
          ]
        }
      ]
    },
    {
      "cell_type": "code",
      "source": [
        "class Graph2:\n",
        "  def __init__(self, num_vertices, directed =False):\n",
        "    self.num_vertices = num_vertices\n",
        "    self.directed = directed\n",
        "    self.graph = {}\n",
        "    for i in range(0, num_vertices):\n",
        "      self.graph[i] = []\n",
        "\n",
        "  def add_edge(self, u, v, weight=1):\n",
        "    if self.directed:\n",
        "        self.graph[u].append((v, weight))\n",
        "    else:\n",
        "        self.graph[u].append((v, weight))\n",
        "        self.graph[v].append((u, weight))\n",
        "  def display(self):\n",
        "        for i in range(0, self.num_vertices):\n",
        "          print(f'{i}:{self.graph[i]}')\n",
        "  def add_node(self, node):\n",
        "    if(node is not self.graph):\n",
        "      self.graph[node] = []\n",
        "      self.num_vertices +=1\n",
        "  def remove_edge(self, u, v):\n",
        "    if self.directed:\n",
        "      if (v, 1) in self.graph[u]:\n",
        "          self.graph[u].remove((v, 1))\n",
        "    else:\n",
        "      if (v, 1) in self.graph[u]:\n",
        "          self.graph[u].remove((v, 1))\n",
        "      if (u, 1) in self.graph[v]:\n",
        "          self.graph[v].remove((u, 1))\n",
        "  def has_edge(self, u, v):\n",
        "    if self.directed:\n",
        "        if v in self.graph[u]:\n",
        "            return True\n",
        "        else:\n",
        "            return False\n",
        "    else:\n",
        "        if v in self.graph[u] or u in self.graph[v]:\n",
        "            return True\n",
        "        else:\n",
        "            return False\n",
        "\n",
        "  def get_neighbors(self, vertex):\n",
        "    neighbors = []\n",
        "    for neighbor in self.graph[vertex]:\n",
        "        neighbors.append(neighbor)\n",
        "    return neighbors\n",
        "\n",
        "\n",
        "test = Graph2(9)\n",
        "test.add_edge(0,1,4)\n",
        "test.add_edge(1,2,8)\n",
        "test.add_edge(2,3,7)\n",
        "test.add_edge(3,4,9)\n",
        "test.add_edge(4,5,10)\n",
        "test.add_edge(5,6,2)\n",
        "test.add_edge(6,7,1)\n",
        "test.add_edge(7,8,7)\n",
        "test.add_edge(8,6,6)\n",
        "test.add_edge(8,2,2)\n",
        "test.add_edge(2,5,4)\n",
        "test.add_edge(3,5,14)\n",
        "test.add_edge(0,7,8)\n",
        "test.add_edge(1,7,11)\n",
        "test.add_node(9)\n",
        "\n",
        "test.display()\n",
        "print(graph.has_edge(0, 1))\n",
        "print(graph.get_neighbors(0))\n"
      ],
      "metadata": {
        "colab": {
          "base_uri": "https://localhost:8080/"
        },
        "id": "7dFIuhenQI_z",
        "outputId": "3b0e19f6-7bf9-430c-bc95-87752569c06c"
      },
      "execution_count": 6,
      "outputs": [
        {
          "output_type": "stream",
          "name": "stdout",
          "text": [
            "0:[(1, 4), (7, 8)]\n",
            "1:[(0, 4), (2, 8), (7, 11)]\n",
            "2:[(1, 8), (3, 7), (8, 2), (5, 4)]\n",
            "3:[(2, 7), (4, 9), (5, 14)]\n",
            "4:[(3, 9), (5, 10)]\n",
            "5:[(4, 10), (6, 2), (2, 4), (3, 14)]\n",
            "6:[(5, 2), (7, 1), (8, 6)]\n",
            "7:[(6, 1), (8, 7), (0, 8), (1, 11)]\n",
            "8:[(7, 7), (6, 6), (2, 2)]\n",
            "9:[]\n",
            "True\n",
            "{0: [(1, 4.0), (7, 8.0)]}\n",
            "None\n"
          ]
        }
      ]
    }
  ]
}